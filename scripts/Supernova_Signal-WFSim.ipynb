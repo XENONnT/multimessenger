{
 "cells": [
  {
   "cell_type": "markdown",
   "id": "385bff28",
   "metadata": {},
   "source": [
    "# Supernova Signal - WFSim\n",
    "\n",
    "Create waveform simulator instruction file based on a supernova model."
   ]
  },
  {
   "cell_type": "markdown",
   "id": "1d70e5a7",
   "metadata": {},
   "source": [
    "```\n",
    "Created : October 2021\n",
    "Last Update : 28-10-2021\n",
    "Melih Kara kara@kit.edu\n",
    "Ricardo Peres\n",
    "```"
   ]
  },
  {
   "cell_type": "markdown",
   "id": "2ab1eda7",
   "metadata": {},
   "source": [
    "**ToDo**<br>\n",
    "Recoil spectra sampling is pretty sparse and sampling from that gives discrete values. Interpolate the final spectra and sample from that."
   ]
  },
  {
   "cell_type": "markdown",
   "id": "bd06f344",
   "metadata": {},
   "source": [
    "## Table of Contents\n",
    "- None"
   ]
  },
  {
   "cell_type": "code",
   "execution_count": null,
   "id": "77993cd7",
   "metadata": {},
   "outputs": [],
   "source": [
    "# import sys\n",
    "# sys.modules['admix'] = None"
   ]
  },
  {
   "cell_type": "code",
   "execution_count": null,
   "id": "e1e638cd",
   "metadata": {},
   "outputs": [],
   "source": [
    "import matplotlib.pyplot as plt\n",
    "import numpy as np\n",
    "import pandas as pd\n",
    "from matplotlib.colors import LogNorm\n",
    "import multihist as mh\n",
    "import _pickle as pickle\n",
    "import scipy.interpolate as itp\n",
    "import click\n",
    "\n",
    "import strax, straxen, wfsim, cutax\n",
    "import nestpy\n",
    "import datetime, os\n",
    "from tqdm.notebook import tqdm"
   ]
  },
  {
   "cell_type": "code",
   "execution_count": null,
   "id": "1aaf9aa7",
   "metadata": {},
   "outputs": [],
   "source": [
    "with open(r\"rates_combined.pickle\", \"rb\") as input_file:\n",
    "    rates_Er, rates_t, recoil_energy_bins, timebins  = pickle.load(input_file)"
   ]
  },
  {
   "cell_type": "code",
   "execution_count": null,
   "id": "95d84c3d",
   "metadata": {
    "scrolled": true
   },
   "outputs": [],
   "source": [
    "from Supernova_Models import SN_lightcurve\n",
    "from SN_plotter import Plotter\n",
    "M30sn_model  = SN_lightcurve(progenitor_mass = 30,\n",
    "                             metallicity= 0.02,\n",
    "                             time_of_revival = 100, \n",
    "                             distance = 10)\n",
    "\n",
    "M30sn_model.get_recoil_spectra1D()\n",
    "M30sn_model.get_recoil_spectra2D()"
   ]
  },
  {
   "cell_type": "code",
   "execution_count": null,
   "id": "ee865e0f",
   "metadata": {},
   "outputs": [],
   "source": [
    "plotter = Plotter(M30sn_model)\n",
    "# fig, ax, samples = plotter.plot_sampled_energies()\n",
    "# plotter.plot_sampled_energies(x='time', xscale='log');"
   ]
  },
  {
   "cell_type": "markdown",
   "id": "289b1bb5",
   "metadata": {},
   "source": [
    "#### Object attributes"
   ]
  },
  {
   "cell_type": "code",
   "execution_count": null,
   "id": "919dc91d",
   "metadata": {
    "scrolled": true
   },
   "outputs": [],
   "source": [
    "# tot_rates1D = M30sn_model.total_rate1D # integrated(summed) between 0-10s \n",
    "# tot_rates2D = M30sn_model.total_rate2D\n",
    "# recoil_energy_bins = M30sn_model.recoil_en\n",
    "# timebins = M30sn_model.t\n",
    "# nu_energies = M30sn_model.mean_E\n",
    "# rates_Er, rates_t = M30sn_model._get_1Drates_from2D()\n",
    "# Er_sample_E = M30sn_model.sample_from_recoil_spectrum(N_sample=100000)\n",
    "# Er_sample_t = M30sn_model.sample_from_recoil_spectrum(x='time',N_sample=100000)\n",
    "\n",
    "## dump to a pickle\n",
    "# combined_dicts = [rates_Er,rates_t, recoil_energy_bins, timebins]\n",
    "\n",
    "# with open(r\"rates_combined.pickle\", \"wb\") as output_file:\n",
    "#     pickle.dump(combined_dicts, output_file)"
   ]
  },
  {
   "cell_type": "markdown",
   "id": "e83f7da8",
   "metadata": {},
   "source": [
    "The `sample_from_recoil_spectrum` can return 0 values, which might be a problem, as there would be no signal at these times (or worse, at negative times.)"
   ]
  },
  {
   "cell_type": "code",
   "execution_count": null,
   "id": "1695e507",
   "metadata": {},
   "outputs": [],
   "source": [
    "def _inverse_transform_sampling( x_vals, y_vals, n_samples):\n",
    "    cum_values = np.zeros(x_vals.shape)\n",
    "    y_mid = (y_vals[1:]+y_vals[:-1])*0.5\n",
    "    cum_values[1:] = np.cumsum(y_mid*np.diff(x_vals))\n",
    "    inv_cdf = itp.interp1d(cum_values/np.max(cum_values), x_vals)\n",
    "    r = np.random.rand(n_samples)\n",
    "    return inv_cdf(r)\n",
    "\n",
    "def sample_from_recoil_spectrum(x='energy', N_sample=1):\n",
    "    if x.lower()=='energy':\n",
    "        spectrum = rates_Er['Total']\n",
    "        xaxis = recoil_energy_bins\n",
    "        ## interpolate\n",
    "        intrp_rates = itp.interp1d(xaxis, spectrum, kind=\"cubic\", fill_value=\"extrapolate\")\n",
    "        xaxis = np.linspace(xaxis.min(), xaxis.max(), 200)\n",
    "        spectrum = intrp_rates(xaxis)            \n",
    "    elif x.lower()=='time':\n",
    "        spectrum = rates_t['Total']\n",
    "        xaxis = timebins\n",
    "    else: return print('choose x=time or x=energy')\n",
    "    sample = _inverse_transform_sampling(xaxis, spectrum, N_sample)\n",
    "    return sample"
   ]
  },
  {
   "cell_type": "code",
   "execution_count": null,
   "id": "126da21a",
   "metadata": {},
   "outputs": [],
   "source": [
    "sample_t = sample_from_recoil_spectrum(x='time',N_sample=10000)\n",
    "sample_E = sample_from_recoil_spectrum(N_sample=10000)\n",
    "fig, (ax1,ax2) = plt.subplots(ncols=2, figsize=(14,3))\n",
    "ax1.hist(sample_t, range=(min(sample_t),0.1), bins=100);\n",
    "ax1.set_xlabel('sampled times');\n",
    "ax2.hist(sample_E, bins=200);"
   ]
  },
  {
   "cell_type": "code",
   "execution_count": null,
   "id": "10c04e99",
   "metadata": {},
   "outputs": [],
   "source": [
    "# kwargs = dict(norm=LogNorm(), bins=100) # range=[[0, 3_000], [0, 20_000]],\n",
    "\n",
    "# mh_cut = mh.Histdd(sample_t, sample_E, **kwargs)\n",
    "\n",
    "# mh_cut.plot(log_scale=True,\n",
    "#             cblabel='count',\n",
    "#             cmap=plt.get_cmap('jet'),\n",
    "#             alpha=0.7,  colorbar_kwargs=dict(orientation=\"vertical\", \n",
    "#                                              pad=0.05,\n",
    "#                                              aspect=30, \n",
    "#                                              fraction=0.1));\n",
    "# plt.ylabel('Recoil Energy [keV]')\n",
    "# plt.xlabel('Time [s]');"
   ]
  },
  {
   "cell_type": "code",
   "execution_count": null,
   "id": "4dffc4d7",
   "metadata": {},
   "outputs": [],
   "source": [
    "E_thr =  np.array([np.trapz(rates_Er['Total'][i:], recoil_energy_bins[i:]) for i,foo in enumerate(recoil_energy_bins)])\n",
    "\n",
    "plt.plot(E_thr*4.7);\n",
    "plt.ylabel('events/keVnr');\n",
    "plt.xlabel('Recoil Energy threshold');\n",
    "plt.axvline(0, color='k');"
   ]
  },
  {
   "cell_type": "markdown",
   "id": "9d0eb6a0",
   "metadata": {},
   "source": [
    "Take the fiducial volume as 4.7 tonnes for now. There should be ~75 events in total."
   ]
  },
  {
   "cell_type": "markdown",
   "id": "f03b56d5",
   "metadata": {},
   "source": [
    "---\n",
    "## Import WFSim"
   ]
  },
  {
   "cell_type": "code",
   "execution_count": null,
   "id": "4a29d846",
   "metadata": {},
   "outputs": [],
   "source": [
    "versions_str = straxen.print_versions(('strax','straxen','cutax','wfsim'), return_string=True)\n",
    "straxen.print_versions(('strax','straxen','cutax','wfsim'))"
   ]
  },
  {
   "cell_type": "code",
   "execution_count": null,
   "id": "dd3c5b1a",
   "metadata": {},
   "outputs": [],
   "source": [
    "# wfsim.instruction_dtype"
   ]
  },
  {
   "cell_type": "markdown",
   "id": "d5f55d17",
   "metadata": {},
   "source": [
    "Based on nest's naming convention [here](https://github.com/XENONnT/WFSim/blob/2c614b0f7b0d7c7adc516f6188e281857e8d7e22/wfsim/core.py#L22)"
   ]
  },
  {
   "cell_type": "markdown",
   "id": "8125e765",
   "metadata": {},
   "source": [
    "Ricardo's script for instruction generation https://github.com/XENONnT/analysiscode/blob/master/S2_shape_width/simulation/make_submit_files.py"
   ]
  },
  {
   "cell_type": "code",
   "execution_count": null,
   "id": "7749cc17",
   "metadata": {},
   "outputs": [],
   "source": [
    "volume = 4.7"
   ]
  },
  {
   "cell_type": "code",
   "execution_count": null,
   "id": "980f5ef1",
   "metadata": {},
   "outputs": [],
   "source": [
    "def instructions_SNdata_magnificient(nevents, interaction_type=0, \n",
    "                                     dump_csv=False, filename=None,\n",
    "                                     below_cathode=False):\n",
    "    ''' WFsim instructions to simulate Supernova NR peak.\n",
    "        Parameters\n",
    "        ----------\n",
    "        nevents : `int`\n",
    "            total number of events desired\n",
    "            \n",
    "        Notes\n",
    "        -----\n",
    "        For each SN signal there is E_thr[0]*volume events generated\n",
    "        to generate nevents we shift times nevents/(number of single SN events)\n",
    "        \n",
    "    '''\n",
    "    n = nevents\n",
    "    A, Z  = 131.293, 54\n",
    "    lxe_density = 2.862 #g/cm^3\n",
    "    drift_field = 200 #V/cm\n",
    "    \n",
    "    number_of_events = np.ceil(E_thr[0]*volume).astype(int)\n",
    "    nr_iterations = np.ceil(n/number_of_events).astype(int)\n",
    "    rolled_sample_size = int(nr_iterations*number_of_events)\n",
    "    n = rolled_sample_size\n",
    "    sample_E = np.ones(rolled_sample_size)*-1\n",
    "    sample_t = np.ones(rolled_sample_size)*-1\n",
    "    ## shifted time sampling\n",
    "    for i in range(nr_iterations):\n",
    "        from_ = int(i*number_of_events)\n",
    "        to_ = int((i+1)*number_of_events)\n",
    "        time_shift = i*20 # add 20 sec to each iteration\n",
    "        sample_E[from_:to_] = sample_from_recoil_spectrum(N_sample=number_of_events)\n",
    "        sample_t[from_:to_] = sample_from_recoil_spectrum(x='time',N_sample=number_of_events) + time_shift\n",
    "        \n",
    "        # SN signal also has pre-SN neutrino, so if there are negative times boost them\n",
    "        minnum = np.min(sample_t)\n",
    "        if minnum <= 0: sample_t -= minnum      \n",
    "            \n",
    "    instructions = np.ones(2*n, dtype = wfsim.instruction_dtype)\n",
    "    instructions[:] = -1\n",
    "    instructions['time'] = (1e8 * sample_t).repeat(2)+1000000\n",
    "    \n",
    "    instructions['event_number'] = np.arange(0, n).repeat(2)\n",
    "    instructions['type'] = np.tile([1,2], n)\n",
    "    instructions['recoil'][:] = interaction_type\n",
    "    instructions['local_field'][:] = 18\n",
    "    \n",
    "    r = np.sqrt(np.random.uniform(0, straxen.tpc_r**2, n)) \n",
    "    t = np.random.uniform(-np.pi, np.pi, n)\n",
    "    instructions['x'] = np.repeat(r * np.cos(t), 2)\n",
    "    instructions['y'] = np.repeat(r * np.sin(t), 2)\n",
    "    if below_cathode:\n",
    "        instructions['z'] = np.repeat(np.random.uniform(-straxen.tpc_z-12, 0, n), 2)\n",
    "    else:\n",
    "        instructions['z'] = np.repeat(np.random.uniform(-straxen.tpc_z, 0, n), 2)\n",
    "    \n",
    "    interaction_type = nestpy.INTERACTION_TYPE(interaction_type)    \n",
    "    nc = nestpy.nestpy.NESTcalc(nestpy.nestpy.VDetector())\n",
    "    \n",
    "    quanta, exciton, recoil, e_dep = [], [], [], []\n",
    "    for energy_deposit in tqdm(sample_E, desc='generating instructions from nest'):\n",
    "        interaction = nestpy.INTERACTION_TYPE(interaction_type)\n",
    "        y = nc.GetYields(interaction, energy_deposit, lxe_density, drift_field, A, Z)\n",
    "        q = nc.GetQuanta(y, lxe_density)\n",
    "        quanta.append(q.photons)\n",
    "        quanta.append(q.electrons)\n",
    "        exciton.append(q.excitons)\n",
    "        exciton.append(0)\n",
    "        # both S1 and S2\n",
    "        recoil += [interaction_type, interaction_type]\n",
    "        e_dep += [energy_deposit, energy_deposit]\n",
    "\n",
    "    instructions['amp'] = quanta\n",
    "    instructions['local_field'] = drift_field\n",
    "    instructions['n_excitons'] = exciton\n",
    "    instructions['recoil'] = recoil\n",
    "    instructions['e_dep'] = e_dep\n",
    "    instructions_df = pd.DataFrame(instructions)\n",
    "    instructions_df = instructions_df[instructions_df['amp'] > 0]\n",
    "    instructions_df.sort_values('time', inplace=True)\n",
    "    if dump_csv:\n",
    "        tdy = str(datetime.date.today())\n",
    "        filename = filename or f'{tdy}_instructions.csv'\n",
    "        instructions_df.to_csv(f'/dali/lgrandi/melih/sn_wfsim/instructions/{filename}', index=False)\n",
    "        print(f'Saved in -> /dali/lgrandi/melih/sn_wfsim/instructions/{filename}')\n",
    "    return instructions_df"
   ]
  },
  {
   "cell_type": "code",
   "execution_count": null,
   "id": "16bcc226",
   "metadata": {},
   "outputs": [],
   "source": [
    "a = instructions_SNdata_magnificient(10000, dump_csv=True, filename='SN_wfsim_instructions.csv')\n",
    "b = instructions_SNdata_magnificient(100000, dump_csv=True, filename='SN_wfsim_instructions_100k.csv')"
   ]
  },
  {
   "cell_type": "code",
   "execution_count": null,
   "id": "4766e5da",
   "metadata": {},
   "outputs": [],
   "source": [
    "# plt.hist(a['time']);\n",
    "# plt.hist(a['e_dep']);"
   ]
  },
  {
   "cell_type": "code",
   "execution_count": null,
   "id": "eb31cf23",
   "metadata": {},
   "outputs": [],
   "source": [
    "def clean_repos(pattern='*'):\n",
    "    if input('Are you sure to delete all the data?\\n'\n",
    "            '\\t/dali/lgrandi/melih/sn_wfsim/instructions/*\\n'\n",
    "            '\\t/dali/lgrandi/melih/sn_wfsim/logs/*\\n'\n",
    "            '\\t/dali/lgrandi/melih/sn_wfsim/strax_data/*\\n>>>').lower() == 'y':\n",
    "        os.system(f'rm -r /dali/lgrandi/melih/sn_wfsim/instructions/{pattern}')\n",
    "        os.system(f'rm -r /dali/lgrandi/melih/sn_wfsim/logs/{pattern}')\n",
    "        os.system(f'rm -r /dali/lgrandi/melih/sn_wfsim/strax_data/{pattern}')\n",
    "        \n",
    "def see_repos():\n",
    "    if not os.path.isdir('/dali/lgrandi/melih/sn_wfsim/logs/'):\n",
    "        os.mkdir('/dali/lgrandi/melih/sn_wfsim/logs/')\n",
    "    if not os.path.isdir('/dali/lgrandi/melih/sn_wfsim/strax_data/'):\n",
    "        os.mkdir('/dali/lgrandi/melih/sn_wfsim/strax_data/')\n",
    "    click.secho('\\n >>Instructions\\n', bg='blue', color='white');    os.system(f'ls -r /dali/lgrandi/melih/sn_wfsim/instructions/')\n",
    "    click.secho('\\n >>Logs\\n', bg='blue', color='white');            os.system(f'ls -r /dali/lgrandi/melih/sn_wfsim/logs/')\n",
    "    click.secho('\\n >>Existing data\\n', bg='blue', color='white');   os.system(f'ls -r /dali/lgrandi/melih/sn_wfsim/strax_data/')"
   ]
  },
  {
   "cell_type": "code",
   "execution_count": null,
   "id": "6502cd5d",
   "metadata": {},
   "outputs": [],
   "source": [
    "# clean_repos()\n",
    "see_repos()"
   ]
  },
  {
   "cell_type": "code",
   "execution_count": null,
   "id": "c0833c7c",
   "metadata": {},
   "outputs": [],
   "source": [
    "st = cutax.contexts.xenonnt_sim_SR0v0_cmt_v5(output_folder='/dali/lgrandi/melih/sn_wfsim/strax_data')\n",
    "st.set_config(dict(fax_config_override=dict(field_distortion_on=False)))\n",
    "rid = 'SN_wfsimdata'\n",
    "for kind in ['truth', 'raw_records', 'peaks']:\n",
    "    click.echo(f'{kind:15s} is {click.style(\" stored \", bold=True, bg=\"green\") if st.is_stored(rid, kind) else click.style(\" not stored \",bold=True,bg=\"red\")}')"
   ]
  },
  {
   "cell_type": "code",
   "execution_count": null,
   "id": "c04ef807",
   "metadata": {},
   "outputs": [],
   "source": [
    "df = st.get_df(rid,'event_info')\n",
    "truth = st.get_df(rid,'truth')\n",
    "peak_basics = st.get_df(rid, 'peak_basics')\n",
    "event_info = st.get_df(rid, 'event_info')"
   ]
  },
  {
   "cell_type": "code",
   "execution_count": null,
   "id": "397c0624",
   "metadata": {},
   "outputs": [],
   "source": [
    "def quality_plot(ev):\n",
    "    plt.figure(figsize=(15,10))\n",
    "    plt.subplots_adjust(wspace=0.2, hspace=0.5)\n",
    "    plt.subplot(321); plt.title('s1 area')\n",
    "    plt.hist(ev['s1_area'], bins = 200, histtype = 'step')\n",
    "    \n",
    "    plt.subplot(322); plt.title('s2 area')\n",
    "    plt.hist(ev['s2_area'], bins = 200, histtype = 'step')\n",
    "    \n",
    "    plt.subplot(323); plt.title('s2 width')\n",
    "    plt.hist(ev['s2_range_50p_area'], bins = 200, histtype = 'step')\n",
    "    \n",
    "    plt.subplot(324); plt.title('counts above area threshold') #plt.title('dt [us]')\n",
    "#     plt.hist(ev['drift_time']/1000, bins = 200, histtype = 'step')\n",
    "    counts_above_i = []\n",
    "    s2range = np.linspace(ev['s2_area'].min(), 1500, 50)\n",
    "    for i, thr in enumerate(s2range):\n",
    "        counts_above_i.append(len(ev['s2_area'][ev['s2_area']>thr]))\n",
    "    plt.semilogy(s2range, counts_above_i)\n",
    "    plt.xlabel('S2 area')\n",
    "\n",
    "    plt.subplot(325); plt.title('z [cm]')\n",
    "    plt.hist(ev['z'][ev['z']<0], bins = 200, histtype = 'step')\n",
    "    plt.axvline(-straxen.tpc_z, ls = '--', color = 'k')\n",
    "    \n",
    "    plt.subplot(326);\n",
    "    plt.gca().set_aspect('equal')\n",
    "    s1 = ev['s1_area']\n",
    "    s2 = ev['s2_area']\n",
    "    mask = (s1>0) & (s2>0) \n",
    "    kwargs = dict(norm=LogNorm(), bins=100) # range=[[0, 3_000], [0, 20_000]],\n",
    "    mh_cut = mh.Histdd(s1[mask], s2[mask]/100, **kwargs)\n",
    "    mh_cut.plot(log_scale=True, cblabel='count',\n",
    "            cmap=plt.get_cmap('jet'), alpha=0.7,  \n",
    "            colorbar_kwargs=dict(orientation=\"vertical\", \n",
    "                                 pad=0.05,\n",
    "                                 aspect=30, \n",
    "                                 fraction=0.1));\n",
    "    plt.xlabel('s1 area [P.E.]'); plt.ylabel('s2 area [100 P.E.]');\n",
    "    \n",
    "def plot_xy_rz(evt):\n",
    "    plt.figure(figsize=(12,4))\n",
    "    plt.subplots_adjust(wspace=0.9)\n",
    "    plt.subplot(121)\n",
    "    plt.hist2d(evt['x'],evt['y'], range = ((-70,70),(-70,70)),cmin = 1,bins = 100) # , norm = LogNorm()\n",
    "    plt.xlabel('x [cm]')\n",
    "    plt.ylabel('y [cm]')\n",
    "    plt.gca().set_aspect('equal')\n",
    "    plt.colorbar()\n",
    "    plt.subplot(122)\n",
    "    plt.hist2d(np.power(evt['r'],2),evt['z'], range = ((0,70**2),(-160,10)),cmin = 1,bins = 100) # , norm = LogNorm()\n",
    "    plt.colorbar()\n",
    "    plt.xlabel('r$^2$ [cm]')\n",
    "    plt.ylabel('z [cm]')\n",
    "    plt.show()"
   ]
  },
  {
   "cell_type": "code",
   "execution_count": null,
   "id": "d5aeb708",
   "metadata": {},
   "outputs": [],
   "source": [
    "quality_plot(event_info)"
   ]
  },
  {
   "cell_type": "code",
   "execution_count": null,
   "id": "164cc323",
   "metadata": {},
   "outputs": [],
   "source": [
    "plot_xy_rz(event_info)"
   ]
  },
  {
   "cell_type": "code",
   "execution_count": null,
   "id": "a65974c9",
   "metadata": {},
   "outputs": [],
   "source": [
    "st.data_info('event_info')['Field name'].values"
   ]
  },
  {
   "cell_type": "code",
   "execution_count": null,
   "id": "64665f7d",
   "metadata": {},
   "outputs": [],
   "source": [
    "len(a['z']), len(truth['z']), len(event_info['z']), len(event_info['z_naive']), peak_basics"
   ]
  },
  {
   "cell_type": "code",
   "execution_count": null,
   "id": "8eef3d28",
   "metadata": {},
   "outputs": [],
   "source": [
    "plt.hist(truth['time']);"
   ]
  },
  {
   "cell_type": "markdown",
   "id": "1ebe48a2",
   "metadata": {},
   "source": [
    "---"
   ]
  },
  {
   "cell_type": "code",
   "execution_count": null,
   "id": "b4f69539",
   "metadata": {},
   "outputs": [],
   "source": []
  }
 ],
 "metadata": {
  "kernelspec": {
   "display_name": "Python 3 (ipykernel)",
   "language": "python",
   "name": "python3"
  },
  "language_info": {
   "codemirror_mode": {
    "name": "ipython",
    "version": 3
   },
   "file_extension": ".py",
   "mimetype": "text/x-python",
   "name": "python",
   "nbconvert_exporter": "python",
   "pygments_lexer": "ipython3",
   "version": "3.8.12"
  }
 },
 "nbformat": 4,
 "nbformat_minor": 5
}
