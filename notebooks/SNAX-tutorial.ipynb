{
 "cells": [
  {
   "cell_type": "markdown",
   "id": "0a52f7bb",
   "metadata": {},
   "source": [
    "# Multimessenger - Supernova"
   ]
  },
  {
   "cell_type": "markdown",
   "id": "ead9ed13",
   "metadata": {},
   "source": [
    "## Refactor\n",
    "\n",
    "I refactored the code to work more efficiently and to be more modular so that it can be integrated into different studies smoothly. <br>\n",
    "\n",
    "Main difference is now there are different classes handling different tasks. <br>\n",
    " - `snax.Supernova_Models` handles only the models and fluxes\n",
    " - `snax.Nucleus` creates a Xenon atom, pure or isotope, computes cross sections\n",
    " - `snax.interactions` accepts a model, and creates a nuclei to handle the interactions."
   ]
  },
  {
   "cell_type": "markdown",
   "id": "18878152",
   "metadata": {},
   "source": [
    "### Models\n",
    "Let's have a look at the Supernova Models"
   ]
  },
  {
   "cell_type": "code",
   "execution_count": 6,
   "id": "b5991e13",
   "metadata": {
    "pycharm": {
     "name": "#%%\n"
    }
   },
   "outputs": [],
   "source": [
    "import numpy as np\n",
    "import astropy.units as u\n",
    "import snewpy"
   ]
  },
  {
   "cell_type": "code",
   "execution_count": 7,
   "id": "26cd788e",
   "metadata": {},
   "outputs": [],
   "source": [
    "from snewpy.neutrino import Flavor\n",
    "from snax.Supernova_Models import Models\n",
    "from snax.Plotter import Plotter\n",
    "from snax.interactions import Interactions\n",
    "from astropy import units as u\n",
    "from snewpy.models.ccsn import Bollig_2016, Analytic3Species, Fornax_2021, Nakazato_2013"
   ]
  },
  {
   "cell_type": "markdown",
   "id": "c34fbe16",
   "metadata": {
    "pycharm": {
     "name": "#%% md\n"
    }
   },
   "source": [
    "## On Local Machine"
   ]
  },
  {
   "cell_type": "markdown",
   "id": "67db9671",
   "metadata": {
    "pycharm": {
     "name": "#%% md\n"
    }
   },
   "source": [
    "We create a local `mma_folder` and create a local temporary configuration file to work locally."
   ]
  },
  {
   "cell_type": "code",
   "execution_count": 8,
   "id": "f1b58c6b",
   "metadata": {
    "pycharm": {
     "name": "#%%\n"
    }
   },
   "outputs": [
    {
     "name": "stdout",
     "output_type": "stream",
     "text": [
      "You can use `snewpy.get_models(models=['Bollig_2016', 'Nakazato_2013'], download_dir='mma_data')`\n"
     ]
    }
   ],
   "source": [
    "import configparser\n",
    "import os\n",
    "\n",
    "if not os.path.isdir(\"mma_data\"):\n",
    "    os.mkdir(\"mma_data\")\n",
    "    \n",
    "if not os.path.isfile(\"mma_data/temp_config.config\"):\n",
    "    config = configparser.ConfigParser()\n",
    "    config['paths'] = {'snewpy_models': './mma_data/SNEWPY_models/',\n",
    "                       'processed_data': './mma_data/',}\n",
    "    config['wfsim'] = {'instruction_path': './mma_data/',\n",
    "                       'sim_folder': './mma_data/',}\n",
    "    with open('./mma_data/temp_config.config', 'w') as configfile:\n",
    "        config.write(configfile)\n",
    "    print(f\"Created mma_data/temp_config.config\")\n",
    "    print(\"Either save the snewpy models you want under mma_data/SNEWPY_models/ or change the path in the config\")\n",
    "print(\"You can use `snewpy.get_models(models=['Bollig_2016', 'Nakazato_2013'], download_dir='mma_data')`\")"
   ]
  },
  {
   "cell_type": "code",
   "execution_count": 14,
   "id": "f9488441",
   "metadata": {},
   "outputs": [],
   "source": [
    "# snewpy.get_models(models=['Fornax_2021'], download_dir='mma_data')"
   ]
  },
  {
   "cell_type": "code",
   "execution_count": 46,
   "id": "10c1aee8",
   "metadata": {},
   "outputs": [
    {
     "name": "stdout",
     "output_type": "stream",
     "text": [
      "Bollig_2016  Fornax_2021  Nakazato_2013\r\n"
     ]
    }
   ],
   "source": [
    "!ls ./mma_data/SNEWPY_models/"
   ]
  },
  {
   "cell_type": "code",
   "execution_count": 10,
   "id": "347462f9",
   "metadata": {},
   "outputs": [],
   "source": [
    "snewpy_models_path = \"./mma_data/SNEWPY_models/\""
   ]
  },
  {
   "cell_type": "code",
   "execution_count": 16,
   "id": "9b2a0c4c",
   "metadata": {
    "collapsed": true
   },
   "outputs": [
    {
     "name": "stdout",
     "output_type": "stream",
     "text": [
      "> KeyError: 'paths' \n",
      "Setting current directory as the storage, pass storage=<path-to-your-storage> \n",
      "\u001b[34m> Saved at <self.storage>/N13_m13.pkl!\n",
      "\u001b[0m\n"
     ]
    },
    {
     "data": {
      "application/vnd.jupyter.widget-view+json": {
       "model_id": "",
       "version_major": 2,
       "version_minor": 0
      },
      "text/plain": [
       "Looping:   0%|          | 0/391 [00:00<?, ?it/s]"
      ]
     },
     "metadata": {},
     "output_type": "display_data"
    },
    {
     "name": "stdout",
     "output_type": "stream",
     "text": [
      "\u001b[34m> Saved at <self.storage>/N13_m13.pkl!\n",
      "\u001b[0m\n",
      "\u001b[32m> Saved at <self.storage>/N13_m13_interaction.pickle!\n",
      "\u001b[0m\n"
     ]
    },
    {
     "data": {
      "application/vnd.jupyter.widget-view+json": {
       "model_id": "",
       "version_major": 2,
       "version_minor": 0
      },
      "text/plain": [
       "  0%|          | 0/9 [00:00<?, ?it/s]"
      ]
     },
     "metadata": {},
     "output_type": "display_data"
    },
    {
     "data": {
      "application/vnd.jupyter.widget-view+json": {
       "model_id": "",
       "version_major": 2,
       "version_minor": 0
      },
      "text/plain": [
       "  0%|          | 0/9 [00:00<?, ?it/s]"
      ]
     },
     "metadata": {},
     "output_type": "display_data"
    },
    {
     "name": "stdout",
     "output_type": "stream",
     "text": [
      "\u001b[34m> Computed the total rates at the source for 1 atom (not scaled)\u001b[0m\n",
      "> KeyError: 'paths' \n",
      "Setting current directory as the storage, pass storage=<path-to-your-storage> \n",
      "\u001b[34m> Saved at <self.storage>/N13_m50.pkl!\n",
      "\u001b[0m\n"
     ]
    },
    {
     "data": {
      "application/vnd.jupyter.widget-view+json": {
       "model_id": "",
       "version_major": 2,
       "version_minor": 0
      },
      "text/plain": [
       "Looping:   0%|          | 0/391 [00:00<?, ?it/s]"
      ]
     },
     "metadata": {},
     "output_type": "display_data"
    },
    {
     "name": "stdout",
     "output_type": "stream",
     "text": [
      "\u001b[34m> Saved at <self.storage>/N13_m50.pkl!\n",
      "\u001b[0m\n",
      "\u001b[32m> Saved at <self.storage>/N13_m50_interaction.pickle!\n",
      "\u001b[0m\n"
     ]
    },
    {
     "data": {
      "application/vnd.jupyter.widget-view+json": {
       "model_id": "",
       "version_major": 2,
       "version_minor": 0
      },
      "text/plain": [
       "  0%|          | 0/9 [00:00<?, ?it/s]"
      ]
     },
     "metadata": {},
     "output_type": "display_data"
    },
    {
     "data": {
      "application/vnd.jupyter.widget-view+json": {
       "model_id": "",
       "version_major": 2,
       "version_minor": 0
      },
      "text/plain": [
       "  0%|          | 0/9 [00:00<?, ?it/s]"
      ]
     },
     "metadata": {},
     "output_type": "display_data"
    },
    {
     "name": "stdout",
     "output_type": "stream",
     "text": [
      "\u001b[34m> Computed the total rates at the source for 1 atom (not scaled)\u001b[0m\n",
      "> KeyError: 'paths' \n",
      "Setting current directory as the storage, pass storage=<path-to-your-storage> \n",
      "\u001b[34m> Saved at <self.storage>/N13_BHshen.pkl!\n",
      "\u001b[0m\n"
     ]
    },
    {
     "data": {
      "application/vnd.jupyter.widget-view+json": {
       "model_id": "",
       "version_major": 2,
       "version_minor": 0
      },
      "text/plain": [
       "Looping:   0%|          | 0/8854 [00:00<?, ?it/s]"
      ]
     },
     "metadata": {},
     "output_type": "display_data"
    },
    {
     "name": "stdout",
     "output_type": "stream",
     "text": [
      "\u001b[34m> Saved at <self.storage>/N13_BHshen.pkl!\n",
      "\u001b[0m\n",
      "\u001b[32m> Saved at <self.storage>/N13_BHshen_interaction.pickle!\n",
      "\u001b[0m\n"
     ]
    },
    {
     "data": {
      "application/vnd.jupyter.widget-view+json": {
       "model_id": "",
       "version_major": 2,
       "version_minor": 0
      },
      "text/plain": [
       "  0%|          | 0/9 [00:00<?, ?it/s]"
      ]
     },
     "metadata": {},
     "output_type": "display_data"
    },
    {
     "data": {
      "application/vnd.jupyter.widget-view+json": {
       "model_id": "",
       "version_major": 2,
       "version_minor": 0
      },
      "text/plain": [
       "  0%|          | 0/9 [00:00<?, ?it/s]"
      ]
     },
     "metadata": {},
     "output_type": "display_data"
    },
    {
     "name": "stdout",
     "output_type": "stream",
     "text": [
      "\u001b[34m> Computed the total rates at the source for 1 atom (not scaled)\u001b[0m\n",
      "> KeyError: 'paths' \n",
      "Setting current directory as the storage, pass storage=<path-to-your-storage> \n",
      "\u001b[34m> Saved at <self.storage>/N13_BHLS220.pkl!\n",
      "\u001b[0m\n"
     ]
    },
    {
     "data": {
      "application/vnd.jupyter.widget-view+json": {
       "model_id": "",
       "version_major": 2,
       "version_minor": 0
      },
      "text/plain": [
       "Looping:   0%|          | 0/4644 [00:00<?, ?it/s]"
      ]
     },
     "metadata": {},
     "output_type": "display_data"
    },
    {
     "name": "stdout",
     "output_type": "stream",
     "text": [
      "\u001b[34m> Saved at <self.storage>/N13_BHLS220.pkl!\n",
      "\u001b[0m\n",
      "\u001b[32m> Saved at <self.storage>/N13_BHLS220_interaction.pickle!\n",
      "\u001b[0m\n"
     ]
    },
    {
     "data": {
      "application/vnd.jupyter.widget-view+json": {
       "model_id": "",
       "version_major": 2,
       "version_minor": 0
      },
      "text/plain": [
       "  0%|          | 0/9 [00:00<?, ?it/s]"
      ]
     },
     "metadata": {},
     "output_type": "display_data"
    },
    {
     "data": {
      "application/vnd.jupyter.widget-view+json": {
       "model_id": "",
       "version_major": 2,
       "version_minor": 0
      },
      "text/plain": [
       "  0%|          | 0/9 [00:00<?, ?it/s]"
      ]
     },
     "metadata": {},
     "output_type": "display_data"
    },
    {
     "name": "stdout",
     "output_type": "stream",
     "text": [
      "\u001b[34m> Computed the total rates at the source for 1 atom (not scaled)\u001b[0m\n"
     ]
    }
   ],
   "source": [
    "# snewpy model\n",
    "_N13_m13 = Nakazato_2013(filename=snewpy_models_path+\"Nakazato_2013/nakazato-shen-z0.004-t_rev100ms-s13.0.fits\")\n",
    "N13_m13 = Models(_N13_m13, save_name='N13_m13', config_file=\"temp_config.config\")\n",
    "# compute/fetch fluxes\n",
    "N13_m13.compute_model_fluxes(neutrino_energies=np.linspace(0, 30, 200), force=False)\n",
    "N13_m13.scale_fluxes(distance=10);\n",
    "# interactions\n",
    "Int_N13 = Interactions(N13_m13, Nuclei='Xenon', isotope='mix')                          # create interactions\n",
    "Int_N13.compute_interaction_rates()                                                           # compute rates\n",
    "Int_N13.scale_rates(distance=10, volume=5.9);  # scale rates for dist & vol\n",
    "############################################\n",
    "# snewpy model\n",
    "_N13_m50 = Nakazato_2013(filename=snewpy_models_path+\"Nakazato_2013/nakazato-shen-z0.004-t_rev100ms-s50.0.fits\")\n",
    "N13_m50 = Models(_N13_m50, save_name='N13_m50', config_file=\"temp_config.config\")\n",
    "# compute/fetch fluxes\n",
    "N13_m50.compute_model_fluxes(neutrino_energies=np.linspace(0, 30, 200), force=False)\n",
    "N13_m50.scale_fluxes(distance=10);\n",
    "# interactions\n",
    "Int_N50 = Interactions(N13_m50, Nuclei='Xenon', isotope='mix')                          # create interactions\n",
    "Int_N50.compute_interaction_rates()                                                           # compute rates\n",
    "Int_N50.scale_rates(distance=10, volume=5.9);  # scale rates for dist & vo\n",
    "############################################\n",
    "# snewpy model\n",
    "_N13_BHshen = Nakazato_2013(filename=snewpy_models_path+\"Nakazato_2013/nakazato-shen-BH-z0.004-s30.0.fits\")\n",
    "N13_BHshen = Models(_N13_BHshen, save_name='N13_BHshen', config_file=\"temp_config.config\")\n",
    "# compute/fetch fluxes\n",
    "N13_BHshen.compute_model_fluxes(neutrino_energies=np.linspace(0, 30, 200), force=False)\n",
    "N13_BHshen.scale_fluxes(distance=10);\n",
    "# interactions\n",
    "Int_BHshen = Interactions(N13_BHshen, Nuclei='Xenon', isotope='mix')                          # create interactions\n",
    "Int_BHshen.compute_interaction_rates()                                                           # compute rates\n",
    "Int_BHshen.scale_rates(distance=10, volume=5.9);  # scale rates for dist & v\n",
    "############################################\n",
    "# snewpy model\n",
    "_N13_BHLS220 = Nakazato_2013(filename=snewpy_models_path+\"Nakazato_2013/nakazato-LS220-BH-z0.004-s30.0.fits\")\n",
    "N13_BHLS220 = Models(_N13_BHLS220, save_name='N13_BHLS220', config_file=\"temp_config.config\")\n",
    "# compute/fetch fluxes\n",
    "N13_BHLS220.compute_model_fluxes(neutrino_energies=np.linspace(0, 30, 200), force=False)\n",
    "N13_BHLS220.scale_fluxes(distance=10);\n",
    "# interactions\n",
    "Int_BHLS220 = Interactions(N13_BHLS220, Nuclei='Xenon', isotope='mix')                          # create interactions\n",
    "Int_BHLS220.compute_interaction_rates()                                                           # compute rates\n",
    "Int_BHLS220.scale_rates(distance=10, volume=5.9);  # scale rates for dist & v"
   ]
  },
  {
   "cell_type": "code",
   "execution_count": 47,
   "id": "fbc3368e",
   "metadata": {},
   "outputs": [
    {
     "name": "stdout",
     "output_type": "stream",
     "text": [
      "> KeyError: 'paths' \n",
      "Setting current directory as the storage, pass storage=<path-to-your-storage> \n",
      ">>>>> B16_m11.pkl\n",
      "\u001b[34m> Retrieving object self.storageB16_m11.pkl\u001b[0m\n",
      "Fluxes already exist in `self.fluxes`, and force=False, doing nothing.\u001b[0m\n",
      "\u001b[34m> Retrieving object self.storage/B16_m11_interaction.pickle\u001b[0m\n"
     ]
    },
    {
     "data": {
      "application/vnd.jupyter.widget-view+json": {
       "model_id": "",
       "version_major": 2,
       "version_minor": 0
      },
      "text/plain": [
       "  0%|          | 0/9 [00:00<?, ?it/s]"
      ]
     },
     "metadata": {},
     "output_type": "display_data"
    },
    {
     "data": {
      "application/vnd.jupyter.widget-view+json": {
       "model_id": "",
       "version_major": 2,
       "version_minor": 0
      },
      "text/plain": [
       "  0%|          | 0/9 [00:00<?, ?it/s]"
      ]
     },
     "metadata": {},
     "output_type": "display_data"
    },
    {
     "name": "stdout",
     "output_type": "stream",
     "text": [
      "\u001b[34m> Computed the total rates at the source for 1 atom (not scaled)\u001b[0m\n",
      "> KeyError: 'paths' \n",
      "Setting current directory as the storage, pass storage=<path-to-your-storage> \n",
      ">>>>> B16_m27.pkl\n",
      "\u001b[34m> Retrieving object self.storageB16_m27.pkl\u001b[0m\n",
      "Fluxes already exist in `self.fluxes`, and force=False, doing nothing.\u001b[0m\n",
      "\u001b[34m> Retrieving object self.storage/B16_m27_interaction.pickle\u001b[0m\n"
     ]
    },
    {
     "data": {
      "application/vnd.jupyter.widget-view+json": {
       "model_id": "",
       "version_major": 2,
       "version_minor": 0
      },
      "text/plain": [
       "  0%|          | 0/9 [00:00<?, ?it/s]"
      ]
     },
     "metadata": {},
     "output_type": "display_data"
    },
    {
     "data": {
      "application/vnd.jupyter.widget-view+json": {
       "model_id": "",
       "version_major": 2,
       "version_minor": 0
      },
      "text/plain": [
       "  0%|          | 0/9 [00:00<?, ?it/s]"
      ]
     },
     "metadata": {},
     "output_type": "display_data"
    },
    {
     "name": "stdout",
     "output_type": "stream",
     "text": [
      "\u001b[34m> Computed the total rates at the source for 1 atom (not scaled)\u001b[0m\n"
     ]
    }
   ],
   "source": [
    "_B16_m11 = Bollig_2016(filename=snewpy_models_path+\"Bollig_2016/s11.2c\")\n",
    "B16_m11 = Models(_B16_m11, save_name='B16_m11', config_file=\"temp_config.config\")\n",
    "B16_m11.compute_model_fluxes(neutrino_energies=np.linspace(0, 30, 200))\n",
    "B16_m11.scale_fluxes(distance=10)\n",
    "Int_B11 = Interactions(B16_m11, Nuclei='Xenon', isotope='mix')                          # create interactions\n",
    "Int_B11.compute_interaction_rates()                                                           # compute rates\n",
    "Int_B11.scale_rates(distance=10, volume=5.9)  # scale rates for dist & vol\n",
    "#####################################\n",
    "_B16_m27 = Bollig_2016(filename=snewpy_models_path+\"Bollig_2016/s27.0c\")\n",
    "B16_m27 = Models(_B16_m27, save_name='B16_m27', config_file=\"temp_config.config\")\n",
    "B16_m27.compute_model_fluxes(neutrino_energies=np.linspace(0, 30, 200))\n",
    "B16_m27.scale_fluxes(distance=10);\n",
    "Int_B27 = Interactions(B16_m27, Nuclei='Xenon', isotope='mix')                          # create interactions\n",
    "Int_B27.compute_interaction_rates()                                                           # compute rates\n",
    "Int_B27.scale_rates(distance=10, volume=5.9);  # scale rates for dist & vol"
   ]
  },
  {
   "cell_type": "code",
   "execution_count": 48,
   "id": "93cf0e9f",
   "metadata": {},
   "outputs": [
    {
     "name": "stdout",
     "output_type": "stream",
     "text": [
      "> KeyError: 'paths' \n",
      "Setting current directory as the storage, pass storage=<path-to-your-storage> \n",
      "\u001b[34m> Saved at <self.storage>/F21_m13.pkl!\n",
      "\u001b[0m\n"
     ]
    },
    {
     "data": {
      "application/vnd.jupyter.widget-view+json": {
       "model_id": "",
       "version_major": 2,
       "version_minor": 0
      },
      "text/plain": [
       "Looping:   0%|          | 0/4869 [00:00<?, ?it/s]"
      ]
     },
     "metadata": {},
     "output_type": "display_data"
    },
    {
     "name": "stdout",
     "output_type": "stream",
     "text": [
      "\u001b[34m> Saved at <self.storage>/F21_m13.pkl!\n",
      "\u001b[0m\n",
      "\u001b[32m> Saved at <self.storage>/F21_m13_interaction.pickle!\n",
      "\u001b[0m\n"
     ]
    },
    {
     "data": {
      "application/vnd.jupyter.widget-view+json": {
       "model_id": "",
       "version_major": 2,
       "version_minor": 0
      },
      "text/plain": [
       "  0%|          | 0/9 [00:00<?, ?it/s]"
      ]
     },
     "metadata": {},
     "output_type": "display_data"
    },
    {
     "data": {
      "application/vnd.jupyter.widget-view+json": {
       "model_id": "",
       "version_major": 2,
       "version_minor": 0
      },
      "text/plain": [
       "  0%|          | 0/9 [00:00<?, ?it/s]"
      ]
     },
     "metadata": {},
     "output_type": "display_data"
    },
    {
     "name": "stdout",
     "output_type": "stream",
     "text": [
      "\u001b[34m> Computed the total rates at the source for 1 atom (not scaled)\u001b[0m\n",
      "> KeyError: 'paths' \n",
      "Setting current directory as the storage, pass storage=<path-to-your-storage> \n",
      "\u001b[34m> Saved at <self.storage>/F21_m27.pkl!\n",
      "\u001b[0m\n"
     ]
    },
    {
     "data": {
      "application/vnd.jupyter.widget-view+json": {
       "model_id": "",
       "version_major": 2,
       "version_minor": 0
      },
      "text/plain": [
       "Looping:   0%|          | 0/4916 [00:00<?, ?it/s]"
      ]
     },
     "metadata": {},
     "output_type": "display_data"
    },
    {
     "name": "stdout",
     "output_type": "stream",
     "text": [
      "\u001b[34m> Saved at <self.storage>/F21_m27.pkl!\n",
      "\u001b[0m\n",
      "\u001b[32m> Saved at <self.storage>/F21_m27_interaction.pickle!\n",
      "\u001b[0m\n"
     ]
    },
    {
     "data": {
      "application/vnd.jupyter.widget-view+json": {
       "model_id": "",
       "version_major": 2,
       "version_minor": 0
      },
      "text/plain": [
       "  0%|          | 0/9 [00:00<?, ?it/s]"
      ]
     },
     "metadata": {},
     "output_type": "display_data"
    },
    {
     "data": {
      "application/vnd.jupyter.widget-view+json": {
       "model_id": "",
       "version_major": 2,
       "version_minor": 0
      },
      "text/plain": [
       "  0%|          | 0/9 [00:00<?, ?it/s]"
      ]
     },
     "metadata": {},
     "output_type": "display_data"
    },
    {
     "name": "stdout",
     "output_type": "stream",
     "text": [
      "\u001b[34m> Computed the total rates at the source for 1 atom (not scaled)\u001b[0m\n"
     ]
    }
   ],
   "source": [
    "_F21_m13 = Fornax_2021(filename=snewpy_models_path+\"Fornax_2021/lum_spec_13M_r10000_dat.h5\")\n",
    "F21_m13 = Models(_F21_m13, save_name='F21_m13', config_file=\"temp_config.config\")\n",
    "F21_m13.compute_model_fluxes(neutrino_energies=np.linspace(0, 30, 200))\n",
    "F21_m13.scale_fluxes(distance=10)\n",
    "Int_F13 = Interactions(F21_m13, Nuclei='Xenon', isotope='mix')                          # create interactions\n",
    "Int_F13.compute_interaction_rates()                                                           # compute rates\n",
    "Int_F13.scale_rates(distance=10, volume=5.9);  # scale rates for dist & vol\n",
    "###############################################\n",
    "_F21_m27 = Fornax_2021(filename=snewpy_models_path+\"Fornax_2021/lum_spec_26.99M_r10000_dat.h5\")\n",
    "F21_m27 = Models(_F21_m27, save_name='F21_m27', config_file=\"temp_config.config\")\n",
    "F21_m27.compute_model_fluxes(neutrino_energies=np.linspace(0, 30, 200))\n",
    "F21_m27.scale_fluxes(distance=10)\n",
    "Int_F27 = Interactions(F21_m27, Nuclei='Xenon', isotope='mix')                          # create interactions\n",
    "Int_F27.compute_interaction_rates()                                                           # compute rates\n",
    "Int_F27.scale_rates(distance=10, volume=5.9);  # scale rates for dist & vol"
   ]
  },
  {
   "cell_type": "markdown",
   "id": "ba1b8872",
   "metadata": {},
   "source": [
    "## On dali/midway"
   ]
  },
  {
   "cell_type": "code",
   "execution_count": 17,
   "id": "53ad348e",
   "metadata": {},
   "outputs": [],
   "source": [
    "# # default config (ie. SN_Nakazato.default_conf_path) already points to common storages\n",
    "# # snewpy model\n",
    "# _N13_m13 = Nakazato_2013(filename=snewpy_models_path+\"Nakazato_2013/nakazato-shen-z0.004-t_rev100ms-s13.0.fits\")\n",
    "# N13_m13 = Models(_N13_m13, save_name='N13_m13')\n",
    "# # compute/fetch fluxes\n",
    "# N13_m13.compute_model_fluxes(neutrino_energies=np.linspace(0, 30, 200), force=False)\n",
    "# N13_m13.scale_fluxes(distance=10);\n",
    "# # interactions\n",
    "# Int_N13 = Interactions(N13_m13, Nuclei='Xenon', isotope='mix')                          # create interactions\n",
    "# Int_N13.compute_interaction_rates()                                                           # compute rates\n",
    "# Int_N13.scale_rates(distance=10, volume=5.9);"
   ]
  },
  {
   "cell_type": "markdown",
   "id": "4ff22064",
   "metadata": {},
   "source": [
    "## Check out the models and the interactions"
   ]
  },
  {
   "cell_type": "markdown",
   "id": "7b5fc0f1",
   "metadata": {},
   "source": [
    "We loaded a snewpy model and created a SNAX model from that, using this we also generated an interaction object."
   ]
  },
  {
   "cell_type": "code",
   "execution_count": 23,
   "id": "91cd1b62",
   "metadata": {},
   "outputs": [
    {
     "data": {
      "text/markdown": [
       "**Nakazato_2013 Model**: nakazato-shen-z0.004-t_rev100ms-s13.0.fits\n",
       "\n",
       "|Parameter|Value|\n",
       "|:--------|:----:|\n",
       "|Progenitor mass | $13$ $\\mathrm{M_{\\odot}}$|\n",
       "|EOS | SHEN |\n",
       "|Metallicity | 0.004 |\n",
       "|Revival time | $100$ $\\mathrm{ms}$|"
      ],
      "text/plain": [
       "Nakazato_2013 Model: nakazato-shen-z0.004-t_rev100ms-s13.0.fits\n",
       "Progenitor mass  : 13.0 solMass\n",
       "EOS              : SHEN\n",
       "Metallicity      : 0.004\n",
       "Revival time     : 100.0 ms"
      ]
     },
     "execution_count": 23,
     "metadata": {},
     "output_type": "execute_result"
    }
   ],
   "source": [
    "# snewpy object\n",
    "_N13_m13"
   ]
  },
  {
   "cell_type": "code",
   "execution_count": 25,
   "id": "693b99fd",
   "metadata": {},
   "outputs": [
    {
     "data": {
      "text/markdown": [
       "**Nakazato_2013 Model**: nakazato-shen-z0.004-t_rev100ms-s13.0.fits\n",
       "\n",
       "|Parameter|Value|\n",
       "|:--------|:----:|\n",
       "|Progenitor mass | $13$ $\\mathrm{M_{\\odot}}$|\n",
       "|EOS | SHEN |\n",
       "|Metallicity | 0.004 |\n",
       "|Revival time | $100$ $\\mathrm{ms}$|\n",
       "|file name| N13_m13.pkl\n",
       "|duration | 20.05 s|\n",
       "|time range| (-0.05 s, 20.0 s)"
      ],
      "text/plain": [
       "Nakazato_2013 Model: nakazato-shen-z0.004-t_rev100ms-s13.0.fits\n",
       "Progenitor mass  : 13.0 solMass\n",
       "EOS              : SHEN\n",
       "Metallicity      : 0.004\n",
       "Revival time     : 100.0 ms"
      ]
     },
     "execution_count": 25,
     "metadata": {},
     "output_type": "execute_result"
    }
   ],
   "source": [
    "# SNAX model\n",
    "N13_m13"
   ]
  },
  {
   "cell_type": "code",
   "execution_count": 26,
   "id": "0d7dda62",
   "metadata": {},
   "outputs": [
    {
     "data": {
      "text/plain": [
       "('/mnt/c/Users/bj7780/Desktop/Kara/GitHub/XENON/multimessenger/notebooks',\n",
       " 'kara-unix',\n",
       " 'loaders',\n",
       " 'N13_m13.pkl')"
      ]
     },
     "execution_count": 26,
     "metadata": {},
     "output_type": "execute_result"
    }
   ],
   "source": [
    "N13_m13.storage, N13_m13.user, N13_m13.model_name, N13_m13.object_name"
   ]
  },
  {
   "cell_type": "code",
   "execution_count": 28,
   "id": "01f59fd3",
   "metadata": {},
   "outputs": [
    {
     "data": {
      "text/markdown": [
       "**Nakazato_2013 Model**: nakazato-shen-z0.004-t_rev100ms-s13.0.fits\n",
       "\n",
       "|Parameter|Value|\n",
       "|:--------|:----:|\n",
       "|Progenitor mass | $13$ $\\mathrm{M_{\\odot}}$|\n",
       "|EOS | SHEN |\n",
       "|Metallicity | 0.004 |\n",
       "|Revival time | $100$ $\\mathrm{ms}$|\n",
       "|file name| N13_m13.pkl\n",
       "|duration | 20.05 s|\n",
       "|time range| (-0.05 s, 20.0 s)\n",
       "|Interaction file| N13_m13_interaction.pickle\n",
       "|Target | mix Xenon\n",
       "|Computed, scaled | True, True\n",
       "|distance | 10.0 kpc\n",
       "|volume | 5.9 t\n",
       "|Expected Total | 73 ct"
      ],
      "text/plain": [
       "Nakazato_2013 Model: nakazato-shen-z0.004-t_rev100ms-s13.0.fits\n",
       "Progenitor mass  : 13.0 solMass\n",
       "EOS              : SHEN\n",
       "Metallicity      : 0.004\n",
       "Revival time     : 100.0 ms"
      ]
     },
     "execution_count": 28,
     "metadata": {},
     "output_type": "execute_result"
    }
   ],
   "source": [
    "# interaction object\n",
    "Int_N13"
   ]
  },
  {
   "cell_type": "code",
   "execution_count": 33,
   "id": "b05cc936",
   "metadata": {},
   "outputs": [
    {
     "data": {
      "text/plain": [
       "('N13_m13_interaction.pickle',\n",
       " <Quantity 5.9 t>,\n",
       " <Quantity 10. kpc>,\n",
       " <Quantity 73.30905244 ct>)"
      ]
     },
     "execution_count": 33,
     "metadata": {},
     "output_type": "execute_result"
    }
   ],
   "source": [
    "Int_N13.interaction_file, Int_N13.volume, Int_N13.distance, Int_N13.expected_total['Total']"
   ]
  },
  {
   "cell_type": "markdown",
   "id": "529ee553",
   "metadata": {},
   "source": [
    "- We can now compute the fluxes and scale them at any distance. "
   ]
  },
  {
   "cell_type": "code",
   "execution_count": 35,
   "id": "241c0f87",
   "metadata": {
    "scrolled": true
   },
   "outputs": [
    {
     "data": {
      "text/plain": [
       "('N13_m13_interaction.pickle',\n",
       " <Quantity 50. t>,\n",
       " <Quantity 7. kpc>,\n",
       " <Quantity 1267.88399246 ct>)"
      ]
     },
     "execution_count": 35,
     "metadata": {},
     "output_type": "execute_result"
    }
   ],
   "source": [
    "Int_N13.scale_rates(distance=7, volume=50);\n",
    "Int_N13.interaction_file, Int_N13.volume, Int_N13.distance, Int_N13.expected_total['Total']"
   ]
  },
  {
   "cell_type": "markdown",
   "id": "6febedde",
   "metadata": {},
   "source": [
    "## Look at the models"
   ]
  },
  {
   "cell_type": "code",
   "execution_count": 49,
   "id": "28f78230",
   "metadata": {},
   "outputs": [],
   "source": [
    "models_list = [N13_m13, N13_m50, N13_BHshen, N13_BHLS220, B16_m11, B16_m27, F21_m13, F21_m27]\n",
    "interactions_list = [Int_N13, Int_N50, Int_BHshen, Int_BHLS220, Int_B11, Int_B27, Int_F13, Int_F27]\n",
    "\n",
    "models = {i.object_name:i for i in models_list}\n",
    "interactions = {i.Model.object_name:i for i in interactions_list}"
   ]
  },
  {
   "cell_type": "code",
   "execution_count": 52,
   "id": "32e3f27f",
   "metadata": {},
   "outputs": [],
   "source": [
    "import matplotlib.pyplot as plt"
   ]
  },
  {
   "cell_type": "code",
   "execution_count": 53,
   "id": "e01797b0",
   "metadata": {},
   "outputs": [
    {
     "data": {
      "text/plain": [
       "(5e-06, 44.00322447797172)"
      ]
     },
     "execution_count": 53,
     "metadata": {},
     "output_type": "execute_result"
    },
    {
     "data": {
      "image/png": "[encoded data removed]",
      "text/plain": [
       "<Figure size 576x720 with 4 Axes>"
      ]
     },
     "metadata": {
      "needs_background": "light"
     },
     "output_type": "display_data"
    }
   ],
   "source": [
    "fig, axes = plt.subplots(nrows=4, figsize=(8,10), sharex=True)\n",
    "\n",
    "for i, f in enumerate(Flavor):\n",
    "    axes[i].set_ylabel('Luminosity [erg s$^{-1}$]')\n",
    "    axes[i].set_xscale('log')\n",
    "    for k,v in models.items():\n",
    "        l = axes[i].plot(v.times, v.model.luminosity[f], label=k.split('.')[0])\n",
    "    axes[i].legend(fontsize=10, ncol=2, bbox_to_anchor=(0.25, 0.62));\n",
    "    axes[i].text(0.9*np.max(v.times.value), 0.8*np.max(v.model.luminosity[f].value), f.to_tex())\n",
    "    \n",
    "axes[-1].set_xlabel('Time [s]');\n",
    "axes[-1].set_xlim(5e-6, None)"
   ]
  },
  {
   "cell_type": "code",
   "execution_count": null,
   "id": "a13f93b4",
   "metadata": {},
   "outputs": [],
   "source": []
  },
  {
   "cell_type": "code",
   "execution_count": null,
   "id": "b703d6b0",
   "metadata": {},
   "outputs": [],
   "source": []
  }
 ],
 "metadata": {
  "kernelspec": {
   "display_name": "snewpyUpgrade",
   "language": "python",
   "name": "u-snewpy"
  },
  "language_info": {
   "codemirror_mode": {
    "name": "ipython",
    "version": 3
   },
   "file_extension": ".py",
   "mimetype": "text/x-python",
   "name": "python",
   "nbconvert_exporter": "python",
   "pygments_lexer": "ipython3",
   "version": "3.9.16"
  }
 },
 "nbformat": 4,
 "nbformat_minor": 5
}
