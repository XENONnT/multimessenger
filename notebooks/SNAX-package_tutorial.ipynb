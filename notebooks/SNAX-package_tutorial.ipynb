{
 "cells": [
  {
   "cell_type": "markdown",
   "id": "f8e243c3",
   "metadata": {},
   "source": [
    "# SNAX package tutorial"
   ]
  },
  {
   "cell_type": "code",
   "execution_count": 1,
   "id": "74ea98fb",
   "metadata": {},
   "outputs": [],
   "source": [
    "from snewpy.neutrino import Flavor\n",
    "import os\n",
    "from tqdm.notebook import tqdm\n",
    "import numpy as np\n",
    "from multimessenger.supernova import Supernova_Models as sn\n",
    "from multimessenger.supernova.Plotter import Plotter\n",
    "# import plotly.express as px\n",
    "import astropy.units as u\n",
    "import matplotlib.pyplot as plt\n",
    "from matplotlib.colors import LogNorm"
   ]
  },
  {
   "cell_type": "markdown",
   "id": "64664662",
   "metadata": {},
   "source": [
    "The `SNAX` is a wrapper around `snewpy` and it allows to compute CEvNS rates for all the snewpy models."
   ]
  },
  {
   "cell_type": "code",
   "execution_count": 2,
   "id": "a9f7b11e",
   "metadata": {},
   "outputs": [
    {
     "data": {
      "text/plain": [
       "['Bollig_2016',\n",
       " 'Fornax_2019',\n",
       " 'Fornax_2021',\n",
       " 'Kuroda_2020',\n",
       " 'Nakazato_2013',\n",
       " 'OConnor_2013',\n",
       " 'OConnor_2015',\n",
       " 'Sukhbold_2015',\n",
       " 'Tamborra_2014',\n",
       " 'Walk_2018',\n",
       " 'Walk_2019',\n",
       " 'Warren_2020',\n",
       " 'Zha_2021']"
      ]
     },
     "execution_count": 2,
     "metadata": {},
     "output_type": "execute_result"
    }
   ],
   "source": [
    "sn.models_list"
   ]
  },
  {
   "cell_type": "markdown",
   "id": "3f63e928",
   "metadata": {},
   "source": [
    "Each model contains variuous simulations with e.g. different EoS, or different progenitor properties. <br>\n",
    "When only `model_name` is passed to `sn.Models()` it displays the existing files and asks you to select one. Otherwise, `filename` or `index` can be passed. <br>\n",
    "Once the model is executed, and after every heavy computation the data is saved, and the next time it is directly fetched from the stored data. <br>\n",
    "The output folder can be specified with the `storage` argument."
   ]
  },
  {
   "cell_type": "code",
   "execution_count": 3,
   "id": "8aa87ac7",
   "metadata": {
    "scrolled": true
   },
   "outputs": [],
   "source": [
    "# A.delete_object()"
   ]
  },
  {
   "cell_type": "code",
   "execution_count": 4,
   "id": "95705393",
   "metadata": {},
   "outputs": [
    {
     "name": "stdout",
     "output_type": "stream",
     "text": [
      "\u001b[34m\u001b[1m> You chose ~wisely~ ->\t   [9]\tnakazato-shen-z0.02-t_rev300ms-s20.0.fits\u001b[0m\n",
      "\u001b[34m> Saved at <self.storage>/Nakazato_2013-nakazato-shen-z0_02-t_rev300ms-s20_0_fits.pickle!\n",
      "\u001b[0m\n"
     ]
    }
   ],
   "source": [
    "A = sn.Models(model_name='Nakazato_2013', index=9)"
   ]
  },
  {
   "cell_type": "markdown",
   "id": "232ad120",
   "metadata": {},
   "source": [
    "The object itself, has a nice representation which can be displayed by just executing itself. Here, the `executed` refers to rate calculations. Once this is done, this param updates and rates are stored. <br>\n",
    "One can also keep track of the history by checking `A.display_history` to see when certain actions were performed."
   ]
  },
  {
   "cell_type": "code",
   "execution_count": 5,
   "id": "abc841eb",
   "metadata": {},
   "outputs": [
    {
     "data": {
      "text/markdown": [
       "**Nakazato_2013 Model**: nakazato-shen-z0.02-t_rev300ms-s20.0.fits\n",
       "\n",
       "|Parameter|Value|\n",
       "|:--------|:----:|\n",
       "|Progenitor mass | $20$ $\\mathrm{M_{\\odot}}$|\n",
       "|EOS | SHEN |\n",
       "|Metallicity | 0.02 |\n",
       "|Revival time | $300$ $\\mathrm{ms}$|\n",
       "|composite | Xenon|\n",
       "|duration | 20.05 s|\n",
       "|distance | 10.0 kpc|\n",
       "|volume | 5.9 t|\n",
       "|executed | False|"
      ],
      "text/plain": [
       "Nakazato_2013 Model: nakazato-shen-z0.02-t_rev300ms-s20.0.fits\n",
       "Progenitor mass  : 20.0 solMass\n",
       "EOS              : SHEN\n",
       "Metallicity      : 0.02\n",
       "Revival time     : 300.0 ms"
      ]
     },
     "execution_count": 5,
     "metadata": {},
     "output_type": "execute_result"
    }
   ],
   "source": [
    "A"
   ]
  },
  {
   "cell_type": "code",
   "execution_count": 6,
   "id": "b51d8e52",
   "metadata": {},
   "outputs": [
    {
     "data": {
      "text/html": [
       "<div>\n",
       "<style scoped>\n",
       "    .dataframe tbody tr th:only-of-type {\n",
       "        vertical-align: middle;\n",
       "    }\n",
       "\n",
       "    .dataframe tbody tr th {\n",
       "        vertical-align: top;\n",
       "    }\n",
       "\n",
       "    .dataframe thead th {\n",
       "        text-align: right;\n",
       "    }\n",
       "</style>\n",
       "<table border=\"1\" class=\"dataframe\">\n",
       "  <thead>\n",
       "    <tr style=\"text-align: right;\">\n",
       "      <th></th>\n",
       "      <th>date</th>\n",
       "      <th>version</th>\n",
       "      <th>user</th>\n",
       "      <th>history</th>\n",
       "    </tr>\n",
       "  </thead>\n",
       "  <tbody>\n",
       "    <tr>\n",
       "      <th>0</th>\n",
       "      <td>2022/08/25 - 08:37 UTC</td>\n",
       "      <td>1.2.1</td>\n",
       "      <td>melih</td>\n",
       "      <td>Data Saved!</td>\n",
       "    </tr>\n",
       "  </tbody>\n",
       "</table>\n",
       "</div>"
      ],
      "text/plain": [
       "                     date version   user      history\n",
       "0  2022/08/25 - 08:37 UTC   1.2.1  melih  Data Saved!"
      ]
     },
     "execution_count": 6,
     "metadata": {},
     "output_type": "execute_result"
    }
   ],
   "source": [
    "A.display_history"
   ]
  },
  {
   "cell_type": "code",
   "execution_count": 7,
   "id": "99b988c5",
   "metadata": {
    "scrolled": true
   },
   "outputs": [
    {
     "data": {
      "application/vnd.jupyter.widget-view+json": {
       "model_id": "c63c7723a09647c39643e39c0710cb02",
       "version_major": 2,
       "version_minor": 0
      },
      "text/plain": [
       "Computing for all isotopes:   0%|          | 0/9 [00:00<?, ?it/s]"
      ]
     },
     "metadata": {},
     "output_type": "display_data"
    },
    {
     "data": {
      "application/vnd.jupyter.widget-view+json": {
       "model_id": "",
       "version_major": 2,
       "version_minor": 0
      },
      "text/plain": [
       "Xe124:   0%|          | 0/4 [00:00<?, ?it/s]"
      ]
     },
     "metadata": {},
     "output_type": "display_data"
    },
    {
     "data": {
      "application/vnd.jupyter.widget-view+json": {
       "model_id": "",
       "version_major": 2,
       "version_minor": 0
      },
      "text/plain": [
       "$\\nu_e$:   0%|          | 0/391 [00:00<?, ?it/s]"
      ]
     },
     "metadata": {},
     "output_type": "display_data"
    },
    {
     "data": {
      "application/vnd.jupyter.widget-view+json": {
       "model_id": "",
       "version_major": 2,
       "version_minor": 0
      },
      "text/plain": [
       "$\\overline{\\nu}_e$:   0%|          | 0/391 [00:00<?, ?it/s]"
      ]
     },
     "metadata": {},
     "output_type": "display_data"
    },
    {
     "data": {
      "application/vnd.jupyter.widget-view+json": {
       "model_id": "",
       "version_major": 2,
       "version_minor": 0
      },
      "text/plain": [
       "$\\nu_x$:   0%|          | 0/391 [00:00<?, ?it/s]"
      ]
     },
     "metadata": {},
     "output_type": "display_data"
    },
    {
     "data": {
      "application/vnd.jupyter.widget-view+json": {
       "model_id": "",
       "version_major": 2,
       "version_minor": 0
      },
      "text/plain": [
       "$\\overline{\\nu}_x$:   0%|          | 0/391 [00:00<?, ?it/s]"
      ]
     },
     "metadata": {},
     "output_type": "display_data"
    },
    {
     "data": {
      "application/vnd.jupyter.widget-view+json": {
       "model_id": "",
       "version_major": 2,
       "version_minor": 0
      },
      "text/plain": [
       "Xe126:   0%|          | 0/4 [00:00<?, ?it/s]"
      ]
     },
     "metadata": {},
     "output_type": "display_data"
    },
    {
     "data": {
      "application/vnd.jupyter.widget-view+json": {
       "model_id": "",
       "version_major": 2,
       "version_minor": 0
      },
      "text/plain": [
       "$\\nu_e$:   0%|          | 0/391 [00:00<?, ?it/s]"
      ]
     },
     "metadata": {},
     "output_type": "display_data"
    },
    {
     "data": {
      "application/vnd.jupyter.widget-view+json": {
       "model_id": "",
       "version_major": 2,
       "version_minor": 0
      },
      "text/plain": [
       "$\\overline{\\nu}_e$:   0%|          | 0/391 [00:00<?, ?it/s]"
      ]
     },
     "metadata": {},
     "output_type": "display_data"
    },
    {
     "data": {
      "application/vnd.jupyter.widget-view+json": {
       "model_id": "",
       "version_major": 2,
       "version_minor": 0
      },
      "text/plain": [
       "$\\nu_x$:   0%|          | 0/391 [00:00<?, ?it/s]"
      ]
     },
     "metadata": {},
     "output_type": "display_data"
    },
    {
     "data": {
      "application/vnd.jupyter.widget-view+json": {
       "model_id": "",
       "version_major": 2,
       "version_minor": 0
      },
      "text/plain": [
       "$\\overline{\\nu}_x$:   0%|          | 0/391 [00:00<?, ?it/s]"
      ]
     },
     "metadata": {},
     "output_type": "display_data"
    },
    {
     "data": {
      "application/vnd.jupyter.widget-view+json": {
       "model_id": "",
       "version_major": 2,
       "version_minor": 0
      },
      "text/plain": [
       "Xe128:   0%|          | 0/4 [00:00<?, ?it/s]"
      ]
     },
     "metadata": {},
     "output_type": "display_data"
    },
    {
     "data": {
      "application/vnd.jupyter.widget-view+json": {
       "model_id": "",
       "version_major": 2,
       "version_minor": 0
      },
      "text/plain": [
       "$\\nu_e$:   0%|          | 0/391 [00:00<?, ?it/s]"
      ]
     },
     "metadata": {},
     "output_type": "display_data"
    },
    {
     "data": {
      "application/vnd.jupyter.widget-view+json": {
       "model_id": "",
       "version_major": 2,
       "version_minor": 0
      },
      "text/plain": [
       "$\\overline{\\nu}_e$:   0%|          | 0/391 [00:00<?, ?it/s]"
      ]
     },
     "metadata": {},
     "output_type": "display_data"
    },
    {
     "data": {
      "application/vnd.jupyter.widget-view+json": {
       "model_id": "",
       "version_major": 2,
       "version_minor": 0
      },
      "text/plain": [
       "$\\nu_x$:   0%|          | 0/391 [00:00<?, ?it/s]"
      ]
     },
     "metadata": {},
     "output_type": "display_data"
    },
    {
     "data": {
      "application/vnd.jupyter.widget-view+json": {
       "model_id": "",
       "version_major": 2,
       "version_minor": 0
      },
      "text/plain": [
       "$\\overline{\\nu}_x$:   0%|          | 0/391 [00:00<?, ?it/s]"
      ]
     },
     "metadata": {},
     "output_type": "display_data"
    },
    {
     "data": {
      "application/vnd.jupyter.widget-view+json": {
       "model_id": "",
       "version_major": 2,
       "version_minor": 0
      },
      "text/plain": [
       "Xe129:   0%|          | 0/4 [00:00<?, ?it/s]"
      ]
     },
     "metadata": {},
     "output_type": "display_data"
    },
    {
     "data": {
      "application/vnd.jupyter.widget-view+json": {
       "model_id": "",
       "version_major": 2,
       "version_minor": 0
      },
      "text/plain": [
       "$\\nu_e$:   0%|          | 0/391 [00:00<?, ?it/s]"
      ]
     },
     "metadata": {},
     "output_type": "display_data"
    },
    {
     "data": {
      "application/vnd.jupyter.widget-view+json": {
       "model_id": "",
       "version_major": 2,
       "version_minor": 0
      },
      "text/plain": [
       "$\\overline{\\nu}_e$:   0%|          | 0/391 [00:00<?, ?it/s]"
      ]
     },
     "metadata": {},
     "output_type": "display_data"
    },
    {
     "data": {
      "application/vnd.jupyter.widget-view+json": {
       "model_id": "",
       "version_major": 2,
       "version_minor": 0
      },
      "text/plain": [
       "$\\nu_x$:   0%|          | 0/391 [00:00<?, ?it/s]"
      ]
     },
     "metadata": {},
     "output_type": "display_data"
    },
    {
     "data": {
      "application/vnd.jupyter.widget-view+json": {
       "model_id": "",
       "version_major": 2,
       "version_minor": 0
      },
      "text/plain": [
       "$\\overline{\\nu}_x$:   0%|          | 0/391 [00:00<?, ?it/s]"
      ]
     },
     "metadata": {},
     "output_type": "display_data"
    },
    {
     "data": {
      "application/vnd.jupyter.widget-view+json": {
       "model_id": "",
       "version_major": 2,
       "version_minor": 0
      },
      "text/plain": [
       "Xe130:   0%|          | 0/4 [00:00<?, ?it/s]"
      ]
     },
     "metadata": {},
     "output_type": "display_data"
    },
    {
     "data": {
      "application/vnd.jupyter.widget-view+json": {
       "model_id": "",
       "version_major": 2,
       "version_minor": 0
      },
      "text/plain": [
       "$\\nu_e$:   0%|          | 0/391 [00:00<?, ?it/s]"
      ]
     },
     "metadata": {},
     "output_type": "display_data"
    },
    {
     "data": {
      "application/vnd.jupyter.widget-view+json": {
       "model_id": "",
       "version_major": 2,
       "version_minor": 0
      },
      "text/plain": [
       "$\\overline{\\nu}_e$:   0%|          | 0/391 [00:00<?, ?it/s]"
      ]
     },
     "metadata": {},
     "output_type": "display_data"
    },
    {
     "data": {
      "application/vnd.jupyter.widget-view+json": {
       "model_id": "",
       "version_major": 2,
       "version_minor": 0
      },
      "text/plain": [
       "$\\nu_x$:   0%|          | 0/391 [00:00<?, ?it/s]"
      ]
     },
     "metadata": {},
     "output_type": "display_data"
    },
    {
     "data": {
      "application/vnd.jupyter.widget-view+json": {
       "model_id": "",
       "version_major": 2,
       "version_minor": 0
      },
      "text/plain": [
       "$\\overline{\\nu}_x$:   0%|          | 0/391 [00:00<?, ?it/s]"
      ]
     },
     "metadata": {},
     "output_type": "display_data"
    },
    {
     "data": {
      "application/vnd.jupyter.widget-view+json": {
       "model_id": "",
       "version_major": 2,
       "version_minor": 0
      },
      "text/plain": [
       "Xe131:   0%|          | 0/4 [00:00<?, ?it/s]"
      ]
     },
     "metadata": {},
     "output_type": "display_data"
    },
    {
     "data": {
      "application/vnd.jupyter.widget-view+json": {
       "model_id": "",
       "version_major": 2,
       "version_minor": 0
      },
      "text/plain": [
       "$\\nu_e$:   0%|          | 0/391 [00:00<?, ?it/s]"
      ]
     },
     "metadata": {},
     "output_type": "display_data"
    },
    {
     "data": {
      "application/vnd.jupyter.widget-view+json": {
       "model_id": "",
       "version_major": 2,
       "version_minor": 0
      },
      "text/plain": [
       "$\\overline{\\nu}_e$:   0%|          | 0/391 [00:00<?, ?it/s]"
      ]
     },
     "metadata": {},
     "output_type": "display_data"
    },
    {
     "data": {
      "application/vnd.jupyter.widget-view+json": {
       "model_id": "",
       "version_major": 2,
       "version_minor": 0
      },
      "text/plain": [
       "$\\nu_x$:   0%|          | 0/391 [00:00<?, ?it/s]"
      ]
     },
     "metadata": {},
     "output_type": "display_data"
    },
    {
     "data": {
      "application/vnd.jupyter.widget-view+json": {
       "model_id": "",
       "version_major": 2,
       "version_minor": 0
      },
      "text/plain": [
       "$\\overline{\\nu}_x$:   0%|          | 0/391 [00:00<?, ?it/s]"
      ]
     },
     "metadata": {},
     "output_type": "display_data"
    },
    {
     "data": {
      "application/vnd.jupyter.widget-view+json": {
       "model_id": "",
       "version_major": 2,
       "version_minor": 0
      },
      "text/plain": [
       "Xe132:   0%|          | 0/4 [00:00<?, ?it/s]"
      ]
     },
     "metadata": {},
     "output_type": "display_data"
    },
    {
     "data": {
      "application/vnd.jupyter.widget-view+json": {
       "model_id": "",
       "version_major": 2,
       "version_minor": 0
      },
      "text/plain": [
       "$\\nu_e$:   0%|          | 0/391 [00:00<?, ?it/s]"
      ]
     },
     "metadata": {},
     "output_type": "display_data"
    },
    {
     "data": {
      "application/vnd.jupyter.widget-view+json": {
       "model_id": "",
       "version_major": 2,
       "version_minor": 0
      },
      "text/plain": [
       "$\\overline{\\nu}_e$:   0%|          | 0/391 [00:00<?, ?it/s]"
      ]
     },
     "metadata": {},
     "output_type": "display_data"
    },
    {
     "data": {
      "application/vnd.jupyter.widget-view+json": {
       "model_id": "",
       "version_major": 2,
       "version_minor": 0
      },
      "text/plain": [
       "$\\nu_x$:   0%|          | 0/391 [00:00<?, ?it/s]"
      ]
     },
     "metadata": {},
     "output_type": "display_data"
    },
    {
     "data": {
      "application/vnd.jupyter.widget-view+json": {
       "model_id": "",
       "version_major": 2,
       "version_minor": 0
      },
      "text/plain": [
       "$\\overline{\\nu}_x$:   0%|          | 0/391 [00:00<?, ?it/s]"
      ]
     },
     "metadata": {},
     "output_type": "display_data"
    },
    {
     "data": {
      "application/vnd.jupyter.widget-view+json": {
       "model_id": "",
       "version_major": 2,
       "version_minor": 0
      },
      "text/plain": [
       "Xe134:   0%|          | 0/4 [00:00<?, ?it/s]"
      ]
     },
     "metadata": {},
     "output_type": "display_data"
    },
    {
     "data": {
      "application/vnd.jupyter.widget-view+json": {
       "model_id": "",
       "version_major": 2,
       "version_minor": 0
      },
      "text/plain": [
       "$\\nu_e$:   0%|          | 0/391 [00:00<?, ?it/s]"
      ]
     },
     "metadata": {},
     "output_type": "display_data"
    },
    {
     "data": {
      "application/vnd.jupyter.widget-view+json": {
       "model_id": "",
       "version_major": 2,
       "version_minor": 0
      },
      "text/plain": [
       "$\\overline{\\nu}_e$:   0%|          | 0/391 [00:00<?, ?it/s]"
      ]
     },
     "metadata": {},
     "output_type": "display_data"
    },
    {
     "data": {
      "application/vnd.jupyter.widget-view+json": {
       "model_id": "",
       "version_major": 2,
       "version_minor": 0
      },
      "text/plain": [
       "$\\nu_x$:   0%|          | 0/391 [00:00<?, ?it/s]"
      ]
     },
     "metadata": {},
     "output_type": "display_data"
    },
    {
     "data": {
      "application/vnd.jupyter.widget-view+json": {
       "model_id": "",
       "version_major": 2,
       "version_minor": 0
      },
      "text/plain": [
       "$\\overline{\\nu}_x$:   0%|          | 0/391 [00:00<?, ?it/s]"
      ]
     },
     "metadata": {},
     "output_type": "display_data"
    },
    {
     "data": {
      "application/vnd.jupyter.widget-view+json": {
       "model_id": "",
       "version_major": 2,
       "version_minor": 0
      },
      "text/plain": [
       "Xe136:   0%|          | 0/4 [00:00<?, ?it/s]"
      ]
     },
     "metadata": {},
     "output_type": "display_data"
    },
    {
     "data": {
      "application/vnd.jupyter.widget-view+json": {
       "model_id": "",
       "version_major": 2,
       "version_minor": 0
      },
      "text/plain": [
       "$\\nu_e$:   0%|          | 0/391 [00:00<?, ?it/s]"
      ]
     },
     "metadata": {},
     "output_type": "display_data"
    },
    {
     "data": {
      "application/vnd.jupyter.widget-view+json": {
       "model_id": "",
       "version_major": 2,
       "version_minor": 0
      },
      "text/plain": [
       "$\\overline{\\nu}_e$:   0%|          | 0/391 [00:00<?, ?it/s]"
      ]
     },
     "metadata": {},
     "output_type": "display_data"
    },
    {
     "data": {
      "application/vnd.jupyter.widget-view+json": {
       "model_id": "",
       "version_major": 2,
       "version_minor": 0
      },
      "text/plain": [
       "$\\nu_x$:   0%|          | 0/391 [00:00<?, ?it/s]"
      ]
     },
     "metadata": {},
     "output_type": "display_data"
    },
    {
     "data": {
      "application/vnd.jupyter.widget-view+json": {
       "model_id": "",
       "version_major": 2,
       "version_minor": 0
      },
      "text/plain": [
       "$\\overline{\\nu}_x$:   0%|          | 0/391 [00:00<?, ?it/s]"
      ]
     },
     "metadata": {},
     "output_type": "display_data"
    },
    {
     "data": {
      "application/vnd.jupyter.widget-view+json": {
       "model_id": "2a846ca9c3b34a659330c98b82e88f50",
       "version_major": 2,
       "version_minor": 0
      },
      "text/plain": [
       "  0%|          | 0/9 [00:00<?, ?it/s]"
      ]
     },
     "metadata": {},
     "output_type": "display_data"
    },
    {
     "data": {
      "application/vnd.jupyter.widget-view+json": {
       "model_id": "7192315eb536447a993258dd0b31f4a8",
       "version_major": 2,
       "version_minor": 0
      },
      "text/plain": [
       "  0%|          | 0/9 [00:00<?, ?it/s]"
      ]
     },
     "metadata": {},
     "output_type": "display_data"
    },
    {
     "name": "stdout",
     "output_type": "stream",
     "text": [
      "\u001b[34m> Saved at <self.storage>/Nakazato_2013-nakazato-shen-z0_02-t_rev300ms-s20_0_fits.pickle!\n",
      "\u001b[0m\n",
      "\u001b[32m> Rates are computed at the source for 1 atom see rateper_Er/t attr (use scale_rates() for distance & volume)\u001b[0m\n"
     ]
    },
    {
     "name": "stderr",
     "output_type": "stream",
     "text": [
      "WARNING: AstropyDeprecationWarning: The truth value of a Quantity is ambiguous. In the future this will raise a ValueError. [astropy.units.quantity]\n"
     ]
    }
   ],
   "source": [
    "A.compute_rates();"
   ]
  },
  {
   "cell_type": "markdown",
   "id": "d3a4c8a3",
   "metadata": {},
   "source": [
    "The object represantation now contains another row `SN_rate` this is the total number of expected events from the given model with the given parameters e.g. distance and volume."
   ]
  },
  {
   "cell_type": "code",
   "execution_count": 8,
   "id": "39d94623",
   "metadata": {},
   "outputs": [
    {
     "data": {
      "text/markdown": [
       "**Nakazato_2013 Model**: nakazato-shen-z0.02-t_rev300ms-s20.0.fits\n",
       "\n",
       "|Parameter|Value|\n",
       "|:--------|:----:|\n",
       "|Progenitor mass | $20$ $\\mathrm{M_{\\odot}}$|\n",
       "|EOS | SHEN |\n",
       "|Metallicity | 0.02 |\n",
       "|Revival time | $300$ $\\mathrm{ms}$|\n",
       "|composite | Xenon|\n",
       "|duration | 20.05 s|\n",
       "|distance | 10.0 kpc|\n",
       "|volume | 5.9 t|\n",
       "|executed | True|\n",
       "|SN rate | 61 ct|"
      ],
      "text/plain": [
       "Nakazato_2013 Model: nakazato-shen-z0.02-t_rev300ms-s20.0.fits\n",
       "Progenitor mass  : 20.0 solMass\n",
       "EOS              : SHEN\n",
       "Metallicity      : 0.02\n",
       "Revival time     : 300.0 ms"
      ]
     },
     "execution_count": 8,
     "metadata": {},
     "output_type": "execute_result"
    }
   ],
   "source": [
    "A"
   ]
  },
  {
   "cell_type": "code",
   "execution_count": 9,
   "id": "3b996e63",
   "metadata": {},
   "outputs": [
    {
     "data": {
      "text/html": [
       "<div>\n",
       "<style scoped>\n",
       "    .dataframe tbody tr th:only-of-type {\n",
       "        vertical-align: middle;\n",
       "    }\n",
       "\n",
       "    .dataframe tbody tr th {\n",
       "        vertical-align: top;\n",
       "    }\n",
       "\n",
       "    .dataframe thead th {\n",
       "        text-align: right;\n",
       "    }\n",
       "</style>\n",
       "<table border=\"1\" class=\"dataframe\">\n",
       "  <thead>\n",
       "    <tr style=\"text-align: right;\">\n",
       "      <th></th>\n",
       "      <th>date</th>\n",
       "      <th>version</th>\n",
       "      <th>user</th>\n",
       "      <th>history</th>\n",
       "    </tr>\n",
       "  </thead>\n",
       "  <tbody>\n",
       "    <tr>\n",
       "      <th>0</th>\n",
       "      <td>2022/08/25 - 08:37 UTC</td>\n",
       "      <td>1.2.1</td>\n",
       "      <td>melih</td>\n",
       "      <td>Data Saved!</td>\n",
       "    </tr>\n",
       "    <tr>\n",
       "      <th>1</th>\n",
       "      <td>2022/08/25 - 08:38 UTC</td>\n",
       "      <td>1.2.1</td>\n",
       "      <td>melih</td>\n",
       "      <td>Fluxes computed!</td>\n",
       "    </tr>\n",
       "    <tr>\n",
       "      <th>2</th>\n",
       "      <td>2022/08/25 - 08:38 UTC</td>\n",
       "      <td>1.2.1</td>\n",
       "      <td>melih</td>\n",
       "      <td>Data Saved!</td>\n",
       "    </tr>\n",
       "  </tbody>\n",
       "</table>\n",
       "</div>"
      ],
      "text/plain": [
       "                     date version   user           history\n",
       "0  2022/08/25 - 08:37 UTC   1.2.1  melih       Data Saved!\n",
       "1  2022/08/25 - 08:38 UTC   1.2.1  melih  Fluxes computed!\n",
       "2  2022/08/25 - 08:38 UTC   1.2.1  melih       Data Saved!"
      ]
     },
     "execution_count": 9,
     "metadata": {},
     "output_type": "execute_result"
    }
   ],
   "source": [
    "A.display_history"
   ]
  },
  {
   "cell_type": "markdown",
   "id": "0c3ed227",
   "metadata": {},
   "source": [
    "### Plotter"
   ]
  },
  {
   "cell_type": "markdown",
   "id": "d3fdbbaa",
   "metadata": {},
   "source": [
    "One can also get a plotter, which takes the model object as input and allows for easy plotting. "
   ]
  },
  {
   "cell_type": "code",
   "execution_count": 11,
   "id": "8e910087",
   "metadata": {},
   "outputs": [],
   "source": [
    "plotter = Plotter(A)"
   ]
  },
  {
   "cell_type": "code",
   "execution_count": 11,
   "id": "1fdf5428",
   "metadata": {},
   "outputs": [
    {
     "data": {
      "image/png": "[encoded data removed]",
      "text/plain": [
       "<Figure size 432x288 with 2 Axes>"
      ]
     },
     "metadata": {},
     "output_type": "display_data"
    }
   ],
   "source": [
    "# plotter.plot_cross_section_fantastic()\n",
    "plotter.plot_cross_section();"
   ]
  },
  {
   "cell_type": "code",
   "execution_count": 12,
   "id": "c808d596",
   "metadata": {},
   "outputs": [
    {
     "data": {
      "image/png": "[encoded data removed]",
      "text/plain": [
       "<Figure size 432x288 with 1 Axes>"
      ]
     },
     "metadata": {},
     "output_type": "display_data"
    }
   ],
   "source": [
    "plotter.plot_form_factor()"
   ]
  },
  {
   "cell_type": "code",
   "execution_count": 13,
   "id": "67e5c761",
   "metadata": {},
   "outputs": [
    {
     "data": {
      "image/png": "[encoded data removed]",
      "text/plain": [
       "<Figure size 1440x288 with 8 Axes>"
      ]
     },
     "metadata": {},
     "output_type": "display_data"
    }
   ],
   "source": [
    "plotter.plot_mean_cross_section();"
   ]
  },
  {
   "cell_type": "code",
   "execution_count": 14,
   "id": "b6648805",
   "metadata": {},
   "outputs": [],
   "source": [
    "# plotter.plot_recoil_spectrum()"
   ]
  },
  {
   "cell_type": "code",
   "execution_count": 15,
   "id": "c7cc5bfd",
   "metadata": {},
   "outputs": [],
   "source": [
    "# # not all models have same attributes\n",
    "# # plotter.plot_mean_cross_section(); # --> doesn't work as there are no meanE attribute in Fornax\n",
    "# B = sn.Models(model_name='Nakazato_2013', index=10)\n",
    "# plotter_B = Plotter(B)\n",
    "# plotter_B.plot_mean_cross_section();\n",
    "# plotter_B.plot_params()"
   ]
  },
  {
   "cell_type": "code",
   "execution_count": 16,
   "id": "01fb1656",
   "metadata": {},
   "outputs": [],
   "source": [
    "# plotter.plot_sampled_data(50000, dtype=\"time\", xscale=\"log\");"
   ]
  },
  {
   "cell_type": "code",
   "execution_count": 17,
   "id": "f3b1b84e",
   "metadata": {},
   "outputs": [],
   "source": [
    "# plotter.plot_sampled_data(50000, xscale='lin');"
   ]
  },
  {
   "cell_type": "markdown",
   "id": "7c1282ba",
   "metadata": {},
   "source": [
    "# Scale"
   ]
  },
  {
   "cell_type": "markdown",
   "id": "6f8ab8fc",
   "metadata": {},
   "source": [
    "The rates are computed at the source and for  single atom for convenience. The rates are returned as object attributes e.g.\n",
    "```python\n",
    "A.rateper_t\n",
    "A.rateper_Er\n",
    "A.rateper_t_iso\n",
    "A.rateper_Er_iso\n",
    "```\n",
    "where the corresponding recoil energies and the times are also stored as attributes with units\n",
    "```python\n",
    "A.recoil_energies\n",
    "A.time\n",
    "```\n",
    "Thus, the user can scale the rates for any number of Xenon atoms (or another atom), and for any distance (10kpc etc.). The volume is not scaled by default i.e. returned values are counts/distance/1 ton however, it is straightforward linear multiplication to scale for 7 or 40 tonnes.<br>\n",
    "see `A.scale_rates()`."
   ]
  },
  {
   "cell_type": "code",
   "execution_count": 18,
   "id": "cf8d1515",
   "metadata": {},
   "outputs": [
    {
     "data": {
      "image/png": "[encoded data removed]",
      "text/plain": [
       "<Figure size 720x720 with 4 Axes>"
      ]
     },
     "metadata": {},
     "output_type": "display_data"
    }
   ],
   "source": [
    "rates_scaled_Er, rates_scaled_t = A.scale_rates()\n",
    "\n",
    "fig, ((ax1,ax2),((ax11,ax22))) = plt.subplots(ncols=2, nrows=2, figsize=(10,10))\n",
    "ax1.plot(A.model.time, A.rateper_t['Total'])\n",
    "ax2.plot(A.model.time, rates_scaled_t['Total'])\n",
    "ax11.plot(A.recoil_energies, A.rateper_Er['Total'])\n",
    "ax22.plot(A.recoil_energies, rates_scaled_Er['Total'])\n",
    "ax11.set_xlabel(\"At the Source\")\n",
    "ax22.set_xlabel(\"Scaled\")\n",
    "for ax in [ax1,ax2,ax11,ax22]:\n",
    "    ax.set_xticks([])"
   ]
  },
  {
   "cell_type": "markdown",
   "id": "23e3ded3",
   "metadata": {},
   "source": [
    "The plotter has a tool to compute the total expected counts for given distances and given volumes. This already provides a nice way of benchmarking models."
   ]
  },
  {
   "cell_type": "code",
   "execution_count": 12,
   "id": "229961f3",
   "metadata": {},
   "outputs": [
    {
     "name": "stderr",
     "output_type": "stream",
     "text": [
      "WARNING: AstropyDeprecationWarning: The truth value of a Quantity is ambiguous. In the future this will raise a ValueError. [astropy.units.quantity]\n"
     ]
    },
    {
     "data": {
      "image/png": "[encoded data removed]",
      "text/plain": [
       "<Figure size 720x720 with 1 Axes>"
      ]
     },
     "metadata": {},
     "output_type": "display_data"
    }
   ],
   "source": [
    "plotter.plot_counts()"
   ]
  },
  {
   "cell_type": "markdown",
   "id": "605da0eb",
   "metadata": {},
   "source": [
    "## Simulate Signal with WFSim"
   ]
  },
  {
   "cell_type": "markdown",
   "id": "fa994801",
   "metadata": {},
   "source": [
    "These parts are better done in dali/midway. <br>\n"
   ]
  },
  {
   "cell_type": "code",
   "execution_count": 13,
   "id": "f8941f1f",
   "metadata": {},
   "outputs": [
    {
     "name": "stderr",
     "output_type": "stream",
     "text": [
      "*** Detector definition message ***\n",
      "You are currently using the default XENON10 template detector.\n",
      "\n"
     ]
    }
   ],
   "source": [
    "import nestpy\n",
    "import pandas as pd\n",
    "import straxen\n",
    "downloader = straxen.MongoDownloader()"
   ]
  },
  {
   "cell_type": "code",
   "execution_count": 14,
   "id": "b7df4111",
   "metadata": {},
   "outputs": [
    {
     "name": "stderr",
     "output_type": "stream",
     "text": [
      "*** Detector definition message ***\n",
      "You are currently using the default XENON10 template detector.\n",
      "\n"
     ]
    }
   ],
   "source": [
    "field_file=\"fieldmap_2D_B2d75n_C2d75n_G0d3p_A4d9p_T0d9n_PMTs1d3n_FSR0d65p_QPTFE_0d5n_0d4p.json.gz\"\n",
    "field_map = straxen.InterpolatingMap(\n",
    "                    straxen.get_resource(downloader.download_single(field_file),\n",
    "                                         fmt=\"json.gz\"),\n",
    "                    method=\"RegularGridInterpolator\")\n",
    "\n",
    "nc = nestpy.NESTcalc(nestpy.DetectorExample_XENON10())\n",
    "## not sure if nestpy RNG issue was solved, so randomize NEST internal state\n",
    "for i in range(np.random.randint(100)):\n",
    "    nc.GetQuanta(nc.GetYields(energy=np.random.uniform(10,100)))"
   ]
  },
  {
   "cell_type": "markdown",
   "id": "1cb8c70a",
   "metadata": {},
   "source": [
    "Caution, the times need to be passed in nanoseconds!"
   ]
  },
  {
   "cell_type": "markdown",
   "id": "f536a909",
   "metadata": {},
   "source": [
    "### How to handle times \n",
    "\n",
    "Now we are going to create instructions for the SuperNova signal. However, for a real supernova we expect to have ~100 events. Thus those \"realistic simulations\" will be very sparse (nonetheless, still needed). <br>\n",
    "This would be\n",
    "```python\n",
    "instr = generator_sn_instruction(energy_deposition=sampled_Er, timemode=sampled_t*1e9, n_tot=N_events, nc=nc, fmap=field_map)\n",
    "```\n",
    "\n",
    "\n",
    "We also want to study the general shape, for that, we simulate a signal with higher statistics. <br>\n",
    "If we simulate thousands of events within 10 sec, buffer will crash. We need to simulate smarter, for this we will simulate total number of expected interactions within expected duration (e.g. 100 within 10 sec), then move the times and simulate again. <br>\n",
    "\n",
    "For completeness the `generator_sn_instruction()` also has two more time modes \"realistic\" and \"uniform\" which are still useful to study time-independent aspects such as S2 shape. However, in order to build a trigger that is based on the rate, we need to contain time information."
   ]
  },
  {
   "cell_type": "code",
   "execution_count": 15,
   "id": "507d9fe2",
   "metadata": {},
   "outputs": [
    {
     "data": {
      "text/latex": [
       "$61.642552 \\; \\mathrm{ct}$"
      ],
      "text/plain": [
       "<Quantity 61.64255201 ct>"
      ]
     },
     "execution_count": 15,
     "metadata": {},
     "output_type": "execute_result"
    }
   ],
   "source": [
    "A.single_rate"
   ]
  },
  {
   "cell_type": "code",
   "execution_count": 16,
   "id": "8e36c598",
   "metadata": {},
   "outputs": [],
   "source": [
    "# _rate, _ = A.scale_rates(distance=10*u.kpc)\n",
    "# nevents = int(np.trapz(_rate['Total'] * 7*u.t, A.recoil_energies).value)\n",
    "nevents = int(A.single_rate.value)\n",
    "\n",
    "sampled_Er = A.sample_data(nevents)\n",
    "sampled_t = A.sample_data(nevents, dtype='time')"
   ]
  },
  {
   "cell_type": "code",
   "execution_count": 18,
   "id": "e895de1e",
   "metadata": {},
   "outputs": [
    {
     "name": "stderr",
     "output_type": "stream",
     "text": [
      "WARNING: AstropyDeprecationWarning: The truth value of a Quantity is ambiguous. In the future this will raise a ValueError. [astropy.units.quantity]\n",
      "WARNING:astropy:AstropyDeprecationWarning: The truth value of a Quantity is ambiguous. In the future this will raise a ValueError.\n"
     ]
    },
    {
     "name": "stdout",
     "output_type": "stream",
     "text": [
      "Total duration 18.07 seconds\n"
     ]
    },
    {
     "data": {
      "text/html": [
       "<div>\n",
       "<style scoped>\n",
       "    .dataframe tbody tr th:only-of-type {\n",
       "        vertical-align: middle;\n",
       "    }\n",
       "\n",
       "    .dataframe tbody tr th {\n",
       "        vertical-align: top;\n",
       "    }\n",
       "\n",
       "    .dataframe thead th {\n",
       "        text-align: right;\n",
       "    }\n",
       "</style>\n",
       "<table border=\"1\" class=\"dataframe\">\n",
       "  <thead>\n",
       "    <tr style=\"text-align: right;\">\n",
       "      <th></th>\n",
       "      <th>event_number</th>\n",
       "      <th>type</th>\n",
       "      <th>time</th>\n",
       "      <th>x</th>\n",
       "      <th>y</th>\n",
       "      <th>z</th>\n",
       "      <th>amp</th>\n",
       "      <th>recoil</th>\n",
       "      <th>e_dep</th>\n",
       "      <th>g4id</th>\n",
       "      <th>vol_id</th>\n",
       "      <th>local_field</th>\n",
       "      <th>n_excitons</th>\n",
       "      <th>x_pri</th>\n",
       "      <th>y_pri</th>\n",
       "      <th>z_pri</th>\n",
       "    </tr>\n",
       "  </thead>\n",
       "  <tbody>\n",
       "    <tr>\n",
       "      <th>0</th>\n",
       "      <td>1</td>\n",
       "      <td>1</td>\n",
       "      <td>1019759121</td>\n",
       "      <td>-44.285782</td>\n",
       "      <td>12.174396</td>\n",
       "      <td>-39.651817</td>\n",
       "      <td>37</td>\n",
       "      <td>7</td>\n",
       "      <td>1.585966</td>\n",
       "      <td>0</td>\n",
       "      <td>0</td>\n",
       "      <td>23.180487</td>\n",
       "      <td>0</td>\n",
       "      <td>0.0</td>\n",
       "      <td>0.0</td>\n",
       "      <td>0.0</td>\n",
       "    </tr>\n",
       "    <tr>\n",
       "      <th>1</th>\n",
       "      <td>1</td>\n",
       "      <td>2</td>\n",
       "      <td>1019759121</td>\n",
       "      <td>-44.285782</td>\n",
       "      <td>12.174396</td>\n",
       "      <td>-39.651817</td>\n",
       "      <td>83</td>\n",
       "      <td>7</td>\n",
       "      <td>1.585966</td>\n",
       "      <td>0</td>\n",
       "      <td>0</td>\n",
       "      <td>23.180487</td>\n",
       "      <td>0</td>\n",
       "      <td>0.0</td>\n",
       "      <td>0.0</td>\n",
       "      <td>0.0</td>\n",
       "    </tr>\n",
       "    <tr>\n",
       "      <th>2</th>\n",
       "      <td>2</td>\n",
       "      <td>1</td>\n",
       "      <td>3174317834</td>\n",
       "      <td>-40.857258</td>\n",
       "      <td>3.523523</td>\n",
       "      <td>-121.740959</td>\n",
       "      <td>21</td>\n",
       "      <td>7</td>\n",
       "      <td>1.095382</td>\n",
       "      <td>0</td>\n",
       "      <td>0</td>\n",
       "      <td>22.244759</td>\n",
       "      <td>1</td>\n",
       "      <td>0.0</td>\n",
       "      <td>0.0</td>\n",
       "      <td>0.0</td>\n",
       "    </tr>\n",
       "    <tr>\n",
       "      <th>3</th>\n",
       "      <td>2</td>\n",
       "      <td>2</td>\n",
       "      <td>3174317834</td>\n",
       "      <td>-40.857258</td>\n",
       "      <td>3.523523</td>\n",
       "      <td>-121.740959</td>\n",
       "      <td>60</td>\n",
       "      <td>7</td>\n",
       "      <td>1.095382</td>\n",
       "      <td>0</td>\n",
       "      <td>0</td>\n",
       "      <td>22.244759</td>\n",
       "      <td>1</td>\n",
       "      <td>0.0</td>\n",
       "      <td>0.0</td>\n",
       "      <td>0.0</td>\n",
       "    </tr>\n",
       "    <tr>\n",
       "      <th>4</th>\n",
       "      <td>3</td>\n",
       "      <td>1</td>\n",
       "      <td>137797792</td>\n",
       "      <td>-1.776483</td>\n",
       "      <td>-58.729378</td>\n",
       "      <td>-13.381119</td>\n",
       "      <td>297</td>\n",
       "      <td>7</td>\n",
       "      <td>5.161301</td>\n",
       "      <td>0</td>\n",
       "      <td>0</td>\n",
       "      <td>27.388733</td>\n",
       "      <td>11</td>\n",
       "      <td>0.0</td>\n",
       "      <td>0.0</td>\n",
       "      <td>0.0</td>\n",
       "    </tr>\n",
       "    <tr>\n",
       "      <th>...</th>\n",
       "      <td>...</td>\n",
       "      <td>...</td>\n",
       "      <td>...</td>\n",
       "      <td>...</td>\n",
       "      <td>...</td>\n",
       "      <td>...</td>\n",
       "      <td>...</td>\n",
       "      <td>...</td>\n",
       "      <td>...</td>\n",
       "      <td>...</td>\n",
       "      <td>...</td>\n",
       "      <td>...</td>\n",
       "      <td>...</td>\n",
       "      <td>...</td>\n",
       "      <td>...</td>\n",
       "      <td>...</td>\n",
       "    </tr>\n",
       "    <tr>\n",
       "      <th>106</th>\n",
       "      <td>59</td>\n",
       "      <td>2</td>\n",
       "      <td>1296608801</td>\n",
       "      <td>41.037132</td>\n",
       "      <td>-10.320684</td>\n",
       "      <td>-120.052681</td>\n",
       "      <td>74</td>\n",
       "      <td>7</td>\n",
       "      <td>1.113509</td>\n",
       "      <td>0</td>\n",
       "      <td>0</td>\n",
       "      <td>22.184419</td>\n",
       "      <td>0</td>\n",
       "      <td>0.0</td>\n",
       "      <td>0.0</td>\n",
       "      <td>0.0</td>\n",
       "    </tr>\n",
       "    <tr>\n",
       "      <th>107</th>\n",
       "      <td>60</td>\n",
       "      <td>1</td>\n",
       "      <td>3279398168</td>\n",
       "      <td>-0.323675</td>\n",
       "      <td>47.976486</td>\n",
       "      <td>-105.270973</td>\n",
       "      <td>340</td>\n",
       "      <td>7</td>\n",
       "      <td>5.791203</td>\n",
       "      <td>0</td>\n",
       "      <td>0</td>\n",
       "      <td>21.845060</td>\n",
       "      <td>26</td>\n",
       "      <td>0.0</td>\n",
       "      <td>0.0</td>\n",
       "      <td>0.0</td>\n",
       "    </tr>\n",
       "    <tr>\n",
       "      <th>108</th>\n",
       "      <td>60</td>\n",
       "      <td>2</td>\n",
       "      <td>3279398168</td>\n",
       "      <td>-0.323675</td>\n",
       "      <td>47.976486</td>\n",
       "      <td>-105.270973</td>\n",
       "      <td>96</td>\n",
       "      <td>7</td>\n",
       "      <td>5.791203</td>\n",
       "      <td>0</td>\n",
       "      <td>0</td>\n",
       "      <td>21.845060</td>\n",
       "      <td>26</td>\n",
       "      <td>0.0</td>\n",
       "      <td>0.0</td>\n",
       "      <td>0.0</td>\n",
       "    </tr>\n",
       "    <tr>\n",
       "      <th>109</th>\n",
       "      <td>61</td>\n",
       "      <td>1</td>\n",
       "      <td>384094053</td>\n",
       "      <td>56.847984</td>\n",
       "      <td>13.036077</td>\n",
       "      <td>-10.081454</td>\n",
       "      <td>3</td>\n",
       "      <td>7</td>\n",
       "      <td>0.618396</td>\n",
       "      <td>0</td>\n",
       "      <td>0</td>\n",
       "      <td>29.800077</td>\n",
       "      <td>1</td>\n",
       "      <td>0.0</td>\n",
       "      <td>0.0</td>\n",
       "      <td>0.0</td>\n",
       "    </tr>\n",
       "    <tr>\n",
       "      <th>110</th>\n",
       "      <td>61</td>\n",
       "      <td>2</td>\n",
       "      <td>384094053</td>\n",
       "      <td>56.847984</td>\n",
       "      <td>13.036077</td>\n",
       "      <td>-10.081454</td>\n",
       "      <td>45</td>\n",
       "      <td>7</td>\n",
       "      <td>0.618396</td>\n",
       "      <td>0</td>\n",
       "      <td>0</td>\n",
       "      <td>29.800077</td>\n",
       "      <td>1</td>\n",
       "      <td>0.0</td>\n",
       "      <td>0.0</td>\n",
       "      <td>0.0</td>\n",
       "    </tr>\n",
       "  </tbody>\n",
       "</table>\n",
       "<p>111 rows × 16 columns</p>\n",
       "</div>"
      ],
      "text/plain": [
       "     event_number  type        time          x          y           z  amp  \\\n",
       "0               1     1  1019759121 -44.285782  12.174396  -39.651817   37   \n",
       "1               1     2  1019759121 -44.285782  12.174396  -39.651817   83   \n",
       "2               2     1  3174317834 -40.857258   3.523523 -121.740959   21   \n",
       "3               2     2  3174317834 -40.857258   3.523523 -121.740959   60   \n",
       "4               3     1   137797792  -1.776483 -58.729378  -13.381119  297   \n",
       "..            ...   ...         ...        ...        ...         ...  ...   \n",
       "106            59     2  1296608801  41.037132 -10.320684 -120.052681   74   \n",
       "107            60     1  3279398168  -0.323675  47.976486 -105.270973  340   \n",
       "108            60     2  3279398168  -0.323675  47.976486 -105.270973   96   \n",
       "109            61     1   384094053  56.847984  13.036077  -10.081454    3   \n",
       "110            61     2   384094053  56.847984  13.036077  -10.081454   45   \n",
       "\n",
       "     recoil     e_dep  g4id  vol_id  local_field  n_excitons  x_pri  y_pri  \\\n",
       "0         7  1.585966     0       0    23.180487           0    0.0    0.0   \n",
       "1         7  1.585966     0       0    23.180487           0    0.0    0.0   \n",
       "2         7  1.095382     0       0    22.244759           1    0.0    0.0   \n",
       "3         7  1.095382     0       0    22.244759           1    0.0    0.0   \n",
       "4         7  5.161301     0       0    27.388733          11    0.0    0.0   \n",
       "..      ...       ...   ...     ...          ...         ...    ...    ...   \n",
       "106       7  1.113509     0       0    22.184419           0    0.0    0.0   \n",
       "107       7  5.791203     0       0    21.845060          26    0.0    0.0   \n",
       "108       7  5.791203     0       0    21.845060          26    0.0    0.0   \n",
       "109       7  0.618396     0       0    29.800077           1    0.0    0.0   \n",
       "110       7  0.618396     0       0    29.800077           1    0.0    0.0   \n",
       "\n",
       "     z_pri  \n",
       "0      0.0  \n",
       "1      0.0  \n",
       "2      0.0  \n",
       "3      0.0  \n",
       "4      0.0  \n",
       "..     ...  \n",
       "106    0.0  \n",
       "107    0.0  \n",
       "108    0.0  \n",
       "109    0.0  \n",
       "110    0.0  \n",
       "\n",
       "[111 rows x 16 columns]"
      ]
     },
     "execution_count": 18,
     "metadata": {},
     "output_type": "execute_result"
    }
   ],
   "source": [
    "_instr = A.generate_instructions(energy_deposition=sampled_Er, \n",
    "                                 timemode=sampled_t*1e9, \n",
    "                                 n_tot=nevents, nc=nc, fmap=field_map)\n",
    "df_realistic = pd.DataFrame(_instr)\n",
    "print(f\"Total duration {np.ptp(df_realistic['time'])*1e-9:.2f} seconds\")\n",
    "df_realistic"
   ]
  },
  {
   "cell_type": "code",
   "execution_count": 19,
   "id": "284774a7",
   "metadata": {},
   "outputs": [
    {
     "data": {
      "text/html": [
       "<div>\n",
       "<style scoped>\n",
       "    .dataframe tbody tr th:only-of-type {\n",
       "        vertical-align: middle;\n",
       "    }\n",
       "\n",
       "    .dataframe tbody tr th {\n",
       "        vertical-align: top;\n",
       "    }\n",
       "\n",
       "    .dataframe thead th {\n",
       "        text-align: right;\n",
       "    }\n",
       "</style>\n",
       "<table border=\"1\" class=\"dataframe\">\n",
       "  <thead>\n",
       "    <tr style=\"text-align: right;\">\n",
       "      <th></th>\n",
       "    </tr>\n",
       "  </thead>\n",
       "  <tbody>\n",
       "  </tbody>\n",
       "</table>\n",
       "</div>"
      ],
      "text/plain": [
       "Empty DataFrame\n",
       "Columns: []\n",
       "Index: []"
      ]
     },
     "execution_count": 19,
     "metadata": {},
     "output_type": "execute_result"
    }
   ],
   "source": [
    "A.display_simulation_history"
   ]
  },
  {
   "cell_type": "code",
   "execution_count": 20,
   "id": "413349e2",
   "metadata": {
    "scrolled": true
   },
   "outputs": [
    {
     "name": "stderr",
     "output_type": "stream",
     "text": [
      "WARNING:strax:Option gain_model_nv not taken by any registered plugin\n",
      "WARNING:strax:Option gain_model_mv not taken by any registered plugin\n",
      "WARNING:strax:Option gain_model_nv not taken by any registered plugin\n",
      "WARNING:strax:Option gain_model_mv not taken by any registered plugin\n",
      "WARNING:strax:Option gain_model_nv not taken by any registered plugin\n",
      "WARNING:strax:Option gain_model_mv not taken by any registered plugin\n",
      "WARNING:strax:Option gain_model_nv not taken by any registered plugin\n",
      "WARNING:strax:Option gain_model_mv not taken by any registered plugin\n",
      "WARNING:strax:Option gain_model_nv not taken by any registered plugin\n",
      "WARNING:strax:Option gain_model_mv not taken by any registered plugin\n",
      "WARNING:strax:Option gain_model_nv not taken by any registered plugin\n",
      "WARNING:strax:Option gain_model_mv not taken by any registered plugin\n"
     ]
    },
    {
     "name": "stdout",
     "output_type": "stream",
     "text": [
      "\u001b[34m> Saved at <self.storage>/Nakazato_2013-nakazato-shen-z0_02-t_rev300ms-s20_0_fits.pickle!\n",
      "\u001b[0m\n"
     ]
    },
    {
     "name": "stderr",
     "output_type": "stream",
     "text": [
      "WARNING:strax:Option gain_model_nv not taken by any registered plugin\n",
      "WARNING:strax:Option gain_model_mv not taken by any registered plugin\n",
      "WARNING:strax:Option gain_model_nv not taken by any registered plugin\n",
      "WARNING:strax:Option gain_model_mv not taken by any registered plugin\n",
      "WARNING:wfsim.interface:Replacing drift_time_gate with CMT option ('cmt_run_id', '026000', 'electron_drift_time_gate', 'v2', True) to 4500.0\n",
      "WARNING:wfsim.interface:Replacing drift_velocity_liquid with CMT option ('cmt_run_id', '026000', 'electron_drift_velocity', 'v3', True) to 6.75e-05\n",
      "WARNING:wfsim.interface:Replacing electron_lifetime_liquid with CMT option ('cmt_run_id', '026000', 'elife', 'v5', True) to 14943515.44396\n",
      "WARNING:wfsim.resource:Loading XENONnT_SR0_spe_distributions_20210713_no_noise_scaled.csv from mongo downloader to /dali/lgrandi/strax/resource_cache/99c2cbc580cfa8eeebe831456076e136\n",
      "WARNING:wfsim.resource:Loading XENONnT_s1_xyz_patterns_LCE_MCvf051911_wires.pkl from mongo downloader to /dali/lgrandi/strax/resource_cache/02ed2634596793f6e7aa13783745089a\n",
      "WARNING:wfsim.resource:A file has value False, assuming this is intentional.\n",
      "WARNING:wfsim.resource:Using the private repo to load XENONnT_s2_xy_patterns_GXe_LCE_corrected_qes_MCv4.3.0_wires.pkl locally\n",
      "WARNING:wfsim.resource:Using the private repo to load XENONnT_s2_xy_map_v4_210503_mlp_3_in_1_iterated.json locally\n",
      "WARNING:wfsim.resource:Using the private repo to load XENONnT_se_xy_map_v1_mlp.json locally\n",
      "WARNING:wfsim.resource:Using the private repo to load XENONnT_pmt_afterpulse_config_018435.json.gz locally\n",
      "WARNING:wfsim.resource:Using the private repo to load XENONnT_GARFIELD_SR0_B2d75n_C2d75n_G0d3p_A4d9p_T0d9n_PMTs1d3n_FSR0d65p.npz locally\n",
      "WARNING:wfsim.resource:Using the private repo to load garfield_timing_map_gas_gap_sr0.npy locally\n",
      "WARNING:wfsim.resource:Using the private repo to load gas_gap_warping_map_January_2021.pkl locally\n",
      "WARNING:wfsim.resource:Using the private repo to load garfield_gas_gap_map_sr0.json locally\n",
      "WARNING:wfsim.resource:Loading x1t_se_afterpulse_delaytime.pkl.gz from mongo downloader to /dali/lgrandi/strax/resource_cache/014aa048758a51f154cdc3b32dac2773\n",
      "WARNING:wfsim.resource:Using the private repo to load XENONnT_noise_tpc_only_2ms_25118.npz locally\n",
      "WARNING:wfsim.resource:Using the private repo to load XnT_3D_FDC_xyt_dummy_all_zeros_v0.1.json.gz locally\n",
      "WARNING:wfsim.resource:Using the private repo to load field_dependent_radius_depth_maps_B2d75n_C2d75n_G0d3p_A4d9p_T0d9n_PMTs1d3n_FSR0d65p_QPTFE_0d5n_0d4p.json.gz locally\n",
      "WARNING:wfsim.resource:Loading data_driven_diffusion_map_XENONnTSR0V2.json.gz from mongo downloader to /dali/lgrandi/strax/resource_cache/8a6c6dc1bfe5380f48e96462161a3313\n",
      "WARNING:wfsim.resource:Using the private repo to load XENONnT_s1_proponly_va43fa9b_wires_20200625.json.gz locally\n",
      "WARNING:wfsim.resource:Using the private repo to load XENONnT_s2_opticalprop_time_v0.json.gz locally\n",
      "WARNING:wfsim.resource:Using json for unspecified /home/melih/software/private_nt_aux_files/ntauxfiles/../strax_files/XENONnT_se_xy_map_v1_mlp.json\n",
      "/home/melih/software/WFSim/wfsim/load_resource.py:262: RuntimeWarning: invalid value encountered in true_divide\n",
      "  orig_aft_=np.mean((s2map_topeff_/s2map_toteff_)[s2map_toteff_>0.0])\n",
      "WARNING:wfsim.resource:Using json.gz for unspecified /home/melih/software/private_nt_aux_files/ntauxfiles/../sim_files/XENONnT_s2_opticalprop_time_v0.json.gz\n",
      "WARNING:wfsim.resource:Using noise data /home/melih/software/private_nt_aux_files/ntauxfiles/../sim_files/XENONnT_noise_tpc_only_2ms_25118.npz with 494 channels for XENONnT\n",
      "*** Detector definition message ***\n",
      "You are currently using the default XENON10 template detector.\n",
      "\n",
      "WARNING:strax:Could not estimate run start and end time from run metadata: assuming it is 0 and inf\n"
     ]
    },
    {
     "data": {
      "application/vnd.jupyter.widget-view+json": {
       "model_id": "6154ec7ca4a84667a03d62c1f23a5489",
       "version_major": 2,
       "version_minor": 0
      },
      "text/plain": [
       "Simulating Raw Records:   0%|          | 0/108 [00:00<?, ?it/s]"
      ]
     },
     "metadata": {},
     "output_type": "display_data"
    },
    {
     "name": "stdout",
     "output_type": "stream",
     "text": [
      "Source finished!\n",
      "\u001b[34mNakazato_single9 is created! Returning context!\u001b[0m\n"
     ]
    }
   ],
   "source": [
    "st = A.simulate_one(df_realistic, \"Nakazato_single9\")"
   ]
  },
  {
   "cell_type": "code",
   "execution_count": 21,
   "id": "78fda915",
   "metadata": {},
   "outputs": [
    {
     "data": {
      "text/html": [
       "<div>\n",
       "<style scoped>\n",
       "    .dataframe tbody tr th:only-of-type {\n",
       "        vertical-align: middle;\n",
       "    }\n",
       "\n",
       "    .dataframe tbody tr th {\n",
       "        vertical-align: top;\n",
       "    }\n",
       "\n",
       "    .dataframe thead th {\n",
       "        text-align: right;\n",
       "    }\n",
       "</style>\n",
       "<table border=\"1\" class=\"dataframe\">\n",
       "  <thead>\n",
       "    <tr style=\"text-align: right;\">\n",
       "      <th></th>\n",
       "      <th>date</th>\n",
       "      <th>version</th>\n",
       "      <th>user</th>\n",
       "      <th>history</th>\n",
       "    </tr>\n",
       "  </thead>\n",
       "  <tbody>\n",
       "    <tr>\n",
       "      <th>0</th>\n",
       "      <td>2022/08/25 - 08:37 UTC</td>\n",
       "      <td>1.2.1</td>\n",
       "      <td>melih</td>\n",
       "      <td>Data Saved!</td>\n",
       "    </tr>\n",
       "    <tr>\n",
       "      <th>1</th>\n",
       "      <td>2022/08/25 - 08:38 UTC</td>\n",
       "      <td>1.2.1</td>\n",
       "      <td>melih</td>\n",
       "      <td>Fluxes computed!</td>\n",
       "    </tr>\n",
       "    <tr>\n",
       "      <th>2</th>\n",
       "      <td>2022/08/25 - 08:38 UTC</td>\n",
       "      <td>1.2.1</td>\n",
       "      <td>melih</td>\n",
       "      <td>Data Saved!</td>\n",
       "    </tr>\n",
       "    <tr>\n",
       "      <th>3</th>\n",
       "      <td>2022/08/25 - 09:10 UTC</td>\n",
       "      <td>1.2.1</td>\n",
       "      <td>melih</td>\n",
       "      <td>simulation Nakazato_single9 is requested!</td>\n",
       "    </tr>\n",
       "    <tr>\n",
       "      <th>4</th>\n",
       "      <td>2022/08/25 - 09:10 UTC</td>\n",
       "      <td>1.2.1</td>\n",
       "      <td>melih</td>\n",
       "      <td>Data Saved!</td>\n",
       "    </tr>\n",
       "  </tbody>\n",
       "</table>\n",
       "</div>"
      ],
      "text/plain": [
       "                     date version   user  \\\n",
       "0  2022/08/25 - 08:37 UTC   1.2.1  melih   \n",
       "1  2022/08/25 - 08:38 UTC   1.2.1  melih   \n",
       "2  2022/08/25 - 08:38 UTC   1.2.1  melih   \n",
       "3  2022/08/25 - 09:10 UTC   1.2.1  melih   \n",
       "4  2022/08/25 - 09:10 UTC   1.2.1  melih   \n",
       "\n",
       "                                     history  \n",
       "0                                Data Saved!  \n",
       "1                           Fluxes computed!  \n",
       "2                                Data Saved!  \n",
       "3  simulation Nakazato_single9 is requested!  \n",
       "4                                Data Saved!  "
      ]
     },
     "execution_count": 21,
     "metadata": {},
     "output_type": "execute_result"
    }
   ],
   "source": [
    "A.display_history"
   ]
  },
  {
   "cell_type": "code",
   "execution_count": 22,
   "id": "36ef82d1",
   "metadata": {},
   "outputs": [
    {
     "data": {
      "text/html": [
       "<div>\n",
       "<style scoped>\n",
       "    .dataframe tbody tr th:only-of-type {\n",
       "        vertical-align: middle;\n",
       "    }\n",
       "\n",
       "    .dataframe tbody tr th {\n",
       "        vertical-align: top;\n",
       "    }\n",
       "\n",
       "    .dataframe thead th {\n",
       "        text-align: right;\n",
       "    }\n",
       "</style>\n",
       "<table border=\"1\" class=\"dataframe\">\n",
       "  <thead>\n",
       "    <tr style=\"text-align: right;\">\n",
       "      <th></th>\n",
       "      <th></th>\n",
       "      <th>context hash</th>\n",
       "      <th>runid</th>\n",
       "      <th>date</th>\n",
       "      <th>user</th>\n",
       "      <th>model</th>\n",
       "      <th>single SN events</th>\n",
       "      <th>size</th>\n",
       "    </tr>\n",
       "    <tr>\n",
       "      <th>versions</th>\n",
       "      <th>index</th>\n",
       "      <th></th>\n",
       "      <th></th>\n",
       "      <th></th>\n",
       "      <th></th>\n",
       "      <th></th>\n",
       "      <th></th>\n",
       "      <th></th>\n",
       "    </tr>\n",
       "  </thead>\n",
       "  <tbody>\n",
       "    <tr>\n",
       "      <th>strax:1.2.3 straxen:1.8.3 cutax:1.13.0 wfsim:1.0.1</th>\n",
       "      <th>0</th>\n",
       "      <td>rvchefp73l</td>\n",
       "      <td>Nakazato_single9</td>\n",
       "      <td>2022/08/25 - 09:10 UTC</td>\n",
       "      <td>melih</td>\n",
       "      <td>Nakazato_2013-nakazato-shen-z0_02-t_rev300ms-s...</td>\n",
       "      <td>61</td>\n",
       "      <td>111</td>\n",
       "    </tr>\n",
       "  </tbody>\n",
       "</table>\n",
       "</div>"
      ],
      "text/plain": [
       "                                                         context hash  \\\n",
       "versions                                           index                \n",
       "strax:1.2.3 straxen:1.8.3 cutax:1.13.0 wfsim:1.0.1 0       rvchefp73l   \n",
       "\n",
       "                                                                     runid  \\\n",
       "versions                                           index                     \n",
       "strax:1.2.3 straxen:1.8.3 cutax:1.13.0 wfsim:1.0.1 0      Nakazato_single9   \n",
       "\n",
       "                                                                            date  \\\n",
       "versions                                           index                           \n",
       "strax:1.2.3 straxen:1.8.3 cutax:1.13.0 wfsim:1.0.1 0      2022/08/25 - 09:10 UTC   \n",
       "\n",
       "                                                           user  \\\n",
       "versions                                           index          \n",
       "strax:1.2.3 straxen:1.8.3 cutax:1.13.0 wfsim:1.0.1 0      melih   \n",
       "\n",
       "                                                                                                      model  \\\n",
       "versions                                           index                                                      \n",
       "strax:1.2.3 straxen:1.8.3 cutax:1.13.0 wfsim:1.0.1 0      Nakazato_2013-nakazato-shen-z0_02-t_rev300ms-s...   \n",
       "\n",
       "                                                         single SN events size  \n",
       "versions                                           index                        \n",
       "strax:1.2.3 straxen:1.8.3 cutax:1.13.0 wfsim:1.0.1 0                   61  111  "
      ]
     },
     "execution_count": 22,
     "metadata": {},
     "output_type": "execute_result"
    }
   ],
   "source": [
    "A.display_simulation_history"
   ]
  },
  {
   "cell_type": "markdown",
   "id": "1fc9f205",
   "metadata": {},
   "source": [
    "It tracks the versions!"
   ]
  },
  {
   "cell_type": "code",
   "execution_count": 23,
   "id": "029e7e68",
   "metadata": {},
   "outputs": [
    {
     "name": "stderr",
     "output_type": "stream",
     "text": [
      "WARNING:strax:Option gain_model_nv not taken by any registered plugin\n",
      "WARNING:strax:Option gain_model_mv not taken by any registered plugin\n"
     ]
    },
    {
     "data": {
      "application/vnd.jupyter.widget-view+json": {
       "model_id": "5491191fbc164aafa6b1cf988ad70b02",
       "version_major": 2,
       "version_minor": 0
      },
      "text/plain": [
       "Loading peak_basics: |          | 0.00 % [00:00<?]"
      ]
     },
     "metadata": {},
     "output_type": "display_data"
    },
    {
     "data": {
      "text/plain": [
       "(array([2, 1, 0], dtype=int8), 5, 39, 70)"
      ]
     },
     "execution_count": 23,
     "metadata": {},
     "output_type": "execute_result"
    }
   ],
   "source": [
    "peak_basics = st.get_df(\"Nakazato_single2\", \"peak_basics\")\n",
    "peak_s1 = peak_basics[peak_basics['type'] == 1]\n",
    "peak_s2 = peak_basics[peak_basics['type'] == 2]\n",
    "peak_basics['type'].unique(), sum(peak_basics['type']==0), sum(peak_basics['type']==1), sum(peak_basics['type']==2)"
   ]
  },
  {
   "cell_type": "code",
   "execution_count": 24,
   "id": "2bef9fac",
   "metadata": {},
   "outputs": [
    {
     "data": {
      "image/png": "[encoded data removed]",
      "text/plain": [
       "<Figure size 1224x360 with 3 Axes>"
      ]
     },
     "metadata": {},
     "output_type": "display_data"
    }
   ],
   "source": [
    "fig, (ax0, ax1, ax2) = plt.subplots(ncols=3, figsize=(17,5), sharex=True, sharey=True)\n",
    "ax0.grid(False); ax1.grid(False); ax2.grid(False)\n",
    "ax0.hist2d(peak_basics[\"area\"], peak_basics[\"range_50p_area\"], \n",
    "           bins=(np.logspace(0,5,100),np.logspace(0,5,100)),\n",
    "           norm=LogNorm());\n",
    "ax0.set_xscale(\"log\"); ax0.set_yscale(\"log\")\n",
    "ax0.set_xlabel(\"Area [PE]\"); ax0.set_ylabel(\"width\");\n",
    "\n",
    "\n",
    "ax1.hist2d(peak_s1[\"area\"], peak_s1[\"range_50p_area\"], \n",
    "           bins=(np.logspace(0,5,100),np.logspace(0,5,100)),\n",
    "           norm=LogNorm());\n",
    "ax1.set_xscale(\"log\"); ax1.set_yscale(\"log\")\n",
    "ax1.set_xlabel(\"S1 Area [PE]\"); ax1.set_ylabel(\"S1 width\");\n",
    "\n",
    "ax2.hist2d(peak_s2[\"area\"], peak_s2[\"range_50p_area\"], \n",
    "           bins=(np.logspace(0,5,100),np.logspace(0,5,100)),\n",
    "           norm=LogNorm());\n",
    "ax2.set_xscale(\"log\"); ax2.set_yscale(\"log\")\n",
    "ax2.set_xlabel(\"S2 Area [PE]\"); ax2.set_ylabel(\"S2 width\");"
   ]
  },
  {
   "cell_type": "code",
   "execution_count": 26,
   "id": "a15c6347",
   "metadata": {},
   "outputs": [
    {
     "name": "stderr",
     "output_type": "stream",
     "text": [
      "WARNING:strax:Option gain_model_nv not taken by any registered plugin\n",
      "WARNING:strax:Option gain_model_mv not taken by any registered plugin\n",
      "WARNING:strax:Option gain_model_nv not taken by any registered plugin\n",
      "WARNING:strax:Option gain_model_mv not taken by any registered plugin\n",
      "WARNING:strax:Option gain_model_nv not taken by any registered plugin\n",
      "WARNING:strax:Option gain_model_mv not taken by any registered plugin\n",
      "WARNING:strax:Option gain_model_nv not taken by any registered plugin\n",
      "WARNING:strax:Option gain_model_mv not taken by any registered plugin\n",
      "WARNING:strax:Option gain_model_nv not taken by any registered plugin\n",
      "WARNING:strax:Option gain_model_mv not taken by any registered plugin\n",
      "WARNING:strax:Option gain_model_nv not taken by any registered plugin\n",
      "WARNING:strax:Option gain_model_mv not taken by any registered plugin\n"
     ]
    }
   ],
   "source": [
    "import cutax, strax\n",
    "st2 = cutax.contexts.xenonnt_sim_SR0v2_cmt_v8(cmt_run_id=\"026000\", \n",
    "                                              output_folder=os.path.join(A.config['wfsim']['sim_folder'], \"strax_data\"))\n",
    "# set s1 minimum coincidence to 0\n",
    "st2.set_config({\"s1_min_coincidence\":0})"
   ]
  },
  {
   "cell_type": "code",
   "execution_count": 27,
   "id": "acc4d72d",
   "metadata": {},
   "outputs": [
    {
     "name": "stdout",
     "output_type": "stream",
     "text": [
      "\u001b[34m> Saved at <self.storage>/Nakazato_2013-nakazato-shen-z0_02-t_rev300ms-s20_0_fits.pickle!\n",
      "\u001b[0m\n"
     ]
    },
    {
     "name": "stderr",
     "output_type": "stream",
     "text": [
      "WARNING:strax:Option gain_model_nv not taken by any registered plugin\n",
      "WARNING:strax:Option gain_model_mv not taken by any registered plugin\n",
      "WARNING:strax:Option gain_model_nv not taken by any registered plugin\n",
      "WARNING:strax:Option gain_model_mv not taken by any registered plugin\n",
      "WARNING:wfsim.interface:Replacing drift_time_gate with CMT option ('cmt_run_id', '026000', 'electron_drift_time_gate', 'v2', True) to 4500.0\n",
      "WARNING:wfsim.interface:Replacing drift_velocity_liquid with CMT option ('cmt_run_id', '026000', 'electron_drift_velocity', 'v3', True) to 6.75e-05\n",
      "WARNING:wfsim.interface:Replacing electron_lifetime_liquid with CMT option ('cmt_run_id', '026000', 'elife', 'v5', True) to 14943515.44396\n",
      "*** Detector definition message ***\n",
      "You are currently using the default XENON10 template detector.\n",
      "\n",
      "WARNING:strax:Could not estimate run start and end time from run metadata: assuming it is 0 and inf\n"
     ]
    },
    {
     "data": {
      "application/vnd.jupyter.widget-view+json": {
       "model_id": "accabee14c7c47f7ae25d161d7759553",
       "version_major": 2,
       "version_minor": 0
      },
      "text/plain": [
       "Simulating Raw Records:   0%|          | 0/108 [00:00<?, ?it/s]"
      ]
     },
     "metadata": {},
     "output_type": "display_data"
    },
    {
     "name": "stdout",
     "output_type": "stream",
     "text": [
      "Source finished!\n",
      "\u001b[34mNakazato_single9_st2 is created! Returning context!\u001b[0m\n"
     ]
    }
   ],
   "source": [
    "st2 = A.simulate_one(df_realistic, \"Nakazato_single9_st2\", st2)"
   ]
  },
  {
   "cell_type": "code",
   "execution_count": 28,
   "id": "77edc526",
   "metadata": {},
   "outputs": [
    {
     "data": {
      "text/html": [
       "<div>\n",
       "<style scoped>\n",
       "    .dataframe tbody tr th:only-of-type {\n",
       "        vertical-align: middle;\n",
       "    }\n",
       "\n",
       "    .dataframe tbody tr th {\n",
       "        vertical-align: top;\n",
       "    }\n",
       "\n",
       "    .dataframe thead th {\n",
       "        text-align: right;\n",
       "    }\n",
       "</style>\n",
       "<table border=\"1\" class=\"dataframe\">\n",
       "  <thead>\n",
       "    <tr style=\"text-align: right;\">\n",
       "      <th></th>\n",
       "      <th></th>\n",
       "      <th>context hash</th>\n",
       "      <th>runid</th>\n",
       "      <th>date</th>\n",
       "      <th>user</th>\n",
       "      <th>model</th>\n",
       "      <th>single SN events</th>\n",
       "      <th>size</th>\n",
       "    </tr>\n",
       "    <tr>\n",
       "      <th>versions</th>\n",
       "      <th>index</th>\n",
       "      <th></th>\n",
       "      <th></th>\n",
       "      <th></th>\n",
       "      <th></th>\n",
       "      <th></th>\n",
       "      <th></th>\n",
       "      <th></th>\n",
       "    </tr>\n",
       "  </thead>\n",
       "  <tbody>\n",
       "    <tr>\n",
       "      <th rowspan=\"2\" valign=\"top\">strax:1.2.3 straxen:1.8.3 cutax:1.13.0 wfsim:1.0.1</th>\n",
       "      <th>0</th>\n",
       "      <td>rvchefp73l</td>\n",
       "      <td>Nakazato_single9</td>\n",
       "      <td>2022/08/25 - 09:10 UTC</td>\n",
       "      <td>melih</td>\n",
       "      <td>Nakazato_2013-nakazato-shen-z0_02-t_rev300ms-s...</td>\n",
       "      <td>61</td>\n",
       "      <td>111</td>\n",
       "    </tr>\n",
       "    <tr>\n",
       "      <th>1</th>\n",
       "      <td>ibctvalxfl</td>\n",
       "      <td>Nakazato_single9_st2</td>\n",
       "      <td>2022/08/25 - 09:18 UTC</td>\n",
       "      <td>melih</td>\n",
       "      <td>Nakazato_2013-nakazato-shen-z0_02-t_rev300ms-s...</td>\n",
       "      <td>61</td>\n",
       "      <td>111</td>\n",
       "    </tr>\n",
       "  </tbody>\n",
       "</table>\n",
       "</div>"
      ],
      "text/plain": [
       "                                                         context hash  \\\n",
       "versions                                           index                \n",
       "strax:1.2.3 straxen:1.8.3 cutax:1.13.0 wfsim:1.0.1 0       rvchefp73l   \n",
       "                                                   1       ibctvalxfl   \n",
       "\n",
       "                                                                         runid  \\\n",
       "versions                                           index                         \n",
       "strax:1.2.3 straxen:1.8.3 cutax:1.13.0 wfsim:1.0.1 0          Nakazato_single9   \n",
       "                                                   1      Nakazato_single9_st2   \n",
       "\n",
       "                                                                            date  \\\n",
       "versions                                           index                           \n",
       "strax:1.2.3 straxen:1.8.3 cutax:1.13.0 wfsim:1.0.1 0      2022/08/25 - 09:10 UTC   \n",
       "                                                   1      2022/08/25 - 09:18 UTC   \n",
       "\n",
       "                                                           user  \\\n",
       "versions                                           index          \n",
       "strax:1.2.3 straxen:1.8.3 cutax:1.13.0 wfsim:1.0.1 0      melih   \n",
       "                                                   1      melih   \n",
       "\n",
       "                                                                                                      model  \\\n",
       "versions                                           index                                                      \n",
       "strax:1.2.3 straxen:1.8.3 cutax:1.13.0 wfsim:1.0.1 0      Nakazato_2013-nakazato-shen-z0_02-t_rev300ms-s...   \n",
       "                                                   1      Nakazato_2013-nakazato-shen-z0_02-t_rev300ms-s...   \n",
       "\n",
       "                                                         single SN events size  \n",
       "versions                                           index                        \n",
       "strax:1.2.3 straxen:1.8.3 cutax:1.13.0 wfsim:1.0.1 0                   61  111  \n",
       "                                                   1                   61  111  "
      ]
     },
     "execution_count": 28,
     "metadata": {},
     "output_type": "execute_result"
    }
   ],
   "source": [
    "A.display_simulation_history"
   ]
  },
  {
   "cell_type": "markdown",
   "id": "092d9890",
   "metadata": {},
   "source": [
    "One can see that the context hash is different"
   ]
  },
  {
   "cell_type": "code",
   "execution_count": 29,
   "id": "742322e7",
   "metadata": {},
   "outputs": [
    {
     "name": "stderr",
     "output_type": "stream",
     "text": [
      "WARNING:strax:Option gain_model_nv not taken by any registered plugin\n",
      "WARNING:strax:Option gain_model_mv not taken by any registered plugin\n"
     ]
    },
    {
     "data": {
      "application/vnd.jupyter.widget-view+json": {
       "model_id": "e8a8314fc87a4dae997a376f79a84861",
       "version_major": 2,
       "version_minor": 0
      },
      "text/plain": [
       "Loading peak_basics: |          | 0.00 % [00:00<?]"
      ]
     },
     "metadata": {},
     "output_type": "display_data"
    }
   ],
   "source": [
    "peak_basics2 = st2.get_df(\"Nakazato_single2\", \"peak_basics\")\n",
    "peak_s12 = peak_basics2[peak_basics2['type'] == 1]\n",
    "peak_s22 = peak_basics2[peak_basics2['type'] == 2]"
   ]
  },
  {
   "cell_type": "code",
   "execution_count": 30,
   "id": "9c41c882",
   "metadata": {},
   "outputs": [
    {
     "data": {
      "image/png": "[encoded data removed]",
      "text/plain": [
       "<Figure size 1224x360 with 3 Axes>"
      ]
     },
     "metadata": {},
     "output_type": "display_data"
    }
   ],
   "source": [
    "fig, (ax0, ax1, ax2) = plt.subplots(ncols=3, figsize=(17,5), sharex=True, sharey=True)\n",
    "ax0.grid(False); ax1.grid(False); ax2.grid(False)\n",
    "ax0.hist2d(peak_basics2[\"area\"], peak_basics2[\"range_50p_area\"], \n",
    "           bins=(np.logspace(0,5,100),np.logspace(0,5,100)),\n",
    "           norm=LogNorm());\n",
    "ax0.set_xscale(\"log\"); ax0.set_yscale(\"log\")\n",
    "ax0.set_xlabel(\"Area [PE]\"); ax0.set_ylabel(\"width\");\n",
    "\n",
    "\n",
    "ax1.hist2d(peak_s12[\"area\"], peak_s12[\"range_50p_area\"], \n",
    "           bins=(np.logspace(0,5,100),np.logspace(0,5,100)),\n",
    "           norm=LogNorm());\n",
    "ax1.set_xscale(\"log\"); ax1.set_yscale(\"log\")\n",
    "ax1.set_xlabel(\"S1 Area [PE]\"); ax1.set_ylabel(\"S1 width\");\n",
    "\n",
    "ax2.hist2d(peak_s22[\"area\"], peak_s22[\"range_50p_area\"], \n",
    "           bins=(np.logspace(0,5,100),np.logspace(0,5,100)),\n",
    "           norm=LogNorm());\n",
    "ax2.set_xscale(\"log\"); ax2.set_yscale(\"log\")\n",
    "ax2.set_xlabel(\"S2 Area [PE]\"); ax2.set_ylabel(\"S2 width\");"
   ]
  },
  {
   "cell_type": "code",
   "execution_count": 40,
   "id": "6c10b456",
   "metadata": {},
   "outputs": [
    {
     "data": {
      "image/png": "[encoded data removed]",
      "text/plain": [
       "<Figure size 432x288 with 1 Axes>"
      ]
     },
     "metadata": {},
     "output_type": "display_data"
    }
   ],
   "source": [
    "plt.hist(peak_s12['area'], bins=10, histtype='step', lw=2, label='s1mincoinc=0');\n",
    "plt.hist(peak_s1['area'], bins=10, histtype='step', lw=2, label='s1mincoinc=2');\n",
    "plt.xlabel('s1 area')\n",
    "plt.legend();"
   ]
  },
  {
   "cell_type": "code",
   "execution_count": null,
   "id": "b4882c04",
   "metadata": {},
   "outputs": [],
   "source": []
  }
 ],
 "metadata": {
  "kernelspec": {
   "display_name": "Python [conda env:XENONnT_development] *",
   "language": "python",
   "name": "conda-env-XENONnT_development-py"
  },
  "language_info": {
   "codemirror_mode": {
    "name": "ipython",
    "version": 3
   },
   "file_extension": ".py",
   "mimetype": "text/x-python",
   "name": "python",
   "nbconvert_exporter": "python",
   "pygments_lexer": "ipython3",
   "version": "3.8.13"
  }
 },
 "nbformat": 4,
 "nbformat_minor": 5
}
