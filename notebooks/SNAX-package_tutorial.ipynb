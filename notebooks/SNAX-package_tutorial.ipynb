{
 "cells": [
  {
   "cell_type": "markdown",
   "id": "f8e243c3",
   "metadata": {},
   "source": [
    "# SNAX package tutorial"
   ]
  },
  {
   "cell_type": "code",
   "execution_count": 2,
   "id": "74ea98fb",
   "metadata": {},
   "outputs": [],
   "source": [
    "from snewpy.neutrino import Flavor\n",
    "import os\n",
    "from tqdm.notebook import tqdm\n",
    "import numpy as np\n",
    "from multimessenger.supernova import Supernova_Models as sn\n",
    "from multimessenger.supernova.Plotter import Plotter\n",
    "# import plotly.express as px\n",
    "import astropy.units as u\n",
    "import matplotlib.pyplot as plt\n",
    "from matplotlib.colors import LogNorm"
   ]
  },
  {
   "cell_type": "markdown",
   "id": "64664662",
   "metadata": {},
   "source": [
    "The `SNAX` is a wrapper around `snewpy` and it allows to compute CEvNS rates for all the snewpy models."
   ]
  },
  {
   "cell_type": "code",
   "execution_count": 3,
   "id": "a9f7b11e",
   "metadata": {},
   "outputs": [
    {
     "data": {
      "text/plain": [
       "['Bollig_2016',\n",
       " 'Fornax_2019',\n",
       " 'Fornax_2021',\n",
       " 'Kuroda_2020',\n",
       " 'Nakazato_2013',\n",
       " 'OConnor_2013',\n",
       " 'OConnor_2015',\n",
       " 'Sukhbold_2015',\n",
       " 'Tamborra_2014',\n",
       " 'Walk_2018',\n",
       " 'Walk_2019',\n",
       " 'Warren_2020',\n",
       " 'Zha_2021']"
      ]
     },
     "execution_count": 3,
     "metadata": {},
     "output_type": "execute_result"
    }
   ],
   "source": [
    "sn.models_list"
   ]
  },
  {
   "cell_type": "markdown",
   "id": "3f63e928",
   "metadata": {},
   "source": [
    "Each model contains variuous simulations with e.g. different EoS, or different progenitor properties. <br>\n",
    "When only `model_name` is passed to `sn.Models()` it displays the existing files and asks you to select one. Otherwise, `filename` or `index` can be passed. <br>\n",
    "Once the model is executed, and after every heavy computation the data is saved, and the next time it is directly fetched from the stored data. <br>\n",
    "The output folder can be specified with the `storage` argument."
   ]
  },
  {
   "cell_type": "code",
   "execution_count": 4,
   "id": "8aa87ac7",
   "metadata": {
    "scrolled": true
   },
   "outputs": [],
   "source": [
    "# A.delete_object()"
   ]
  },
  {
   "cell_type": "code",
   "execution_count": 6,
   "id": "95705393",
   "metadata": {},
   "outputs": [
    {
     "name": "stdout",
     "output_type": "stream",
     "text": [
      "\u001b[34m\u001b[1m> You chose ~wisely~ ->\t   [5]\tnakazato-shen-z0.004-t_rev200ms-s50.0.fits\u001b[0m\n",
      "\u001b[34m> Saved at <self.storage>/Nakazato_2013-nakazato-shen-z0_004-t_rev200ms-s50_0_fits.pickle!\n",
      "\u001b[0m\n"
     ]
    }
   ],
   "source": [
    "A = sn.Models(model_name='Nakazato_2013', index=5)"
   ]
  },
  {
   "cell_type": "markdown",
   "id": "887cec40",
   "metadata": {},
   "source": [
    "The object itself, has a nice representation which can be displayed by just executing itself. Here, the `executed` refers to rate calculations. Once this is done, this param updates and rates are stored. <br>\n",
    "One can also keep track of the history by checking `A.display_history` to see when certain actions were performed."
   ]
  },
  {
   "cell_type": "code",
   "execution_count": 7,
   "id": "8cce69bb",
   "metadata": {},
   "outputs": [
    {
     "data": {
      "text/markdown": [
       "**Nakazato_2013 Model**: nakazato-shen-z0.004-t_rev200ms-s50.0.fits\n",
       "\n",
       "|Parameter|Value|\n",
       "|:--------|:----:|\n",
       "|Progenitor mass | $50$ $\\mathrm{M_{\\odot}}$|\n",
       "|EOS | SHEN |\n",
       "|Metallicity | 0.004 |\n",
       "|Revival time | $200$ $\\mathrm{ms}$|\n",
       "|composite | Xenon|\n",
       "|duration | 20.05 s|\n",
       "|distance | 10.0 kpc|\n",
       "|volume | 5.9 t|\n",
       "|executed | False|"
      ],
      "text/plain": [
       "Nakazato_2013 Model: nakazato-shen-z0.004-t_rev200ms-s50.0.fits\n",
       "Progenitor mass  : 50.0 solMass\n",
       "EOS              : SHEN\n",
       "Metallicity      : 0.004\n",
       "Revival time     : 200.0 ms"
      ]
     },
     "execution_count": 7,
     "metadata": {},
     "output_type": "execute_result"
    }
   ],
   "source": [
    "A"
   ]
  },
  {
   "cell_type": "code",
   "execution_count": 8,
   "id": "6c38ced6",
   "metadata": {},
   "outputs": [
    {
     "data": {
      "text/html": [
       "<div>\n",
       "<style scoped>\n",
       "    .dataframe tbody tr th:only-of-type {\n",
       "        vertical-align: middle;\n",
       "    }\n",
       "\n",
       "    .dataframe tbody tr th {\n",
       "        vertical-align: top;\n",
       "    }\n",
       "\n",
       "    .dataframe thead th {\n",
       "        text-align: right;\n",
       "    }\n",
       "</style>\n",
       "<table border=\"1\" class=\"dataframe\">\n",
       "  <thead>\n",
       "    <tr style=\"text-align: right;\">\n",
       "      <th></th>\n",
       "      <th>date</th>\n",
       "      <th>version</th>\n",
       "      <th>user</th>\n",
       "      <th>history</th>\n",
       "    </tr>\n",
       "  </thead>\n",
       "  <tbody>\n",
       "    <tr>\n",
       "      <th>0</th>\n",
       "      <td>2022/08/23 - 09:11 UTC</td>\n",
       "      <td>1.2.0</td>\n",
       "      <td>melih</td>\n",
       "      <td>Data Saved!</td>\n",
       "    </tr>\n",
       "  </tbody>\n",
       "</table>\n",
       "</div>"
      ],
      "text/plain": [
       "                     date version   user      history\n",
       "0  2022/08/23 - 09:11 UTC   1.2.0  melih  Data Saved!"
      ]
     },
     "execution_count": 8,
     "metadata": {},
     "output_type": "execute_result"
    }
   ],
   "source": [
    "A.display_history"
   ]
  },
  {
   "cell_type": "code",
   "execution_count": 9,
   "id": "99b988c5",
   "metadata": {
    "scrolled": true
   },
   "outputs": [
    {
     "data": {
      "application/vnd.jupyter.widget-view+json": {
       "model_id": "f6ea8f61b2484a8e803e9582cae60607",
       "version_major": 2,
       "version_minor": 0
      },
      "text/plain": [
       "Computing for all isotopes:   0%|          | 0/9 [00:00<?, ?it/s]"
      ]
     },
     "metadata": {},
     "output_type": "display_data"
    },
    {
     "data": {
      "application/vnd.jupyter.widget-view+json": {
       "model_id": "",
       "version_major": 2,
       "version_minor": 0
      },
      "text/plain": [
       "Xe124:   0%|          | 0/4 [00:00<?, ?it/s]"
      ]
     },
     "metadata": {},
     "output_type": "display_data"
    },
    {
     "data": {
      "application/vnd.jupyter.widget-view+json": {
       "model_id": "",
       "version_major": 2,
       "version_minor": 0
      },
      "text/plain": [
       "$\\nu_e$:   0%|          | 0/391 [00:00<?, ?it/s]"
      ]
     },
     "metadata": {},
     "output_type": "display_data"
    },
    {
     "data": {
      "application/vnd.jupyter.widget-view+json": {
       "model_id": "",
       "version_major": 2,
       "version_minor": 0
      },
      "text/plain": [
       "$\\overline{\\nu}_e$:   0%|          | 0/391 [00:00<?, ?it/s]"
      ]
     },
     "metadata": {},
     "output_type": "display_data"
    },
    {
     "data": {
      "application/vnd.jupyter.widget-view+json": {
       "model_id": "",
       "version_major": 2,
       "version_minor": 0
      },
      "text/plain": [
       "$\\nu_x$:   0%|          | 0/391 [00:00<?, ?it/s]"
      ]
     },
     "metadata": {},
     "output_type": "display_data"
    },
    {
     "data": {
      "application/vnd.jupyter.widget-view+json": {
       "model_id": "",
       "version_major": 2,
       "version_minor": 0
      },
      "text/plain": [
       "$\\overline{\\nu}_x$:   0%|          | 0/391 [00:00<?, ?it/s]"
      ]
     },
     "metadata": {},
     "output_type": "display_data"
    },
    {
     "data": {
      "application/vnd.jupyter.widget-view+json": {
       "model_id": "",
       "version_major": 2,
       "version_minor": 0
      },
      "text/plain": [
       "Xe126:   0%|          | 0/4 [00:00<?, ?it/s]"
      ]
     },
     "metadata": {},
     "output_type": "display_data"
    },
    {
     "data": {
      "application/vnd.jupyter.widget-view+json": {
       "model_id": "",
       "version_major": 2,
       "version_minor": 0
      },
      "text/plain": [
       "$\\nu_e$:   0%|          | 0/391 [00:00<?, ?it/s]"
      ]
     },
     "metadata": {},
     "output_type": "display_data"
    },
    {
     "data": {
      "application/vnd.jupyter.widget-view+json": {
       "model_id": "",
       "version_major": 2,
       "version_minor": 0
      },
      "text/plain": [
       "$\\overline{\\nu}_e$:   0%|          | 0/391 [00:00<?, ?it/s]"
      ]
     },
     "metadata": {},
     "output_type": "display_data"
    },
    {
     "data": {
      "application/vnd.jupyter.widget-view+json": {
       "model_id": "",
       "version_major": 2,
       "version_minor": 0
      },
      "text/plain": [
       "$\\nu_x$:   0%|          | 0/391 [00:00<?, ?it/s]"
      ]
     },
     "metadata": {},
     "output_type": "display_data"
    },
    {
     "data": {
      "application/vnd.jupyter.widget-view+json": {
       "model_id": "",
       "version_major": 2,
       "version_minor": 0
      },
      "text/plain": [
       "$\\overline{\\nu}_x$:   0%|          | 0/391 [00:00<?, ?it/s]"
      ]
     },
     "metadata": {},
     "output_type": "display_data"
    },
    {
     "data": {
      "application/vnd.jupyter.widget-view+json": {
       "model_id": "",
       "version_major": 2,
       "version_minor": 0
      },
      "text/plain": [
       "Xe128:   0%|          | 0/4 [00:00<?, ?it/s]"
      ]
     },
     "metadata": {},
     "output_type": "display_data"
    },
    {
     "data": {
      "application/vnd.jupyter.widget-view+json": {
       "model_id": "",
       "version_major": 2,
       "version_minor": 0
      },
      "text/plain": [
       "$\\nu_e$:   0%|          | 0/391 [00:00<?, ?it/s]"
      ]
     },
     "metadata": {},
     "output_type": "display_data"
    },
    {
     "data": {
      "application/vnd.jupyter.widget-view+json": {
       "model_id": "",
       "version_major": 2,
       "version_minor": 0
      },
      "text/plain": [
       "$\\overline{\\nu}_e$:   0%|          | 0/391 [00:00<?, ?it/s]"
      ]
     },
     "metadata": {},
     "output_type": "display_data"
    },
    {
     "data": {
      "application/vnd.jupyter.widget-view+json": {
       "model_id": "",
       "version_major": 2,
       "version_minor": 0
      },
      "text/plain": [
       "$\\nu_x$:   0%|          | 0/391 [00:00<?, ?it/s]"
      ]
     },
     "metadata": {},
     "output_type": "display_data"
    },
    {
     "data": {
      "application/vnd.jupyter.widget-view+json": {
       "model_id": "",
       "version_major": 2,
       "version_minor": 0
      },
      "text/plain": [
       "$\\overline{\\nu}_x$:   0%|          | 0/391 [00:00<?, ?it/s]"
      ]
     },
     "metadata": {},
     "output_type": "display_data"
    },
    {
     "data": {
      "application/vnd.jupyter.widget-view+json": {
       "model_id": "",
       "version_major": 2,
       "version_minor": 0
      },
      "text/plain": [
       "Xe129:   0%|          | 0/4 [00:00<?, ?it/s]"
      ]
     },
     "metadata": {},
     "output_type": "display_data"
    },
    {
     "data": {
      "application/vnd.jupyter.widget-view+json": {
       "model_id": "",
       "version_major": 2,
       "version_minor": 0
      },
      "text/plain": [
       "$\\nu_e$:   0%|          | 0/391 [00:00<?, ?it/s]"
      ]
     },
     "metadata": {},
     "output_type": "display_data"
    },
    {
     "data": {
      "application/vnd.jupyter.widget-view+json": {
       "model_id": "",
       "version_major": 2,
       "version_minor": 0
      },
      "text/plain": [
       "$\\overline{\\nu}_e$:   0%|          | 0/391 [00:00<?, ?it/s]"
      ]
     },
     "metadata": {},
     "output_type": "display_data"
    },
    {
     "data": {
      "application/vnd.jupyter.widget-view+json": {
       "model_id": "",
       "version_major": 2,
       "version_minor": 0
      },
      "text/plain": [
       "$\\nu_x$:   0%|          | 0/391 [00:00<?, ?it/s]"
      ]
     },
     "metadata": {},
     "output_type": "display_data"
    },
    {
     "data": {
      "application/vnd.jupyter.widget-view+json": {
       "model_id": "",
       "version_major": 2,
       "version_minor": 0
      },
      "text/plain": [
       "$\\overline{\\nu}_x$:   0%|          | 0/391 [00:00<?, ?it/s]"
      ]
     },
     "metadata": {},
     "output_type": "display_data"
    },
    {
     "data": {
      "application/vnd.jupyter.widget-view+json": {
       "model_id": "",
       "version_major": 2,
       "version_minor": 0
      },
      "text/plain": [
       "Xe130:   0%|          | 0/4 [00:00<?, ?it/s]"
      ]
     },
     "metadata": {},
     "output_type": "display_data"
    },
    {
     "data": {
      "application/vnd.jupyter.widget-view+json": {
       "model_id": "",
       "version_major": 2,
       "version_minor": 0
      },
      "text/plain": [
       "$\\nu_e$:   0%|          | 0/391 [00:00<?, ?it/s]"
      ]
     },
     "metadata": {},
     "output_type": "display_data"
    },
    {
     "data": {
      "application/vnd.jupyter.widget-view+json": {
       "model_id": "",
       "version_major": 2,
       "version_minor": 0
      },
      "text/plain": [
       "$\\overline{\\nu}_e$:   0%|          | 0/391 [00:00<?, ?it/s]"
      ]
     },
     "metadata": {},
     "output_type": "display_data"
    },
    {
     "data": {
      "application/vnd.jupyter.widget-view+json": {
       "model_id": "",
       "version_major": 2,
       "version_minor": 0
      },
      "text/plain": [
       "$\\nu_x$:   0%|          | 0/391 [00:00<?, ?it/s]"
      ]
     },
     "metadata": {},
     "output_type": "display_data"
    },
    {
     "data": {
      "application/vnd.jupyter.widget-view+json": {
       "model_id": "",
       "version_major": 2,
       "version_minor": 0
      },
      "text/plain": [
       "$\\overline{\\nu}_x$:   0%|          | 0/391 [00:00<?, ?it/s]"
      ]
     },
     "metadata": {},
     "output_type": "display_data"
    },
    {
     "data": {
      "application/vnd.jupyter.widget-view+json": {
       "model_id": "",
       "version_major": 2,
       "version_minor": 0
      },
      "text/plain": [
       "Xe131:   0%|          | 0/4 [00:00<?, ?it/s]"
      ]
     },
     "metadata": {},
     "output_type": "display_data"
    },
    {
     "data": {
      "application/vnd.jupyter.widget-view+json": {
       "model_id": "",
       "version_major": 2,
       "version_minor": 0
      },
      "text/plain": [
       "$\\nu_e$:   0%|          | 0/391 [00:00<?, ?it/s]"
      ]
     },
     "metadata": {},
     "output_type": "display_data"
    },
    {
     "data": {
      "application/vnd.jupyter.widget-view+json": {
       "model_id": "",
       "version_major": 2,
       "version_minor": 0
      },
      "text/plain": [
       "$\\overline{\\nu}_e$:   0%|          | 0/391 [00:00<?, ?it/s]"
      ]
     },
     "metadata": {},
     "output_type": "display_data"
    },
    {
     "data": {
      "application/vnd.jupyter.widget-view+json": {
       "model_id": "",
       "version_major": 2,
       "version_minor": 0
      },
      "text/plain": [
       "$\\nu_x$:   0%|          | 0/391 [00:00<?, ?it/s]"
      ]
     },
     "metadata": {},
     "output_type": "display_data"
    },
    {
     "data": {
      "application/vnd.jupyter.widget-view+json": {
       "model_id": "",
       "version_major": 2,
       "version_minor": 0
      },
      "text/plain": [
       "$\\overline{\\nu}_x$:   0%|          | 0/391 [00:00<?, ?it/s]"
      ]
     },
     "metadata": {},
     "output_type": "display_data"
    },
    {
     "data": {
      "application/vnd.jupyter.widget-view+json": {
       "model_id": "",
       "version_major": 2,
       "version_minor": 0
      },
      "text/plain": [
       "Xe132:   0%|          | 0/4 [00:00<?, ?it/s]"
      ]
     },
     "metadata": {},
     "output_type": "display_data"
    },
    {
     "data": {
      "application/vnd.jupyter.widget-view+json": {
       "model_id": "",
       "version_major": 2,
       "version_minor": 0
      },
      "text/plain": [
       "$\\nu_e$:   0%|          | 0/391 [00:00<?, ?it/s]"
      ]
     },
     "metadata": {},
     "output_type": "display_data"
    },
    {
     "data": {
      "application/vnd.jupyter.widget-view+json": {
       "model_id": "",
       "version_major": 2,
       "version_minor": 0
      },
      "text/plain": [
       "$\\overline{\\nu}_e$:   0%|          | 0/391 [00:00<?, ?it/s]"
      ]
     },
     "metadata": {},
     "output_type": "display_data"
    },
    {
     "data": {
      "application/vnd.jupyter.widget-view+json": {
       "model_id": "",
       "version_major": 2,
       "version_minor": 0
      },
      "text/plain": [
       "$\\nu_x$:   0%|          | 0/391 [00:00<?, ?it/s]"
      ]
     },
     "metadata": {},
     "output_type": "display_data"
    },
    {
     "data": {
      "application/vnd.jupyter.widget-view+json": {
       "model_id": "",
       "version_major": 2,
       "version_minor": 0
      },
      "text/plain": [
       "$\\overline{\\nu}_x$:   0%|          | 0/391 [00:00<?, ?it/s]"
      ]
     },
     "metadata": {},
     "output_type": "display_data"
    },
    {
     "data": {
      "application/vnd.jupyter.widget-view+json": {
       "model_id": "",
       "version_major": 2,
       "version_minor": 0
      },
      "text/plain": [
       "Xe134:   0%|          | 0/4 [00:00<?, ?it/s]"
      ]
     },
     "metadata": {},
     "output_type": "display_data"
    },
    {
     "data": {
      "application/vnd.jupyter.widget-view+json": {
       "model_id": "",
       "version_major": 2,
       "version_minor": 0
      },
      "text/plain": [
       "$\\nu_e$:   0%|          | 0/391 [00:00<?, ?it/s]"
      ]
     },
     "metadata": {},
     "output_type": "display_data"
    },
    {
     "data": {
      "application/vnd.jupyter.widget-view+json": {
       "model_id": "",
       "version_major": 2,
       "version_minor": 0
      },
      "text/plain": [
       "$\\overline{\\nu}_e$:   0%|          | 0/391 [00:00<?, ?it/s]"
      ]
     },
     "metadata": {},
     "output_type": "display_data"
    },
    {
     "data": {
      "application/vnd.jupyter.widget-view+json": {
       "model_id": "",
       "version_major": 2,
       "version_minor": 0
      },
      "text/plain": [
       "$\\nu_x$:   0%|          | 0/391 [00:00<?, ?it/s]"
      ]
     },
     "metadata": {},
     "output_type": "display_data"
    },
    {
     "data": {
      "application/vnd.jupyter.widget-view+json": {
       "model_id": "",
       "version_major": 2,
       "version_minor": 0
      },
      "text/plain": [
       "$\\overline{\\nu}_x$:   0%|          | 0/391 [00:00<?, ?it/s]"
      ]
     },
     "metadata": {},
     "output_type": "display_data"
    },
    {
     "data": {
      "application/vnd.jupyter.widget-view+json": {
       "model_id": "",
       "version_major": 2,
       "version_minor": 0
      },
      "text/plain": [
       "Xe136:   0%|          | 0/4 [00:00<?, ?it/s]"
      ]
     },
     "metadata": {},
     "output_type": "display_data"
    },
    {
     "data": {
      "application/vnd.jupyter.widget-view+json": {
       "model_id": "",
       "version_major": 2,
       "version_minor": 0
      },
      "text/plain": [
       "$\\nu_e$:   0%|          | 0/391 [00:00<?, ?it/s]"
      ]
     },
     "metadata": {},
     "output_type": "display_data"
    },
    {
     "data": {
      "application/vnd.jupyter.widget-view+json": {
       "model_id": "",
       "version_major": 2,
       "version_minor": 0
      },
      "text/plain": [
       "$\\overline{\\nu}_e$:   0%|          | 0/391 [00:00<?, ?it/s]"
      ]
     },
     "metadata": {},
     "output_type": "display_data"
    },
    {
     "data": {
      "application/vnd.jupyter.widget-view+json": {
       "model_id": "",
       "version_major": 2,
       "version_minor": 0
      },
      "text/plain": [
       "$\\nu_x$:   0%|          | 0/391 [00:00<?, ?it/s]"
      ]
     },
     "metadata": {},
     "output_type": "display_data"
    },
    {
     "data": {
      "application/vnd.jupyter.widget-view+json": {
       "model_id": "",
       "version_major": 2,
       "version_minor": 0
      },
      "text/plain": [
       "$\\overline{\\nu}_x$:   0%|          | 0/391 [00:00<?, ?it/s]"
      ]
     },
     "metadata": {},
     "output_type": "display_data"
    },
    {
     "data": {
      "application/vnd.jupyter.widget-view+json": {
       "model_id": "6e26e19f092f4689b65417a137de5530",
       "version_major": 2,
       "version_minor": 0
      },
      "text/plain": [
       "  0%|          | 0/9 [00:00<?, ?it/s]"
      ]
     },
     "metadata": {},
     "output_type": "display_data"
    },
    {
     "data": {
      "application/vnd.jupyter.widget-view+json": {
       "model_id": "d1ad09c04cc441dda3a7fe1460fdac86",
       "version_major": 2,
       "version_minor": 0
      },
      "text/plain": [
       "  0%|          | 0/9 [00:00<?, ?it/s]"
      ]
     },
     "metadata": {},
     "output_type": "display_data"
    },
    {
     "name": "stdout",
     "output_type": "stream",
     "text": [
      "\u001b[34m> Saved at <self.storage>/Nakazato_2013-nakazato-shen-z0_004-t_rev200ms-s50_0_fits.pickle!\n",
      "\u001b[0m\n",
      "\u001b[32m> Rates are computed at the source for 1 atom see rateper_Er/t attr (use scale_rates() for distance & volume)\u001b[0m\n"
     ]
    },
    {
     "name": "stderr",
     "output_type": "stream",
     "text": [
      "WARNING: AstropyDeprecationWarning: The truth value of a Quantity is ambiguous. In the future this will raise a ValueError. [astropy.units.quantity]\n"
     ]
    }
   ],
   "source": [
    "A.compute_rates();"
   ]
  },
  {
   "cell_type": "markdown",
   "id": "4c735f14",
   "metadata": {},
   "source": [
    "The object represantation now contains another row `SN_rate` this is the total number of expected events from the given model with the given parameters e.g. distance and volume."
   ]
  },
  {
   "cell_type": "code",
   "execution_count": 10,
   "id": "7f226017",
   "metadata": {},
   "outputs": [
    {
     "data": {
      "text/markdown": [
       "**Nakazato_2013 Model**: nakazato-shen-z0.004-t_rev200ms-s50.0.fits\n",
       "\n",
       "|Parameter|Value|\n",
       "|:--------|:----:|\n",
       "|Progenitor mass | $50$ $\\mathrm{M_{\\odot}}$|\n",
       "|EOS | SHEN |\n",
       "|Metallicity | 0.004 |\n",
       "|Revival time | $200$ $\\mathrm{ms}$|\n",
       "|composite | Xenon|\n",
       "|duration | 20.05 s|\n",
       "|distance | 10.0 kpc|\n",
       "|volume | 5.9 t|\n",
       "|executed | True|\n",
       "|SN rate | 81 ct|"
      ],
      "text/plain": [
       "Nakazato_2013 Model: nakazato-shen-z0.004-t_rev200ms-s50.0.fits\n",
       "Progenitor mass  : 50.0 solMass\n",
       "EOS              : SHEN\n",
       "Metallicity      : 0.004\n",
       "Revival time     : 200.0 ms"
      ]
     },
     "execution_count": 10,
     "metadata": {},
     "output_type": "execute_result"
    }
   ],
   "source": [
    "A"
   ]
  },
  {
   "cell_type": "code",
   "execution_count": 11,
   "id": "510da161",
   "metadata": {},
   "outputs": [
    {
     "data": {
      "text/html": [
       "<div>\n",
       "<style scoped>\n",
       "    .dataframe tbody tr th:only-of-type {\n",
       "        vertical-align: middle;\n",
       "    }\n",
       "\n",
       "    .dataframe tbody tr th {\n",
       "        vertical-align: top;\n",
       "    }\n",
       "\n",
       "    .dataframe thead th {\n",
       "        text-align: right;\n",
       "    }\n",
       "</style>\n",
       "<table border=\"1\" class=\"dataframe\">\n",
       "  <thead>\n",
       "    <tr style=\"text-align: right;\">\n",
       "      <th></th>\n",
       "      <th>date</th>\n",
       "      <th>version</th>\n",
       "      <th>user</th>\n",
       "      <th>history</th>\n",
       "    </tr>\n",
       "  </thead>\n",
       "  <tbody>\n",
       "    <tr>\n",
       "      <th>0</th>\n",
       "      <td>2022/08/23 - 09:11 UTC</td>\n",
       "      <td>1.2.0</td>\n",
       "      <td>melih</td>\n",
       "      <td>Data Saved!</td>\n",
       "    </tr>\n",
       "    <tr>\n",
       "      <th>1</th>\n",
       "      <td>2022/08/23 - 09:12 UTC</td>\n",
       "      <td>1.2.0</td>\n",
       "      <td>melih</td>\n",
       "      <td>Fluxes computed!</td>\n",
       "    </tr>\n",
       "    <tr>\n",
       "      <th>2</th>\n",
       "      <td>2022/08/23 - 09:12 UTC</td>\n",
       "      <td>1.2.0</td>\n",
       "      <td>melih</td>\n",
       "      <td>Data Saved!</td>\n",
       "    </tr>\n",
       "  </tbody>\n",
       "</table>\n",
       "</div>"
      ],
      "text/plain": [
       "                     date version   user           history\n",
       "0  2022/08/23 - 09:11 UTC   1.2.0  melih       Data Saved!\n",
       "1  2022/08/23 - 09:12 UTC   1.2.0  melih  Fluxes computed!\n",
       "2  2022/08/23 - 09:12 UTC   1.2.0  melih       Data Saved!"
      ]
     },
     "execution_count": 11,
     "metadata": {},
     "output_type": "execute_result"
    }
   ],
   "source": [
    "A.display_history"
   ]
  },
  {
   "cell_type": "markdown",
   "id": "0c3ed227",
   "metadata": {},
   "source": [
    "### Plotter"
   ]
  },
  {
   "cell_type": "markdown",
   "id": "d3fdbbaa",
   "metadata": {},
   "source": [
    "One can also get a plotter, which takes the model object as input and allows for easy plotting. "
   ]
  },
  {
   "cell_type": "code",
   "execution_count": 12,
   "id": "8e910087",
   "metadata": {},
   "outputs": [],
   "source": [
    "plotter = Plotter(A)"
   ]
  },
  {
   "cell_type": "code",
   "execution_count": 13,
   "id": "1fdf5428",
   "metadata": {},
   "outputs": [
    {
     "data": {
      "image/png": "[encoded data removed]",
      "text/plain": [
       "<Figure size 432x288 with 2 Axes>"
      ]
     },
     "metadata": {},
     "output_type": "display_data"
    }
   ],
   "source": [
    "# plotter.plot_cross_section_fantastic()\n",
    "plotter.plot_cross_section();"
   ]
  },
  {
   "cell_type": "code",
   "execution_count": 14,
   "id": "c808d596",
   "metadata": {},
   "outputs": [
    {
     "data": {
      "image/png": "[encoded data removed]",
      "text/plain": [
       "<Figure size 432x288 with 1 Axes>"
      ]
     },
     "metadata": {},
     "output_type": "display_data"
    }
   ],
   "source": [
    "plotter.plot_form_factor()"
   ]
  },
  {
   "cell_type": "code",
   "execution_count": 13,
   "id": "d53bacd1",
   "metadata": {},
   "outputs": [
    {
     "data": {
      "image/png": "[encoded data removed]",
      "text/plain": [
       "<Figure size 1440x288 with 8 Axes>"
      ]
     },
     "metadata": {},
     "output_type": "display_data"
    }
   ],
   "source": [
    "plotter.plot_mean_cross_section();"
   ]
  },
  {
   "cell_type": "code",
   "execution_count": 14,
   "id": "b6648805",
   "metadata": {},
   "outputs": [],
   "source": [
    "# plotter.plot_recoil_spectrum()"
   ]
  },
  {
   "cell_type": "code",
   "execution_count": 15,
   "id": "c7cc5bfd",
   "metadata": {},
   "outputs": [],
   "source": [
    "# # not all models have same attributes\n",
    "# # plotter.plot_mean_cross_section(); # --> doesn't work as there are no meanE attribute in Fornax\n",
    "# B = sn.Models(model_name='Nakazato_2013', index=10)\n",
    "# plotter_B = Plotter(B)\n",
    "# plotter_B.plot_mean_cross_section();\n",
    "# plotter_B.plot_params()"
   ]
  },
  {
   "cell_type": "code",
   "execution_count": 16,
   "id": "01fb1656",
   "metadata": {},
   "outputs": [],
   "source": [
    "# plotter.plot_sampled_data(50000, dtype=\"time\", xscale=\"log\");"
   ]
  },
  {
   "cell_type": "code",
   "execution_count": 17,
   "id": "f3b1b84e",
   "metadata": {},
   "outputs": [],
   "source": [
    "# plotter.plot_sampled_data(50000, xscale='lin');"
   ]
  },
  {
   "cell_type": "markdown",
   "id": "7c1282ba",
   "metadata": {},
   "source": [
    "# Scale"
   ]
  },
  {
   "cell_type": "markdown",
   "id": "6f8ab8fc",
   "metadata": {},
   "source": [
    "The rates are computed at the source and for  single atom for convenience. The rates are returned as object attributes e.g.\n",
    "```python\n",
    "A.rateper_t\n",
    "A.rateper_Er\n",
    "A.rateper_t_iso\n",
    "A.rateper_Er_iso\n",
    "```\n",
    "where the corresponding recoil energies and the times are also stored as attributes with units\n",
    "```python\n",
    "A.recoil_energies\n",
    "A.time\n",
    "```\n",
    "Thus, the user can scale the rates for any number of Xenon atoms (or another atom), and for any distance (10kpc etc.). The volume is not scaled by default i.e. returned values are counts/distance/1 ton however, it is straightforward linear multiplication to scale for 7 or 40 tonnes.<br>\n",
    "see `A.scale_rates()`."
   ]
  },
  {
   "cell_type": "code",
   "execution_count": 15,
   "id": "cf8d1515",
   "metadata": {},
   "outputs": [
    {
     "data": {
      "image/png": "[encoded data removed]",
      "text/plain": [
       "<Figure size 720x720 with 4 Axes>"
      ]
     },
     "metadata": {},
     "output_type": "display_data"
    }
   ],
   "source": [
    "rates_scaled_Er, rates_scaled_t = A.scale_rates()\n",
    "\n",
    "fig, ((ax1,ax2),((ax11,ax22))) = plt.subplots(ncols=2, nrows=2, figsize=(10,10))\n",
    "ax1.plot(A.model.time, A.rateper_t['Total'])\n",
    "ax2.plot(A.model.time, rates_scaled_t['Total'])\n",
    "ax11.plot(A.recoil_energies, A.rateper_Er['Total'])\n",
    "ax22.plot(A.recoil_energies, rates_scaled_Er['Total'])\n",
    "ax11.set_xlabel(\"At the Source\")\n",
    "ax22.set_xlabel(\"Scaled\")\n",
    "for ax in [ax1,ax2,ax11,ax22]:\n",
    "    ax.set_xticks([])"
   ]
  },
  {
   "cell_type": "markdown",
   "id": "23e3ded3",
   "metadata": {},
   "source": [
    "The plotter has a tool to compute the total expected counts for given distances and given volumes. This already provides a nice way of benchmarking models."
   ]
  },
  {
   "cell_type": "code",
   "execution_count": 16,
   "id": "229961f3",
   "metadata": {},
   "outputs": [
    {
     "name": "stderr",
     "output_type": "stream",
     "text": [
      "WARNING: AstropyDeprecationWarning: The truth value of a Quantity is ambiguous. In the future this will raise a ValueError. [astropy.units.quantity]\n"
     ]
    },
    {
     "data": {
      "image/png": "[encoded data removed]",
      "text/plain": [
       "<Figure size 720x720 with 1 Axes>"
      ]
     },
     "metadata": {},
     "output_type": "display_data"
    }
   ],
   "source": [
    "plotter.plot_counts()"
   ]
  },
  {
   "cell_type": "markdown",
   "id": "605da0eb",
   "metadata": {},
   "source": [
    "## Simulate Signal with WFSim"
   ]
  },
  {
   "cell_type": "markdown",
   "id": "fa994801",
   "metadata": {},
   "source": [
    "These parts are better done in dali/midway. <br>\n"
   ]
  },
  {
   "cell_type": "code",
   "execution_count": 17,
   "id": "f8941f1f",
   "metadata": {},
   "outputs": [
    {
     "name": "stderr",
     "output_type": "stream",
     "text": [
      "*** Detector definition message ***\n",
      "You are currently using the default XENON10 template detector.\n",
      "\n"
     ]
    }
   ],
   "source": [
    "import nestpy\n",
    "import pandas as pd\n",
    "import straxen\n",
    "downloader = straxen.MongoDownloader()"
   ]
  },
  {
   "cell_type": "code",
   "execution_count": 18,
   "id": "b7df4111",
   "metadata": {},
   "outputs": [
    {
     "name": "stderr",
     "output_type": "stream",
     "text": [
      "*** Detector definition message ***\n",
      "You are currently using the default XENON10 template detector.\n",
      "\n"
     ]
    }
   ],
   "source": [
    "field_file=\"fieldmap_2D_B2d75n_C2d75n_G0d3p_A4d9p_T0d9n_PMTs1d3n_FSR0d65p_QPTFE_0d5n_0d4p.json.gz\"\n",
    "field_map = straxen.InterpolatingMap(\n",
    "                    straxen.get_resource(downloader.download_single(field_file),\n",
    "                                         fmt=\"json.gz\"),\n",
    "                    method=\"RegularGridInterpolator\")\n",
    "\n",
    "nc = nestpy.NESTcalc(nestpy.DetectorExample_XENON10())\n",
    "## not sure if nestpy RNG issue was solved, so randomize NEST internal state\n",
    "for i in range(np.random.randint(100)):\n",
    "    nc.GetQuanta(nc.GetYields(energy=np.random.uniform(10,100)))"
   ]
  },
  {
   "cell_type": "markdown",
   "id": "1cb8c70a",
   "metadata": {},
   "source": [
    "Caution, the times need to be passed in nanoseconds!"
   ]
  },
  {
   "cell_type": "markdown",
   "id": "f536a909",
   "metadata": {},
   "source": [
    "### How to handle times \n",
    "\n",
    "Now we are going to create instructions for the SuperNova signal. However, for a real supernova we expect to have ~100 events. Thus those \"realistic simulations\" will be very sparse (nonetheless, still needed). <br>\n",
    "This would be\n",
    "```python\n",
    "instr = generator_sn_instruction(energy_deposition=sampled_Er, timemode=sampled_t*1e9, n_tot=N_events, nc=nc, fmap=field_map)\n",
    "```\n",
    "\n",
    "\n",
    "We also want to study the general shape, for that, we simulate a signal with higher statistics. <br>\n",
    "If we simulate thousands of events within 10 sec, buffer will crash. We need to simulate smarter, for this we will simulate total number of expected interactions within expected duration (e.g. 100 within 10 sec), then move the times and simulate again. <br>\n",
    "\n",
    "For completeness the `generator_sn_instruction()` also has two more time modes \"realistic\" and \"uniform\" which are still useful to study time-independent aspects such as S2 shape. However, in order to build a trigger that is based on the rate, we need to contain time information."
   ]
  },
  {
   "cell_type": "code",
   "execution_count": 19,
   "id": "7aa8b722",
   "metadata": {},
   "outputs": [
    {
     "data": {
      "text/latex": [
       "$81.030431 \\; \\mathrm{ct}$"
      ],
      "text/plain": [
       "<Quantity 81.03043128 ct>"
      ]
     },
     "execution_count": 19,
     "metadata": {},
     "output_type": "execute_result"
    }
   ],
   "source": [
    "A.single_rate"
   ]
  },
  {
   "cell_type": "code",
   "execution_count": 22,
   "id": "8e36c598",
   "metadata": {},
   "outputs": [],
   "source": [
    "# _rate, _ = A.scale_rates(distance=10*u.kpc)\n",
    "# nevents = int(np.trapz(_rate['Total'] * 7*u.t, A.recoil_energies).value)\n",
    "nevents = int(A.single_rate.value)\n",
    "\n",
    "sampled_Er = A.sample_data(nevents)\n",
    "sampled_t = A.sample_data(nevents, dtype='time')"
   ]
  },
  {
   "cell_type": "code",
   "execution_count": 23,
   "id": "e895de1e",
   "metadata": {},
   "outputs": [
    {
     "name": "stderr",
     "output_type": "stream",
     "text": [
      "WARNING: AstropyDeprecationWarning: The truth value of a Quantity is ambiguous. In the future this will raise a ValueError. [astropy.units.quantity]\n",
      "WARNING:astropy:AstropyDeprecationWarning: The truth value of a Quantity is ambiguous. In the future this will raise a ValueError.\n"
     ]
    },
    {
     "name": "stdout",
     "output_type": "stream",
     "text": [
      "Total duration 19.74 seconds\n"
     ]
    },
    {
     "data": {
      "text/html": [
       "<div>\n",
       "<style scoped>\n",
       "    .dataframe tbody tr th:only-of-type {\n",
       "        vertical-align: middle;\n",
       "    }\n",
       "\n",
       "    .dataframe tbody tr th {\n",
       "        vertical-align: top;\n",
       "    }\n",
       "\n",
       "    .dataframe thead th {\n",
       "        text-align: right;\n",
       "    }\n",
       "</style>\n",
       "<table border=\"1\" class=\"dataframe\">\n",
       "  <thead>\n",
       "    <tr style=\"text-align: right;\">\n",
       "      <th></th>\n",
       "      <th>event_number</th>\n",
       "      <th>type</th>\n",
       "      <th>time</th>\n",
       "      <th>x</th>\n",
       "      <th>y</th>\n",
       "      <th>z</th>\n",
       "      <th>amp</th>\n",
       "      <th>recoil</th>\n",
       "      <th>e_dep</th>\n",
       "      <th>g4id</th>\n",
       "      <th>vol_id</th>\n",
       "      <th>local_field</th>\n",
       "      <th>n_excitons</th>\n",
       "      <th>x_pri</th>\n",
       "      <th>y_pri</th>\n",
       "      <th>z_pri</th>\n",
       "    </tr>\n",
       "  </thead>\n",
       "  <tbody>\n",
       "    <tr>\n",
       "      <th>0</th>\n",
       "      <td>1</td>\n",
       "      <td>1</td>\n",
       "      <td>6717872127</td>\n",
       "      <td>44.818356</td>\n",
       "      <td>-46.524921</td>\n",
       "      <td>-69.940781</td>\n",
       "      <td>19</td>\n",
       "      <td>7</td>\n",
       "      <td>1.058244</td>\n",
       "      <td>0</td>\n",
       "      <td>0</td>\n",
       "      <td>21.726283</td>\n",
       "      <td>1</td>\n",
       "      <td>0.0</td>\n",
       "      <td>0.0</td>\n",
       "      <td>0.0</td>\n",
       "    </tr>\n",
       "    <tr>\n",
       "      <th>1</th>\n",
       "      <td>1</td>\n",
       "      <td>2</td>\n",
       "      <td>6717872127</td>\n",
       "      <td>44.818356</td>\n",
       "      <td>-46.524921</td>\n",
       "      <td>-69.940781</td>\n",
       "      <td>63</td>\n",
       "      <td>7</td>\n",
       "      <td>1.058244</td>\n",
       "      <td>0</td>\n",
       "      <td>0</td>\n",
       "      <td>21.726283</td>\n",
       "      <td>1</td>\n",
       "      <td>0.0</td>\n",
       "      <td>0.0</td>\n",
       "      <td>0.0</td>\n",
       "    </tr>\n",
       "    <tr>\n",
       "      <th>2</th>\n",
       "      <td>2</td>\n",
       "      <td>1</td>\n",
       "      <td>7428629036</td>\n",
       "      <td>-2.302963</td>\n",
       "      <td>50.360584</td>\n",
       "      <td>-143.240479</td>\n",
       "      <td>17</td>\n",
       "      <td>7</td>\n",
       "      <td>1.150660</td>\n",
       "      <td>0</td>\n",
       "      <td>0</td>\n",
       "      <td>23.448260</td>\n",
       "      <td>0</td>\n",
       "      <td>0.0</td>\n",
       "      <td>0.0</td>\n",
       "      <td>0.0</td>\n",
       "    </tr>\n",
       "    <tr>\n",
       "      <th>3</th>\n",
       "      <td>2</td>\n",
       "      <td>2</td>\n",
       "      <td>7428629036</td>\n",
       "      <td>-2.302963</td>\n",
       "      <td>50.360584</td>\n",
       "      <td>-143.240479</td>\n",
       "      <td>67</td>\n",
       "      <td>7</td>\n",
       "      <td>1.150660</td>\n",
       "      <td>0</td>\n",
       "      <td>0</td>\n",
       "      <td>23.448260</td>\n",
       "      <td>0</td>\n",
       "      <td>0.0</td>\n",
       "      <td>0.0</td>\n",
       "      <td>0.0</td>\n",
       "    </tr>\n",
       "    <tr>\n",
       "      <th>4</th>\n",
       "      <td>3</td>\n",
       "      <td>1</td>\n",
       "      <td>1654218599</td>\n",
       "      <td>9.913374</td>\n",
       "      <td>-30.502367</td>\n",
       "      <td>-127.367317</td>\n",
       "      <td>156</td>\n",
       "      <td>7</td>\n",
       "      <td>3.396677</td>\n",
       "      <td>0</td>\n",
       "      <td>0</td>\n",
       "      <td>22.431172</td>\n",
       "      <td>8</td>\n",
       "      <td>0.0</td>\n",
       "      <td>0.0</td>\n",
       "      <td>0.0</td>\n",
       "    </tr>\n",
       "    <tr>\n",
       "      <th>...</th>\n",
       "      <td>...</td>\n",
       "      <td>...</td>\n",
       "      <td>...</td>\n",
       "      <td>...</td>\n",
       "      <td>...</td>\n",
       "      <td>...</td>\n",
       "      <td>...</td>\n",
       "      <td>...</td>\n",
       "      <td>...</td>\n",
       "      <td>...</td>\n",
       "      <td>...</td>\n",
       "      <td>...</td>\n",
       "      <td>...</td>\n",
       "      <td>...</td>\n",
       "      <td>...</td>\n",
       "      <td>...</td>\n",
       "    </tr>\n",
       "    <tr>\n",
       "      <th>141</th>\n",
       "      <td>79</td>\n",
       "      <td>2</td>\n",
       "      <td>273599263</td>\n",
       "      <td>6.198905</td>\n",
       "      <td>-22.104050</td>\n",
       "      <td>-84.132782</td>\n",
       "      <td>45</td>\n",
       "      <td>7</td>\n",
       "      <td>0.706062</td>\n",
       "      <td>0</td>\n",
       "      <td>0</td>\n",
       "      <td>22.200187</td>\n",
       "      <td>0</td>\n",
       "      <td>0.0</td>\n",
       "      <td>0.0</td>\n",
       "      <td>0.0</td>\n",
       "    </tr>\n",
       "    <tr>\n",
       "      <th>142</th>\n",
       "      <td>80</td>\n",
       "      <td>1</td>\n",
       "      <td>374117802</td>\n",
       "      <td>-30.273264</td>\n",
       "      <td>-38.814716</td>\n",
       "      <td>-120.121773</td>\n",
       "      <td>11</td>\n",
       "      <td>7</td>\n",
       "      <td>1.044675</td>\n",
       "      <td>0</td>\n",
       "      <td>0</td>\n",
       "      <td>22.066739</td>\n",
       "      <td>0</td>\n",
       "      <td>0.0</td>\n",
       "      <td>0.0</td>\n",
       "      <td>0.0</td>\n",
       "    </tr>\n",
       "    <tr>\n",
       "      <th>143</th>\n",
       "      <td>80</td>\n",
       "      <td>2</td>\n",
       "      <td>374117802</td>\n",
       "      <td>-30.273264</td>\n",
       "      <td>-38.814716</td>\n",
       "      <td>-120.121773</td>\n",
       "      <td>61</td>\n",
       "      <td>7</td>\n",
       "      <td>1.044675</td>\n",
       "      <td>0</td>\n",
       "      <td>0</td>\n",
       "      <td>22.066739</td>\n",
       "      <td>0</td>\n",
       "      <td>0.0</td>\n",
       "      <td>0.0</td>\n",
       "      <td>0.0</td>\n",
       "    </tr>\n",
       "    <tr>\n",
       "      <th>144</th>\n",
       "      <td>81</td>\n",
       "      <td>1</td>\n",
       "      <td>126421936</td>\n",
       "      <td>14.555836</td>\n",
       "      <td>33.987633</td>\n",
       "      <td>-8.788886</td>\n",
       "      <td>14</td>\n",
       "      <td>7</td>\n",
       "      <td>0.846436</td>\n",
       "      <td>0</td>\n",
       "      <td>0</td>\n",
       "      <td>27.260340</td>\n",
       "      <td>4</td>\n",
       "      <td>0.0</td>\n",
       "      <td>0.0</td>\n",
       "      <td>0.0</td>\n",
       "    </tr>\n",
       "    <tr>\n",
       "      <th>145</th>\n",
       "      <td>81</td>\n",
       "      <td>2</td>\n",
       "      <td>126421936</td>\n",
       "      <td>14.555836</td>\n",
       "      <td>33.987633</td>\n",
       "      <td>-8.788886</td>\n",
       "      <td>51</td>\n",
       "      <td>7</td>\n",
       "      <td>0.846436</td>\n",
       "      <td>0</td>\n",
       "      <td>0</td>\n",
       "      <td>27.260340</td>\n",
       "      <td>4</td>\n",
       "      <td>0.0</td>\n",
       "      <td>0.0</td>\n",
       "      <td>0.0</td>\n",
       "    </tr>\n",
       "  </tbody>\n",
       "</table>\n",
       "<p>146 rows × 16 columns</p>\n",
       "</div>"
      ],
      "text/plain": [
       "     event_number  type        time          x          y           z  amp  \\\n",
       "0               1     1  6717872127  44.818356 -46.524921  -69.940781   19   \n",
       "1               1     2  6717872127  44.818356 -46.524921  -69.940781   63   \n",
       "2               2     1  7428629036  -2.302963  50.360584 -143.240479   17   \n",
       "3               2     2  7428629036  -2.302963  50.360584 -143.240479   67   \n",
       "4               3     1  1654218599   9.913374 -30.502367 -127.367317  156   \n",
       "..            ...   ...         ...        ...        ...         ...  ...   \n",
       "141            79     2   273599263   6.198905 -22.104050  -84.132782   45   \n",
       "142            80     1   374117802 -30.273264 -38.814716 -120.121773   11   \n",
       "143            80     2   374117802 -30.273264 -38.814716 -120.121773   61   \n",
       "144            81     1   126421936  14.555836  33.987633   -8.788886   14   \n",
       "145            81     2   126421936  14.555836  33.987633   -8.788886   51   \n",
       "\n",
       "     recoil     e_dep  g4id  vol_id  local_field  n_excitons  x_pri  y_pri  \\\n",
       "0         7  1.058244     0       0    21.726283           1    0.0    0.0   \n",
       "1         7  1.058244     0       0    21.726283           1    0.0    0.0   \n",
       "2         7  1.150660     0       0    23.448260           0    0.0    0.0   \n",
       "3         7  1.150660     0       0    23.448260           0    0.0    0.0   \n",
       "4         7  3.396677     0       0    22.431172           8    0.0    0.0   \n",
       "..      ...       ...   ...     ...          ...         ...    ...    ...   \n",
       "141       7  0.706062     0       0    22.200187           0    0.0    0.0   \n",
       "142       7  1.044675     0       0    22.066739           0    0.0    0.0   \n",
       "143       7  1.044675     0       0    22.066739           0    0.0    0.0   \n",
       "144       7  0.846436     0       0    27.260340           4    0.0    0.0   \n",
       "145       7  0.846436     0       0    27.260340           4    0.0    0.0   \n",
       "\n",
       "     z_pri  \n",
       "0      0.0  \n",
       "1      0.0  \n",
       "2      0.0  \n",
       "3      0.0  \n",
       "4      0.0  \n",
       "..     ...  \n",
       "141    0.0  \n",
       "142    0.0  \n",
       "143    0.0  \n",
       "144    0.0  \n",
       "145    0.0  \n",
       "\n",
       "[146 rows x 16 columns]"
      ]
     },
     "execution_count": 23,
     "metadata": {},
     "output_type": "execute_result"
    }
   ],
   "source": [
    "_instr = A.generate_instructions(energy_deposition=sampled_Er, \n",
    "                                 timemode=sampled_t*1e9, \n",
    "                                 n_tot=nevents, nc=nc, fmap=field_map)\n",
    "df_realistic = pd.DataFrame(_instr)\n",
    "print(f\"Total duration {np.ptp(df_realistic['time'])*1e-9:.2f} seconds\")\n",
    "df_realistic"
   ]
  },
  {
   "cell_type": "code",
   "execution_count": 24,
   "id": "1890839a",
   "metadata": {},
   "outputs": [
    {
     "data": {
      "text/html": [
       "<div>\n",
       "<style scoped>\n",
       "    .dataframe tbody tr th:only-of-type {\n",
       "        vertical-align: middle;\n",
       "    }\n",
       "\n",
       "    .dataframe tbody tr th {\n",
       "        vertical-align: top;\n",
       "    }\n",
       "\n",
       "    .dataframe thead th {\n",
       "        text-align: right;\n",
       "    }\n",
       "</style>\n",
       "<table border=\"1\" class=\"dataframe\">\n",
       "  <thead>\n",
       "    <tr style=\"text-align: right;\">\n",
       "      <th></th>\n",
       "    </tr>\n",
       "  </thead>\n",
       "  <tbody>\n",
       "  </tbody>\n",
       "</table>\n",
       "</div>"
      ],
      "text/plain": [
       "Empty DataFrame\n",
       "Columns: []\n",
       "Index: []"
      ]
     },
     "execution_count": 24,
     "metadata": {},
     "output_type": "execute_result"
    }
   ],
   "source": [
    "A.display_simulation_history"
   ]
  },
  {
   "cell_type": "code",
   "execution_count": 25,
   "id": "888825db",
   "metadata": {
    "collapsed": true
   },
   "outputs": [
    {
     "name": "stderr",
     "output_type": "stream",
     "text": [
      "WARNING:strax:Option gain_model_nv not taken by any registered plugin\n",
      "WARNING:strax:Option gain_model_mv not taken by any registered plugin\n",
      "WARNING:strax:Option gain_model_nv not taken by any registered plugin\n",
      "WARNING:strax:Option gain_model_mv not taken by any registered plugin\n",
      "WARNING:strax:Option gain_model_nv not taken by any registered plugin\n",
      "WARNING:strax:Option gain_model_mv not taken by any registered plugin\n",
      "WARNING:strax:Option gain_model_nv not taken by any registered plugin\n",
      "WARNING:strax:Option gain_model_mv not taken by any registered plugin\n",
      "WARNING:strax:Option gain_model_nv not taken by any registered plugin\n",
      "WARNING:strax:Option gain_model_mv not taken by any registered plugin\n",
      "WARNING:strax:Option gain_model_nv not taken by any registered plugin\n",
      "WARNING:strax:Option gain_model_mv not taken by any registered plugin\n"
     ]
    },
    {
     "name": "stdout",
     "output_type": "stream",
     "text": [
      "\u001b[34m> Saved at <self.storage>/Nakazato_2013-nakazato-shen-z0_004-t_rev200ms-s50_0_fits.pickle!\n",
      "\u001b[0m\n"
     ]
    },
    {
     "name": "stderr",
     "output_type": "stream",
     "text": [
      "WARNING:strax:Option gain_model_nv not taken by any registered plugin\n",
      "WARNING:strax:Option gain_model_mv not taken by any registered plugin\n",
      "WARNING:strax:Option gain_model_nv not taken by any registered plugin\n",
      "WARNING:strax:Option gain_model_mv not taken by any registered plugin\n",
      "WARNING:wfsim.interface:Replacing drift_time_gate with CMT option ('cmt_run_id', '026000', 'electron_drift_time_gate', 'v2', True) to 4500.0\n",
      "WARNING:wfsim.interface:Replacing drift_velocity_liquid with CMT option ('cmt_run_id', '026000', 'electron_drift_velocity', 'v3', True) to 6.75e-05\n",
      "WARNING:wfsim.interface:Replacing electron_lifetime_liquid with CMT option ('cmt_run_id', '026000', 'elife', 'v5', True) to 14943515.44396\n",
      "WARNING:wfsim.resource:Loading XENONnT_SR0_spe_distributions_20210713_no_noise_scaled.csv from mongo downloader to /dali/lgrandi/strax/resource_cache/99c2cbc580cfa8eeebe831456076e136\n",
      "WARNING:wfsim.resource:Loading XENONnT_s1_xyz_patterns_LCE_MCvf051911_wires.pkl from mongo downloader to /dali/lgrandi/strax/resource_cache/02ed2634596793f6e7aa13783745089a\n",
      "WARNING:wfsim.resource:A file has value False, assuming this is intentional.\n",
      "WARNING:wfsim.resource:Using the private repo to load XENONnT_s2_xy_patterns_GXe_LCE_corrected_qes_MCv4.3.0_wires.pkl locally\n",
      "WARNING:wfsim.resource:Using the private repo to load XENONnT_s2_xy_map_v4_210503_mlp_3_in_1_iterated.json locally\n",
      "WARNING:wfsim.resource:Using the private repo to load XENONnT_se_xy_map_v1_mlp.json locally\n",
      "WARNING:wfsim.resource:Using the private repo to load XENONnT_pmt_afterpulse_config_018435.json.gz locally\n",
      "WARNING:wfsim.resource:Using the private repo to load XENONnT_GARFIELD_SR0_B2d75n_C2d75n_G0d3p_A4d9p_T0d9n_PMTs1d3n_FSR0d65p.npz locally\n",
      "WARNING:wfsim.resource:Using the private repo to load garfield_timing_map_gas_gap_sr0.npy locally\n",
      "WARNING:wfsim.resource:Using the private repo to load gas_gap_warping_map_January_2021.pkl locally\n",
      "WARNING:wfsim.resource:Using the private repo to load garfield_gas_gap_map_sr0.json locally\n",
      "WARNING:wfsim.resource:Loading x1t_se_afterpulse_delaytime.pkl.gz from mongo downloader to /dali/lgrandi/strax/resource_cache/014aa048758a51f154cdc3b32dac2773\n",
      "WARNING:wfsim.resource:Using the private repo to load XENONnT_noise_tpc_only_2ms_25118.npz locally\n",
      "WARNING:wfsim.resource:Using the private repo to load XnT_3D_FDC_xyt_dummy_all_zeros_v0.1.json.gz locally\n",
      "WARNING:wfsim.resource:Using the private repo to load field_dependent_radius_depth_maps_B2d75n_C2d75n_G0d3p_A4d9p_T0d9n_PMTs1d3n_FSR0d65p_QPTFE_0d5n_0d4p.json.gz locally\n",
      "WARNING:wfsim.resource:Loading data_driven_diffusion_map_XENONnTSR0V2.json.gz from mongo downloader to /dali/lgrandi/strax/resource_cache/8a6c6dc1bfe5380f48e96462161a3313\n",
      "WARNING:wfsim.resource:Using the private repo to load XENONnT_s1_proponly_va43fa9b_wires_20200625.json.gz locally\n",
      "WARNING:wfsim.resource:Using the private repo to load XENONnT_s2_opticalprop_time_v0.json.gz locally\n",
      "WARNING:wfsim.resource:Using json for unspecified /home/melih/software/private_nt_aux_files/ntauxfiles/../strax_files/XENONnT_se_xy_map_v1_mlp.json\n",
      "/home/melih/software/WFSim/wfsim/load_resource.py:262: RuntimeWarning: invalid value encountered in true_divide\n",
      "  orig_aft_=np.mean((s2map_topeff_/s2map_toteff_)[s2map_toteff_>0.0])\n",
      "WARNING:wfsim.resource:Using json.gz for unspecified /home/melih/software/private_nt_aux_files/ntauxfiles/../sim_files/XENONnT_s2_opticalprop_time_v0.json.gz\n",
      "WARNING:wfsim.resource:Using noise data /home/melih/software/private_nt_aux_files/ntauxfiles/../sim_files/XENONnT_noise_tpc_only_2ms_25118.npz with 494 channels for XENONnT\n",
      "*** Detector definition message ***\n",
      "You are currently using the default XENON10 template detector.\n",
      "\n",
      "WARNING:strax:Could not estimate run start and end time from run metadata: assuming it is 0 and inf\n"
     ]
    },
    {
     "data": {
      "application/vnd.jupyter.widget-view+json": {
       "model_id": "021278b763504f158e3c0c35dd0eab93",
       "version_major": 2,
       "version_minor": 0
      },
      "text/plain": [
       "Simulating Raw Records:   0%|          | 0/142 [00:00<?, ?it/s]"
      ]
     },
     "metadata": {},
     "output_type": "display_data"
    },
    {
     "name": "stdout",
     "output_type": "stream",
     "text": [
      "Source finished!\n",
      "\u001b[34mNakazato_single is created! Returning context!\u001b[0m\n"
     ]
    }
   ],
   "source": [
    "st = A.simulate_one(df_realistic, \"Nakazato_single\")"
   ]
  },
  {
   "cell_type": "code",
   "execution_count": 26,
   "id": "3970fbcb",
   "metadata": {},
   "outputs": [
    {
     "data": {
      "text/html": [
       "<div>\n",
       "<style scoped>\n",
       "    .dataframe tbody tr th:only-of-type {\n",
       "        vertical-align: middle;\n",
       "    }\n",
       "\n",
       "    .dataframe tbody tr th {\n",
       "        vertical-align: top;\n",
       "    }\n",
       "\n",
       "    .dataframe thead th {\n",
       "        text-align: right;\n",
       "    }\n",
       "</style>\n",
       "<table border=\"1\" class=\"dataframe\">\n",
       "  <thead>\n",
       "    <tr style=\"text-align: right;\">\n",
       "      <th></th>\n",
       "      <th>date</th>\n",
       "      <th>version</th>\n",
       "      <th>user</th>\n",
       "      <th>history</th>\n",
       "    </tr>\n",
       "  </thead>\n",
       "  <tbody>\n",
       "    <tr>\n",
       "      <th>0</th>\n",
       "      <td>2022/08/23 - 09:11 UTC</td>\n",
       "      <td>1.2.0</td>\n",
       "      <td>melih</td>\n",
       "      <td>Data Saved!</td>\n",
       "    </tr>\n",
       "    <tr>\n",
       "      <th>1</th>\n",
       "      <td>2022/08/23 - 09:12 UTC</td>\n",
       "      <td>1.2.0</td>\n",
       "      <td>melih</td>\n",
       "      <td>Fluxes computed!</td>\n",
       "    </tr>\n",
       "    <tr>\n",
       "      <th>2</th>\n",
       "      <td>2022/08/23 - 09:12 UTC</td>\n",
       "      <td>1.2.0</td>\n",
       "      <td>melih</td>\n",
       "      <td>Data Saved!</td>\n",
       "    </tr>\n",
       "    <tr>\n",
       "      <th>3</th>\n",
       "      <td>2022/08/23 - 09:13 UTC</td>\n",
       "      <td>1.2.0</td>\n",
       "      <td>melih</td>\n",
       "      <td>simulation Nakazato_single is requested!</td>\n",
       "    </tr>\n",
       "    <tr>\n",
       "      <th>4</th>\n",
       "      <td>2022/08/23 - 09:13 UTC</td>\n",
       "      <td>1.2.0</td>\n",
       "      <td>melih</td>\n",
       "      <td>Data Saved!</td>\n",
       "    </tr>\n",
       "  </tbody>\n",
       "</table>\n",
       "</div>"
      ],
      "text/plain": [
       "                     date version   user  \\\n",
       "0  2022/08/23 - 09:11 UTC   1.2.0  melih   \n",
       "1  2022/08/23 - 09:12 UTC   1.2.0  melih   \n",
       "2  2022/08/23 - 09:12 UTC   1.2.0  melih   \n",
       "3  2022/08/23 - 09:13 UTC   1.2.0  melih   \n",
       "4  2022/08/23 - 09:13 UTC   1.2.0  melih   \n",
       "\n",
       "                                    history  \n",
       "0                               Data Saved!  \n",
       "1                          Fluxes computed!  \n",
       "2                               Data Saved!  \n",
       "3  simulation Nakazato_single is requested!  \n",
       "4                               Data Saved!  "
      ]
     },
     "execution_count": 26,
     "metadata": {},
     "output_type": "execute_result"
    }
   ],
   "source": [
    "A.display_history"
   ]
  },
  {
   "cell_type": "code",
   "execution_count": 27,
   "id": "d7cb9297",
   "metadata": {},
   "outputs": [
    {
     "data": {
      "text/html": [
       "<div>\n",
       "<style scoped>\n",
       "    .dataframe tbody tr th:only-of-type {\n",
       "        vertical-align: middle;\n",
       "    }\n",
       "\n",
       "    .dataframe tbody tr th {\n",
       "        vertical-align: top;\n",
       "    }\n",
       "\n",
       "    .dataframe thead th {\n",
       "        text-align: right;\n",
       "    }\n",
       "</style>\n",
       "<table border=\"1\" class=\"dataframe\">\n",
       "  <thead>\n",
       "    <tr style=\"text-align: right;\">\n",
       "      <th></th>\n",
       "      <th></th>\n",
       "      <th>runid</th>\n",
       "      <th>date</th>\n",
       "      <th>user</th>\n",
       "      <th>model</th>\n",
       "      <th>single SN events</th>\n",
       "      <th>size</th>\n",
       "    </tr>\n",
       "    <tr>\n",
       "      <th>versions</th>\n",
       "      <th>context hash</th>\n",
       "      <th></th>\n",
       "      <th></th>\n",
       "      <th></th>\n",
       "      <th></th>\n",
       "      <th></th>\n",
       "      <th></th>\n",
       "    </tr>\n",
       "  </thead>\n",
       "  <tbody>\n",
       "    <tr>\n",
       "      <th>strax:1.2.3 straxen:1.8.3 cutax:1.13.0 wfsim:1.0.1</th>\n",
       "      <th>rvchefp73l</th>\n",
       "      <td>Nakazato_single</td>\n",
       "      <td>2022/08/23 - 09:13 UTC</td>\n",
       "      <td>melih</td>\n",
       "      <td>Nakazato_2013-nakazato-shen-z0_004-t_rev200ms-...</td>\n",
       "      <td>81</td>\n",
       "      <td>146</td>\n",
       "    </tr>\n",
       "  </tbody>\n",
       "</table>\n",
       "</div>"
      ],
      "text/plain": [
       "                                                                           runid  \\\n",
       "versions                                           context hash                    \n",
       "strax:1.2.3 straxen:1.8.3 cutax:1.13.0 wfsim:1.0.1 rvchefp73l    Nakazato_single   \n",
       "\n",
       "                                                                                   date  \\\n",
       "versions                                           context hash                           \n",
       "strax:1.2.3 straxen:1.8.3 cutax:1.13.0 wfsim:1.0.1 rvchefp73l    2022/08/23 - 09:13 UTC   \n",
       "\n",
       "                                                                  user  \\\n",
       "versions                                           context hash          \n",
       "strax:1.2.3 straxen:1.8.3 cutax:1.13.0 wfsim:1.0.1 rvchefp73l    melih   \n",
       "\n",
       "                                                                                                             model  \\\n",
       "versions                                           context hash                                                      \n",
       "strax:1.2.3 straxen:1.8.3 cutax:1.13.0 wfsim:1.0.1 rvchefp73l    Nakazato_2013-nakazato-shen-z0_004-t_rev200ms-...   \n",
       "\n",
       "                                                                single SN events  \\\n",
       "versions                                           context hash                    \n",
       "strax:1.2.3 straxen:1.8.3 cutax:1.13.0 wfsim:1.0.1 rvchefp73l                 81   \n",
       "\n",
       "                                                                size  \n",
       "versions                                           context hash       \n",
       "strax:1.2.3 straxen:1.8.3 cutax:1.13.0 wfsim:1.0.1 rvchefp73l    146  "
      ]
     },
     "execution_count": 27,
     "metadata": {},
     "output_type": "execute_result"
    }
   ],
   "source": [
    "A.display_simulation_history"
   ]
  },
  {
   "cell_type": "markdown",
   "id": "9cf4e656",
   "metadata": {},
   "source": [
    "It tracks the versions!"
   ]
  },
  {
   "cell_type": "code",
   "execution_count": null,
   "id": "16dece87",
   "metadata": {},
   "outputs": [],
   "source": [
    "peak_basics = st.get_df(\"Nakazato_single\", \"peak_basics\")\n",
    "peak_s1 = peak_basics[peak_basics['type'] == 1]\n",
    "peak_s2 = peak_basics[peak_basics['type'] == 2]\n",
    "peak_basics['type'].unique(), sum(peak_basics['type']==0), sum(peak_basics['type']==1), sum(peak_basics['type']==2)"
   ]
  },
  {
   "cell_type": "code",
   "execution_count": 29,
   "id": "23ec2831",
   "metadata": {},
   "outputs": [
    {
     "name": "stderr",
     "output_type": "stream",
     "text": [
      "WARNING:strax:Option gain_model_nv not taken by any registered plugin\n",
      "WARNING:strax:Option gain_model_mv not taken by any registered plugin\n"
     ]
    },
    {
     "data": {
      "application/vnd.jupyter.widget-view+json": {
       "model_id": "941b97a11ef44f48bb6b0fc8c4a0ee1c",
       "version_major": 2,
       "version_minor": 0
      },
      "text/plain": [
       "Loading peak_basics: |          | 0.00 % [00:00<?]"
      ]
     },
     "metadata": {},
     "output_type": "display_data"
    },
    {
     "data": {
      "image/png": "[encoded data removed]",
      "text/plain": [
       "<Figure size 1224x360 with 3 Axes>"
      ]
     },
     "metadata": {},
     "output_type": "display_data"
    }
   ],
   "source": [
    "fig, (ax0, ax1, ax2) = plt.subplots(ncols=3, figsize=(17,5), sharex=True, sharey=True)\n",
    "ax0.grid(False); ax1.grid(False); ax2.grid(False)\n",
    "ax0.hist2d(peak_basics[\"area\"], peak_basics[\"range_50p_area\"], \n",
    "           bins=(np.logspace(0,5,100),np.logspace(0,5,100)),\n",
    "           norm=LogNorm());\n",
    "ax0.set_xscale(\"log\"); ax0.set_yscale(\"log\")\n",
    "ax0.set_xlabel(\"Area [PE]\"); ax0.set_ylabel(\"width\");\n",
    "\n",
    "\n",
    "ax1.hist2d(peak_s1[\"area\"], peak_s1[\"range_50p_area\"], \n",
    "           bins=(np.logspace(0,5,100),np.logspace(0,5,100)),\n",
    "           norm=LogNorm());\n",
    "ax1.set_xscale(\"log\"); ax1.set_yscale(\"log\")\n",
    "ax1.set_xlabel(\"S1 Area [PE]\"); ax1.set_ylabel(\"S1 width\");\n",
    "\n",
    "ax2.hist2d(peak_s2[\"area\"], peak_s2[\"range_50p_area\"], \n",
    "           bins=(np.logspace(0,5,100),np.logspace(0,5,100)),\n",
    "           norm=LogNorm());\n",
    "ax2.set_xscale(\"log\"); ax2.set_yscale(\"log\")\n",
    "ax2.set_xlabel(\"S2 Area [PE]\"); ax2.set_ylabel(\"S2 width\");"
   ]
  },
  {
   "cell_type": "code",
   "execution_count": null,
   "id": "c680a2b7",
   "metadata": {},
   "outputs": [],
   "source": []
  }
 ],
 "metadata": {
  "kernelspec": {
   "display_name": "Python [conda env:XENONnT_development] *",
   "language": "python",
   "name": "conda-env-XENONnT_development-py"
  },
  "language_info": {
   "codemirror_mode": {
    "name": "ipython",
    "version": 3
   },
   "file_extension": ".py",
   "mimetype": "text/x-python",
   "name": "python",
   "nbconvert_exporter": "python",
   "pygments_lexer": "ipython3",
   "version": "3.8.13"
  }
 },
 "nbformat": 4,
 "nbformat_minor": 5
}
