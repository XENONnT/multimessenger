{
 "cells": [
  {
   "cell_type": "markdown",
   "id": "f8e243c3",
   "metadata": {},
   "source": [
    "# SNAX package tutorial"
   ]
  },
  {
   "cell_type": "code",
   "execution_count": 31,
   "id": "74ea98fb",
   "metadata": {},
   "outputs": [],
   "source": [
    "from snewpy.neutrino import Flavor\n",
    "import os\n",
    "from tqdm.notebook import tqdm\n",
    "import numpy as np\n",
    "from multimessenger.supernova import Supernova_Models as sn\n",
    "from multimessenger.supernova.Plotter import Plotter\n",
    "import plotly.express as px\n",
    "import astropy.units as u\n",
    "import matplotlib.pyplot as plt\n",
    "from matplotlib.colors import LogNorm"
   ]
  },
  {
   "cell_type": "markdown",
   "id": "64664662",
   "metadata": {},
   "source": [
    "The `SNAX` is a wrapper around `snewpy` and it allows to compute CEvNS rates for all the snewpy models."
   ]
  },
  {
   "cell_type": "code",
   "execution_count": 2,
   "id": "a9f7b11e",
   "metadata": {},
   "outputs": [],
   "source": [
    "# sn.models_list"
   ]
  },
  {
   "cell_type": "markdown",
   "id": "3f63e928",
   "metadata": {},
   "source": [
    "Each model contains variuous simulations with e.g. different EoS, or different progenitor properties. <br>\n",
    "When only `model_name` is passed to `sn.Models()` it displays the existing files and asks you to select one. Otherwise, `filename` or `index` can be passed. <br>\n",
    "Once the model is executed, and after every heavy computation the data is saved, and the next time it is directly fetched from the stored data. <br>\n",
    "The output folder can be specified with the `storage` argument."
   ]
  },
  {
   "cell_type": "code",
   "execution_count": 3,
   "id": "8aa87ac7",
   "metadata": {},
   "outputs": [],
   "source": [
    "# A.delete_object()"
   ]
  },
  {
   "cell_type": "code",
   "execution_count": 4,
   "id": "95705393",
   "metadata": {},
   "outputs": [
    {
     "name": "stdout",
     "output_type": "stream",
     "text": [
      "\u001b[34m\u001b[1m> You chose ~wisely~ ->\t   [5]\tlum_spec_15M_r10000_dat.h5\u001b[0m\n",
      "\u001b[34m> Retrieving object self.storage/15.0 solMass.pickle\u001b[0m\n"
     ]
    }
   ],
   "source": [
    "# A = sn.Models(model_name='Fornax_2021',index=5, storage=\"../../../scratch/SN_rewiev/\", config_file=\"../simple_config.conf\") #  \n",
    "A = sn.Models(model_name='Fornax_2021', index=5)"
   ]
  },
  {
   "cell_type": "code",
   "execution_count": 5,
   "id": "99b988c5",
   "metadata": {
    "scrolled": true
   },
   "outputs": [
    {
     "data": {
      "application/vnd.jupyter.widget-view+json": {
       "model_id": "9c84188e1c5b48d0a8216db874f49c3a",
       "version_major": 2,
       "version_minor": 0
      },
      "text/plain": [
       "Computing for all isotopes:   0%|          | 0/9 [00:00<?, ?it/s]"
      ]
     },
     "metadata": {},
     "output_type": "display_data"
    },
    {
     "data": {
      "application/vnd.jupyter.widget-view+json": {
       "model_id": "7b8873f911ec4296a7a71401c391bb2e",
       "version_major": 2,
       "version_minor": 0
      },
      "text/plain": [
       "  0%|          | 0/9 [00:00<?, ?it/s]"
      ]
     },
     "metadata": {},
     "output_type": "display_data"
    },
    {
     "data": {
      "application/vnd.jupyter.widget-view+json": {
       "model_id": "665bdfe4ab144602b4ed7d2889344162",
       "version_major": 2,
       "version_minor": 0
      },
      "text/plain": [
       "  0%|          | 0/9 [00:00<?, ?it/s]"
      ]
     },
     "metadata": {},
     "output_type": "display_data"
    }
   ],
   "source": [
    "A.compute_rates();"
   ]
  },
  {
   "cell_type": "markdown",
   "id": "d3fdbbaa",
   "metadata": {},
   "source": [
    "One can also get a plotter, which takes the model object as input and allows for easy plotting. "
   ]
  },
  {
   "cell_type": "code",
   "execution_count": 6,
   "id": "8e910087",
   "metadata": {},
   "outputs": [],
   "source": [
    "# plotter = Plotter(A)"
   ]
  },
  {
   "cell_type": "code",
   "execution_count": 7,
   "id": "1fdf5428",
   "metadata": {},
   "outputs": [],
   "source": [
    "# plotter.plot_cross_section_fantastic()"
   ]
  },
  {
   "cell_type": "code",
   "execution_count": 8,
   "id": "b6648805",
   "metadata": {},
   "outputs": [],
   "source": [
    "# plotter.plot_recoil_spectrum()"
   ]
  },
  {
   "cell_type": "code",
   "execution_count": 9,
   "id": "632908a8",
   "metadata": {},
   "outputs": [],
   "source": [
    "# plotter.plot_form_factor()"
   ]
  },
  {
   "cell_type": "code",
   "execution_count": 10,
   "id": "9c6c9f45",
   "metadata": {},
   "outputs": [],
   "source": [
    "# plotter.plot_cross_section();"
   ]
  },
  {
   "cell_type": "code",
   "execution_count": 11,
   "id": "c7cc5bfd",
   "metadata": {},
   "outputs": [],
   "source": [
    "# # not all models have same attributes\n",
    "# # plotter.plot_mean_cross_section(); # --> doesn't work as there are no meanE attribute in Fornax\n",
    "# B = sn.Models(model_name='Nakazato_2013', index=10)\n",
    "# plotter_B = Plotter(B)\n",
    "# plotter_B.plot_mean_cross_section();"
   ]
  },
  {
   "cell_type": "code",
   "execution_count": 10,
   "id": "6c80dfbb",
   "metadata": {},
   "outputs": [],
   "source": [
    "# plotter_B.plot_params()"
   ]
  },
  {
   "cell_type": "code",
   "execution_count": 9,
   "id": "01fb1656",
   "metadata": {},
   "outputs": [
    {
     "data": {
      "image/png": "[encoded data removed]",
      "text/plain": [
       "<Figure size 864x288 with 1 Axes>"
      ]
     },
     "metadata": {
      "needs_background": "light"
     },
     "output_type": "display_data"
    }
   ],
   "source": [
    "sampled_t = plotter.plot_sampled_data(50000, dtype=\"time\", xscale=\"log\");"
   ]
  },
  {
   "cell_type": "code",
   "execution_count": 10,
   "id": "f3b1b84e",
   "metadata": {},
   "outputs": [
    {
     "data": {
      "image/png": "[encoded data removed]",
      "text/plain": [
       "<Figure size 864x288 with 1 Axes>"
      ]
     },
     "metadata": {
      "needs_background": "light"
     },
     "output_type": "display_data"
    }
   ],
   "source": [
    "sampled_Er = plotter.plot_sampled_data(50000, xscale='lin');"
   ]
  },
  {
   "cell_type": "code",
   "execution_count": 12,
   "id": "57858881",
   "metadata": {},
   "outputs": [],
   "source": [
    "N_events = 1000\n",
    "sampled_Er = A.sample_data(N_events)\n",
    "sampled_t = A.sample_data(N_events, dtype='time')"
   ]
  },
  {
   "cell_type": "markdown",
   "id": "fa994801",
   "metadata": {},
   "source": [
    "These parts are better done in dali/midway. <br>\n"
   ]
  },
  {
   "cell_type": "code",
   "execution_count": 13,
   "id": "f8941f1f",
   "metadata": {},
   "outputs": [
    {
     "name": "stderr",
     "output_type": "stream",
     "text": [
      "*** Detector definition message ***\n",
      "You are currently using the default XENON10 template detector.\n",
      "\n"
     ]
    }
   ],
   "source": [
    "from multimessenger.supernova.Simulate import generator_sn_instruction\n",
    "import nestpy\n",
    "import pandas as pd\n",
    "import straxen\n",
    "downloader = straxen.MongoDownloader()"
   ]
  },
  {
   "cell_type": "code",
   "execution_count": 14,
   "id": "b7df4111",
   "metadata": {},
   "outputs": [],
   "source": [
    "field_file=\"fieldmap_2D_B2d75n_C2d75n_G0d3p_A4d9p_T0d9n_PMTs1d3n_FSR0d65p_QPTFE_0d5n_0d4p.json.gz\"\n",
    "field_map = straxen.InterpolatingMap(\n",
    "                    straxen.get_resource(downloader.download_single(field_file),\n",
    "                                         fmt=\"json.gz\"),\n",
    "                    method=\"RegularGridInterpolator\")"
   ]
  },
  {
   "cell_type": "markdown",
   "id": "1cb8c70a",
   "metadata": {},
   "source": [
    "Caution, the times need to be passed in nanoseconds!"
   ]
  },
  {
   "cell_type": "code",
   "execution_count": 15,
   "id": "797c6983",
   "metadata": {},
   "outputs": [
    {
     "name": "stderr",
     "output_type": "stream",
     "text": [
      "*** Detector definition message ***\n",
      "You are currently using the default XENON10 template detector.\n",
      "\n"
     ]
    }
   ],
   "source": [
    "nc = nestpy.NESTcalc(nestpy.DetectorExample_XENON10())\n",
    "## not sure if nestpy RNG issue was solved, so randomize NEST internal state\n",
    "for i in range(np.random.randint(100)):\n",
    "    nc.GetQuanta(nc.GetYields(energy=np.random.uniform(10,100)))\n",
    "    \n",
    "instr = generator_sn_instruction(energy_deposition=sampled_Er, timemode=sampled_t*1e9, n_tot=N_events, nc=nc, fmap=field_map)\n",
    "df = pd.DataFrame(instr)"
   ]
  },
  {
   "cell_type": "code",
   "execution_count": 16,
   "id": "68c990e4",
   "metadata": {},
   "outputs": [],
   "source": [
    "# df"
   ]
  },
  {
   "cell_type": "markdown",
   "id": "b7d9c51d",
   "metadata": {},
   "source": [
    "Simulate one run, and get back the context."
   ]
  },
  {
   "cell_type": "code",
   "execution_count": 24,
   "id": "3c80473d",
   "metadata": {},
   "outputs": [],
   "source": [
    "runid = \"snsim_02\"\n",
    "# st = A.simulate_one(df, runid)"
   ]
  },
  {
   "cell_type": "markdown",
   "id": "8e83af4b",
   "metadata": {},
   "source": [
    "Or one can create a context with the desired configuration and pass that context for simulation."
   ]
  },
  {
   "cell_type": "code",
   "execution_count": 25,
   "id": "79fbe65c",
   "metadata": {},
   "outputs": [
    {
     "name": "stderr",
     "output_type": "stream",
     "text": [
      "/dali/lgrandi/xenonnt/software/cutax/latest/cutax/contexts.py:85: UserWarning: WARNING! You are using SR0 v1 simulation context! Consider updating to a newer version!\n",
      "  warnings.warn(\"WARNING! You are using SR0 v1 simulation context! Consider updating to a newer version!\")\n",
      "WARNING:strax:Option gain_model_nv not taken by any registered plugin\n",
      "WARNING:strax:Option gain_model_mv not taken by any registered plugin\n",
      "WARNING:strax:Option gain_model_nv not taken by any registered plugin\n",
      "WARNING:strax:Option gain_model_mv not taken by any registered plugin\n",
      "WARNING:strax:Option gain_model_nv not taken by any registered plugin\n",
      "WARNING:strax:Option gain_model_mv not taken by any registered plugin\n",
      "WARNING:strax:Option gain_model_nv not taken by any registered plugin\n",
      "WARNING:strax:Option gain_model_mv not taken by any registered plugin\n",
      "WARNING:strax:Option gain_model_nv not taken by any registered plugin\n",
      "WARNING:strax:Option gain_model_mv not taken by any registered plugin\n",
      "WARNING:strax:Option gain_model_nv not taken by any registered plugin\n",
      "WARNING:strax:Option gain_model_mv not taken by any registered plugin\n"
     ]
    }
   ],
   "source": [
    "import cutax, strax\n",
    "st = cutax.contexts.xenonnt_sim_SR0v1_cmt_v8(cmt_run_id=\"026000\")"
   ]
  },
  {
   "cell_type": "code",
   "execution_count": 26,
   "id": "b43be504",
   "metadata": {},
   "outputs": [
    {
     "name": "stderr",
     "output_type": "stream",
     "text": [
      "WARNING:strax:Option gain_model_nv not taken by any registered plugin\n",
      "WARNING:strax:Option gain_model_mv not taken by any registered plugin\n"
     ]
    },
    {
     "data": {
      "text/html": [
       "<div>\n",
       "<style scoped>\n",
       "    .dataframe tbody tr th:only-of-type {\n",
       "        vertical-align: middle;\n",
       "    }\n",
       "\n",
       "    .dataframe tbody tr th {\n",
       "        vertical-align: top;\n",
       "    }\n",
       "\n",
       "    .dataframe thead th {\n",
       "        text-align: right;\n",
       "    }\n",
       "</style>\n",
       "<table border=\"1\" class=\"dataframe\">\n",
       "  <thead>\n",
       "    <tr style=\"text-align: right;\">\n",
       "      <th></th>\n",
       "      <th>option</th>\n",
       "      <th>default</th>\n",
       "      <th>current</th>\n",
       "      <th>applies_to</th>\n",
       "      <th>help</th>\n",
       "    </tr>\n",
       "  </thead>\n",
       "  <tbody>\n",
       "    <tr>\n",
       "      <th>57</th>\n",
       "      <td>s1_min_coincidence</td>\n",
       "      <td>2</td>\n",
       "      <td>&lt;OMITTED&gt;</td>\n",
       "      <td>(peaklet_classification,)</td>\n",
       "      <td>Minimum tight coincidence necessary to make an S1</td>\n",
       "    </tr>\n",
       "    <tr>\n",
       "      <th>58</th>\n",
       "      <td>s2_min_pmts</td>\n",
       "      <td>4</td>\n",
       "      <td>&lt;OMITTED&gt;</td>\n",
       "      <td>(peaklet_classification,)</td>\n",
       "      <td>Minimum number of PMTs contributing to an S2</td>\n",
       "    </tr>\n",
       "    <tr>\n",
       "      <th>59</th>\n",
       "      <td>s2_merge_max_duration</td>\n",
       "      <td>50000</td>\n",
       "      <td>&lt;OMITTED&gt;</td>\n",
       "      <td>(merged_s2s,)</td>\n",
       "      <td>Do not merge peaklets at all if the result wou...</td>\n",
       "    </tr>\n",
       "    <tr>\n",
       "      <th>60</th>\n",
       "      <td>s2_merge_gap_thresholds</td>\n",
       "      <td>((1.7, 26500.0), (4.0, 2600.0), (5.0, 0.0))</td>\n",
       "      <td>&lt;OMITTED&gt;</td>\n",
       "      <td>(merged_s2s,)</td>\n",
       "      <td>Points to define maximum separation between pe...</td>\n",
       "    </tr>\n",
       "    <tr>\n",
       "      <th>61</th>\n",
       "      <td>gain_model</td>\n",
       "      <td>&lt;OMITTED&gt;</td>\n",
       "      <td>(cmt_run_id, 026000, to_pe_model, v6, True)</td>\n",
       "      <td>(merged_s2s,)</td>\n",
       "      <td>PMT gain model. Specify as (str(model_config),...</td>\n",
       "    </tr>\n",
       "    <tr>\n",
       "      <th>62</th>\n",
       "      <td>merge_without_s1</td>\n",
       "      <td>True</td>\n",
       "      <td>&lt;OMITTED&gt;</td>\n",
       "      <td>(merged_s2s,)</td>\n",
       "      <td>If true, S1s will be igored during the merging...</td>\n",
       "    </tr>\n",
       "  </tbody>\n",
       "</table>\n",
       "</div>"
      ],
      "text/plain": [
       "                     option                                      default  \\\n",
       "57       s1_min_coincidence                                            2   \n",
       "58              s2_min_pmts                                            4   \n",
       "59    s2_merge_max_duration                                        50000   \n",
       "60  s2_merge_gap_thresholds  ((1.7, 26500.0), (4.0, 2600.0), (5.0, 0.0))   \n",
       "61               gain_model                                    <OMITTED>   \n",
       "62         merge_without_s1                                         True   \n",
       "\n",
       "                                        current                 applies_to  \\\n",
       "57                                    <OMITTED>  (peaklet_classification,)   \n",
       "58                                    <OMITTED>  (peaklet_classification,)   \n",
       "59                                    <OMITTED>              (merged_s2s,)   \n",
       "60                                    <OMITTED>              (merged_s2s,)   \n",
       "61  (cmt_run_id, 026000, to_pe_model, v6, True)              (merged_s2s,)   \n",
       "62                                    <OMITTED>              (merged_s2s,)   \n",
       "\n",
       "                                                 help  \n",
       "57  Minimum tight coincidence necessary to make an S1  \n",
       "58       Minimum number of PMTs contributing to an S2  \n",
       "59  Do not merge peaklets at all if the result wou...  \n",
       "60  Points to define maximum separation between pe...  \n",
       "61  PMT gain model. Specify as (str(model_config),...  \n",
       "62  If true, S1s will be igored during the merging...  "
      ]
     },
     "execution_count": 26,
     "metadata": {},
     "output_type": "execute_result"
    }
   ],
   "source": [
    "pd.options.display.max_rows = 70\n",
    "st.show_config(\"peak_basics\").iloc[-6:]"
   ]
  },
  {
   "cell_type": "code",
   "execution_count": 27,
   "id": "bb12154b",
   "metadata": {
    "scrolled": true
   },
   "outputs": [
    {
     "name": "stderr",
     "output_type": "stream",
     "text": [
      "WARNING:strax:Option gain_model_nv not taken by any registered plugin\n",
      "WARNING:strax:Option gain_model_mv not taken by any registered plugin\n"
     ]
    },
    {
     "data": {
      "text/html": [
       "<div>\n",
       "<style scoped>\n",
       "    .dataframe tbody tr th:only-of-type {\n",
       "        vertical-align: middle;\n",
       "    }\n",
       "\n",
       "    .dataframe tbody tr th {\n",
       "        vertical-align: top;\n",
       "    }\n",
       "\n",
       "    .dataframe thead th {\n",
       "        text-align: right;\n",
       "    }\n",
       "</style>\n",
       "<table border=\"1\" class=\"dataframe\">\n",
       "  <thead>\n",
       "    <tr style=\"text-align: right;\">\n",
       "      <th></th>\n",
       "      <th>option</th>\n",
       "      <th>default</th>\n",
       "      <th>current</th>\n",
       "      <th>applies_to</th>\n",
       "      <th>help</th>\n",
       "    </tr>\n",
       "  </thead>\n",
       "  <tbody>\n",
       "    <tr>\n",
       "      <th>57</th>\n",
       "      <td>s1_min_coincidence</td>\n",
       "      <td>2</td>\n",
       "      <td>0</td>\n",
       "      <td>(peaklet_classification,)</td>\n",
       "      <td>Minimum tight coincidence necessary to make an S1</td>\n",
       "    </tr>\n",
       "  </tbody>\n",
       "</table>\n",
       "</div>"
      ],
      "text/plain": [
       "                option default current                 applies_to  \\\n",
       "57  s1_min_coincidence       2       0  (peaklet_classification,)   \n",
       "\n",
       "                                                 help  \n",
       "57  Minimum tight coincidence necessary to make an S1  "
      ]
     },
     "execution_count": 27,
     "metadata": {},
     "output_type": "execute_result"
    }
   ],
   "source": [
    "# set s1 minimum coincidence to 0\n",
    "st.set_config({\"s1_min_coincidence\":0})\n",
    "st.show_config(\"peak_basics\").iloc[-6:-5]"
   ]
  },
  {
   "cell_type": "code",
   "execution_count": 28,
   "id": "23a33f61",
   "metadata": {},
   "outputs": [
    {
     "name": "stderr",
     "output_type": "stream",
     "text": [
      "WARNING:strax:Option gain_model_nv not taken by any registered plugin\n",
      "WARNING:strax:Option gain_model_mv not taken by any registered plugin\n",
      "WARNING:wfsim.interface:Replacing drift_time_gate with CMT option ('cmt_run_id', '026000', 'electron_drift_time_gate', 'v2', True) to 4500.0\n",
      "WARNING:wfsim.interface:Replacing drift_velocity_liquid with CMT option ('cmt_run_id', '026000', 'electron_drift_velocity', 'v3', True) to 6.75e-05\n",
      "WARNING:wfsim.interface:Replacing electron_lifetime_liquid with CMT option ('cmt_run_id', '026000', 'elife', 'v5', True) to 14943515.44396\n",
      "*** Detector definition message ***\n",
      "You are currently using the default XENON10 template detector.\n",
      "\n",
      "WARNING:strax:Could not estimate run start and end time from run metadata: assuming it is 0 and inf\n"
     ]
    },
    {
     "data": {
      "application/vnd.jupyter.widget-view+json": {
       "model_id": "e29c0c545a14470abbf527aa421e7856",
       "version_major": 2,
       "version_minor": 0
      },
      "text/plain": [
       "Simulating Raw Records:   0%|          | 0/1722 [00:00<?, ?it/s]"
      ]
     },
     "metadata": {},
     "output_type": "display_data"
    },
    {
     "name": "stdout",
     "output_type": "stream",
     "text": [
      "Source finished!\n"
     ]
    },
    {
     "name": "stderr",
     "output_type": "stream",
     "text": [
      "WARNING:strax:Option gain_model_nv not taken by any registered plugin\n",
      "WARNING:strax:Option gain_model_mv not taken by any registered plugin\n"
     ]
    },
    {
     "name": "stdout",
     "output_type": "stream",
     "text": [
      "snsim_02 is created! Returning context!\u001b[0m\n"
     ]
    }
   ],
   "source": [
    "# simulate with this context\n",
    "st = A.simulate_one(df, runid, context=st)"
   ]
  },
  {
   "cell_type": "code",
   "execution_count": 29,
   "id": "f26163c1",
   "metadata": {},
   "outputs": [
    {
     "data": {
      "application/vnd.jupyter.widget-view+json": {
       "model_id": "76a321b6a40a4e2491c697e49dc4b17e",
       "version_major": 2,
       "version_minor": 0
      },
      "text/plain": [
       "Loading peak_basics: |          | 0.00 % [00:00<?]"
      ]
     },
     "metadata": {},
     "output_type": "display_data"
    },
    {
     "data": {
      "text/plain": [
       "(array([2, 1, 0], dtype=int8), 9, 708, 975)"
      ]
     },
     "execution_count": 29,
     "metadata": {},
     "output_type": "execute_result"
    }
   ],
   "source": [
    "peak_basics = st.get_df(runid, \"peak_basics\")\n",
    "peak_s1 = peak_basics[peak_basics['type'] == 1]\n",
    "peak_s2 = peak_basics[peak_basics['type'] == 2]\n",
    "peak_basics['type'].unique(), sum(peak_basics['type']==0), sum(peak_basics['type']==1), sum(peak_basics['type']==2)"
   ]
  },
  {
   "cell_type": "code",
   "execution_count": 32,
   "id": "e177745f",
   "metadata": {},
   "outputs": [
    {
     "name": "stderr",
     "output_type": "stream",
     "text": [
      "/tmp/jobs/21865128/ipykernel_319/3736824744.py:2: MatplotlibDeprecationWarning: Auto-removal of grids by pcolor() and pcolormesh() is deprecated since 3.5 and will be removed two minor releases later; please call grid(False) first.\n",
      "  ax0.hist2d(peak_basics[\"area\"], peak_basics[\"range_50p_area\"],\n",
      "/tmp/jobs/21865128/ipykernel_319/3736824744.py:9: MatplotlibDeprecationWarning: Auto-removal of grids by pcolor() and pcolormesh() is deprecated since 3.5 and will be removed two minor releases later; please call grid(False) first.\n",
      "  ax1.hist2d(peak_s1[\"area\"], peak_s1[\"range_50p_area\"],\n",
      "/tmp/jobs/21865128/ipykernel_319/3736824744.py:15: MatplotlibDeprecationWarning: Auto-removal of grids by pcolor() and pcolormesh() is deprecated since 3.5 and will be removed two minor releases later; please call grid(False) first.\n",
      "  ax2.hist2d(peak_s2[\"area\"], peak_s2[\"range_50p_area\"],\n"
     ]
    },
    {
     "data": {
      "image/png": "[encoded data removed]",
      "text/plain": [
       "<Figure size 1224x360 with 3 Axes>"
      ]
     },
     "metadata": {},
     "output_type": "display_data"
    }
   ],
   "source": [
    "fig, (ax0, ax1, ax2) = plt.subplots(ncols=3, figsize=(17,5), sharex=True, sharey=True)\n",
    "ax0.hist2d(peak_basics[\"area\"], peak_basics[\"range_50p_area\"], \n",
    "           bins=(np.logspace(0,5,100),np.logspace(0,5,100)),\n",
    "           norm=LogNorm());\n",
    "ax0.set_xscale(\"log\"); ax0.set_yscale(\"log\")\n",
    "ax0.set_xlabel(\"Area [PE]\"); ax0.set_ylabel(\"width\");\n",
    "\n",
    "\n",
    "ax1.hist2d(peak_s1[\"area\"], peak_s1[\"range_50p_area\"], \n",
    "           bins=(np.logspace(0,5,100),np.logspace(0,5,100)),\n",
    "           norm=LogNorm());\n",
    "ax1.set_xscale(\"log\"); ax1.set_yscale(\"log\")\n",
    "ax1.set_xlabel(\"S1 Area [PE]\"); ax1.set_ylabel(\"S1 width\");\n",
    "\n",
    "ax2.hist2d(peak_s2[\"area\"], peak_s2[\"range_50p_area\"], \n",
    "           bins=(np.logspace(0,5,100),np.logspace(0,5,100)),\n",
    "           norm=LogNorm());\n",
    "ax2.set_xscale(\"log\"); ax2.set_yscale(\"log\")\n",
    "ax2.set_xlabel(\"S2 Area [PE]\"); ax2.set_ylabel(\"S2 width\");"
   ]
  },
  {
   "cell_type": "code",
   "execution_count": 33,
   "id": "7b5f81cb",
   "metadata": {},
   "outputs": [
    {
     "data": {
      "image/png": "[encoded data removed]",
      "text/plain": [
       "<Figure size 1296x288 with 3 Axes>"
      ]
     },
     "metadata": {},
     "output_type": "display_data"
    }
   ],
   "source": [
    "fig, (ax0, ax1, ax2) = plt.subplots(ncols=3, figsize=(18,4))\n",
    "ax0.hist(peak_basics['area'], bins=np.linspace(0, 350, 100), histtype='step', lw=3)\n",
    "ax1.hist(peak_s1['area'], bins=np.linspace(0, 50, 100), histtype='step', lw=3)\n",
    "ax2.hist(peak_s2['area'], bins=np.linspace(0,300,100), histtype='step', lw=3);\n",
    "ax0.set_xlabel(\"area\"); ax1.set_xlabel(\"S1 area\"); ax2.set_xlabel(\"S2 area\");"
   ]
  },
  {
   "cell_type": "markdown",
   "id": "e1ca6aaf",
   "metadata": {},
   "source": [
    "We can try to make peaks using the unchanged context which uses min s1 coincidence threshold as 2 fold."
   ]
  },
  {
   "cell_type": "code",
   "execution_count": 39,
   "id": "40429d08",
   "metadata": {},
   "outputs": [
    {
     "name": "stderr",
     "output_type": "stream",
     "text": [
      "/dali/lgrandi/xenonnt/software/cutax/latest/cutax/contexts.py:85: UserWarning: WARNING! You are using SR0 v1 simulation context! Consider updating to a newer version!\n",
      "  warnings.warn(\"WARNING! You are using SR0 v1 simulation context! Consider updating to a newer version!\")\n",
      "WARNING:strax:Option gain_model_nv not taken by any registered plugin\n",
      "WARNING:strax:Option gain_model_mv not taken by any registered plugin\n",
      "WARNING:strax:Option gain_model_nv not taken by any registered plugin\n",
      "WARNING:strax:Option gain_model_mv not taken by any registered plugin\n",
      "WARNING:strax:Option gain_model_nv not taken by any registered plugin\n",
      "WARNING:strax:Option gain_model_mv not taken by any registered plugin\n",
      "WARNING:strax:Option gain_model_nv not taken by any registered plugin\n",
      "WARNING:strax:Option gain_model_mv not taken by any registered plugin\n",
      "WARNING:strax:Option gain_model_nv not taken by any registered plugin\n",
      "WARNING:strax:Option gain_model_mv not taken by any registered plugin\n",
      "WARNING:strax:Option gain_model_nv not taken by any registered plugin\n",
      "WARNING:strax:Option gain_model_mv not taken by any registered plugin\n",
      "WARNING:strax:Option gain_model_nv not taken by any registered plugin\n",
      "WARNING:strax:Option gain_model_mv not taken by any registered plugin\n",
      "WARNING:strax:Option gain_model_nv not taken by any registered plugin\n",
      "WARNING:strax:Option gain_model_mv not taken by any registered plugin\n"
     ]
    },
    {
     "name": "stdout",
     "output_type": "stream",
     "text": [
      "snsim_02 is created! Returning context!\u001b[0m\n"
     ]
    },
    {
     "data": {
      "text/html": [
       "<div>\n",
       "<style scoped>\n",
       "    .dataframe tbody tr th:only-of-type {\n",
       "        vertical-align: middle;\n",
       "    }\n",
       "\n",
       "    .dataframe tbody tr th {\n",
       "        vertical-align: top;\n",
       "    }\n",
       "\n",
       "    .dataframe thead th {\n",
       "        text-align: right;\n",
       "    }\n",
       "</style>\n",
       "<table border=\"1\" class=\"dataframe\">\n",
       "  <thead>\n",
       "    <tr style=\"text-align: right;\">\n",
       "      <th></th>\n",
       "      <th>option</th>\n",
       "      <th>default</th>\n",
       "      <th>current</th>\n",
       "      <th>applies_to</th>\n",
       "      <th>help</th>\n",
       "    </tr>\n",
       "  </thead>\n",
       "  <tbody>\n",
       "    <tr>\n",
       "      <th>57</th>\n",
       "      <td>s1_min_coincidence</td>\n",
       "      <td>2</td>\n",
       "      <td>&lt;OMITTED&gt;</td>\n",
       "      <td>(peaklet_classification,)</td>\n",
       "      <td>Minimum tight coincidence necessary to make an S1</td>\n",
       "    </tr>\n",
       "  </tbody>\n",
       "</table>\n",
       "</div>"
      ],
      "text/plain": [
       "                option default    current                 applies_to  \\\n",
       "57  s1_min_coincidence       2  <OMITTED>  (peaklet_classification,)   \n",
       "\n",
       "                                                 help  \n",
       "57  Minimum tight coincidence necessary to make an S1  "
      ]
     },
     "execution_count": 39,
     "metadata": {},
     "output_type": "execute_result"
    }
   ],
   "source": [
    "st_unchanged = A.simulate_one(df, runid)\n",
    "st_unchanged.show_config(\"peak_basics\").iloc[-6:-5]"
   ]
  },
  {
   "cell_type": "code",
   "execution_count": 35,
   "id": "de617b06",
   "metadata": {},
   "outputs": [
    {
     "data": {
      "application/vnd.jupyter.widget-view+json": {
       "model_id": "68b9c97f15eb42648f1a33a7e2a5eaf5",
       "version_major": 2,
       "version_minor": 0
      },
      "text/plain": [
       "Loading peak_basics: |          | 0.00 % [00:00<?]"
      ]
     },
     "metadata": {},
     "output_type": "display_data"
    },
    {
     "data": {
      "text/plain": [
       "(array([2, 1, 0], dtype=int8), 36, 660, 978)"
      ]
     },
     "execution_count": 35,
     "metadata": {},
     "output_type": "execute_result"
    }
   ],
   "source": [
    "_peak_basics = st_unchanged.get_df(runid, \"peak_basics\")\n",
    "_peak_s1 = _peak_basics[_peak_basics['type'] == 1]\n",
    "_peak_s2 = _peak_basics[_peak_basics['type'] == 2]\n",
    "_peak_basics['type'].unique(), sum(_peak_basics['type']==0), sum(_peak_basics['type']==1), sum(_peak_basics['type']==2)"
   ]
  },
  {
   "cell_type": "code",
   "execution_count": 36,
   "id": "5ac19eec",
   "metadata": {
    "scrolled": false
   },
   "outputs": [
    {
     "name": "stderr",
     "output_type": "stream",
     "text": [
      "/tmp/jobs/21865128/ipykernel_319/2527553398.py:2: MatplotlibDeprecationWarning: Auto-removal of grids by pcolor() and pcolormesh() is deprecated since 3.5 and will be removed two minor releases later; please call grid(False) first.\n",
      "  ax0.hist2d(_peak_basics[\"area\"], _peak_basics[\"range_50p_area\"],\n",
      "/tmp/jobs/21865128/ipykernel_319/2527553398.py:9: MatplotlibDeprecationWarning: Auto-removal of grids by pcolor() and pcolormesh() is deprecated since 3.5 and will be removed two minor releases later; please call grid(False) first.\n",
      "  ax1.hist2d(_peak_s1[\"area\"], _peak_s1[\"range_50p_area\"],\n",
      "/tmp/jobs/21865128/ipykernel_319/2527553398.py:15: MatplotlibDeprecationWarning: Auto-removal of grids by pcolor() and pcolormesh() is deprecated since 3.5 and will be removed two minor releases later; please call grid(False) first.\n",
      "  ax2.hist2d(_peak_s2[\"area\"], _peak_s2[\"range_50p_area\"],\n"
     ]
    },
    {
     "data": {
      "image/png": "[encoded data removed]",
      "text/plain": [
       "<Figure size 1224x360 with 3 Axes>"
      ]
     },
     "metadata": {},
     "output_type": "display_data"
    }
   ],
   "source": [
    "fig, (ax0, ax1, ax2) = plt.subplots(ncols=3, figsize=(17,5), sharex=True, sharey=True)\n",
    "ax0.hist2d(_peak_basics[\"area\"], _peak_basics[\"range_50p_area\"], \n",
    "           bins=(np.logspace(0,5,100),np.logspace(0,5,100)),\n",
    "           norm=LogNorm());\n",
    "ax0.set_xscale(\"log\"); ax0.set_yscale(\"log\")\n",
    "ax0.set_xlabel(\"Area [PE]\"); ax0.set_ylabel(\"width\");\n",
    "\n",
    "\n",
    "ax1.hist2d(_peak_s1[\"area\"], _peak_s1[\"range_50p_area\"], \n",
    "           bins=(np.logspace(0,5,100),np.logspace(0,5,100)),\n",
    "           norm=LogNorm());\n",
    "ax1.set_xscale(\"log\"); ax1.set_yscale(\"log\")\n",
    "ax1.set_xlabel(\"S1 Area [PE]\"); ax1.set_ylabel(\"S1 width\");\n",
    "\n",
    "ax2.hist2d(_peak_s2[\"area\"], _peak_s2[\"range_50p_area\"], \n",
    "           bins=(np.logspace(0,5,100),np.logspace(0,5,100)),\n",
    "           norm=LogNorm());\n",
    "ax2.set_xscale(\"log\"); ax2.set_yscale(\"log\")\n",
    "ax2.set_xlabel(\"S2 Area [PE]\"); ax2.set_ylabel(\"S2 width\");"
   ]
  },
  {
   "cell_type": "code",
   "execution_count": 37,
   "id": "1ec6997b",
   "metadata": {},
   "outputs": [
    {
     "data": {
      "image/png": "[encoded data removed]",
      "text/plain": [
       "<Figure size 1296x288 with 3 Axes>"
      ]
     },
     "metadata": {},
     "output_type": "display_data"
    }
   ],
   "source": [
    "fig, (ax0, ax1, ax2) = plt.subplots(ncols=3, figsize=(18,4))\n",
    "ax0.hist(_peak_basics['area'], bins=np.linspace(0, 350, 100), histtype='step', lw=3)\n",
    "ax1.hist(_peak_s1['area'], bins=np.linspace(0, 50, 100), histtype='step', lw=3)\n",
    "ax2.hist(_peak_s2['area'], bins=np.linspace(0,300,100), histtype='step', lw=3);\n",
    "ax0.set_xlabel(\"area\"); ax1.set_xlabel(\"S1 area\"); ax2.set_xlabel(\"S2 area\");"
   ]
  },
  {
   "cell_type": "code",
   "execution_count": 38,
   "id": "f07def3b",
   "metadata": {},
   "outputs": [
    {
     "data": {
      "image/png": "[encoded data removed]",
      "text/plain": [
       "<Figure size 1296x288 with 3 Axes>"
      ]
     },
     "metadata": {},
     "output_type": "display_data"
    }
   ],
   "source": [
    "fig, (ax0, ax1, ax2) = plt.subplots(ncols=3, figsize=(18,4))\n",
    "a, b = np.histogram(peak_basics['area'], bins=np.linspace(0,20,100))\n",
    "_a = np.histogram(_peak_basics['area'], bins=np.linspace(0,20,100))[0]\n",
    "ax0.step(b[:-1], a-_a);\n",
    "\n",
    "a, b = np.histogram(peak_s1['area'], bins=np.linspace(0,20,100))\n",
    "_a = np.histogram(_peak_s1['area'], bins=np.linspace(0,20,100))[0]\n",
    "ax1.step(b[:-1], a-_a);\n",
    "\n",
    "a, b = np.histogram(peak_s2['area'], bins=np.linspace(0,20,100))\n",
    "_a = np.histogram(_peak_s2['area'], bins=np.linspace(0,20,100))[0]\n",
    "ax2.step(b[:-1], a-_a);"
   ]
  },
  {
   "cell_type": "markdown",
   "id": "386c4df6",
   "metadata": {},
   "source": [
    "Extra: The utilix package allows for easy job submission, however, I haven't implemented that yet."
   ]
  },
  {
   "cell_type": "code",
   "execution_count": null,
   "id": "4c678884",
   "metadata": {},
   "outputs": [],
   "source": [
    "# from utilix.batchq import submit_job\n",
    "# submit_job()"
   ]
  }
 ],
 "metadata": {
  "kernelspec": {
   "display_name": "Python [conda env:XENONnT_development] *",
   "language": "python",
   "name": "conda-env-XENONnT_development-py"
  },
  "language_info": {
   "codemirror_mode": {
    "name": "ipython",
    "version": 3
   },
   "file_extension": ".py",
   "mimetype": "text/x-python",
   "name": "python",
   "nbconvert_exporter": "python",
   "pygments_lexer": "ipython3",
   "version": "3.8.13"
  }
 },
 "nbformat": 4,
 "nbformat_minor": 5
}
