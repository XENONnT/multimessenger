{
 "cells": [
  {
   "cell_type": "markdown",
   "id": "91500f74",
   "metadata": {},
   "source": [
    "Created: 15.07.2022 <br>\n",
    "Edited: 02.08.2022 <br>\n",
    "\n",
    "Trying a different sampling method, as the energy distribution of the neutrinos are different at different times, we sample from time and at that time we sample a recoil energy using the mean neutrino energy and the cross section for that mean neutrino energy. <br>\n",
    "\n",
    "Author: Melih Kara kara@kit.edu"
   ]
  },
  {
   "cell_type": "code",
   "execution_count": 1,
   "id": "70578f35",
   "metadata": {},
   "outputs": [],
   "source": [
    "from astropy import units as u\n",
    "import numpy as np\n",
    "\n",
    "hbar = 1.0546e-27*u.cm**2 *u.g / u.s\n",
    "c_speed = 2.99792458e10*u.cm/u.s # 299792458*u.m/u.s\n",
    "m_e = 9.109e-31*u.kg\n",
    "\n",
    "# fixed params for Xe131\n",
    "Z_Xe = 54\n",
    "Neu_Xe = 77\n",
    "A_Xe = Z_Xe + Neu_Xe\n",
    "amu = 1.66053904e-27*u.kg\n",
    "m_N = 131.293*amu # 131 * 938.3 # A x rest mass of a proton in MeV\n",
    "\n",
    "# rest mass of a proton\n",
    "# p_m = (m_N*c_speed**2).to(u.MeV) / 131.293 # 938.27208816(29) MeV/c2\n",
    "\n",
    "# mass of the Xenon nucleus in keV\n",
    "m_Nval = (m_N*(c_speed**2)).to(u.keV)\n",
    "\n",
    "# these have the units of length\n",
    "par_a = 0.52*u.fm \n",
    "par_c = (1.23*A_Xe**(1./3) - 0.6)*u.fm\n",
    "par_s = 0.9*u.fm\n",
    "rn = np.sqrt(par_c**2 + 7./3 * (np.pi*par_a)**2 - 5*par_s**2)\n",
    "\n",
    "# everything in energy units\n",
    "aval = (par_a/hbar/c_speed).to(u.keV**-1) #.value # a in keV\n",
    "cval = (par_c/hbar/c_speed).to(u.keV**-1) #.value # c in keV\n",
    "sval = (par_s/hbar/c_speed).to(u.keV**-1) #.value # s value in keV\n",
    "rnval = (rn/hbar/c_speed).to(u.keV**-1) #.value # rn value in keV"
   ]
  },
  {
   "cell_type": "code",
   "execution_count": 2,
   "id": "a870c460",
   "metadata": {},
   "outputs": [],
   "source": [
    "sin2theta = 0.2386\n",
    "Q_W = Neu_Xe - (1-4*sin2theta) * Z_Xe"
   ]
  },
  {
   "cell_type": "code",
   "execution_count": 3,
   "id": "0b7dfdfd",
   "metadata": {},
   "outputs": [],
   "source": [
    "# natural units \n",
    "len_nat = (hbar/(m_e*c_speed)).decompose()\n",
    "e_nat = (m_e * c_speed**2).to(u.keV)\n",
    "t_nat = (len_nat / c_speed).to(u.s)"
   ]
  },
  {
   "cell_type": "code",
   "execution_count": 4,
   "id": "c2356446",
   "metadata": {},
   "outputs": [],
   "source": [
    "GF = 8.958e-44 * u.MeV * u.cm**3\n",
    "GFnat = (GF/(hbar*c_speed)**3).to(u.keV**-2)\n",
    "corrGFmN = len_nat**2 * e_nat**2"
   ]
  },
  {
   "cell_type": "code",
   "execution_count": 5,
   "id": "9535e5d8",
   "metadata": {},
   "outputs": [],
   "source": [
    "term1 = corrGFmN * (GFnat**2) * m_Nval * (Q_W**2) / (4*np.pi)"
   ]
  },
  {
   "cell_type": "code",
   "execution_count": 6,
   "id": "a07a7633",
   "metadata": {},
   "outputs": [],
   "source": [
    "from scipy.special import spherical_jn\n",
    "import matplotlib\n",
    "from matplotlib.colors import LogNorm\n",
    "import matplotlib.pyplot as plt\n",
    "\n",
    "plt.style.use('ggplot')\n",
    "\n",
    "plt.rcParams['xtick.labelsize'] = 12\n",
    "plt.rcParams['ytick.labelsize'] = 12\n",
    "plt.rcParams['xtick.direction'] = 'out'\n",
    "plt.rcParams['ytick.direction'] = 'out'\n",
    "\n",
    "plt.rcParams['xtick.major.size'] = 10\n",
    "plt.rcParams['ytick.major.size'] = 10\n",
    "plt.rcParams['xtick.major.pad'] = 5\n",
    "plt.rcParams['ytick.major.pad'] = 5\n",
    "\n",
    "plt.rcParams['xtick.minor.size'] = 5\n",
    "plt.rcParams['ytick.minor.size'] = 5\n",
    "plt.rcParams['xtick.minor.pad'] = 5\n",
    "plt.rcParams['ytick.minor.pad'] = 5\n",
    "plt.rcParams['legend.fontsize'] = 18\n",
    "plt.rcParams['font.size'] = 16"
   ]
  },
  {
   "cell_type": "code",
   "execution_count": 7,
   "id": "17d20c17",
   "metadata": {},
   "outputs": [],
   "source": [
    "def form_factor(Er):\n",
    "    \"\"\"\n",
    "    Helms Form Factor\n",
    "    Arguments\n",
    "    ---------\n",
    "    Er : Recoil energy (need units)\n",
    "    Returns \n",
    "    -------\n",
    "    F(E_R) = 3*j_1(q*r_n) / (q*r_n) * exp(-(q*s)^2/2)\n",
    "    \n",
    "    \"\"\"\n",
    "    Er = Er.to(u.keV) # keV\n",
    "    q = np.sqrt(2*m_Nval*Er) # keV\n",
    "    # avoid zero division\n",
    "    q = np.array([q]) if np.ndim(q)==0 else q\n",
    "    q[q==0] = np.finfo(float).eps * q.unit\n",
    "    qrn = q*rnval\n",
    "    \n",
    "    # spherical_jn doesn't accept units, feed values\n",
    "    j1 = spherical_jn(1, qrn.value)     # unitless\n",
    "    t1 = 3*j1*qrn.unit / qrn\n",
    "    t2 = np.exp(-0.5 * (q*sval)**2)\n",
    "    return t1*t2\n",
    "\n",
    "Er_tests = np.linspace(0,300,1000)*u.keV\n",
    "ffacts = form_factor(Er_tests)**2"
   ]
  },
  {
   "cell_type": "code",
   "execution_count": 8,
   "id": "1f8ca7b7",
   "metadata": {},
   "outputs": [],
   "source": [
    "def nN_cross_section(Enu, Er):\n",
    "    \"\"\"     neutrino nucleus Cross-Section\n",
    "    Arguments\n",
    "    ---------\n",
    "    Enu : array, Neutrino energies, (needs unit)\n",
    "    Er : array, Recoil energies, (needs unit)\n",
    "    Returns\n",
    "    -------\n",
    "    dsigma / dE_r:\n",
    "        neutrino-nucleus cross section in units of m^2 / MeV\n",
    "    \n",
    "    Notes:\n",
    "        GFnat.value : has a unit of keV^-2\n",
    "        mNval       : has a unit of keV\n",
    "        corrGFmNval : has a unit of m^2 keV^2 \n",
    "    \"\"\"\n",
    "    # Avoid division by zero in energy PDF below.\n",
    "    Enu[Enu==0] = np.finfo(float).eps * Enu.unit\n",
    "    Er[Er==0] = np.finfo(float).eps * Er.unit\n",
    "    \n",
    "    ffactor = form_factor(Er)**2 * term1\n",
    "    xsec = np.zeros(shape=(len(Enu), len(Er)))\n",
    "    xsec = ffactor[:, np.newaxis] * (1-0.5*m_Nval*np.outer(Er, Enu**-2.))\n",
    "    xsec[xsec<0] = 0\n",
    "\n",
    "    return xsec"
   ]
  },
  {
   "cell_type": "code",
   "execution_count": 9,
   "id": "1128556f",
   "metadata": {},
   "outputs": [
    {
     "data": {
      "text/plain": [
       "(150, 100)"
      ]
     },
     "execution_count": 9,
     "metadata": {},
     "output_type": "execute_result"
    }
   ],
   "source": [
    "# Further visualise the cross section for different neutrino energies with different recoil energies\n",
    "Enu_vals = np.linspace(0,100,100)*u.MeV\n",
    "Er_vals = np.linspace(0,15,150)*u.keV\n",
    "cs_test = nN_cross_section(Enu_vals, Er_vals)\n",
    "cs_test.shape"
   ]
  },
  {
   "cell_type": "code",
   "execution_count": 10,
   "id": "e89c190f",
   "metadata": {},
   "outputs": [
    {
     "data": {
      "image/png": "[encoded data removed]",
      "text/plain": [
       "<Figure size 432x288 with 2 Axes>"
      ]
     },
     "metadata": {
      "needs_background": "light"
     },
     "output_type": "display_data"
    }
   ],
   "source": [
    "cb = plt.pcolormesh(cs_test*1e43, cmap='PuBu') #,norm=matplotlib.colors.LogNorm())\n",
    "plt.xlabel(r'E$_\\nu$ [MeV]', fontsize=16); plt.ylabel(r'E$_r$ [keV]', fontsize=16);\n",
    "cbb = plt.colorbar(cb)\n",
    "cbb.set_label('cross-section\\n' \n",
    "              fr'[x$10^{{43}}$ {cs_test.unit}]', fontsize=16);\n",
    "plt.xticks(ticks=np.arange(0,100,10));\n",
    "plt.yticks(ticks=np.arange(0,150,10), labels=np.arange(0,15,1));"
   ]
  },
  {
   "cell_type": "code",
   "execution_count": 10,
   "id": "fddb72f6",
   "metadata": {},
   "outputs": [
    {
     "data": {
      "image/png": "[encoded data removed]",
      "text/plain": [
       "<Figure size 432x288 with 1 Axes>"
      ]
     },
     "metadata": {
      "needs_background": "light"
     },
     "output_type": "display_data"
    }
   ],
   "source": [
    "example_nu = 30\n",
    "sigmas = nN_cross_section([example_nu]*u.MeV, Er_vals)\n",
    "plt.plot(Er_vals, sigmas);"
   ]
  },
  {
   "cell_type": "code",
   "execution_count": 11,
   "id": "a3496c20",
   "metadata": {},
   "outputs": [],
   "source": [
    "import snewpy\n",
    "from snewpy.models.ccsn import Bollig_2016\n",
    "from snewpy.neutrino import Flavor\n",
    "import os\n",
    "from tqdm.notebook import tqdm"
   ]
  },
  {
   "cell_type": "code",
   "execution_count": 12,
   "id": "dae33930",
   "metadata": {},
   "outputs": [],
   "source": [
    "# file_path = os.path.join(\"/dali/lgrandi/melih/mma/data/snewpy_models/\", 'Bollig_2016/s11.2c')\n",
    "# model = Bollig_2016(file_path, 'LS220')\n",
    "\n",
    "file_path = os.path.join(\"../../../SNEWS/snewpy/models/\", 'Bollig_2016/s27.0c')\n",
    "model = Bollig_2016(file_path, 'LS220')"
   ]
  },
  {
   "cell_type": "code",
   "execution_count": 13,
   "id": "685f32fc",
   "metadata": {},
   "outputs": [],
   "source": [
    "times = model.time\n",
    "lum = model.luminosity\n",
    "alpha = model.pinch\n",
    "meanE = model.meanE"
   ]
  },
  {
   "cell_type": "code",
   "execution_count": 14,
   "id": "05b090fb",
   "metadata": {},
   "outputs": [
    {
     "data": {
      "image/png": "[encoded data removed]",
      "text/plain": [
       "<Figure size 792x360 with 1 Axes>"
      ]
     },
     "metadata": {
      "needs_background": "light"
     },
     "output_type": "display_data"
    }
   ],
   "source": [
    "fig, ax = plt.subplots(figsize=(11,5))\n",
    "for flavor in Flavor:\n",
    "    kwargs = dict(label=flavor.to_tex(), color='C0' if flavor.is_electron else 'C1',\n",
    "                  ls='-' if flavor.is_neutrino else ':', lw=2, alpha=0.7)\n",
    "    ax.plot(model.time, meanE[flavor], **kwargs)\n",
    "\n",
    "ax.set_xscale('log')\n",
    "ax.legend(loc='upper left', ncol=2, fontsize=16)\n",
    "ax.set(ylabel=r'mean $\\nu$ E [MeV]', xlabel='time [s]');"
   ]
  },
  {
   "cell_type": "code",
   "execution_count": 15,
   "id": "ce4b620c",
   "metadata": {},
   "outputs": [],
   "source": [
    "init_spec = model.get_initial_spectra(1*u.s, Enu_vals)"
   ]
  },
  {
   "cell_type": "code",
   "execution_count": 16,
   "id": "2165f5c3",
   "metadata": {},
   "outputs": [],
   "source": [
    "from scipy import interpolate\n",
    "def _inverse_transform_sampling(x_vals, y_vals, n_samples):\n",
    "    cum_values = np.zeros(x_vals.shape)\n",
    "    y_mid = (y_vals[1:] + y_vals[:-1]) * 0.5\n",
    "    cum_values[1:] = np.cumsum(y_mid * np.diff(x_vals))\n",
    "    inv_cdf = interpolate.interp1d(cum_values / np.max(cum_values), x_vals)\n",
    "    r = np.random.rand(n_samples)\n",
    "    return inv_cdf(r)"
   ]
  },
  {
   "cell_type": "code",
   "execution_count": 17,
   "id": "9bed12b6",
   "metadata": {},
   "outputs": [],
   "source": [
    "from ipywidgets import interact, interactive, fixed, interact_manual"
   ]
  },
  {
   "cell_type": "code",
   "execution_count": 18,
   "id": "a1978853",
   "metadata": {},
   "outputs": [
    {
     "data": {
      "application/vnd.jupyter.widget-view+json": {
       "model_id": "81f9295bb3a04c4b9d6c466df015e5f4",
       "version_major": 2,
       "version_minor": 0
      },
      "text/plain": [
       "interactive(children=(FloatSlider(value=5.0, description='time', max=10.0, step=0.01), Checkbox(value=False, d…"
      ]
     },
     "metadata": {},
     "output_type": "display_data"
    }
   ],
   "source": [
    "cols = ['red', 'blue', 'cyan', 'orange']\n",
    "def f(time, legend=False, sample=False, log=False):\n",
    "    plt.figure(figsize=(12,4))\n",
    "    init_spec = model.get_initial_spectra(time*u.s, Enu_vals)\n",
    "    plt.title(f\"time {time} s\")\n",
    "    for c, f in enumerate(Flavor):\n",
    "        plt.plot(Enu_vals, init_spec[f]*1e-62, color=cols[c])\n",
    "        if sample:\n",
    "            sampled = _inverse_transform_sampling(Enu_vals, init_spec[f], 1)\n",
    "            plt.axvline(sampled, color=cols[c], label=f.to_tex()+f\" {sampled[0]:.2f} MeV\")\n",
    "#     plt.ylim(1e-5, 10)\n",
    "    if legend:\n",
    "        plt.legend()\n",
    "    plt.ylabel(fr\"flux * 10^{62}\")\n",
    "    plt.xlabel(\"MeV\")\n",
    "    if log:\n",
    "        plt.yscale(\"log\")\n",
    "    \n",
    "interactive_plot = interactive(f, time=(0,10,0.01),)\n",
    "interactive_plot"
   ]
  },
  {
   "cell_type": "markdown",
   "id": "0fb90d84",
   "metadata": {},
   "source": [
    "This might be same as sampling from the luminosity, ultimately, they have the same distribution."
   ]
  },
  {
   "cell_type": "code",
   "execution_count": 19,
   "id": "c6f26fa8",
   "metadata": {},
   "outputs": [
    {
     "data": {
      "application/vnd.jupyter.widget-view+json": {
       "model_id": "a23394bb28f34b56a555df99480f242a",
       "version_major": 2,
       "version_minor": 0
      },
      "text/plain": [
       "  0%|          | 0/4 [00:00<?, ?it/s]"
      ]
     },
     "metadata": {},
     "output_type": "display_data"
    },
    {
     "data": {
      "application/vnd.jupyter.widget-view+json": {
       "model_id": "",
       "version_major": 2,
       "version_minor": 0
      },
      "text/plain": [
       "$\\nu_e$:   0%|          | 0/9850 [00:00<?, ?it/s]"
      ]
     },
     "metadata": {},
     "output_type": "display_data"
    },
    {
     "data": {
      "application/vnd.jupyter.widget-view+json": {
       "model_id": "",
       "version_major": 2,
       "version_minor": 0
      },
      "text/plain": [
       "$\\overline{\\nu}_e$:   0%|          | 0/9850 [00:00<?, ?it/s]"
      ]
     },
     "metadata": {},
     "output_type": "display_data"
    },
    {
     "data": {
      "application/vnd.jupyter.widget-view+json": {
       "model_id": "",
       "version_major": 2,
       "version_minor": 0
      },
      "text/plain": [
       "$\\nu_x$:   0%|          | 0/9850 [00:00<?, ?it/s]"
      ]
     },
     "metadata": {},
     "output_type": "display_data"
    },
    {
     "data": {
      "application/vnd.jupyter.widget-view+json": {
       "model_id": "",
       "version_major": 2,
       "version_minor": 0
      },
      "text/plain": [
       "$\\overline{\\nu}_x$:   0%|          | 0/9850 [00:00<?, ?it/s]"
      ]
     },
     "metadata": {},
     "output_type": "display_data"
    },
    {
     "name": "stdout",
     "output_type": "stream",
     "text": [
      "CPU times: user 1min 14s, sys: 1.63 s, total: 1min 15s\n",
      "Wall time: 1min 13s\n"
     ]
    }
   ],
   "source": [
    "%%time\n",
    "# integrate the fluxes over all times\n",
    "sampled_times = model.time #[::50]\n",
    "_testflux = model.get_initial_spectra(sampled_times[0], Enu_vals[0])[Flavor.NU_E]\n",
    "_fluxes = np.zeros((len(sampled_times), len(Enu_vals))) * _testflux.unit\n",
    "_fluxes = {f:_fluxes.copy() for f in Flavor}\n",
    "\n",
    "for f in tqdm(Flavor, total=4):\n",
    "    for i, sec in tqdm(enumerate(sampled_times), total=len(sampled_times), desc=f.to_tex(), leave=False):\n",
    "        _fluxes_dict = model.get_initial_spectra(sec, Enu_vals)\n",
    "        _fluxes[f][i,:] = _fluxes_dict[f]\n",
    "\n",
    "time_integrated_fluxes = {f:np.trapz(_fluxes[f], sampled_times, axis=0) for f in Flavor}"
   ]
  },
  {
   "cell_type": "code",
   "execution_count": 20,
   "id": "e79394e4",
   "metadata": {},
   "outputs": [
    {
     "data": {
      "application/vnd.jupyter.widget-view+json": {
       "model_id": "65009391079642bc89ffa2729a4db077",
       "version_major": 2,
       "version_minor": 0
      },
      "text/plain": [
       "  0%|          | 0/9850 [00:00<?, ?it/s]"
      ]
     },
     "metadata": {},
     "output_type": "display_data"
    }
   ],
   "source": [
    "neutrino_energy_sampling = np.linspace(0,200,300)*u.MeV\n",
    "time_fluxes = {f:np.zeros(shape=(len(model.time), len(neutrino_energy_sampling)))*_fluxes[f].unit for f in Flavor}\n",
    "for i, t in tqdm(enumerate(model.time), total=len(model.time)):\n",
    "    for f in Flavor:\n",
    "        time_fluxes[f][i] = np.interp(neutrino_energy_sampling, Enu_vals, _fluxes[f][i,:])\n",
    "        \n",
    "neutrino_energy_sampling = np.linspace(0,200,300)*u.MeV\n",
    "xsecs = nN_cross_section(neutrino_energy_sampling, Er_vals).to(u.m**2 / u.MeV)\n",
    "xsecs_integrated = np.trapz(xsecs, Er_vals, axis=0)\n",
    "        \n",
    "time_fluxes_integrated = {}\n",
    "time_fluxes_integrated = {f:np.trapz(time_fluxes[f].to(u.MeV**-1 * u.s**-1)*xsecs_integrated, \n",
    "                                     neutrino_energy_sampling, axis=-1).to(u.m**2/u.s) for f in Flavor}\n",
    "\n",
    "_total = np.zeros_like(time_fluxes_integrated[f])\n",
    "for f in Flavor:\n",
    "    _total += time_fluxes_integrated[f]\n",
    "time_fluxes_integrated[\"Total\"] = _total"
   ]
  },
  {
   "cell_type": "code",
   "execution_count": 22,
   "id": "4b1ddfd0",
   "metadata": {},
   "outputs": [
    {
     "name": "stdout",
     "output_type": "stream",
     "text": [
      "CPU times: user 7.74 ms, sys: 357 µs, total: 8.1 ms\n",
      "Wall time: 6.26 ms\n"
     ]
    }
   ],
   "source": [
    "%%time\n",
    "# sampled_time = _inverse_transform_sampling(model.time, time_fluxes_integrated[\"Total\"], 50000)\n",
    "\n",
    "# flat time sampling, cause we actually don't care this part. We only detect the times, where we can detect the times.\n",
    "sampled_time = _inverse_transform_sampling(model.time, np.repeat(1, len(model.time)), 50000)"
   ]
  },
  {
   "cell_type": "code",
   "execution_count": 23,
   "id": "15f2255d",
   "metadata": {
    "scrolled": true
   },
   "outputs": [
    {
     "name": "stdout",
     "output_type": "stream",
     "text": [
      "CPU times: user 1min 40s, sys: 0 ns, total: 1min 40s\n",
      "Wall time: 1min 40s\n"
     ]
    }
   ],
   "source": [
    "%%time\n",
    "sampled_enu = np.zeros(len(sampled_time))*Enu_vals.unit\n",
    "\n",
    "for i, t in enumerate(sampled_time):\n",
    "    init_spec = model.get_initial_spectra(t*u.s, Enu_vals)\n",
    "    sampled_enu[i] = _inverse_transform_sampling(Enu_vals, init_spec[Flavor.NU_E], 1)*u.MeV"
   ]
  },
  {
   "cell_type": "code",
   "execution_count": 24,
   "id": "4dd5212f",
   "metadata": {},
   "outputs": [],
   "source": [
    "Er_vals = np.linspace(0,15,150)*u.keV\n",
    "xsec_for_sampled = nN_cross_section(sampled_enu, Er_vals)\n",
    "sampled_Er = np.zeros(len(sampled_enu))\n",
    "for i, enu in enumerate(sampled_enu):\n",
    "    sampled_Er[i] = _inverse_transform_sampling(Er_vals, xsec_for_sampled[:,i], 1)"
   ]
  },
  {
   "cell_type": "code",
   "execution_count": 27,
   "id": "b3a03d32",
   "metadata": {},
   "outputs": [
    {
     "data": {
      "text/plain": [
       "Text(0, 0.5, 'Rate')"
      ]
     },
     "execution_count": 27,
     "metadata": {},
     "output_type": "execute_result"
    },
    {
     "data": {
      "image/png": "[encoded data removed]",
      "text/plain": [
       "<Figure size 864x288 with 1 Axes>"
      ]
     },
     "metadata": {
      "needs_background": "light"
     },
     "output_type": "display_data"
    }
   ],
   "source": [
    "plt.figure(figsize=(12,4))\n",
    "a, b = np.histogram(sampled_Er, bins=70);\n",
    "plt.plot(b[:-1], a/np.max(a))\n",
    "plt.xlabel(\"Recoil Energy [keV]\")\n",
    "plt.ylabel(\"Rate\")"
   ]
  },
  {
   "cell_type": "code",
   "execution_count": null,
   "id": "1874abbe",
   "metadata": {},
   "outputs": [],
   "source": []
  },
  {
   "cell_type": "code",
   "execution_count": null,
   "id": "7bef719e",
   "metadata": {},
   "outputs": [],
   "source": []
  },
  {
   "cell_type": "code",
   "execution_count": null,
   "id": "940d62c9",
   "metadata": {},
   "outputs": [],
   "source": []
  },
  {
   "cell_type": "code",
   "execution_count": 33,
   "id": "7b5ae930",
   "metadata": {},
   "outputs": [
    {
     "data": {
      "text/plain": [
       "Text(0, 0.5, 'Rate')"
      ]
     },
     "execution_count": 33,
     "metadata": {},
     "output_type": "execute_result"
    },
    {
     "data": {
      "image/png": "[encoded data removed]",
      "text/plain": [
       "<Figure size 864x288 with 1 Axes>"
      ]
     },
     "metadata": {
      "needs_background": "light"
     },
     "output_type": "display_data"
    }
   ],
   "source": [
    "plt.figure(figsize=(12,4))\n",
    "a, b = np.histogram(sampled_Er, bins=70);\n",
    "plt.plot(b[:-1], a/np.max(a))\n",
    "plt.xlabel(\"Recoil Energy [keV]\")\n",
    "plt.ylabel(\"Rate\")"
   ]
  },
  {
   "cell_type": "code",
   "execution_count": null,
   "id": "eda82058",
   "metadata": {},
   "outputs": [],
   "source": []
  },
  {
   "cell_type": "code",
   "execution_count": null,
   "id": "1870b1c4",
   "metadata": {},
   "outputs": [],
   "source": []
  },
  {
   "cell_type": "code",
   "execution_count": null,
   "id": "e257bdf4",
   "metadata": {},
   "outputs": [],
   "source": []
  },
  {
   "cell_type": "code",
   "execution_count": null,
   "id": "d85f354a",
   "metadata": {},
   "outputs": [],
   "source": []
  },
  {
   "cell_type": "code",
   "execution_count": null,
   "id": "bb32cd9a",
   "metadata": {},
   "outputs": [],
   "source": [
    "# define some neutrino energies\n",
    "Enu_vals = np.linspace(0,150,100)*u.MeV\n",
    "ispec_t = model.get_initial_spectra(50*u.ms, Enu_vals) # init spect, oscillated possible\n",
    "fluxunit = ispec_t[Flavor.NU_E].unit\n",
    "\n",
    "# for different times, it does not work, so we tweak\n",
    "# notice, the times are way too much, so we sparse it\n",
    "_times = times #[::10]\n",
    "# construct a dictionary containing each {flavorname-array} pairs for each flavor\n",
    "ispec_E = {f:np.zeros(len(_times))*fluxunit for f in Flavor}\n",
    "for i, t in tqdm(enumerate(_times), total=len(_times)):\n",
    "    temp = model.get_initial_spectra(t, 10*u.MeV)\n",
    "    for f in Flavor:\n",
    "        ispec_E[f][i] = temp[f]"
   ]
  },
  {
   "cell_type": "code",
   "execution_count": null,
   "id": "92d4cc8f",
   "metadata": {},
   "outputs": [],
   "source": [
    "from scipy.special import loggamma\n",
    "\n",
    "# this function takes the spectra and scales for distance\n",
    "def nu_flux(model, t, Enu_arr, distance=10*u.kpc, flavors=Flavor):\n",
    "    \"\"\" Neutrino flux for a given neutrino energy at a given time\n",
    "        t         : time (need units)\n",
    "        Enu_arr   : neutrino energies (need units)\n",
    "        dist      : the distance to the SN (need units)\n",
    "\n",
    "    Returns\n",
    "    dictionary containing each flavor\n",
    "        fluxes at each energies at a given time in units of [1/MeV/m/s]\n",
    "    \"\"\"\n",
    "    initial_spectra = model.get_initial_spectra(t, Enu_arr, flavors=flavors)\n",
    "    # initial_spectra has the fluxes at the source, we scale by distance\n",
    "    for f in flavors:\n",
    "        initial_spectra[f] /= (distance**2).to(u.m**2) * 4*np.pi\n",
    "    return initial_spectra"
   ]
  },
  {
   "cell_type": "code",
   "execution_count": null,
   "id": "282b1855",
   "metadata": {},
   "outputs": [],
   "source": [
    "%%time\n",
    "# integrate the fluxes over all times\n",
    "sampled_times = model.time #[::50]\n",
    "_testflux = model.get_initial_spectra(sampled_times[0], Enu_vals[0])[Flavor.NU_E]\n",
    "_fluxes = np.zeros((len(sampled_times), len(Enu_vals))) * _testflux.unit\n",
    "_fluxes = {f:_fluxes.copy() for f in Flavor}\n",
    "\n",
    "for f in tqdm(Flavor, total=4):\n",
    "    for i, sec in tqdm(enumerate(sampled_times), total=len(sampled_times), desc=f.to_tex(), leave=False):\n",
    "        _fluxes_dict = model.get_initial_spectra(sec, Enu_vals)\n",
    "        _fluxes[f][i,:] = _fluxes_dict[f]"
   ]
  },
  {
   "cell_type": "code",
   "execution_count": null,
   "id": "8d50f1b2",
   "metadata": {},
   "outputs": [],
   "source": [
    "time_integrated_fluxes = {f:np.trapz(_fluxes[f], sampled_times, axis=0) for f in Flavor}"
   ]
  },
  {
   "cell_type": "code",
   "execution_count": null,
   "id": "e05c54e8",
   "metadata": {},
   "outputs": [],
   "source": [
    "# time_integfluxes_MeV = time_integrated_fluxes.to(1/u.MeV)\n",
    "time_integfluxes_MeV = {f:time_integrated_fluxes[f].to(1/u.MeV) for f in Flavor}\n",
    "def dRdEr_integrand(Enu, Er, f=Flavor.NU_E):\n",
    "    \"\"\" integration passes both in MeV\n",
    "    \"\"\"\n",
    "    # first get the cross-section\n",
    "    xsec = nN_cross_section(np.array([Enu])*u.MeV, [Er]*u.MeV)[0]\n",
    "    xsecval = xsec.to(u.m**2 / u.MeV).value # m^2/MeV\n",
    "    flux_t = np.interp(Enu, Enu_vals.value, time_integfluxes_MeV[f].value)\n",
    "    return flux_t * xsecval\n",
    "\n",
    "import scipy.integrate as sintegrate\n",
    "@np.vectorize\n",
    "def dRdEr(ErMeV):\n",
    "    \"\"\" Er has to be in MeV\n",
    "    \"\"\"\n",
    "    minE = np.sqrt(0.5*m_Nval.to_value(\"MeV\")*ErMeV)\n",
    "    y, err = sintegrate.quad(dRdEr_integrand, minE, 100, args=(ErMeV)) \n",
    "    return y"
   ]
  },
  {
   "cell_type": "code",
   "execution_count": null,
   "id": "91a1aa48",
   "metadata": {},
   "outputs": [],
   "source": [
    "N_Xe = 4.6e27*u.count/u.tonne\n",
    "scale = (4*np.pi*(10*u.kpc)**2).to(u.m**2)"
   ]
  },
  {
   "cell_type": "code",
   "execution_count": null,
   "id": "2b1718b6",
   "metadata": {},
   "outputs": [],
   "source": [
    "neutrino_energy_sampling = np.linspace(0,200,300)*u.MeV\n",
    "xsec = nN_cross_section(neutrino_energy_sampling, [0.001]*u.MeV)[0].to(u.m**2 / u.MeV)\n",
    "flux = np.interp(neutrino_energy_sampling, Enu_vals, time_integfluxes_MeV[Flavor.NU_E])\n",
    "value = np.trapz((xsec*flux), neutrino_energy_sampling)"
   ]
  },
  {
   "cell_type": "code",
   "execution_count": null,
   "id": "20330b91",
   "metadata": {},
   "outputs": [],
   "source": [
    "test = {f:np.zeros(len(Er_vals))*(u.m**2/u.keV) for f in Flavor}\n",
    "flux = {f:np.interp(neutrino_energy_sampling, Enu_vals, time_integfluxes_MeV[f]) for f in Flavor}\n",
    "\n",
    "for f in Flavor:\n",
    "    for i, Er in enumerate(Er_vals):\n",
    "        xsec = nN_cross_section(neutrino_energy_sampling, [Er.value]*Er.unit)[0]\n",
    "        test[f][i] = np.trapz((xsec*flux[f]), neutrino_energy_sampling).to(u.m**2/u.keV)\n",
    "    plt.plot(Er_vals, test[f]*N_Xe/scale)\n",
    "    \n",
    "plt.xlabel(f'[{Er_vals.unit}]')\n",
    "plt.ylabel(f\"{test[f].unit}\");"
   ]
  },
  {
   "cell_type": "code",
   "execution_count": null,
   "id": "113e67a5",
   "metadata": {},
   "outputs": [],
   "source": [
    "interpolate_Enu = np.interp(123, Enu_vals.value, _fluxes[Flavor.NU_E][0,:])"
   ]
  },
  {
   "cell_type": "code",
   "execution_count": null,
   "id": "da2575ad",
   "metadata": {},
   "outputs": [],
   "source": [
    "neutrino_energy_sampling = np.linspace(0,200,300)*u.MeV\n",
    "time_fluxes = {f:np.zeros(shape=(len(model.time), len(neutrino_energy_sampling)))*_fluxes[f].unit for f in Flavor}\n",
    "for i, t in tqdm(enumerate(model.time), total=len(model.time)):\n",
    "    for f in Flavor:\n",
    "        time_fluxes[f][i] = np.interp(neutrino_energy_sampling, Enu_vals, _fluxes[f][i,:])"
   ]
  },
  {
   "cell_type": "code",
   "execution_count": null,
   "id": "e6eb2a56",
   "metadata": {},
   "outputs": [],
   "source": [
    "neutrino_energy_sampling = np.linspace(0,200,300)*u.MeV\n",
    "xsecs = nN_cross_section(neutrino_energy_sampling, Er_vals).to(u.m**2 / u.MeV)\n",
    "xsecs.shape, xsecs.unit"
   ]
  },
  {
   "cell_type": "code",
   "execution_count": null,
   "id": "1f2a5cfa",
   "metadata": {},
   "outputs": [],
   "source": [
    "xsecs_integrated = np.trapz(xsecs, Er_vals, axis=0)"
   ]
  },
  {
   "cell_type": "code",
   "execution_count": null,
   "id": "8707f6de",
   "metadata": {},
   "outputs": [],
   "source": [
    "time_fluxes_integrated = {}\n",
    "time_fluxes_integrated = {f:np.trapz(time_fluxes[f].to(u.MeV**-1 * u.s**-1)*xsecs_integrated, \n",
    "                                     neutrino_energy_sampling, axis=-1).to(u.m**2/u.s) for f in Flavor}\n",
    "\n",
    "_total = np.zeros_like(time_fluxes_integrated[f])\n",
    "for f in Flavor:\n",
    "    _total += time_fluxes_integrated[f]\n",
    "time_fluxes_integrated[\"Total\"] = _total"
   ]
  },
  {
   "cell_type": "code",
   "execution_count": null,
   "id": "bc6f002a",
   "metadata": {},
   "outputs": [],
   "source": [
    "def get_rates(model, \n",
    "              neutrino_energies=np.linspace(0,200,300)*u.MeV, \n",
    "              recoil_energies=np.linspace(0,20,100)*u.keV, \n",
    "              plot=True,\n",
    "              distance=10*u.kpc):\n",
    "    N_Xe = 4.6e27*u.count/u.tonne\n",
    "    scale = (4*np.pi*(distance)**2).to(u.m**2)\n",
    "    flux_unit = model.get_initial_spectra(1*u.s, 100*u.MeV)[Flavor.NU_E].unit\n",
    "    _fluxes2 = np.zeros((len(model.time), len(neutrino_energies))) * flux_unit\n",
    "    _fluxes2 = {f:_fluxes2.copy() for f in Flavor}\n",
    "\n",
    "    # get fluxes at each time and at each neutrino energy\n",
    "    for f in tqdm(Flavor, total=len(Flavor)):\n",
    "        for i, sec in tqdm(enumerate(model.time), total=len(model.time), desc=f.to_tex(), leave=False):\n",
    "            _fluxes_dict = model.get_initial_spectra(sec, neutrino_energies)\n",
    "            _fluxes2[f][i,:] = _fluxes_dict[f]\n",
    "\n",
    "    # get rates per recoil energy after SN duration\n",
    "    rates_per_Er = {f:np.zeros(len(recoil_energies)) for f in Flavor}\n",
    "    # integrate over time\n",
    "    fluxes_per_Er = {f:np.trapz(_fluxes2[f], model.time, axis=0).to(1/u.keV) for f in Flavor} \n",
    "    # get cross sections\n",
    "    xsecs = nN_cross_section(neutrino_energies, recoil_energies)\n",
    "    \n",
    "    integ = {f:(xsecs*fluxes_per_Er[f]) for f in Flavor}\n",
    "    rates_per_Er = {f:np.trapz(integ[f], neutrino_energies, axis=1).to(u.m**2/u.keV) for f in Flavor}\n",
    "\n",
    "    # get rates per time, from all neutrino energies\n",
    "    # integrate over recoil energies\n",
    "    xsecs_integrated = np.trapz(xsecs, recoil_energies, axis=0) \n",
    "    flux_x_xsec = {f:_fluxes2[f]*xsecs_integrated for f in Flavor}\n",
    "    # integrate over nu energies\n",
    "    rates_per_t = {f:np.trapz(flux_x_xsec[f], neutrino_energies, axis=1).to(u.m**2/u.s) for f in Flavor} \n",
    "    total_flux = np.zeros_like(rates_per_t[Flavor.NU_E])\n",
    "\n",
    "    # add the total fluxes\n",
    "    for rate in [rates_per_Er, rates_per_t]:\n",
    "        total_flux = np.zeros_like(rate[Flavor.NU_E])\n",
    "        for f in Flavor:\n",
    "            if not f.is_electron:\n",
    "                _rate = rate[f]*2 # x-neutrinos are for muan and tau\n",
    "            else:\n",
    "                _rate = rate[f]\n",
    "            total_flux += _rate #[f]\n",
    "        rate[\"Total\"] = total_flux\n",
    "            \n",
    "    # add some more info\n",
    "    rates_per_Er = {**rates_per_Er, **model.metadata}\n",
    "    rates_per_t = {**rates_per_t, **model.metadata}\n",
    "    rates_per_Er[\"distance\"] = distance\n",
    "    rates_per_t[\"distance\"] = distance\n",
    "    \n",
    "    # plot if asked\n",
    "    title_text = (repr(model._repr_markdown_)).split(\"_repr_markdown_ of\")[1].split(\"\\n\")[0]\n",
    "    if plot:\n",
    "        fig, (ax1,ax2) = plt.subplots(ncols=2, figsize=(18,6))\n",
    "        for f in Flavor:\n",
    "            ax1.semilogx(model.time, rates_per_t[f]*N_Xe/scale, label=f.to_tex())\n",
    "            ax2.plot(recoil_energies, rates_per_Er[f]*N_Xe/scale, label=f.to_tex())\n",
    "        ax1.semilogx(model.time, rates_per_t[\"Total\"]*N_Xe/scale, label=\"Total\")\n",
    "        ax2.plot(recoil_energies, rates_per_Er[\"Total\"]*N_Xe/scale, label=\"Total\")\n",
    "        ax1.legend(ncol=2, fontsize=15);  ax2.legend(ncol=5, fontsize=15);\n",
    "        ax1.set(xlabel=model.time.unit, ylabel=(rates_per_t[f]*N_Xe/scale).unit, title=title_text)\n",
    "        ax2.set(xlabel=recoil_energies.unit, ylabel=(rates_per_Er[f]*N_Xe/scale).unit, title=title_text)\n",
    "        ax1.tick_params(axis='both', which='major', labelsize=17)\n",
    "        ax2.tick_params(axis='both', which='major', labelsize=17)\n",
    "        ax1.xaxis.label.set_size(17); ax2.xaxis.label.set_size(17)\n",
    "        ax1.yaxis.label.set_size(17); ax2.yaxis.label.set_size(17)\n",
    "        xlim = ax2.set_xlim(); ylim = ax2.set_ylim()\n",
    "        text = \"\\n\".join([f\"{k:>15}:{v:<10}\" for k,v in model.metadata.items()])\n",
    "        ax2.text(np.mean(xlim)-np.mean(xlim)/2, np.mean(ylim), text, fontsize=17)\n",
    "    rates_per_Er[\"name\"] = title_text\n",
    "    rates_per_t[\"name\"] = title_text\n",
    "    return rates_per_Er, rates_per_t"
   ]
  },
  {
   "cell_type": "markdown",
   "id": "75c4b37d",
   "metadata": {},
   "source": [
    "---"
   ]
  },
  {
   "cell_type": "code",
   "execution_count": null,
   "id": "8b36be13",
   "metadata": {},
   "outputs": [],
   "source": [
    "from scipy import interpolate\n",
    "def _inverse_transform_sampling(x_vals, y_vals, n_samples):\n",
    "    cum_values = np.zeros(x_vals.shape)\n",
    "    y_mid = (y_vals[1:] + y_vals[:-1]) * 0.5\n",
    "    cum_values[1:] = np.cumsum(y_mid * np.diff(x_vals))\n",
    "    inv_cdf = interpolate.interp1d(cum_values / np.max(cum_values), x_vals)\n",
    "    r = np.random.rand(n_samples)\n",
    "    return inv_cdf(r)"
   ]
  },
  {
   "cell_type": "code",
   "execution_count": null,
   "id": "826a5eea",
   "metadata": {},
   "outputs": [],
   "source": [
    "plt.plot(model.time, time_fluxes_integrated[\"Total\"]);"
   ]
  },
  {
   "cell_type": "code",
   "execution_count": null,
   "id": "42b9f109",
   "metadata": {},
   "outputs": [],
   "source": [
    "sampled_time = _inverse_transform_sampling(model.time, time_fluxes_integrated[\"Total\"], 10000)"
   ]
  },
  {
   "cell_type": "code",
   "execution_count": null,
   "id": "eed60873",
   "metadata": {},
   "outputs": [],
   "source": [
    "fig, ax = plt.subplots(figsize=(11,5))\n",
    "for flavor in Flavor:\n",
    "    kwargs = dict(label=flavor.to_tex(), color='C0' if flavor.is_electron else 'C1',\n",
    "                  ls='-' if flavor.is_neutrino else ':', lw=2, alpha=0.7)\n",
    "    ax.plot(model.time, meanE[flavor], **kwargs)\n",
    "\n",
    "ax.set_xscale('log')\n",
    "ax.legend(loc='upper left', ncol=2, fontsize=16)\n",
    "ax.set(ylabel=r'mean $\\nu$ E [MeV]', xlabel='time [s]');"
   ]
  },
  {
   "cell_type": "code",
   "execution_count": null,
   "id": "54f02599",
   "metadata": {},
   "outputs": [],
   "source": [
    "sampled_meanE = np.interp(sampled_time*u.s, model.time, model.meanE[Flavor.NU_E])"
   ]
  },
  {
   "cell_type": "code",
   "execution_count": null,
   "id": "a2c846c3",
   "metadata": {},
   "outputs": [],
   "source": [
    "plt.figure(figsize=(17,5))\n",
    "plt.grid(False)\n",
    "cb = plt.pcolormesh(cs_test*1e43, cmap='PuBu') #,norm=matplotlib.colors.LogNorm())\n",
    "plt.xlabel(r'E$_\\nu$ [MeV]', fontsize=16); plt.ylabel(r'E$_r$ [keV]', fontsize=16);\n",
    "cbb = plt.colorbar(cb)\n",
    "cbb.set_label('cross-section\\n' \n",
    "              fr'[x$10^{{43}}$ {cs_test.unit}]', fontsize=16);\n",
    "plt.xticks(ticks=np.arange(0,100,10));\n",
    "plt.yticks(ticks=np.arange(0,150,10), labels=np.arange(0,15,1));\n",
    "for e in sampled_meanE[::10]:\n",
    "    plt.axvline(e.value, color='r', lw=0.5, alpha=0.5)\n",
    "    \n",
    "plt.xlim(0, 15);"
   ]
  },
  {
   "cell_type": "code",
   "execution_count": null,
   "id": "1f24de73",
   "metadata": {},
   "outputs": [],
   "source": []
  },
  {
   "cell_type": "code",
   "execution_count": null,
   "id": "2b3cb496",
   "metadata": {},
   "outputs": [],
   "source": [
    "Er_vals = np.linspace(0,15,150)*u.keV\n",
    "xsec_for_sampled = nN_cross_section(sampled_meanE, Er_vals)"
   ]
  },
  {
   "cell_type": "code",
   "execution_count": null,
   "id": "504c3c6d",
   "metadata": {},
   "outputs": [],
   "source": [
    "Er_vals.shape, sampled_meanE.shape, xsec_for_sampled.shape"
   ]
  },
  {
   "cell_type": "code",
   "execution_count": null,
   "id": "1f416253",
   "metadata": {},
   "outputs": [],
   "source": [
    "for i, _ in enumerate(sampled_meanE[::200]): \n",
    "    plt.plot(Er_vals, xsec_for_sampled[:,i])"
   ]
  },
  {
   "cell_type": "code",
   "execution_count": null,
   "id": "51c6edeb",
   "metadata": {},
   "outputs": [],
   "source": []
  },
  {
   "cell_type": "code",
   "execution_count": null,
   "id": "c8fabba2",
   "metadata": {},
   "outputs": [],
   "source": [
    "sampled_Er = np.zeros(len(sampled_meanE))\n",
    "for i, meane in enumerate(sampled_meanE):\n",
    "    sampled_Er[i] = _inverse_transform_sampling(Er_vals, xsec_for_sampled[:,i], 1)"
   ]
  },
  {
   "cell_type": "code",
   "execution_count": null,
   "id": "0d74e39d",
   "metadata": {},
   "outputs": [],
   "source": [
    "a, b = np.histogram(sampled_Er, bins=70);\n",
    "plt.plot(b[:-1], a/a.max())\n",
    "plt.xlabel(\"Recoil Energy [keV]\")\n",
    "plt.ylabel(\"Rate\")"
   ]
  },
  {
   "cell_type": "code",
   "execution_count": null,
   "id": "0ec8ba5b",
   "metadata": {},
   "outputs": [],
   "source": []
  }
 ],
 "metadata": {
  "kernelspec": {
   "display_name": "snax",
   "language": "python",
   "name": "snax"
  },
  "language_info": {
   "codemirror_mode": {
    "name": "ipython",
    "version": 3
   },
   "file_extension": ".py",
   "mimetype": "text/x-python",
   "name": "python",
   "nbconvert_exporter": "python",
   "pygments_lexer": "ipython3",
   "version": "3.9.12"
  }
 },
 "nbformat": 4,
 "nbformat_minor": 5
}
