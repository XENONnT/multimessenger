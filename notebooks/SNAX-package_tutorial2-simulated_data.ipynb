{
 "cells": [
  {
   "cell_type": "markdown",
   "id": "f8e243c3",
   "metadata": {},
   "source": [
    "# SNAX package tutorial"
   ]
  },
  {
   "cell_type": "code",
   "execution_count": 1,
   "id": "74ea98fb",
   "metadata": {},
   "outputs": [],
   "source": [
    "from snewpy.neutrino import Flavor\n",
    "import os\n",
    "from tqdm.notebook import tqdm\n",
    "import numpy as np\n",
    "from multimessenger.supernova import Supernova_Models as sn\n",
    "from multimessenger.supernova.Plotter import Plotter\n",
    "import plotly.express as px\n",
    "import astropy.units as u\n",
    "import matplotlib.pyplot as plt\n",
    "from matplotlib.colors import LogNorm"
   ]
  },
  {
   "cell_type": "code",
   "execution_count": 2,
   "id": "066ecadc",
   "metadata": {},
   "outputs": [
    {
     "name": "stderr",
     "output_type": "stream",
     "text": [
      "*** Detector definition message ***\n",
      "You are currently using the default XENON10 template detector.\n",
      "\n"
     ]
    },
    {
     "data": {
      "text/html": [
       "<div>\n",
       "<style scoped>\n",
       "    .dataframe tbody tr th:only-of-type {\n",
       "        vertical-align: middle;\n",
       "    }\n",
       "\n",
       "    .dataframe tbody tr th {\n",
       "        vertical-align: top;\n",
       "    }\n",
       "\n",
       "    .dataframe thead th {\n",
       "        text-align: right;\n",
       "    }\n",
       "</style>\n",
       "<table border=\"1\" class=\"dataframe\">\n",
       "  <thead>\n",
       "    <tr style=\"text-align: right;\">\n",
       "      <th></th>\n",
       "      <th>module</th>\n",
       "      <th>version</th>\n",
       "      <th>path</th>\n",
       "      <th>git</th>\n",
       "    </tr>\n",
       "  </thead>\n",
       "  <tbody>\n",
       "    <tr>\n",
       "      <th>0</th>\n",
       "      <td>python</td>\n",
       "      <td>3.8.13</td>\n",
       "      <td>/opt/XENONnT/anaconda/envs/XENONnT_development...</td>\n",
       "      <td>None</td>\n",
       "    </tr>\n",
       "    <tr>\n",
       "      <th>1</th>\n",
       "      <td>strax</td>\n",
       "      <td>1.2.3</td>\n",
       "      <td>/opt/XENONnT/anaconda/envs/XENONnT_development...</td>\n",
       "      <td>None</td>\n",
       "    </tr>\n",
       "    <tr>\n",
       "      <th>2</th>\n",
       "      <td>straxen</td>\n",
       "      <td>1.8.3</td>\n",
       "      <td>/opt/XENONnT/anaconda/envs/XENONnT_development...</td>\n",
       "      <td>None</td>\n",
       "    </tr>\n",
       "    <tr>\n",
       "      <th>3</th>\n",
       "      <td>cutax</td>\n",
       "      <td>1.13.0</td>\n",
       "      <td>/dali/lgrandi/xenonnt/software/cutax/latest/cutax</td>\n",
       "      <td>None</td>\n",
       "    </tr>\n",
       "    <tr>\n",
       "      <th>4</th>\n",
       "      <td>wfsim</td>\n",
       "      <td>1.0.1</td>\n",
       "      <td>/home/melih/software/WFSim/wfsim</td>\n",
       "      <td>branch:master | d72c1b3</td>\n",
       "    </tr>\n",
       "  </tbody>\n",
       "</table>\n",
       "</div>"
      ],
      "text/plain": [
       "    module version                                               path  \\\n",
       "0   python  3.8.13  /opt/XENONnT/anaconda/envs/XENONnT_development...   \n",
       "1    strax   1.2.3  /opt/XENONnT/anaconda/envs/XENONnT_development...   \n",
       "2  straxen   1.8.3  /opt/XENONnT/anaconda/envs/XENONnT_development...   \n",
       "3    cutax  1.13.0  /dali/lgrandi/xenonnt/software/cutax/latest/cutax   \n",
       "4    wfsim   1.0.1                   /home/melih/software/WFSim/wfsim   \n",
       "\n",
       "                       git  \n",
       "0                     None  \n",
       "1                     None  \n",
       "2                     None  \n",
       "3                     None  \n",
       "4  branch:master | d72c1b3  "
      ]
     },
     "execution_count": 2,
     "metadata": {},
     "output_type": "execute_result"
    }
   ],
   "source": [
    "import straxen\n",
    "straxen.print_versions(('strax', 'straxen', 'cutax', 'wfsim'))"
   ]
  },
  {
   "cell_type": "markdown",
   "id": "64664662",
   "metadata": {},
   "source": [
    "The `SNAX` is a wrapper around `snewpy` and it allows to compute CEvNS rates for all the snewpy models."
   ]
  },
  {
   "cell_type": "markdown",
   "id": "3f63e928",
   "metadata": {},
   "source": [
    "Each model contains variuous simulations with e.g. different EoS, or different progenitor properties. <br>\n",
    "When only `model_name` is passed to `sn.Models()` it displays the existing files and asks you to select one. Otherwise, `filename` or `index` can be passed. <br>\n",
    "Once the model is executed, and after every heavy computation the data is saved, and the next time it is directly fetched from the stored data. <br>\n",
    "The output folder can be specified with the `storage` argument."
   ]
  },
  {
   "cell_type": "code",
   "execution_count": 3,
   "id": "01f5cba1",
   "metadata": {},
   "outputs": [
    {
     "name": "stdout",
     "output_type": "stream",
     "text": [
      "\u001b[34m\u001b[1m> You chose ~wisely~ ->\t   [5]\tnakazato-shen-z0.004-t_rev200ms-s50.0.fits\u001b[0m\n",
      "\u001b[34m> Retrieving object self.storage/Nakazato_2013-nakazato-shen-z0_004-t_rev200ms-s50_0_fits.pickle\u001b[0m\n"
     ]
    }
   ],
   "source": [
    "m = sn.Models(\"Nakazato_2013\", index=5)"
   ]
  },
  {
   "cell_type": "code",
   "execution_count": 4,
   "id": "ddd787c0",
   "metadata": {},
   "outputs": [
    {
     "data": {
      "text/markdown": [
       "**Nakazato_2013 Model**: nakazato-shen-z0.004-t_rev200ms-s50.0.fits\n",
       "\n",
       "|Parameter|Value|\n",
       "|:--------|:----:|\n",
       "|Progenitor mass | $50$ $\\mathrm{M_{\\odot}}$|\n",
       "|EOS | SHEN |\n",
       "|Metallicity | 0.004 |\n",
       "|Revival time | $200$ $\\mathrm{ms}$|\n",
       "|composite | Xenon|\n",
       "|duration | 20.05 s|\n",
       "|distance | 10.0 kpc|\n",
       "|volume | 5.9 t|\n",
       "|executed | True|\n",
       "|SN rate | 81 ct|"
      ],
      "text/plain": [
       "Nakazato_2013 Model: nakazato-shen-z0.004-t_rev200ms-s50.0.fits\n",
       "Progenitor mass  : 50.0 solMass\n",
       "EOS              : SHEN\n",
       "Metallicity      : 0.004\n",
       "Revival time     : 200.0 ms"
      ]
     },
     "execution_count": 4,
     "metadata": {},
     "output_type": "execute_result"
    }
   ],
   "source": [
    "m"
   ]
  },
  {
   "cell_type": "code",
   "execution_count": 5,
   "id": "c575bda7",
   "metadata": {},
   "outputs": [
    {
     "data": {
      "text/html": [
       "<div>\n",
       "<style scoped>\n",
       "    .dataframe tbody tr th:only-of-type {\n",
       "        vertical-align: middle;\n",
       "    }\n",
       "\n",
       "    .dataframe tbody tr th {\n",
       "        vertical-align: top;\n",
       "    }\n",
       "\n",
       "    .dataframe thead th {\n",
       "        text-align: right;\n",
       "    }\n",
       "</style>\n",
       "<table border=\"1\" class=\"dataframe\">\n",
       "  <thead>\n",
       "    <tr style=\"text-align: right;\">\n",
       "      <th></th>\n",
       "      <th>date</th>\n",
       "      <th>version</th>\n",
       "      <th>user</th>\n",
       "      <th>history</th>\n",
       "    </tr>\n",
       "  </thead>\n",
       "  <tbody>\n",
       "    <tr>\n",
       "      <th>0</th>\n",
       "      <td>2022/08/23 - 09:11 UTC</td>\n",
       "      <td>1.2.0</td>\n",
       "      <td>melih</td>\n",
       "      <td>Data Saved!</td>\n",
       "    </tr>\n",
       "    <tr>\n",
       "      <th>1</th>\n",
       "      <td>2022/08/23 - 09:12 UTC</td>\n",
       "      <td>1.2.0</td>\n",
       "      <td>melih</td>\n",
       "      <td>Fluxes computed!</td>\n",
       "    </tr>\n",
       "    <tr>\n",
       "      <th>2</th>\n",
       "      <td>2022/08/23 - 09:12 UTC</td>\n",
       "      <td>1.2.0</td>\n",
       "      <td>melih</td>\n",
       "      <td>Data Saved!</td>\n",
       "    </tr>\n",
       "    <tr>\n",
       "      <th>3</th>\n",
       "      <td>2022/08/23 - 09:13 UTC</td>\n",
       "      <td>1.2.0</td>\n",
       "      <td>melih</td>\n",
       "      <td>simulation Nakazato_single is requested!</td>\n",
       "    </tr>\n",
       "    <tr>\n",
       "      <th>4</th>\n",
       "      <td>2022/08/23 - 09:20 UTC</td>\n",
       "      <td>1.2.0</td>\n",
       "      <td>melih</td>\n",
       "      <td>simulation Nakazato5_highstat is requested!</td>\n",
       "    </tr>\n",
       "  </tbody>\n",
       "</table>\n",
       "</div>"
      ],
      "text/plain": [
       "                     date version   user  \\\n",
       "0  2022/08/23 - 09:11 UTC   1.2.0  melih   \n",
       "1  2022/08/23 - 09:12 UTC   1.2.0  melih   \n",
       "2  2022/08/23 - 09:12 UTC   1.2.0  melih   \n",
       "3  2022/08/23 - 09:13 UTC   1.2.0  melih   \n",
       "4  2022/08/23 - 09:20 UTC   1.2.0  melih   \n",
       "\n",
       "                                       history  \n",
       "0                                  Data Saved!  \n",
       "1                             Fluxes computed!  \n",
       "2                                  Data Saved!  \n",
       "3     simulation Nakazato_single is requested!  \n",
       "4  simulation Nakazato5_highstat is requested!  "
      ]
     },
     "execution_count": 5,
     "metadata": {},
     "output_type": "execute_result"
    }
   ],
   "source": [
    "m.display_history"
   ]
  },
  {
   "cell_type": "code",
   "execution_count": 6,
   "id": "3b8bb0ff",
   "metadata": {},
   "outputs": [],
   "source": [
    "# m.compute_rates()"
   ]
  },
  {
   "cell_type": "markdown",
   "id": "fa994801",
   "metadata": {},
   "source": [
    "These parts are better done in dali/midway. <br>\n"
   ]
  },
  {
   "cell_type": "code",
   "execution_count": 7,
   "id": "f8941f1f",
   "metadata": {},
   "outputs": [
    {
     "name": "stderr",
     "output_type": "stream",
     "text": [
      "*** Detector definition message ***\n",
      "You are currently using the default XENON10 template detector.\n",
      "\n"
     ]
    }
   ],
   "source": [
    "import nestpy\n",
    "import pandas as pd\n",
    "import straxen\n",
    "downloader = straxen.MongoDownloader()\n",
    "field_file=\"fieldmap_2D_B2d75n_C2d75n_G0d3p_A4d9p_T0d9n_PMTs1d3n_FSR0d65p_QPTFE_0d5n_0d4p.json.gz\"\n",
    "field_map = straxen.InterpolatingMap(\n",
    "                    straxen.get_resource(downloader.download_single(field_file),\n",
    "                                         fmt=\"json.gz\"),\n",
    "                    method=\"RegularGridInterpolator\")\n",
    "\n",
    "nc = nestpy.NESTcalc(nestpy.DetectorExample_XENON10())\n",
    "## not sure if nestpy RNG issue was solved, so randomize NEST internal state\n",
    "for i in range(np.random.randint(100)):\n",
    "    nc.GetQuanta(nc.GetYields(energy=np.random.uniform(10,100)))"
   ]
  },
  {
   "cell_type": "markdown",
   "id": "1cb8c70a",
   "metadata": {},
   "source": [
    "Caution, the times need to be passed in nanoseconds!"
   ]
  },
  {
   "cell_type": "markdown",
   "id": "a95ff1d0",
   "metadata": {},
   "source": [
    "## Simulate ~high statistics t-shifted sample"
   ]
  },
  {
   "cell_type": "code",
   "execution_count": 8,
   "id": "8b79e3df",
   "metadata": {},
   "outputs": [],
   "source": [
    "N_events = 3000\n",
    "sampled_Er = m.sample_data(N_events)\n",
    "sampled_t = m.sample_data(N_events, dtype='time')"
   ]
  },
  {
   "cell_type": "code",
   "execution_count": 9,
   "id": "797c6983",
   "metadata": {},
   "outputs": [
    {
     "name": "stderr",
     "output_type": "stream",
     "text": [
      "WARNING: AstropyDeprecationWarning: The truth value of a Quantity is ambiguous. In the future this will raise a ValueError. [astropy.units.quantity]\n",
      "WARNING:astropy:AstropyDeprecationWarning: The truth value of a Quantity is ambiguous. In the future this will raise a ValueError.\n"
     ]
    },
    {
     "name": "stdout",
     "output_type": "stream",
     "text": [
      "Total duration 741.65 seconds\n"
     ]
    },
    {
     "data": {
      "text/html": [
       "<div>\n",
       "<style scoped>\n",
       "    .dataframe tbody tr th:only-of-type {\n",
       "        vertical-align: middle;\n",
       "    }\n",
       "\n",
       "    .dataframe tbody tr th {\n",
       "        vertical-align: top;\n",
       "    }\n",
       "\n",
       "    .dataframe thead th {\n",
       "        text-align: right;\n",
       "    }\n",
       "</style>\n",
       "<table border=\"1\" class=\"dataframe\">\n",
       "  <thead>\n",
       "    <tr style=\"text-align: right;\">\n",
       "      <th></th>\n",
       "      <th>event_number</th>\n",
       "      <th>type</th>\n",
       "      <th>time</th>\n",
       "      <th>x</th>\n",
       "      <th>y</th>\n",
       "      <th>z</th>\n",
       "      <th>amp</th>\n",
       "      <th>recoil</th>\n",
       "      <th>e_dep</th>\n",
       "      <th>g4id</th>\n",
       "      <th>vol_id</th>\n",
       "      <th>local_field</th>\n",
       "      <th>n_excitons</th>\n",
       "      <th>x_pri</th>\n",
       "      <th>y_pri</th>\n",
       "      <th>z_pri</th>\n",
       "    </tr>\n",
       "  </thead>\n",
       "  <tbody>\n",
       "    <tr>\n",
       "      <th>0</th>\n",
       "      <td>1</td>\n",
       "      <td>1</td>\n",
       "      <td>5613500838</td>\n",
       "      <td>56.297447</td>\n",
       "      <td>11.414064</td>\n",
       "      <td>-9.232842</td>\n",
       "      <td>94</td>\n",
       "      <td>7</td>\n",
       "      <td>2.462575</td>\n",
       "      <td>0</td>\n",
       "      <td>0</td>\n",
       "      <td>30.470859</td>\n",
       "      <td>11</td>\n",
       "      <td>0.0</td>\n",
       "      <td>0.0</td>\n",
       "      <td>0.0</td>\n",
       "    </tr>\n",
       "    <tr>\n",
       "      <th>1</th>\n",
       "      <td>1</td>\n",
       "      <td>2</td>\n",
       "      <td>5613500838</td>\n",
       "      <td>56.297447</td>\n",
       "      <td>11.414064</td>\n",
       "      <td>-9.232842</td>\n",
       "      <td>95</td>\n",
       "      <td>7</td>\n",
       "      <td>2.462575</td>\n",
       "      <td>0</td>\n",
       "      <td>0</td>\n",
       "      <td>30.470859</td>\n",
       "      <td>11</td>\n",
       "      <td>0.0</td>\n",
       "      <td>0.0</td>\n",
       "      <td>0.0</td>\n",
       "    </tr>\n",
       "    <tr>\n",
       "      <th>2</th>\n",
       "      <td>2</td>\n",
       "      <td>1</td>\n",
       "      <td>160928631</td>\n",
       "      <td>-8.744976</td>\n",
       "      <td>30.809288</td>\n",
       "      <td>-32.052525</td>\n",
       "      <td>55</td>\n",
       "      <td>7</td>\n",
       "      <td>1.697520</td>\n",
       "      <td>0</td>\n",
       "      <td>0</td>\n",
       "      <td>24.372408</td>\n",
       "      <td>2</td>\n",
       "      <td>0.0</td>\n",
       "      <td>0.0</td>\n",
       "      <td>0.0</td>\n",
       "    </tr>\n",
       "    <tr>\n",
       "      <th>3</th>\n",
       "      <td>2</td>\n",
       "      <td>2</td>\n",
       "      <td>160928631</td>\n",
       "      <td>-8.744976</td>\n",
       "      <td>30.809288</td>\n",
       "      <td>-32.052525</td>\n",
       "      <td>67</td>\n",
       "      <td>7</td>\n",
       "      <td>1.697520</td>\n",
       "      <td>0</td>\n",
       "      <td>0</td>\n",
       "      <td>24.372408</td>\n",
       "      <td>2</td>\n",
       "      <td>0.0</td>\n",
       "      <td>0.0</td>\n",
       "      <td>0.0</td>\n",
       "    </tr>\n",
       "    <tr>\n",
       "      <th>4</th>\n",
       "      <td>3</td>\n",
       "      <td>1</td>\n",
       "      <td>119936267</td>\n",
       "      <td>55.236656</td>\n",
       "      <td>1.650221</td>\n",
       "      <td>-71.289772</td>\n",
       "      <td>262</td>\n",
       "      <td>7</td>\n",
       "      <td>4.787097</td>\n",
       "      <td>0</td>\n",
       "      <td>0</td>\n",
       "      <td>21.748554</td>\n",
       "      <td>14</td>\n",
       "      <td>0.0</td>\n",
       "      <td>0.0</td>\n",
       "      <td>0.0</td>\n",
       "    </tr>\n",
       "    <tr>\n",
       "      <th>...</th>\n",
       "      <td>...</td>\n",
       "      <td>...</td>\n",
       "      <td>...</td>\n",
       "      <td>...</td>\n",
       "      <td>...</td>\n",
       "      <td>...</td>\n",
       "      <td>...</td>\n",
       "      <td>...</td>\n",
       "      <td>...</td>\n",
       "      <td>...</td>\n",
       "      <td>...</td>\n",
       "      <td>...</td>\n",
       "      <td>...</td>\n",
       "      <td>...</td>\n",
       "      <td>...</td>\n",
       "      <td>...</td>\n",
       "    </tr>\n",
       "    <tr>\n",
       "      <th>5377</th>\n",
       "      <td>2995</td>\n",
       "      <td>1</td>\n",
       "      <td>729219213253</td>\n",
       "      <td>-0.049688</td>\n",
       "      <td>25.602879</td>\n",
       "      <td>-111.787025</td>\n",
       "      <td>12</td>\n",
       "      <td>7</td>\n",
       "      <td>1.071426</td>\n",
       "      <td>0</td>\n",
       "      <td>0</td>\n",
       "      <td>22.196521</td>\n",
       "      <td>0</td>\n",
       "      <td>0.0</td>\n",
       "      <td>0.0</td>\n",
       "      <td>0.0</td>\n",
       "    </tr>\n",
       "    <tr>\n",
       "      <th>5378</th>\n",
       "      <td>2995</td>\n",
       "      <td>2</td>\n",
       "      <td>729219213253</td>\n",
       "      <td>-0.049688</td>\n",
       "      <td>25.602879</td>\n",
       "      <td>-111.787025</td>\n",
       "      <td>68</td>\n",
       "      <td>7</td>\n",
       "      <td>1.071426</td>\n",
       "      <td>0</td>\n",
       "      <td>0</td>\n",
       "      <td>22.196521</td>\n",
       "      <td>0</td>\n",
       "      <td>0.0</td>\n",
       "      <td>0.0</td>\n",
       "      <td>0.0</td>\n",
       "    </tr>\n",
       "    <tr>\n",
       "      <th>5379</th>\n",
       "      <td>2996</td>\n",
       "      <td>2</td>\n",
       "      <td>731270897317</td>\n",
       "      <td>2.901443</td>\n",
       "      <td>-16.176447</td>\n",
       "      <td>-17.469126</td>\n",
       "      <td>20</td>\n",
       "      <td>7</td>\n",
       "      <td>0.251717</td>\n",
       "      <td>0</td>\n",
       "      <td>0</td>\n",
       "      <td>25.555386</td>\n",
       "      <td>0</td>\n",
       "      <td>0.0</td>\n",
       "      <td>0.0</td>\n",
       "      <td>0.0</td>\n",
       "    </tr>\n",
       "    <tr>\n",
       "      <th>5380</th>\n",
       "      <td>2997</td>\n",
       "      <td>1</td>\n",
       "      <td>721889725149</td>\n",
       "      <td>53.545223</td>\n",
       "      <td>28.611919</td>\n",
       "      <td>-35.820099</td>\n",
       "      <td>67</td>\n",
       "      <td>7</td>\n",
       "      <td>1.948588</td>\n",
       "      <td>0</td>\n",
       "      <td>0</td>\n",
       "      <td>22.264173</td>\n",
       "      <td>3</td>\n",
       "      <td>0.0</td>\n",
       "      <td>0.0</td>\n",
       "      <td>0.0</td>\n",
       "    </tr>\n",
       "    <tr>\n",
       "      <th>5381</th>\n",
       "      <td>2997</td>\n",
       "      <td>2</td>\n",
       "      <td>721889725149</td>\n",
       "      <td>53.545223</td>\n",
       "      <td>28.611919</td>\n",
       "      <td>-35.820099</td>\n",
       "      <td>81</td>\n",
       "      <td>7</td>\n",
       "      <td>1.948588</td>\n",
       "      <td>0</td>\n",
       "      <td>0</td>\n",
       "      <td>22.264173</td>\n",
       "      <td>3</td>\n",
       "      <td>0.0</td>\n",
       "      <td>0.0</td>\n",
       "      <td>0.0</td>\n",
       "    </tr>\n",
       "  </tbody>\n",
       "</table>\n",
       "<p>5382 rows × 16 columns</p>\n",
       "</div>"
      ],
      "text/plain": [
       "      event_number  type          time          x          y           z  amp  \\\n",
       "0                1     1    5613500838  56.297447  11.414064   -9.232842   94   \n",
       "1                1     2    5613500838  56.297447  11.414064   -9.232842   95   \n",
       "2                2     1     160928631  -8.744976  30.809288  -32.052525   55   \n",
       "3                2     2     160928631  -8.744976  30.809288  -32.052525   67   \n",
       "4                3     1     119936267  55.236656   1.650221  -71.289772  262   \n",
       "...            ...   ...           ...        ...        ...         ...  ...   \n",
       "5377          2995     1  729219213253  -0.049688  25.602879 -111.787025   12   \n",
       "5378          2995     2  729219213253  -0.049688  25.602879 -111.787025   68   \n",
       "5379          2996     2  731270897317   2.901443 -16.176447  -17.469126   20   \n",
       "5380          2997     1  721889725149  53.545223  28.611919  -35.820099   67   \n",
       "5381          2997     2  721889725149  53.545223  28.611919  -35.820099   81   \n",
       "\n",
       "      recoil     e_dep  g4id  vol_id  local_field  n_excitons  x_pri  y_pri  \\\n",
       "0          7  2.462575     0       0    30.470859          11    0.0    0.0   \n",
       "1          7  2.462575     0       0    30.470859          11    0.0    0.0   \n",
       "2          7  1.697520     0       0    24.372408           2    0.0    0.0   \n",
       "3          7  1.697520     0       0    24.372408           2    0.0    0.0   \n",
       "4          7  4.787097     0       0    21.748554          14    0.0    0.0   \n",
       "...      ...       ...   ...     ...          ...         ...    ...    ...   \n",
       "5377       7  1.071426     0       0    22.196521           0    0.0    0.0   \n",
       "5378       7  1.071426     0       0    22.196521           0    0.0    0.0   \n",
       "5379       7  0.251717     0       0    25.555386           0    0.0    0.0   \n",
       "5380       7  1.948588     0       0    22.264173           3    0.0    0.0   \n",
       "5381       7  1.948588     0       0    22.264173           3    0.0    0.0   \n",
       "\n",
       "      z_pri  \n",
       "0       0.0  \n",
       "1       0.0  \n",
       "2       0.0  \n",
       "3       0.0  \n",
       "4       0.0  \n",
       "...     ...  \n",
       "5377    0.0  \n",
       "5378    0.0  \n",
       "5379    0.0  \n",
       "5380    0.0  \n",
       "5381    0.0  \n",
       "\n",
       "[5382 rows x 16 columns]"
      ]
     },
     "execution_count": 9,
     "metadata": {},
     "output_type": "execute_result"
    }
   ],
   "source": [
    "instr = m.generate_instructions(energy_deposition=sampled_Er, \n",
    "                                timemode=\"shifted\", \n",
    "                                n_tot=N_events, nc=nc, fmap=field_map)\n",
    "df = pd.DataFrame(instr)\n",
    "print(f\"Total duration {np.ptp(df['time'])*1e-9:.2f} seconds\")\n",
    "df"
   ]
  },
  {
   "cell_type": "code",
   "execution_count": 11,
   "id": "80d2c3f0",
   "metadata": {
    "scrolled": true
   },
   "outputs": [
    {
     "name": "stderr",
     "output_type": "stream",
     "text": [
      "WARNING:strax:Option gain_model_nv not taken by any registered plugin\n",
      "WARNING:strax:Option gain_model_mv not taken by any registered plugin\n",
      "WARNING:strax:Option gain_model_nv not taken by any registered plugin\n",
      "WARNING:strax:Option gain_model_mv not taken by any registered plugin\n",
      "WARNING:strax:Option gain_model_nv not taken by any registered plugin\n",
      "WARNING:strax:Option gain_model_mv not taken by any registered plugin\n",
      "WARNING:strax:Option gain_model_nv not taken by any registered plugin\n",
      "WARNING:strax:Option gain_model_mv not taken by any registered plugin\n",
      "WARNING:strax:Option gain_model_nv not taken by any registered plugin\n",
      "WARNING:strax:Option gain_model_mv not taken by any registered plugin\n",
      "WARNING:strax:Option gain_model_nv not taken by any registered plugin\n",
      "WARNING:strax:Option gain_model_mv not taken by any registered plugin\n"
     ]
    },
    {
     "name": "stdout",
     "output_type": "stream",
     "text": [
      "\u001b[34m> Saved at <self.storage>/Nakazato_2013-nakazato-shen-z0_004-t_rev200ms-s50_0_fits.pickle!\n",
      "\u001b[0m\n"
     ]
    },
    {
     "name": "stderr",
     "output_type": "stream",
     "text": [
      "WARNING:strax:Option gain_model_nv not taken by any registered plugin\n",
      "WARNING:strax:Option gain_model_mv not taken by any registered plugin\n",
      "WARNING:strax:Option gain_model_nv not taken by any registered plugin\n",
      "WARNING:strax:Option gain_model_mv not taken by any registered plugin\n",
      "WARNING:wfsim.interface:Replacing drift_time_gate with CMT option ('cmt_run_id', '026000', 'electron_drift_time_gate', 'v2', True) to 4500.0\n",
      "WARNING:wfsim.interface:Replacing drift_velocity_liquid with CMT option ('cmt_run_id', '026000', 'electron_drift_velocity', 'v3', True) to 6.75e-05\n",
      "WARNING:wfsim.interface:Replacing electron_lifetime_liquid with CMT option ('cmt_run_id', '026000', 'elife', 'v5', True) to 14943515.44396\n",
      "WARNING:wfsim.resource:Loading XENONnT_SR0_spe_distributions_20210713_no_noise_scaled.csv from mongo downloader to /dali/lgrandi/strax/resource_cache/99c2cbc580cfa8eeebe831456076e136\n",
      "WARNING:wfsim.resource:Loading XENONnT_s1_xyz_patterns_LCE_MCvf051911_wires.pkl from mongo downloader to /dali/lgrandi/strax/resource_cache/02ed2634596793f6e7aa13783745089a\n",
      "WARNING:wfsim.resource:A file has value False, assuming this is intentional.\n",
      "WARNING:wfsim.resource:Using the private repo to load XENONnT_s2_xy_patterns_GXe_LCE_corrected_qes_MCv4.3.0_wires.pkl locally\n",
      "WARNING:wfsim.resource:Using the private repo to load XENONnT_s2_xy_map_v4_210503_mlp_3_in_1_iterated.json locally\n",
      "WARNING:wfsim.resource:Using the private repo to load XENONnT_se_xy_map_v1_mlp.json locally\n",
      "WARNING:wfsim.resource:Using the private repo to load XENONnT_pmt_afterpulse_config_018435.json.gz locally\n",
      "WARNING:wfsim.resource:Using the private repo to load XENONnT_GARFIELD_SR0_B2d75n_C2d75n_G0d3p_A4d9p_T0d9n_PMTs1d3n_FSR0d65p.npz locally\n",
      "WARNING:wfsim.resource:Using the private repo to load garfield_timing_map_gas_gap_sr0.npy locally\n",
      "WARNING:wfsim.resource:Using the private repo to load gas_gap_warping_map_January_2021.pkl locally\n",
      "WARNING:wfsim.resource:Using the private repo to load garfield_gas_gap_map_sr0.json locally\n",
      "WARNING:wfsim.resource:Loading x1t_se_afterpulse_delaytime.pkl.gz from mongo downloader to /dali/lgrandi/strax/resource_cache/014aa048758a51f154cdc3b32dac2773\n",
      "WARNING:wfsim.resource:Using the private repo to load XENONnT_noise_tpc_only_2ms_25118.npz locally\n",
      "WARNING:wfsim.resource:Using the private repo to load XnT_3D_FDC_xyt_dummy_all_zeros_v0.1.json.gz locally\n",
      "WARNING:wfsim.resource:Using the private repo to load field_dependent_radius_depth_maps_B2d75n_C2d75n_G0d3p_A4d9p_T0d9n_PMTs1d3n_FSR0d65p_QPTFE_0d5n_0d4p.json.gz locally\n",
      "WARNING:wfsim.resource:Loading data_driven_diffusion_map_XENONnTSR0V2.json.gz from mongo downloader to /dali/lgrandi/strax/resource_cache/8a6c6dc1bfe5380f48e96462161a3313\n",
      "WARNING:wfsim.resource:Using the private repo to load XENONnT_s1_proponly_va43fa9b_wires_20200625.json.gz locally\n",
      "WARNING:wfsim.resource:Using the private repo to load XENONnT_s2_opticalprop_time_v0.json.gz locally\n",
      "WARNING:wfsim.resource:Using json for unspecified /home/melih/software/private_nt_aux_files/ntauxfiles/../strax_files/XENONnT_se_xy_map_v1_mlp.json\n",
      "/home/melih/software/WFSim/wfsim/load_resource.py:262: RuntimeWarning: invalid value encountered in true_divide\n",
      "  orig_aft_=np.mean((s2map_topeff_/s2map_toteff_)[s2map_toteff_>0.0])\n",
      "WARNING:wfsim.resource:Using json.gz for unspecified /home/melih/software/private_nt_aux_files/ntauxfiles/../sim_files/XENONnT_s2_opticalprop_time_v0.json.gz\n",
      "WARNING:wfsim.resource:Using noise data /home/melih/software/private_nt_aux_files/ntauxfiles/../sim_files/XENONnT_noise_tpc_only_2ms_25118.npz with 494 channels for XENONnT\n",
      "*** Detector definition message ***\n",
      "You are currently using the default XENON10 template detector.\n",
      "\n",
      "WARNING:strax:Could not estimate run start and end time from run metadata: assuming it is 0 and inf\n"
     ]
    },
    {
     "data": {
      "application/vnd.jupyter.widget-view+json": {
       "model_id": "351d5950b9204cb6ac65dafb0b9d19e9",
       "version_major": 2,
       "version_minor": 0
      },
      "text/plain": [
       "Simulating Raw Records:   0%|          | 0/5199 [00:00<?, ?it/s]"
      ]
     },
     "metadata": {},
     "output_type": "display_data"
    },
    {
     "name": "stdout",
     "output_type": "stream",
     "text": [
      "RawRecordsFromFaxNT with object id: 140452415900640 waits for chunk 1\n",
      "RawRecordsFromFaxNT with object id: 140452415900640 waits for chunk 2\n",
      "RawRecordsFromFaxNT with object id: 140452415900640 waits for chunk 3\n",
      "RawRecordsFromFaxNT with object id: 140452415900640 waits for chunk 4\n",
      "RawRecordsFromFaxNT with object id: 140452415900640 waits for chunk 5\n",
      "RawRecordsFromFaxNT with object id: 140452415900640 waits for chunk 6\n",
      "RawRecordsFromFaxNT with object id: 140452415900640 waits for chunk 7\n",
      "Source finished!\n",
      "\u001b[34mNakazato5_highstat2 is created! Returning context!\u001b[0m\n"
     ]
    }
   ],
   "source": [
    "st = m.simulate_one(df, \"Nakazato5_highstat2\")"
   ]
  },
  {
   "cell_type": "code",
   "execution_count": 12,
   "id": "6b7c1bdc",
   "metadata": {},
   "outputs": [
    {
     "data": {
      "text/html": [
       "<div>\n",
       "<style scoped>\n",
       "    .dataframe tbody tr th:only-of-type {\n",
       "        vertical-align: middle;\n",
       "    }\n",
       "\n",
       "    .dataframe tbody tr th {\n",
       "        vertical-align: top;\n",
       "    }\n",
       "\n",
       "    .dataframe thead th {\n",
       "        text-align: right;\n",
       "    }\n",
       "</style>\n",
       "<table border=\"1\" class=\"dataframe\">\n",
       "  <thead>\n",
       "    <tr style=\"text-align: right;\">\n",
       "      <th></th>\n",
       "      <th></th>\n",
       "      <th>date</th>\n",
       "      <th>user</th>\n",
       "      <th>model</th>\n",
       "      <th>single SN events</th>\n",
       "      <th>size</th>\n",
       "      <th>context hash</th>\n",
       "    </tr>\n",
       "    <tr>\n",
       "      <th>versions</th>\n",
       "      <th>runid</th>\n",
       "      <th></th>\n",
       "      <th></th>\n",
       "      <th></th>\n",
       "      <th></th>\n",
       "      <th></th>\n",
       "      <th></th>\n",
       "    </tr>\n",
       "  </thead>\n",
       "  <tbody>\n",
       "    <tr>\n",
       "      <th rowspan=\"4\" valign=\"top\">strax:1.2.3 straxen:1.8.3 cutax:1.13.0 wfsim:1.0.1</th>\n",
       "      <th>NaN</th>\n",
       "      <td>2022/08/23 - 09:13 UTC</td>\n",
       "      <td>melih</td>\n",
       "      <td>Nakazato_2013-nakazato-shen-z0_004-t_rev200ms-...</td>\n",
       "      <td>81</td>\n",
       "      <td>146</td>\n",
       "      <td>NaN</td>\n",
       "    </tr>\n",
       "    <tr>\n",
       "      <th>NaN</th>\n",
       "      <td>2022/08/23 - 09:20 UTC</td>\n",
       "      <td>melih</td>\n",
       "      <td>Nakazato_2013-nakazato-shen-z0_004-t_rev200ms-...</td>\n",
       "      <td>81</td>\n",
       "      <td>5379</td>\n",
       "      <td>NaN</td>\n",
       "    </tr>\n",
       "    <tr>\n",
       "      <th>NaN</th>\n",
       "      <td>2022/08/23 - 09:59 UTC</td>\n",
       "      <td>melih</td>\n",
       "      <td>Nakazato_2013-nakazato-shen-z0_004-t_rev200ms-...</td>\n",
       "      <td>81</td>\n",
       "      <td>5382</td>\n",
       "      <td>rvchefp73l</td>\n",
       "    </tr>\n",
       "    <tr>\n",
       "      <th>Nakazato5_highstat2</th>\n",
       "      <td>2022/08/23 - 09:59 UTC</td>\n",
       "      <td>melih</td>\n",
       "      <td>Nakazato_2013-nakazato-shen-z0_004-t_rev200ms-...</td>\n",
       "      <td>81</td>\n",
       "      <td>5382</td>\n",
       "      <td>rvchefp73l</td>\n",
       "    </tr>\n",
       "  </tbody>\n",
       "</table>\n",
       "</div>"
      ],
      "text/plain": [
       "                                                                                          date  \\\n",
       "versions                                           runid                                         \n",
       "strax:1.2.3 straxen:1.8.3 cutax:1.13.0 wfsim:1.0.1 NaN                  2022/08/23 - 09:13 UTC   \n",
       "                                                   NaN                  2022/08/23 - 09:20 UTC   \n",
       "                                                   NaN                  2022/08/23 - 09:59 UTC   \n",
       "                                                   Nakazato5_highstat2  2022/08/23 - 09:59 UTC   \n",
       "\n",
       "                                                                         user  \\\n",
       "versions                                           runid                        \n",
       "strax:1.2.3 straxen:1.8.3 cutax:1.13.0 wfsim:1.0.1 NaN                  melih   \n",
       "                                                   NaN                  melih   \n",
       "                                                   NaN                  melih   \n",
       "                                                   Nakazato5_highstat2  melih   \n",
       "\n",
       "                                                                                                                    model  \\\n",
       "versions                                           runid                                                                    \n",
       "strax:1.2.3 straxen:1.8.3 cutax:1.13.0 wfsim:1.0.1 NaN                  Nakazato_2013-nakazato-shen-z0_004-t_rev200ms-...   \n",
       "                                                   NaN                  Nakazato_2013-nakazato-shen-z0_004-t_rev200ms-...   \n",
       "                                                   NaN                  Nakazato_2013-nakazato-shen-z0_004-t_rev200ms-...   \n",
       "                                                   Nakazato5_highstat2  Nakazato_2013-nakazato-shen-z0_004-t_rev200ms-...   \n",
       "\n",
       "                                                                       single SN events  \\\n",
       "versions                                           runid                                  \n",
       "strax:1.2.3 straxen:1.8.3 cutax:1.13.0 wfsim:1.0.1 NaN                               81   \n",
       "                                                   NaN                               81   \n",
       "                                                   NaN                               81   \n",
       "                                                   Nakazato5_highstat2               81   \n",
       "\n",
       "                                                                        size  \\\n",
       "versions                                           runid                       \n",
       "strax:1.2.3 straxen:1.8.3 cutax:1.13.0 wfsim:1.0.1 NaN                   146   \n",
       "                                                   NaN                  5379   \n",
       "                                                   NaN                  5382   \n",
       "                                                   Nakazato5_highstat2  5382   \n",
       "\n",
       "                                                                       context hash  \n",
       "versions                                           runid                             \n",
       "strax:1.2.3 straxen:1.8.3 cutax:1.13.0 wfsim:1.0.1 NaN                          NaN  \n",
       "                                                   NaN                          NaN  \n",
       "                                                   NaN                   rvchefp73l  \n",
       "                                                   Nakazato5_highstat2   rvchefp73l  "
      ]
     },
     "execution_count": 12,
     "metadata": {},
     "output_type": "execute_result"
    }
   ],
   "source": [
    "m.display_simulation_history"
   ]
  },
  {
   "cell_type": "code",
   "execution_count": 13,
   "id": "8dc90bd8",
   "metadata": {},
   "outputs": [
    {
     "data": {
      "application/vnd.jupyter.widget-view+json": {
       "model_id": "41d619f633d84a9291b425e0b9081d19",
       "version_major": 2,
       "version_minor": 0
      },
      "text/plain": [
       "Loading truth: |          | 0.00 % [00:00<?]"
      ]
     },
     "metadata": {},
     "output_type": "display_data"
    }
   ],
   "source": [
    "truth = st.get_df(\"Nakazato5_highstat2\", \"truth\")"
   ]
  },
  {
   "cell_type": "code",
   "execution_count": 20,
   "id": "9dd222c1",
   "metadata": {},
   "outputs": [
    {
     "data": {
      "application/vnd.jupyter.widget-view+json": {
       "model_id": "8889e84f61d846b78d95f8beface753a",
       "version_major": 2,
       "version_minor": 0
      },
      "text/plain": [
       "Loading peak_basics: |          | 0.00 % [00:00<?]"
      ]
     },
     "metadata": {},
     "output_type": "display_data"
    }
   ],
   "source": [
    "peak_basics = st.get_df(\"Nakazato5_highstat2\", \"peak_basics\")"
   ]
  },
  {
   "cell_type": "code",
   "execution_count": 21,
   "id": "25808595",
   "metadata": {},
   "outputs": [
    {
     "data": {
      "text/plain": [
       "(array([2, 1, 0], dtype=int8), 79, 1388, 2720)"
      ]
     },
     "execution_count": 21,
     "metadata": {},
     "output_type": "execute_result"
    }
   ],
   "source": [
    "peak_s1 = peak_basics[peak_basics['type'] == 1]\n",
    "peak_s2 = peak_basics[peak_basics['type'] == 2]\n",
    "peak_basics['type'].unique(), sum(peak_basics['type']==0), sum(peak_basics['type']==1), sum(peak_basics['type']==2)"
   ]
  },
  {
   "cell_type": "code",
   "execution_count": 22,
   "id": "0ef547d0",
   "metadata": {},
   "outputs": [
    {
     "data": {
      "image/png": "[encoded data removed]",
      "text/plain": [
       "<Figure size 1224x360 with 3 Axes>"
      ]
     },
     "metadata": {},
     "output_type": "display_data"
    }
   ],
   "source": [
    "fig, (ax0, ax1, ax2) = plt.subplots(ncols=3, figsize=(17,5), sharex=True, sharey=True)\n",
    "ax0.grid(False); ax1.grid(False); ax2.grid(False)\n",
    "ax0.hist2d(peak_basics[\"area\"], peak_basics[\"range_50p_area\"], \n",
    "           bins=(np.logspace(0,5,100),np.logspace(0,5,100)),\n",
    "           norm=LogNorm());\n",
    "ax0.set_xscale(\"log\"); ax0.set_yscale(\"log\")\n",
    "ax0.set_xlabel(\"Area [PE]\"); ax0.set_ylabel(\"width\");\n",
    "\n",
    "\n",
    "ax1.hist2d(peak_s1[\"area\"], peak_s1[\"range_50p_area\"], \n",
    "           bins=(np.logspace(0,5,100),np.logspace(0,5,100)),\n",
    "           norm=LogNorm());\n",
    "ax1.set_xscale(\"log\"); ax1.set_yscale(\"log\")\n",
    "ax1.set_xlabel(\"S1 Area [PE]\"); ax1.set_ylabel(\"S1 width\");\n",
    "\n",
    "ax2.hist2d(peak_s2[\"area\"], peak_s2[\"range_50p_area\"], \n",
    "           bins=(np.logspace(0,5,100),np.logspace(0,5,100)),\n",
    "           norm=LogNorm());\n",
    "ax2.set_xscale(\"log\"); ax2.set_yscale(\"log\")\n",
    "ax2.set_xlabel(\"S2 Area [PE]\"); ax2.set_ylabel(\"S2 width\");"
   ]
  },
  {
   "cell_type": "markdown",
   "id": "01afeabd",
   "metadata": {},
   "source": [
    "### Test different simulation configurations"
   ]
  },
  {
   "cell_type": "code",
   "execution_count": 24,
   "id": "e4ad0805",
   "metadata": {},
   "outputs": [
    {
     "name": "stderr",
     "output_type": "stream",
     "text": [
      "WARNING:strax:Option gain_model_nv not taken by any registered plugin\n",
      "WARNING:strax:Option gain_model_mv not taken by any registered plugin\n",
      "WARNING:strax:Option gain_model_nv not taken by any registered plugin\n",
      "WARNING:strax:Option gain_model_mv not taken by any registered plugin\n",
      "WARNING:strax:Option gain_model_nv not taken by any registered plugin\n",
      "WARNING:strax:Option gain_model_mv not taken by any registered plugin\n",
      "WARNING:strax:Option gain_model_nv not taken by any registered plugin\n",
      "WARNING:strax:Option gain_model_mv not taken by any registered plugin\n",
      "WARNING:strax:Option gain_model_nv not taken by any registered plugin\n",
      "WARNING:strax:Option gain_model_mv not taken by any registered plugin\n",
      "WARNING:strax:Option gain_model_nv not taken by any registered plugin\n",
      "WARNING:strax:Option gain_model_mv not taken by any registered plugin\n"
     ]
    }
   ],
   "source": [
    "import cutax, strax\n",
    "st2 = cutax.contexts.xenonnt_sim_SR0v2_cmt_v8(cmt_run_id=\"026000\", \n",
    "                                             output_folder=os.path.join(m.config['wfsim']['sim_folder'], \"strax_data\"))\n",
    "# set s1 minimum coincidence to 0\n",
    "st2.set_config({\"s1_min_coincidence\":0})"
   ]
  },
  {
   "cell_type": "code",
   "execution_count": null,
   "id": "c3742510",
   "metadata": {},
   "outputs": [
    {
     "name": "stdout",
     "output_type": "stream",
     "text": [
      "\u001b[34m> Saved at <self.storage>/Nakazato_2013-nakazato-shen-z0_004-t_rev200ms-s50_0_fits.pickle!\n",
      "\u001b[0m\n"
     ]
    },
    {
     "name": "stderr",
     "output_type": "stream",
     "text": [
      "WARNING:strax:Option gain_model_nv not taken by any registered plugin\n",
      "WARNING:strax:Option gain_model_mv not taken by any registered plugin\n",
      "WARNING:strax:Option gain_model_nv not taken by any registered plugin\n",
      "WARNING:strax:Option gain_model_mv not taken by any registered plugin\n",
      "WARNING:wfsim.interface:Replacing drift_time_gate with CMT option ('cmt_run_id', '026000', 'electron_drift_time_gate', 'v2', True) to 4500.0\n",
      "WARNING:wfsim.interface:Replacing drift_velocity_liquid with CMT option ('cmt_run_id', '026000', 'electron_drift_velocity', 'v3', True) to 6.75e-05\n",
      "WARNING:wfsim.interface:Replacing electron_lifetime_liquid with CMT option ('cmt_run_id', '026000', 'elife', 'v5', True) to 14943515.44396\n",
      "*** Detector definition message ***\n",
      "You are currently using the default XENON10 template detector.\n",
      "\n",
      "WARNING:strax:Could not estimate run start and end time from run metadata: assuming it is 0 and inf\n"
     ]
    },
    {
     "data": {
      "application/vnd.jupyter.widget-view+json": {
       "model_id": "79c2cce71b2b43ae86a2c94ebe15022d",
       "version_major": 2,
       "version_minor": 0
      },
      "text/plain": [
       "Simulating Raw Records:   0%|          | 0/5199 [00:00<?, ?it/s]"
      ]
     },
     "metadata": {},
     "output_type": "display_data"
    },
    {
     "name": "stdout",
     "output_type": "stream",
     "text": [
      "RawRecordsFromFaxNT with object id: 140451998268912 waits for chunk 1\n",
      "RawRecordsFromFaxNT with object id: 140451998268912 waits for chunk 2\n",
      "RawRecordsFromFaxNT with object id: 140451998268912 waits for chunk 3\n",
      "RawRecordsFromFaxNT with object id: 140451998268912 waits for chunk 4\n"
     ]
    }
   ],
   "source": [
    "st2 = m.simulate_one(df, \"Nakazato5_highstat2_st2\", context=st2)"
   ]
  },
  {
   "cell_type": "code",
   "execution_count": null,
   "id": "9dcb4402",
   "metadata": {},
   "outputs": [],
   "source": [
    "peak_basics2 = st2.get_df(\"Nakazato5_highstat2\", \"peak_basics\")"
   ]
  },
  {
   "cell_type": "code",
   "execution_count": null,
   "id": "9ff17321",
   "metadata": {},
   "outputs": [],
   "source": [
    "peak_s12 = peak_basics2[peak_basics2['type'] == 1]\n",
    "peak_s22 = peak_basics2[peak_basics2['type'] == 2]\n",
    "peak_basics2['type'].unique(), sum(peak_basics2['type']==0), sum(peak_basics2['type']==1), sum(peak_basics2['type']==2)"
   ]
  },
  {
   "cell_type": "code",
   "execution_count": null,
   "id": "ccd9b458",
   "metadata": {},
   "outputs": [],
   "source": [
    "fig, (ax0, ax1, ax2) = plt.subplots(ncols=3, figsize=(17,5), sharex=True, sharey=True)\n",
    "ax0.grid(False); ax1.grid(False); ax2.grid(False)\n",
    "ax0.hist2d(peak_basics2[\"area\"], peak_basics2[\"range_50p_area\"], \n",
    "           bins=(np.logspace(0,5,100),np.logspace(0,5,100)),\n",
    "           norm=LogNorm());\n",
    "ax0.set_xscale(\"log\"); ax0.set_yscale(\"log\")\n",
    "ax0.set_xlabel(\"Area [PE]\"); ax0.set_ylabel(\"width\");\n",
    "\n",
    "\n",
    "ax1.hist2d(peak_s12[\"area\"], peak_s12[\"range_50p_area\"], \n",
    "           bins=(np.logspace(0,5,100),np.logspace(0,5,100)),\n",
    "           norm=LogNorm());\n",
    "ax1.set_xscale(\"log\"); ax1.set_yscale(\"log\")\n",
    "ax1.set_xlabel(\"S1 Area [PE]\"); ax1.set_ylabel(\"S1 width\");\n",
    "\n",
    "ax2.hist2d(peak_s22[\"area\"], peak_s22[\"range_50p_area\"], \n",
    "           bins=(np.logspace(0,5,100),np.logspace(0,5,100)),\n",
    "           norm=LogNorm());\n",
    "ax2.set_xscale(\"log\"); ax2.set_yscale(\"log\")\n",
    "ax2.set_xlabel(\"S2 Area [PE]\"); ax2.set_ylabel(\"S2 width\");"
   ]
  },
  {
   "cell_type": "code",
   "execution_count": 31,
   "id": "d05c97b8",
   "metadata": {},
   "outputs": [
    {
     "data": {
      "text/markdown": [
       "**Fornax_2021 Model**\n",
       "\n",
       "|Parameter|Value|\n",
       "|:--------|:----:|\n",
       "|Progenitor mass | $25$ $\\mathrm{M_{\\odot}}$|\n",
       "|composite | Xenon|\n",
       "|distance | 10.0 kpc|\n",
       "|duration | 3.44 s|\n",
       "|executed | True|"
      ],
      "text/plain": [
       "Fornax_2021 Model\n",
       "Progenitor mass  : 25.0 solMass"
      ]
     },
     "execution_count": 31,
     "metadata": {},
     "output_type": "execute_result"
    }
   ],
   "source": []
  },
  {
   "cell_type": "markdown",
   "id": "5fc61b0a",
   "metadata": {},
   "source": [
    "### Test the plugin"
   ]
  },
  {
   "cell_type": "code",
   "execution_count": null,
   "id": "8ecdace7",
   "metadata": {},
   "outputs": [],
   "source": [
    "from sn_rate_plugin import SNPugin\n",
    "st.register(SNPugin)"
   ]
  },
  {
   "cell_type": "code",
   "execution_count": 29,
   "id": "f3253940",
   "metadata": {},
   "outputs": [
    {
     "data": {
      "application/vnd.jupyter.widget-view+json": {
       "model_id": "8683c50ec94647e98d4d4b94f1b8593f",
       "version_major": 2,
       "version_minor": 0
      },
      "text/plain": [
       "Loading sn_rate: |          | 0.00 % [00:00<?]"
      ]
     },
     "metadata": {},
     "output_type": "display_data"
    }
   ],
   "source": [
    "df_test = st.get_df([runid], 'sn_rate')"
   ]
  },
  {
   "cell_type": "code",
   "execution_count": 30,
   "id": "9c9e2511",
   "metadata": {},
   "outputs": [
    {
     "data": {
      "text/html": [
       "<div>\n",
       "<style scoped>\n",
       "    .dataframe tbody tr th:only-of-type {\n",
       "        vertical-align: middle;\n",
       "    }\n",
       "\n",
       "    .dataframe tbody tr th {\n",
       "        vertical-align: top;\n",
       "    }\n",
       "\n",
       "    .dataframe thead th {\n",
       "        text-align: right;\n",
       "    }\n",
       "</style>\n",
       "<table border=\"1\" class=\"dataframe\">\n",
       "  <thead>\n",
       "    <tr style=\"text-align: right;\">\n",
       "      <th></th>\n",
       "      <th>sn_rate</th>\n",
       "      <th>sn_rate_err</th>\n",
       "      <th>time</th>\n",
       "      <th>endtime</th>\n",
       "    </tr>\n",
       "  </thead>\n",
       "  <tbody>\n",
       "    <tr>\n",
       "      <th>0</th>\n",
       "      <td>256.568619</td>\n",
       "      <td>8.216772</td>\n",
       "      <td>25932090</td>\n",
       "      <td>3826085060</td>\n",
       "    </tr>\n",
       "  </tbody>\n",
       "</table>\n",
       "</div>"
      ],
      "text/plain": [
       "      sn_rate  sn_rate_err      time     endtime\n",
       "0  256.568619     8.216772  25932090  3826085060"
      ]
     },
     "execution_count": 30,
     "metadata": {},
     "output_type": "execute_result"
    }
   ],
   "source": [
    "df_test"
   ]
  },
  {
   "cell_type": "code",
   "execution_count": 26,
   "id": "88a64d71",
   "metadata": {},
   "outputs": [
    {
     "data": {
      "image/png": "[encoded data removed]",
      "text/plain": [
       "<Figure size 864x576 with 1 Axes>"
      ]
     },
     "metadata": {},
     "output_type": "display_data"
    }
   ],
   "source": [
    "plt.figure(figsize=(12,8))\n",
    "plt.errorbar(x=(df_test['time']-df_test['time'][0])/1e9, \n",
    "             y=df_test['sn_rate'],\n",
    "             yerr=df_test['sn_rate_err'], \n",
    "             color='r', marker='.',linestyle='',alpha=0.3)\n",
    "plt.axhline(np.mean(df_test['sn_rate']), color='k',linestyle=':', \n",
    "            zorder=10, label='Mean = %.1f Hz'%np.mean(df_test['sn_rate']))\n",
    "\n",
    "plt.legend()\n",
    "plt.xlabel('Time since start of run [s]')\n",
    "plt.ylabel('Rate [Hz]')\n",
    "plt.show()"
   ]
  },
  {
   "cell_type": "code",
   "execution_count": null,
   "id": "13efb092",
   "metadata": {},
   "outputs": [],
   "source": [
    "# theta = 23.55*u.degree\n",
    "# phi = 22.5*u.degree\n",
    "# m.compute_rates(phi=phi, theta=theta)"
   ]
  }
 ],
 "metadata": {
  "kernelspec": {
   "display_name": "Python [conda env:XENONnT_development] *",
   "language": "python",
   "name": "conda-env-XENONnT_development-py"
  },
  "language_info": {
   "codemirror_mode": {
    "name": "ipython",
    "version": 3
   },
   "file_extension": ".py",
   "mimetype": "text/x-python",
   "name": "python",
   "nbconvert_exporter": "python",
   "pygments_lexer": "ipython3",
   "version": "3.8.13"
  }
 },
 "nbformat": 4,
 "nbformat_minor": 5
}
