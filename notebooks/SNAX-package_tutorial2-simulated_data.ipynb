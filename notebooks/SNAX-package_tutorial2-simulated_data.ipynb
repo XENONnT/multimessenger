{
 "cells": [
  {
   "cell_type": "markdown",
   "id": "f8e243c3",
   "metadata": {},
   "source": [
    "# SNAX package tutorial - simulations"
   ]
  },
  {
   "cell_type": "code",
   "execution_count": 1,
   "id": "74ea98fb",
   "metadata": {},
   "outputs": [],
   "source": [
    "from snewpy.neutrino import Flavor\n",
    "import os\n",
    "from tqdm.notebook import tqdm\n",
    "import numpy as np\n",
    "from multimessenger.supernova import Supernova_Models as sn\n",
    "from multimessenger.supernova.Plotter import Plotter\n",
    "import plotly.express as px\n",
    "import astropy.units as u\n",
    "import matplotlib.pyplot as plt\n",
    "from matplotlib.colors import LogNorm"
   ]
  },
  {
   "cell_type": "code",
   "execution_count": 2,
   "id": "066ecadc",
   "metadata": {
    "scrolled": true
   },
   "outputs": [
    {
     "name": "stderr",
     "output_type": "stream",
     "text": [
      "*** Detector definition message ***\n",
      "You are currently using the default XENON10 template detector.\n",
      "\n"
     ]
    },
    {
     "data": {
      "text/html": [
       "<div>\n",
       "<style scoped>\n",
       "    .dataframe tbody tr th:only-of-type {\n",
       "        vertical-align: middle;\n",
       "    }\n",
       "\n",
       "    .dataframe tbody tr th {\n",
       "        vertical-align: top;\n",
       "    }\n",
       "\n",
       "    .dataframe thead th {\n",
       "        text-align: right;\n",
       "    }\n",
       "</style>\n",
       "<table border=\"1\" class=\"dataframe\">\n",
       "  <thead>\n",
       "    <tr style=\"text-align: right;\">\n",
       "      <th></th>\n",
       "      <th>module</th>\n",
       "      <th>version</th>\n",
       "      <th>path</th>\n",
       "      <th>git</th>\n",
       "    </tr>\n",
       "  </thead>\n",
       "  <tbody>\n",
       "    <tr>\n",
       "      <th>0</th>\n",
       "      <td>python</td>\n",
       "      <td>3.8.13</td>\n",
       "      <td>/opt/XENONnT/anaconda/envs/XENONnT_development...</td>\n",
       "      <td>None</td>\n",
       "    </tr>\n",
       "    <tr>\n",
       "      <th>1</th>\n",
       "      <td>strax</td>\n",
       "      <td>1.2.3</td>\n",
       "      <td>/opt/XENONnT/anaconda/envs/XENONnT_development...</td>\n",
       "      <td>None</td>\n",
       "    </tr>\n",
       "    <tr>\n",
       "      <th>2</th>\n",
       "      <td>straxen</td>\n",
       "      <td>1.8.3</td>\n",
       "      <td>/opt/XENONnT/anaconda/envs/XENONnT_development...</td>\n",
       "      <td>None</td>\n",
       "    </tr>\n",
       "    <tr>\n",
       "      <th>3</th>\n",
       "      <td>cutax</td>\n",
       "      <td>1.13.0</td>\n",
       "      <td>/dali/lgrandi/xenonnt/software/cutax/latest/cutax</td>\n",
       "      <td>None</td>\n",
       "    </tr>\n",
       "    <tr>\n",
       "      <th>4</th>\n",
       "      <td>wfsim</td>\n",
       "      <td>1.0.1</td>\n",
       "      <td>/home/melih/software/WFSim/wfsim</td>\n",
       "      <td>branch:master | d72c1b3</td>\n",
       "    </tr>\n",
       "  </tbody>\n",
       "</table>\n",
       "</div>"
      ],
      "text/plain": [
       "    module version                                               path  \\\n",
       "0   python  3.8.13  /opt/XENONnT/anaconda/envs/XENONnT_development...   \n",
       "1    strax   1.2.3  /opt/XENONnT/anaconda/envs/XENONnT_development...   \n",
       "2  straxen   1.8.3  /opt/XENONnT/anaconda/envs/XENONnT_development...   \n",
       "3    cutax  1.13.0  /dali/lgrandi/xenonnt/software/cutax/latest/cutax   \n",
       "4    wfsim   1.0.1                   /home/melih/software/WFSim/wfsim   \n",
       "\n",
       "                       git  \n",
       "0                     None  \n",
       "1                     None  \n",
       "2                     None  \n",
       "3                     None  \n",
       "4  branch:master | d72c1b3  "
      ]
     },
     "execution_count": 2,
     "metadata": {},
     "output_type": "execute_result"
    }
   ],
   "source": [
    "import straxen\n",
    "straxen.print_versions(('strax', 'straxen', 'cutax', 'wfsim'))"
   ]
  },
  {
   "cell_type": "markdown",
   "id": "64664662",
   "metadata": {},
   "source": [
    "The `SNAX` is a wrapper around `snewpy` and it allows to compute CEvNS rates for all the snewpy models."
   ]
  },
  {
   "cell_type": "markdown",
   "id": "3f63e928",
   "metadata": {},
   "source": [
    "Each model contains variuous simulations with e.g. different EoS, or different progenitor properties. <br>\n",
    "When only `model_name` is passed to `sn.Models()` it displays the existing files and asks you to select one. Otherwise, `filename` or `index` can be passed. <br>\n",
    "Once the model is executed, and after every heavy computation the data is saved, and the next time it is directly fetched from the stored data. <br>\n",
    "The output folder can be specified with the `storage` argument."
   ]
  },
  {
   "cell_type": "code",
   "execution_count": 3,
   "id": "01f5cba1",
   "metadata": {},
   "outputs": [
    {
     "name": "stdout",
     "output_type": "stream",
     "text": [
      "\u001b[34m\u001b[1m> You chose ~wisely~ ->\t   [7]\tnakazato-shen-z0.02-t_rev100ms-s20.0.fits\u001b[0m\n",
      "\u001b[34m> Retrieving object self.storage/Nakazato_2013-nakazato-shen-z0_02-t_rev100ms-s20_0_fits.pickle\u001b[0m\n"
     ]
    }
   ],
   "source": [
    "m = sn.Models(\"Nakazato_2013\", index=7)"
   ]
  },
  {
   "cell_type": "code",
   "execution_count": 4,
   "id": "221d1ecb",
   "metadata": {},
   "outputs": [
    {
     "data": {
      "text/markdown": [
       "**Nakazato_2013 Model**: nakazato-shen-z0.02-t_rev100ms-s20.0.fits\n",
       "\n",
       "|Parameter|Value|\n",
       "|:--------|:----:|\n",
       "|Progenitor mass | $20$ $\\mathrm{M_{\\odot}}$|\n",
       "|EOS | SHEN |\n",
       "|Metallicity | 0.02 |\n",
       "|Revival time | $100$ $\\mathrm{ms}$|\n",
       "|composite | Xenon|\n",
       "|duration | 20.05 s|\n",
       "|distance | 10.0 kpc|\n",
       "|volume | 5.9 t|\n",
       "|executed | True|\n",
       "|SN rate | 52 ct|"
      ],
      "text/plain": [
       "Nakazato_2013 Model: nakazato-shen-z0.02-t_rev100ms-s20.0.fits\n",
       "Progenitor mass  : 20.0 solMass\n",
       "EOS              : SHEN\n",
       "Metallicity      : 0.02\n",
       "Revival time     : 100.0 ms"
      ]
     },
     "execution_count": 4,
     "metadata": {},
     "output_type": "execute_result"
    }
   ],
   "source": [
    "m"
   ]
  },
  {
   "cell_type": "code",
   "execution_count": 5,
   "id": "a3b9fb35",
   "metadata": {},
   "outputs": [
    {
     "data": {
      "text/html": [
       "<div>\n",
       "<style scoped>\n",
       "    .dataframe tbody tr th:only-of-type {\n",
       "        vertical-align: middle;\n",
       "    }\n",
       "\n",
       "    .dataframe tbody tr th {\n",
       "        vertical-align: top;\n",
       "    }\n",
       "\n",
       "    .dataframe thead th {\n",
       "        text-align: right;\n",
       "    }\n",
       "</style>\n",
       "<table border=\"1\" class=\"dataframe\">\n",
       "  <thead>\n",
       "    <tr style=\"text-align: right;\">\n",
       "      <th></th>\n",
       "      <th>date</th>\n",
       "      <th>version</th>\n",
       "      <th>user</th>\n",
       "      <th>history</th>\n",
       "    </tr>\n",
       "  </thead>\n",
       "  <tbody>\n",
       "    <tr>\n",
       "      <th>0</th>\n",
       "      <td>2022/08/23 - 13:56 UTC</td>\n",
       "      <td>1.2.0</td>\n",
       "      <td>melih</td>\n",
       "      <td>Data Saved!</td>\n",
       "    </tr>\n",
       "    <tr>\n",
       "      <th>1</th>\n",
       "      <td>2022/08/23 - 13:57 UTC</td>\n",
       "      <td>1.2.0</td>\n",
       "      <td>melih</td>\n",
       "      <td>Fluxes computed!</td>\n",
       "    </tr>\n",
       "    <tr>\n",
       "      <th>2</th>\n",
       "      <td>2022/08/23 - 13:57 UTC</td>\n",
       "      <td>1.2.0</td>\n",
       "      <td>melih</td>\n",
       "      <td>Data Saved!</td>\n",
       "    </tr>\n",
       "    <tr>\n",
       "      <th>3</th>\n",
       "      <td>2022/08/23 - 13:57 UTC</td>\n",
       "      <td>1.2.0</td>\n",
       "      <td>melih</td>\n",
       "      <td>simulation Nakazato7_highstat is requested!</td>\n",
       "    </tr>\n",
       "    <tr>\n",
       "      <th>4</th>\n",
       "      <td>2022/08/23 - 13:57 UTC</td>\n",
       "      <td>1.2.0</td>\n",
       "      <td>melih</td>\n",
       "      <td>Data Saved!</td>\n",
       "    </tr>\n",
       "    <tr>\n",
       "      <th>5</th>\n",
       "      <td>2022/08/23 - 14:09 UTC</td>\n",
       "      <td>1.2.0</td>\n",
       "      <td>melih</td>\n",
       "      <td>simulation Nakazato7_highstat_st2 is requested!</td>\n",
       "    </tr>\n",
       "  </tbody>\n",
       "</table>\n",
       "</div>"
      ],
      "text/plain": [
       "                     date version   user  \\\n",
       "0  2022/08/23 - 13:56 UTC   1.2.0  melih   \n",
       "1  2022/08/23 - 13:57 UTC   1.2.0  melih   \n",
       "2  2022/08/23 - 13:57 UTC   1.2.0  melih   \n",
       "3  2022/08/23 - 13:57 UTC   1.2.0  melih   \n",
       "4  2022/08/23 - 13:57 UTC   1.2.0  melih   \n",
       "5  2022/08/23 - 14:09 UTC   1.2.0  melih   \n",
       "\n",
       "                                           history  \n",
       "0                                      Data Saved!  \n",
       "1                                 Fluxes computed!  \n",
       "2                                      Data Saved!  \n",
       "3      simulation Nakazato7_highstat is requested!  \n",
       "4                                      Data Saved!  \n",
       "5  simulation Nakazato7_highstat_st2 is requested!  "
      ]
     },
     "execution_count": 5,
     "metadata": {},
     "output_type": "execute_result"
    }
   ],
   "source": [
    "m.display_history"
   ]
  },
  {
   "cell_type": "code",
   "execution_count": 6,
   "id": "9f5b8d50",
   "metadata": {},
   "outputs": [
    {
     "data": {
      "application/vnd.jupyter.widget-view+json": {
       "model_id": "f71f38b7af8e49e0b52b768757805e5f",
       "version_major": 2,
       "version_minor": 0
      },
      "text/plain": [
       "Computing for all isotopes:   0%|          | 0/9 [00:00<?, ?it/s]"
      ]
     },
     "metadata": {},
     "output_type": "display_data"
    },
    {
     "data": {
      "application/vnd.jupyter.widget-view+json": {
       "model_id": "02fd734b84294ceb8f4dbd75c879c2bd",
       "version_major": 2,
       "version_minor": 0
      },
      "text/plain": [
       "  0%|          | 0/9 [00:00<?, ?it/s]"
      ]
     },
     "metadata": {},
     "output_type": "display_data"
    },
    {
     "data": {
      "application/vnd.jupyter.widget-view+json": {
       "model_id": "387e4d390352403186480c1727260c80",
       "version_major": 2,
       "version_minor": 0
      },
      "text/plain": [
       "  0%|          | 0/9 [00:00<?, ?it/s]"
      ]
     },
     "metadata": {},
     "output_type": "display_data"
    },
    {
     "name": "stderr",
     "output_type": "stream",
     "text": [
      "WARNING: AstropyDeprecationWarning: The truth value of a Quantity is ambiguous. In the future this will raise a ValueError. [astropy.units.quantity]\n",
      "WARNING:astropy:AstropyDeprecationWarning: The truth value of a Quantity is ambiguous. In the future this will raise a ValueError.\n"
     ]
    },
    {
     "name": "stdout",
     "output_type": "stream",
     "text": [
      "\u001b[32m> Rates are computed at the source for 1 atom see rateper_Er/t attr (use scale_rates() for distance & volume)\u001b[0m\n"
     ]
    }
   ],
   "source": [
    "m.compute_rates()"
   ]
  },
  {
   "cell_type": "markdown",
   "id": "fa994801",
   "metadata": {},
   "source": [
    "These parts are better done in dali/midway. <br>\n"
   ]
  },
  {
   "cell_type": "code",
   "execution_count": 7,
   "id": "f8941f1f",
   "metadata": {},
   "outputs": [
    {
     "name": "stderr",
     "output_type": "stream",
     "text": [
      "*** Detector definition message ***\n",
      "You are currently using the default XENON10 template detector.\n",
      "\n"
     ]
    }
   ],
   "source": [
    "import nestpy\n",
    "import pandas as pd\n",
    "import straxen\n",
    "downloader = straxen.MongoDownloader()\n",
    "field_file=\"fieldmap_2D_B2d75n_C2d75n_G0d3p_A4d9p_T0d9n_PMTs1d3n_FSR0d65p_QPTFE_0d5n_0d4p.json.gz\"\n",
    "field_map = straxen.InterpolatingMap(\n",
    "                    straxen.get_resource(downloader.download_single(field_file),\n",
    "                                         fmt=\"json.gz\"),\n",
    "                    method=\"RegularGridInterpolator\")\n",
    "\n",
    "nc = nestpy.NESTcalc(nestpy.DetectorExample_XENON10())\n",
    "## not sure if nestpy RNG issue was solved, so randomize NEST internal state\n",
    "for i in range(np.random.randint(100)):\n",
    "    nc.GetQuanta(nc.GetYields(energy=np.random.uniform(10,100)))"
   ]
  },
  {
   "cell_type": "markdown",
   "id": "1cb8c70a",
   "metadata": {},
   "source": [
    "Caution, the times need to be passed in nanoseconds!"
   ]
  },
  {
   "cell_type": "markdown",
   "id": "6e29e626",
   "metadata": {},
   "source": [
    "## Simulate ~high statistics t-shifted sample"
   ]
  },
  {
   "cell_type": "code",
   "execution_count": 8,
   "id": "8b79e3df",
   "metadata": {},
   "outputs": [],
   "source": [
    "N_events = 3000\n",
    "sampled_Er = m.sample_data(N_events)\n",
    "sampled_t = m.sample_data(N_events, dtype='time')"
   ]
  },
  {
   "cell_type": "code",
   "execution_count": 9,
   "id": "797c6983",
   "metadata": {},
   "outputs": [
    {
     "name": "stdout",
     "output_type": "stream",
     "text": [
      "Total duration 1139.91 seconds\n"
     ]
    },
    {
     "data": {
      "text/html": [
       "<div>\n",
       "<style scoped>\n",
       "    .dataframe tbody tr th:only-of-type {\n",
       "        vertical-align: middle;\n",
       "    }\n",
       "\n",
       "    .dataframe tbody tr th {\n",
       "        vertical-align: top;\n",
       "    }\n",
       "\n",
       "    .dataframe thead th {\n",
       "        text-align: right;\n",
       "    }\n",
       "</style>\n",
       "<table border=\"1\" class=\"dataframe\">\n",
       "  <thead>\n",
       "    <tr style=\"text-align: right;\">\n",
       "      <th></th>\n",
       "      <th>event_number</th>\n",
       "      <th>type</th>\n",
       "      <th>time</th>\n",
       "      <th>x</th>\n",
       "      <th>y</th>\n",
       "      <th>z</th>\n",
       "      <th>amp</th>\n",
       "      <th>recoil</th>\n",
       "      <th>e_dep</th>\n",
       "      <th>g4id</th>\n",
       "      <th>vol_id</th>\n",
       "      <th>local_field</th>\n",
       "      <th>n_excitons</th>\n",
       "      <th>x_pri</th>\n",
       "      <th>y_pri</th>\n",
       "      <th>z_pri</th>\n",
       "    </tr>\n",
       "  </thead>\n",
       "  <tbody>\n",
       "    <tr>\n",
       "      <th>0</th>\n",
       "      <td>1</td>\n",
       "      <td>1</td>\n",
       "      <td>452216995</td>\n",
       "      <td>28.342842</td>\n",
       "      <td>14.744443</td>\n",
       "      <td>-33.050415</td>\n",
       "      <td>7</td>\n",
       "      <td>7</td>\n",
       "      <td>1.021203</td>\n",
       "      <td>0</td>\n",
       "      <td>0</td>\n",
       "      <td>24.278802</td>\n",
       "      <td>0</td>\n",
       "      <td>0.0</td>\n",
       "      <td>0.0</td>\n",
       "      <td>0.0</td>\n",
       "    </tr>\n",
       "    <tr>\n",
       "      <th>1</th>\n",
       "      <td>1</td>\n",
       "      <td>2</td>\n",
       "      <td>452216995</td>\n",
       "      <td>28.342842</td>\n",
       "      <td>14.744443</td>\n",
       "      <td>-33.050415</td>\n",
       "      <td>66</td>\n",
       "      <td>7</td>\n",
       "      <td>1.021203</td>\n",
       "      <td>0</td>\n",
       "      <td>0</td>\n",
       "      <td>24.278802</td>\n",
       "      <td>0</td>\n",
       "      <td>0.0</td>\n",
       "      <td>0.0</td>\n",
       "      <td>0.0</td>\n",
       "    </tr>\n",
       "    <tr>\n",
       "      <th>2</th>\n",
       "      <td>2</td>\n",
       "      <td>1</td>\n",
       "      <td>91824124</td>\n",
       "      <td>-18.605976</td>\n",
       "      <td>-13.773094</td>\n",
       "      <td>-127.445541</td>\n",
       "      <td>1</td>\n",
       "      <td>7</td>\n",
       "      <td>0.567330</td>\n",
       "      <td>0</td>\n",
       "      <td>0</td>\n",
       "      <td>22.427369</td>\n",
       "      <td>0</td>\n",
       "      <td>0.0</td>\n",
       "      <td>0.0</td>\n",
       "      <td>0.0</td>\n",
       "    </tr>\n",
       "    <tr>\n",
       "      <th>3</th>\n",
       "      <td>2</td>\n",
       "      <td>2</td>\n",
       "      <td>91824124</td>\n",
       "      <td>-18.605976</td>\n",
       "      <td>-13.773094</td>\n",
       "      <td>-127.445541</td>\n",
       "      <td>42</td>\n",
       "      <td>7</td>\n",
       "      <td>0.567330</td>\n",
       "      <td>0</td>\n",
       "      <td>0</td>\n",
       "      <td>22.427369</td>\n",
       "      <td>0</td>\n",
       "      <td>0.0</td>\n",
       "      <td>0.0</td>\n",
       "      <td>0.0</td>\n",
       "    </tr>\n",
       "    <tr>\n",
       "      <th>4</th>\n",
       "      <td>3</td>\n",
       "      <td>2</td>\n",
       "      <td>3498966785</td>\n",
       "      <td>3.323450</td>\n",
       "      <td>63.778252</td>\n",
       "      <td>-14.284977</td>\n",
       "      <td>8</td>\n",
       "      <td>7</td>\n",
       "      <td>0.101818</td>\n",
       "      <td>0</td>\n",
       "      <td>0</td>\n",
       "      <td>25.011476</td>\n",
       "      <td>0</td>\n",
       "      <td>0.0</td>\n",
       "      <td>0.0</td>\n",
       "      <td>0.0</td>\n",
       "    </tr>\n",
       "    <tr>\n",
       "      <th>...</th>\n",
       "      <td>...</td>\n",
       "      <td>...</td>\n",
       "      <td>...</td>\n",
       "      <td>...</td>\n",
       "      <td>...</td>\n",
       "      <td>...</td>\n",
       "      <td>...</td>\n",
       "      <td>...</td>\n",
       "      <td>...</td>\n",
       "      <td>...</td>\n",
       "      <td>...</td>\n",
       "      <td>...</td>\n",
       "      <td>...</td>\n",
       "      <td>...</td>\n",
       "      <td>...</td>\n",
       "      <td>...</td>\n",
       "    </tr>\n",
       "    <tr>\n",
       "      <th>5252</th>\n",
       "      <td>2961</td>\n",
       "      <td>2</td>\n",
       "      <td>1123180845171</td>\n",
       "      <td>-4.888173</td>\n",
       "      <td>63.189308</td>\n",
       "      <td>-147.268448</td>\n",
       "      <td>72</td>\n",
       "      <td>7</td>\n",
       "      <td>1.182258</td>\n",
       "      <td>0</td>\n",
       "      <td>0</td>\n",
       "      <td>31.207002</td>\n",
       "      <td>1</td>\n",
       "      <td>0.0</td>\n",
       "      <td>0.0</td>\n",
       "      <td>0.0</td>\n",
       "    </tr>\n",
       "    <tr>\n",
       "      <th>5253</th>\n",
       "      <td>2962</td>\n",
       "      <td>1</td>\n",
       "      <td>1124196686761</td>\n",
       "      <td>49.391808</td>\n",
       "      <td>18.805367</td>\n",
       "      <td>-124.675117</td>\n",
       "      <td>7</td>\n",
       "      <td>7</td>\n",
       "      <td>0.963274</td>\n",
       "      <td>0</td>\n",
       "      <td>0</td>\n",
       "      <td>22.123442</td>\n",
       "      <td>0</td>\n",
       "      <td>0.0</td>\n",
       "      <td>0.0</td>\n",
       "      <td>0.0</td>\n",
       "    </tr>\n",
       "    <tr>\n",
       "      <th>5254</th>\n",
       "      <td>2962</td>\n",
       "      <td>2</td>\n",
       "      <td>1124196686761</td>\n",
       "      <td>49.391808</td>\n",
       "      <td>18.805367</td>\n",
       "      <td>-124.675117</td>\n",
       "      <td>63</td>\n",
       "      <td>7</td>\n",
       "      <td>0.963274</td>\n",
       "      <td>0</td>\n",
       "      <td>0</td>\n",
       "      <td>22.123442</td>\n",
       "      <td>0</td>\n",
       "      <td>0.0</td>\n",
       "      <td>0.0</td>\n",
       "      <td>0.0</td>\n",
       "    </tr>\n",
       "    <tr>\n",
       "      <th>5255</th>\n",
       "      <td>2963</td>\n",
       "      <td>2</td>\n",
       "      <td>1123434480206</td>\n",
       "      <td>13.895123</td>\n",
       "      <td>9.119431</td>\n",
       "      <td>-98.008675</td>\n",
       "      <td>2</td>\n",
       "      <td>7</td>\n",
       "      <td>0.029793</td>\n",
       "      <td>0</td>\n",
       "      <td>0</td>\n",
       "      <td>22.180078</td>\n",
       "      <td>0</td>\n",
       "      <td>0.0</td>\n",
       "      <td>0.0</td>\n",
       "      <td>0.0</td>\n",
       "    </tr>\n",
       "    <tr>\n",
       "      <th>5256</th>\n",
       "      <td>2964</td>\n",
       "      <td>2</td>\n",
       "      <td>1130865010933</td>\n",
       "      <td>17.772974</td>\n",
       "      <td>-29.702950</td>\n",
       "      <td>-143.319397</td>\n",
       "      <td>39</td>\n",
       "      <td>7</td>\n",
       "      <td>0.558861</td>\n",
       "      <td>0</td>\n",
       "      <td>0</td>\n",
       "      <td>22.794866</td>\n",
       "      <td>0</td>\n",
       "      <td>0.0</td>\n",
       "      <td>0.0</td>\n",
       "      <td>0.0</td>\n",
       "    </tr>\n",
       "  </tbody>\n",
       "</table>\n",
       "<p>5257 rows × 16 columns</p>\n",
       "</div>"
      ],
      "text/plain": [
       "      event_number  type           time          x          y           z  \\\n",
       "0                1     1      452216995  28.342842  14.744443  -33.050415   \n",
       "1                1     2      452216995  28.342842  14.744443  -33.050415   \n",
       "2                2     1       91824124 -18.605976 -13.773094 -127.445541   \n",
       "3                2     2       91824124 -18.605976 -13.773094 -127.445541   \n",
       "4                3     2     3498966785   3.323450  63.778252  -14.284977   \n",
       "...            ...   ...            ...        ...        ...         ...   \n",
       "5252          2961     2  1123180845171  -4.888173  63.189308 -147.268448   \n",
       "5253          2962     1  1124196686761  49.391808  18.805367 -124.675117   \n",
       "5254          2962     2  1124196686761  49.391808  18.805367 -124.675117   \n",
       "5255          2963     2  1123434480206  13.895123   9.119431  -98.008675   \n",
       "5256          2964     2  1130865010933  17.772974 -29.702950 -143.319397   \n",
       "\n",
       "      amp  recoil     e_dep  g4id  vol_id  local_field  n_excitons  x_pri  \\\n",
       "0       7       7  1.021203     0       0    24.278802           0    0.0   \n",
       "1      66       7  1.021203     0       0    24.278802           0    0.0   \n",
       "2       1       7  0.567330     0       0    22.427369           0    0.0   \n",
       "3      42       7  0.567330     0       0    22.427369           0    0.0   \n",
       "4       8       7  0.101818     0       0    25.011476           0    0.0   \n",
       "...   ...     ...       ...   ...     ...          ...         ...    ...   \n",
       "5252   72       7  1.182258     0       0    31.207002           1    0.0   \n",
       "5253    7       7  0.963274     0       0    22.123442           0    0.0   \n",
       "5254   63       7  0.963274     0       0    22.123442           0    0.0   \n",
       "5255    2       7  0.029793     0       0    22.180078           0    0.0   \n",
       "5256   39       7  0.558861     0       0    22.794866           0    0.0   \n",
       "\n",
       "      y_pri  z_pri  \n",
       "0       0.0    0.0  \n",
       "1       0.0    0.0  \n",
       "2       0.0    0.0  \n",
       "3       0.0    0.0  \n",
       "4       0.0    0.0  \n",
       "...     ...    ...  \n",
       "5252    0.0    0.0  \n",
       "5253    0.0    0.0  \n",
       "5254    0.0    0.0  \n",
       "5255    0.0    0.0  \n",
       "5256    0.0    0.0  \n",
       "\n",
       "[5257 rows x 16 columns]"
      ]
     },
     "execution_count": 9,
     "metadata": {},
     "output_type": "execute_result"
    }
   ],
   "source": [
    "instr = m.generate_instructions(energy_deposition=sampled_Er, \n",
    "                                timemode=\"shifted\", \n",
    "                                n_tot=N_events, nc=nc, fmap=field_map)\n",
    "df = pd.DataFrame(instr)\n",
    "print(f\"Total duration {np.ptp(df['time'])*1e-9:.2f} seconds\")\n",
    "df"
   ]
  },
  {
   "cell_type": "code",
   "execution_count": 10,
   "id": "80d2c3f0",
   "metadata": {
    "scrolled": true
   },
   "outputs": [
    {
     "name": "stderr",
     "output_type": "stream",
     "text": [
      "WARNING:strax:Option gain_model_nv not taken by any registered plugin\n",
      "WARNING:strax:Option gain_model_mv not taken by any registered plugin\n",
      "WARNING:strax:Option gain_model_nv not taken by any registered plugin\n",
      "WARNING:strax:Option gain_model_mv not taken by any registered plugin\n",
      "WARNING:strax:Option gain_model_nv not taken by any registered plugin\n",
      "WARNING:strax:Option gain_model_mv not taken by any registered plugin\n",
      "WARNING:strax:Option gain_model_nv not taken by any registered plugin\n",
      "WARNING:strax:Option gain_model_mv not taken by any registered plugin\n",
      "WARNING:strax:Option gain_model_nv not taken by any registered plugin\n",
      "WARNING:strax:Option gain_model_mv not taken by any registered plugin\n",
      "WARNING:strax:Option gain_model_nv not taken by any registered plugin\n",
      "WARNING:strax:Option gain_model_mv not taken by any registered plugin\n"
     ]
    },
    {
     "name": "stdout",
     "output_type": "stream",
     "text": [
      "\u001b[34m> Saved at <self.storage>/Nakazato_2013-nakazato-shen-z0_02-t_rev100ms-s20_0_fits.pickle!\n",
      "\u001b[0m\n"
     ]
    },
    {
     "name": "stderr",
     "output_type": "stream",
     "text": [
      "WARNING:strax:Option gain_model_nv not taken by any registered plugin\n",
      "WARNING:strax:Option gain_model_mv not taken by any registered plugin\n"
     ]
    },
    {
     "name": "stdout",
     "output_type": "stream",
     "text": [
      "\u001b[32mNakazato7_highstat already exists!\u001b[0m\n",
      "\u001b[32mNakazato7_highstat is fetched! Returning context!\u001b[0m\n"
     ]
    }
   ],
   "source": [
    "st = m.simulate_one(df, \"Nakazato7_highstat\")"
   ]
  },
  {
   "cell_type": "code",
   "execution_count": 11,
   "id": "6b7c1bdc",
   "metadata": {},
   "outputs": [
    {
     "data": {
      "text/html": [
       "<div>\n",
       "<style scoped>\n",
       "    .dataframe tbody tr th:only-of-type {\n",
       "        vertical-align: middle;\n",
       "    }\n",
       "\n",
       "    .dataframe tbody tr th {\n",
       "        vertical-align: top;\n",
       "    }\n",
       "\n",
       "    .dataframe thead th {\n",
       "        text-align: right;\n",
       "    }\n",
       "</style>\n",
       "<table border=\"1\" class=\"dataframe\">\n",
       "  <thead>\n",
       "    <tr style=\"text-align: right;\">\n",
       "      <th></th>\n",
       "      <th></th>\n",
       "      <th>context hash</th>\n",
       "      <th>date</th>\n",
       "      <th>user</th>\n",
       "      <th>model</th>\n",
       "      <th>single SN events</th>\n",
       "      <th>size</th>\n",
       "      <th>runid</th>\n",
       "    </tr>\n",
       "    <tr>\n",
       "      <th>versions</th>\n",
       "      <th>runid</th>\n",
       "      <th></th>\n",
       "      <th></th>\n",
       "      <th></th>\n",
       "      <th></th>\n",
       "      <th></th>\n",
       "      <th></th>\n",
       "      <th></th>\n",
       "    </tr>\n",
       "  </thead>\n",
       "  <tbody>\n",
       "    <tr>\n",
       "      <th rowspan=\"3\" valign=\"top\">strax:1.2.3 straxen:1.8.3 cutax:1.13.0 wfsim:1.0.1</th>\n",
       "      <th>NaN</th>\n",
       "      <td>rvchefp73l</td>\n",
       "      <td>2022/08/23 - 13:57 UTC</td>\n",
       "      <td>melih</td>\n",
       "      <td>Nakazato_2013-nakazato-shen-z0_02-t_rev100ms-s...</td>\n",
       "      <td>52</td>\n",
       "      <td>5256</td>\n",
       "      <td>NaN</td>\n",
       "    </tr>\n",
       "    <tr>\n",
       "      <th>Nakazato7_highstat_st2</th>\n",
       "      <td>ibctvalxfl</td>\n",
       "      <td>2022/08/23 - 14:09 UTC</td>\n",
       "      <td>melih</td>\n",
       "      <td>Nakazato_2013-nakazato-shen-z0_02-t_rev100ms-s...</td>\n",
       "      <td>52</td>\n",
       "      <td>5256</td>\n",
       "      <td>NaN</td>\n",
       "    </tr>\n",
       "    <tr>\n",
       "      <th>0</th>\n",
       "      <td>rvchefp73l</td>\n",
       "      <td>2022/08/23 - 14:34 UTC</td>\n",
       "      <td>melih</td>\n",
       "      <td>Nakazato_2013-nakazato-shen-z0_02-t_rev100ms-s...</td>\n",
       "      <td>52</td>\n",
       "      <td>5257</td>\n",
       "      <td>Nakazato7_highstat</td>\n",
       "    </tr>\n",
       "  </tbody>\n",
       "</table>\n",
       "</div>"
      ],
      "text/plain": [
       "                                                                          context hash  \\\n",
       "versions                                           runid                                 \n",
       "strax:1.2.3 straxen:1.8.3 cutax:1.13.0 wfsim:1.0.1 NaN                      rvchefp73l   \n",
       "                                                   Nakazato7_highstat_st2   ibctvalxfl   \n",
       "                                                   0                        rvchefp73l   \n",
       "\n",
       "                                                                                             date  \\\n",
       "versions                                           runid                                            \n",
       "strax:1.2.3 straxen:1.8.3 cutax:1.13.0 wfsim:1.0.1 NaN                     2022/08/23 - 13:57 UTC   \n",
       "                                                   Nakazato7_highstat_st2  2022/08/23 - 14:09 UTC   \n",
       "                                                   0                       2022/08/23 - 14:34 UTC   \n",
       "\n",
       "                                                                            user  \\\n",
       "versions                                           runid                           \n",
       "strax:1.2.3 straxen:1.8.3 cutax:1.13.0 wfsim:1.0.1 NaN                     melih   \n",
       "                                                   Nakazato7_highstat_st2  melih   \n",
       "                                                   0                       melih   \n",
       "\n",
       "                                                                                                                       model  \\\n",
       "versions                                           runid                                                                       \n",
       "strax:1.2.3 straxen:1.8.3 cutax:1.13.0 wfsim:1.0.1 NaN                     Nakazato_2013-nakazato-shen-z0_02-t_rev100ms-s...   \n",
       "                                                   Nakazato7_highstat_st2  Nakazato_2013-nakazato-shen-z0_02-t_rev100ms-s...   \n",
       "                                                   0                       Nakazato_2013-nakazato-shen-z0_02-t_rev100ms-s...   \n",
       "\n",
       "                                                                          single SN events  \\\n",
       "versions                                           runid                                     \n",
       "strax:1.2.3 straxen:1.8.3 cutax:1.13.0 wfsim:1.0.1 NaN                                  52   \n",
       "                                                   Nakazato7_highstat_st2               52   \n",
       "                                                   0                                    52   \n",
       "\n",
       "                                                                           size  \\\n",
       "versions                                           runid                          \n",
       "strax:1.2.3 straxen:1.8.3 cutax:1.13.0 wfsim:1.0.1 NaN                     5256   \n",
       "                                                   Nakazato7_highstat_st2  5256   \n",
       "                                                   0                       5257   \n",
       "\n",
       "                                                                                        runid  \n",
       "versions                                           runid                                       \n",
       "strax:1.2.3 straxen:1.8.3 cutax:1.13.0 wfsim:1.0.1 NaN                                    NaN  \n",
       "                                                   Nakazato7_highstat_st2                 NaN  \n",
       "                                                   0                       Nakazato7_highstat  "
      ]
     },
     "execution_count": 11,
     "metadata": {},
     "output_type": "execute_result"
    }
   ],
   "source": [
    "m.display_simulation_history"
   ]
  },
  {
   "cell_type": "code",
   "execution_count": 12,
   "id": "5c6b9ccd",
   "metadata": {},
   "outputs": [],
   "source": [
    "# rawrec = st.get_array(\"Nakazato7_highstat\", \"raw_records\", time_range=(0,))"
   ]
  },
  {
   "cell_type": "code",
   "execution_count": 13,
   "id": "951805be",
   "metadata": {},
   "outputs": [],
   "source": [
    "# rawrec"
   ]
  },
  {
   "cell_type": "code",
   "execution_count": 14,
   "id": "c36aa40f",
   "metadata": {},
   "outputs": [
    {
     "data": {
      "application/vnd.jupyter.widget-view+json": {
       "model_id": "fc70bd985fbe405380f1ac99817f5180",
       "version_major": 2,
       "version_minor": 0
      },
      "text/plain": [
       "Loading truth: |          | 0.00 % [00:00<?]"
      ]
     },
     "metadata": {},
     "output_type": "display_data"
    },
    {
     "data": {
      "text/plain": [
       "0.034592564"
      ]
     },
     "execution_count": 14,
     "metadata": {},
     "output_type": "execute_result"
    }
   ],
   "source": [
    "truth = st.get_df(\"Nakazato7_highstat\", \"truth\")\n",
    "np.min(truth['time'])*1e-9"
   ]
  },
  {
   "cell_type": "code",
   "execution_count": 15,
   "id": "47703e91",
   "metadata": {},
   "outputs": [
    {
     "name": "stderr",
     "output_type": "stream",
     "text": [
      "WARNING:strax:Option gain_model_nv not taken by any registered plugin\n",
      "WARNING:strax:Option gain_model_mv not taken by any registered plugin\n"
     ]
    },
    {
     "data": {
      "application/vnd.jupyter.widget-view+json": {
       "model_id": "122aec36b04a4046aafdc9d375f7e713",
       "version_major": 2,
       "version_minor": 0
      },
      "text/plain": [
       "Loading peak_basics: |          | 0.00 % [00:00<?]"
      ]
     },
     "metadata": {},
     "output_type": "display_data"
    },
    {
     "name": "stderr",
     "output_type": "stream",
     "text": [
      "WARNING:strax:Option gain_model_nv not taken by any registered plugin\n",
      "WARNING:strax:Option gain_model_mv not taken by any registered plugin\n"
     ]
    },
    {
     "data": {
      "application/vnd.jupyter.widget-view+json": {
       "model_id": "682a195b0f2345179021b81e2565b490",
       "version_major": 2,
       "version_minor": 0
      },
      "text/plain": [
       "Loading peak_positions: |          | 0.00 % [00:00<?]"
      ]
     },
     "metadata": {},
     "output_type": "display_data"
    }
   ],
   "source": [
    "peak_basics = st.get_df(\"Nakazato7_highstat\", \"peak_basics\")\n",
    "peak_positions = st.get_df(\"Nakazato7_highstat\", \"peak_positions\")"
   ]
  },
  {
   "cell_type": "code",
   "execution_count": 16,
   "id": "e62be8dd",
   "metadata": {},
   "outputs": [
    {
     "data": {
      "text/html": [
       "<div>\n",
       "<style scoped>\n",
       "    .dataframe tbody tr th:only-of-type {\n",
       "        vertical-align: middle;\n",
       "    }\n",
       "\n",
       "    .dataframe tbody tr th {\n",
       "        vertical-align: top;\n",
       "    }\n",
       "\n",
       "    .dataframe thead th {\n",
       "        text-align: right;\n",
       "    }\n",
       "</style>\n",
       "<table border=\"1\" class=\"dataframe\">\n",
       "  <thead>\n",
       "    <tr style=\"text-align: right;\">\n",
       "      <th></th>\n",
       "      <th></th>\n",
       "      <th>context hash</th>\n",
       "      <th>date</th>\n",
       "      <th>user</th>\n",
       "      <th>model</th>\n",
       "      <th>single SN events</th>\n",
       "      <th>size</th>\n",
       "      <th>runid</th>\n",
       "    </tr>\n",
       "    <tr>\n",
       "      <th>versions</th>\n",
       "      <th>runid</th>\n",
       "      <th></th>\n",
       "      <th></th>\n",
       "      <th></th>\n",
       "      <th></th>\n",
       "      <th></th>\n",
       "      <th></th>\n",
       "      <th></th>\n",
       "    </tr>\n",
       "  </thead>\n",
       "  <tbody>\n",
       "    <tr>\n",
       "      <th rowspan=\"3\" valign=\"top\">strax:1.2.3 straxen:1.8.3 cutax:1.13.0 wfsim:1.0.1</th>\n",
       "      <th>NaN</th>\n",
       "      <td>rvchefp73l</td>\n",
       "      <td>2022/08/23 - 13:57 UTC</td>\n",
       "      <td>melih</td>\n",
       "      <td>Nakazato_2013-nakazato-shen-z0_02-t_rev100ms-s...</td>\n",
       "      <td>52</td>\n",
       "      <td>5256</td>\n",
       "      <td>NaN</td>\n",
       "    </tr>\n",
       "    <tr>\n",
       "      <th>Nakazato7_highstat_st2</th>\n",
       "      <td>ibctvalxfl</td>\n",
       "      <td>2022/08/23 - 14:09 UTC</td>\n",
       "      <td>melih</td>\n",
       "      <td>Nakazato_2013-nakazato-shen-z0_02-t_rev100ms-s...</td>\n",
       "      <td>52</td>\n",
       "      <td>5256</td>\n",
       "      <td>NaN</td>\n",
       "    </tr>\n",
       "    <tr>\n",
       "      <th>0</th>\n",
       "      <td>rvchefp73l</td>\n",
       "      <td>2022/08/23 - 14:34 UTC</td>\n",
       "      <td>melih</td>\n",
       "      <td>Nakazato_2013-nakazato-shen-z0_02-t_rev100ms-s...</td>\n",
       "      <td>52</td>\n",
       "      <td>5257</td>\n",
       "      <td>Nakazato7_highstat</td>\n",
       "    </tr>\n",
       "  </tbody>\n",
       "</table>\n",
       "</div>"
      ],
      "text/plain": [
       "                                                                          context hash  \\\n",
       "versions                                           runid                                 \n",
       "strax:1.2.3 straxen:1.8.3 cutax:1.13.0 wfsim:1.0.1 NaN                      rvchefp73l   \n",
       "                                                   Nakazato7_highstat_st2   ibctvalxfl   \n",
       "                                                   0                        rvchefp73l   \n",
       "\n",
       "                                                                                             date  \\\n",
       "versions                                           runid                                            \n",
       "strax:1.2.3 straxen:1.8.3 cutax:1.13.0 wfsim:1.0.1 NaN                     2022/08/23 - 13:57 UTC   \n",
       "                                                   Nakazato7_highstat_st2  2022/08/23 - 14:09 UTC   \n",
       "                                                   0                       2022/08/23 - 14:34 UTC   \n",
       "\n",
       "                                                                            user  \\\n",
       "versions                                           runid                           \n",
       "strax:1.2.3 straxen:1.8.3 cutax:1.13.0 wfsim:1.0.1 NaN                     melih   \n",
       "                                                   Nakazato7_highstat_st2  melih   \n",
       "                                                   0                       melih   \n",
       "\n",
       "                                                                                                                       model  \\\n",
       "versions                                           runid                                                                       \n",
       "strax:1.2.3 straxen:1.8.3 cutax:1.13.0 wfsim:1.0.1 NaN                     Nakazato_2013-nakazato-shen-z0_02-t_rev100ms-s...   \n",
       "                                                   Nakazato7_highstat_st2  Nakazato_2013-nakazato-shen-z0_02-t_rev100ms-s...   \n",
       "                                                   0                       Nakazato_2013-nakazato-shen-z0_02-t_rev100ms-s...   \n",
       "\n",
       "                                                                          single SN events  \\\n",
       "versions                                           runid                                     \n",
       "strax:1.2.3 straxen:1.8.3 cutax:1.13.0 wfsim:1.0.1 NaN                                  52   \n",
       "                                                   Nakazato7_highstat_st2               52   \n",
       "                                                   0                                    52   \n",
       "\n",
       "                                                                           size  \\\n",
       "versions                                           runid                          \n",
       "strax:1.2.3 straxen:1.8.3 cutax:1.13.0 wfsim:1.0.1 NaN                     5256   \n",
       "                                                   Nakazato7_highstat_st2  5256   \n",
       "                                                   0                       5257   \n",
       "\n",
       "                                                                                        runid  \n",
       "versions                                           runid                                       \n",
       "strax:1.2.3 straxen:1.8.3 cutax:1.13.0 wfsim:1.0.1 NaN                                    NaN  \n",
       "                                                   Nakazato7_highstat_st2                 NaN  \n",
       "                                                   0                       Nakazato7_highstat  "
      ]
     },
     "execution_count": 16,
     "metadata": {},
     "output_type": "execute_result"
    }
   ],
   "source": [
    "m.display_simulation_history"
   ]
  },
  {
   "cell_type": "code",
   "execution_count": 17,
   "id": "25808595",
   "metadata": {},
   "outputs": [
    {
     "data": {
      "text/plain": [
       "(array([2, 1, 0], dtype=int8), 84, 1459, 2884)"
      ]
     },
     "execution_count": 17,
     "metadata": {},
     "output_type": "execute_result"
    }
   ],
   "source": [
    "peak_s1 = peak_basics[peak_basics['type'] == 1]\n",
    "peak_s2 = peak_basics[peak_basics['type'] == 2]\n",
    "peak_basics['type'].unique(), sum(peak_basics['type']==0), sum(peak_basics['type']==1), sum(peak_basics['type']==2)"
   ]
  },
  {
   "cell_type": "code",
   "execution_count": 18,
   "id": "9235674e",
   "metadata": {},
   "outputs": [
    {
     "data": {
      "image/png": "[encoded data removed]",
      "text/plain": [
       "<Figure size 1224x360 with 3 Axes>"
      ]
     },
     "metadata": {},
     "output_type": "display_data"
    }
   ],
   "source": [
    "fig, (ax0, ax1, ax2) = plt.subplots(ncols=3, figsize=(17,5), sharex=True, sharey=True)\n",
    "ax0.grid(False); ax1.grid(False); ax2.grid(False)\n",
    "ax0.hist2d(peak_basics[\"area\"], peak_basics[\"range_50p_area\"], \n",
    "           bins=(np.logspace(0,5,100),np.logspace(0,5,100)),\n",
    "           norm=LogNorm());\n",
    "ax0.set_xscale(\"log\"); ax0.set_yscale(\"log\")\n",
    "ax0.set_xlabel(\"Area [PE]\"); ax0.set_ylabel(\"width\");\n",
    "\n",
    "\n",
    "ax1.hist2d(peak_s1[\"area\"], peak_s1[\"range_50p_area\"], \n",
    "           bins=(np.logspace(0,5,100),np.logspace(0,5,100)),\n",
    "           norm=LogNorm());\n",
    "ax1.set_xscale(\"log\"); ax1.set_yscale(\"log\")\n",
    "ax1.set_xlabel(\"S1 Area [PE]\"); ax1.set_ylabel(\"S1 width\");\n",
    "\n",
    "ax2.hist2d(peak_s2[\"area\"], peak_s2[\"range_50p_area\"], \n",
    "           bins=(np.logspace(0,5,100),np.logspace(0,5,100)),\n",
    "           norm=LogNorm());\n",
    "ax2.set_xscale(\"log\"); ax2.set_yscale(\"log\")\n",
    "ax2.set_xlabel(\"S2 Area [PE]\"); ax2.set_ylabel(\"S2 width\");"
   ]
  },
  {
   "cell_type": "markdown",
   "id": "271b8050",
   "metadata": {},
   "source": [
    "### Test different simulation configurations"
   ]
  },
  {
   "cell_type": "code",
   "execution_count": 19,
   "id": "c331a7fe",
   "metadata": {},
   "outputs": [
    {
     "name": "stderr",
     "output_type": "stream",
     "text": [
      "WARNING:strax:Option gain_model_nv not taken by any registered plugin\n",
      "WARNING:strax:Option gain_model_mv not taken by any registered plugin\n",
      "WARNING:strax:Option gain_model_nv not taken by any registered plugin\n",
      "WARNING:strax:Option gain_model_mv not taken by any registered plugin\n",
      "WARNING:strax:Option gain_model_nv not taken by any registered plugin\n",
      "WARNING:strax:Option gain_model_mv not taken by any registered plugin\n",
      "WARNING:strax:Option gain_model_nv not taken by any registered plugin\n",
      "WARNING:strax:Option gain_model_mv not taken by any registered plugin\n",
      "WARNING:strax:Option gain_model_nv not taken by any registered plugin\n",
      "WARNING:strax:Option gain_model_mv not taken by any registered plugin\n",
      "WARNING:strax:Option gain_model_nv not taken by any registered plugin\n",
      "WARNING:strax:Option gain_model_mv not taken by any registered plugin\n"
     ]
    }
   ],
   "source": [
    "import cutax, strax\n",
    "st2 = cutax.contexts.xenonnt_sim_SR0v2_cmt_v8(cmt_run_id=\"026000\", \n",
    "                                              output_folder=os.path.join(m.config['wfsim']['sim_folder'], \"strax_data\"))\n",
    "# set s1 minimum coincidence to 0\n",
    "st2.set_config({\"s1_min_coincidence\":0})"
   ]
  },
  {
   "cell_type": "code",
   "execution_count": 20,
   "id": "cfbc78c1",
   "metadata": {},
   "outputs": [
    {
     "name": "stdout",
     "output_type": "stream",
     "text": [
      "\u001b[34m> Saved at <self.storage>/Nakazato_2013-nakazato-shen-z0_02-t_rev100ms-s20_0_fits.pickle!\n",
      "\u001b[0m\n"
     ]
    },
    {
     "name": "stderr",
     "output_type": "stream",
     "text": [
      "WARNING:strax:Option gain_model_nv not taken by any registered plugin\n",
      "WARNING:strax:Option gain_model_mv not taken by any registered plugin\n"
     ]
    },
    {
     "name": "stdout",
     "output_type": "stream",
     "text": [
      "\u001b[32mNakazato7_highstat_st2 already exists!\u001b[0m\n",
      "\u001b[32mNakazato7_highstat_st2 is fetched! Returning context!\u001b[0m\n"
     ]
    }
   ],
   "source": [
    "st2 = m.simulate_one(df, \"Nakazato7_highstat_st2\", context=st2)"
   ]
  },
  {
   "cell_type": "code",
   "execution_count": 21,
   "id": "c0d2d351",
   "metadata": {},
   "outputs": [
    {
     "data": {
      "text/html": [
       "<div>\n",
       "<style scoped>\n",
       "    .dataframe tbody tr th:only-of-type {\n",
       "        vertical-align: middle;\n",
       "    }\n",
       "\n",
       "    .dataframe tbody tr th {\n",
       "        vertical-align: top;\n",
       "    }\n",
       "\n",
       "    .dataframe thead th {\n",
       "        text-align: right;\n",
       "    }\n",
       "</style>\n",
       "<table border=\"1\" class=\"dataframe\">\n",
       "  <thead>\n",
       "    <tr style=\"text-align: right;\">\n",
       "      <th></th>\n",
       "      <th></th>\n",
       "      <th>context hash</th>\n",
       "      <th>date</th>\n",
       "      <th>user</th>\n",
       "      <th>model</th>\n",
       "      <th>single SN events</th>\n",
       "      <th>size</th>\n",
       "      <th>runid</th>\n",
       "    </tr>\n",
       "    <tr>\n",
       "      <th>versions</th>\n",
       "      <th>runid</th>\n",
       "      <th></th>\n",
       "      <th></th>\n",
       "      <th></th>\n",
       "      <th></th>\n",
       "      <th></th>\n",
       "      <th></th>\n",
       "      <th></th>\n",
       "    </tr>\n",
       "  </thead>\n",
       "  <tbody>\n",
       "    <tr>\n",
       "      <th rowspan=\"4\" valign=\"top\">strax:1.2.3 straxen:1.8.3 cutax:1.13.0 wfsim:1.0.1</th>\n",
       "      <th>NaN</th>\n",
       "      <td>rvchefp73l</td>\n",
       "      <td>2022/08/23 - 13:57 UTC</td>\n",
       "      <td>melih</td>\n",
       "      <td>Nakazato_2013-nakazato-shen-z0_02-t_rev100ms-s...</td>\n",
       "      <td>52</td>\n",
       "      <td>5256</td>\n",
       "      <td>NaN</td>\n",
       "    </tr>\n",
       "    <tr>\n",
       "      <th>Nakazato7_highstat_st2</th>\n",
       "      <td>ibctvalxfl</td>\n",
       "      <td>2022/08/23 - 14:09 UTC</td>\n",
       "      <td>melih</td>\n",
       "      <td>Nakazato_2013-nakazato-shen-z0_02-t_rev100ms-s...</td>\n",
       "      <td>52</td>\n",
       "      <td>5256</td>\n",
       "      <td>NaN</td>\n",
       "    </tr>\n",
       "    <tr>\n",
       "      <th>0</th>\n",
       "      <td>rvchefp73l</td>\n",
       "      <td>2022/08/23 - 14:34 UTC</td>\n",
       "      <td>melih</td>\n",
       "      <td>Nakazato_2013-nakazato-shen-z0_02-t_rev100ms-s...</td>\n",
       "      <td>52</td>\n",
       "      <td>5257</td>\n",
       "      <td>Nakazato7_highstat</td>\n",
       "    </tr>\n",
       "    <tr>\n",
       "      <th>0</th>\n",
       "      <td>ibctvalxfl</td>\n",
       "      <td>2022/08/23 - 14:34 UTC</td>\n",
       "      <td>melih</td>\n",
       "      <td>Nakazato_2013-nakazato-shen-z0_02-t_rev100ms-s...</td>\n",
       "      <td>52</td>\n",
       "      <td>5257</td>\n",
       "      <td>Nakazato7_highstat_st2</td>\n",
       "    </tr>\n",
       "  </tbody>\n",
       "</table>\n",
       "</div>"
      ],
      "text/plain": [
       "                                                                          context hash  \\\n",
       "versions                                           runid                                 \n",
       "strax:1.2.3 straxen:1.8.3 cutax:1.13.0 wfsim:1.0.1 NaN                      rvchefp73l   \n",
       "                                                   Nakazato7_highstat_st2   ibctvalxfl   \n",
       "                                                   0                        rvchefp73l   \n",
       "                                                   0                        ibctvalxfl   \n",
       "\n",
       "                                                                                             date  \\\n",
       "versions                                           runid                                            \n",
       "strax:1.2.3 straxen:1.8.3 cutax:1.13.0 wfsim:1.0.1 NaN                     2022/08/23 - 13:57 UTC   \n",
       "                                                   Nakazato7_highstat_st2  2022/08/23 - 14:09 UTC   \n",
       "                                                   0                       2022/08/23 - 14:34 UTC   \n",
       "                                                   0                       2022/08/23 - 14:34 UTC   \n",
       "\n",
       "                                                                            user  \\\n",
       "versions                                           runid                           \n",
       "strax:1.2.3 straxen:1.8.3 cutax:1.13.0 wfsim:1.0.1 NaN                     melih   \n",
       "                                                   Nakazato7_highstat_st2  melih   \n",
       "                                                   0                       melih   \n",
       "                                                   0                       melih   \n",
       "\n",
       "                                                                                                                       model  \\\n",
       "versions                                           runid                                                                       \n",
       "strax:1.2.3 straxen:1.8.3 cutax:1.13.0 wfsim:1.0.1 NaN                     Nakazato_2013-nakazato-shen-z0_02-t_rev100ms-s...   \n",
       "                                                   Nakazato7_highstat_st2  Nakazato_2013-nakazato-shen-z0_02-t_rev100ms-s...   \n",
       "                                                   0                       Nakazato_2013-nakazato-shen-z0_02-t_rev100ms-s...   \n",
       "                                                   0                       Nakazato_2013-nakazato-shen-z0_02-t_rev100ms-s...   \n",
       "\n",
       "                                                                          single SN events  \\\n",
       "versions                                           runid                                     \n",
       "strax:1.2.3 straxen:1.8.3 cutax:1.13.0 wfsim:1.0.1 NaN                                  52   \n",
       "                                                   Nakazato7_highstat_st2               52   \n",
       "                                                   0                                    52   \n",
       "                                                   0                                    52   \n",
       "\n",
       "                                                                           size  \\\n",
       "versions                                           runid                          \n",
       "strax:1.2.3 straxen:1.8.3 cutax:1.13.0 wfsim:1.0.1 NaN                     5256   \n",
       "                                                   Nakazato7_highstat_st2  5256   \n",
       "                                                   0                       5257   \n",
       "                                                   0                       5257   \n",
       "\n",
       "                                                                                            runid  \n",
       "versions                                           runid                                           \n",
       "strax:1.2.3 straxen:1.8.3 cutax:1.13.0 wfsim:1.0.1 NaN                                        NaN  \n",
       "                                                   Nakazato7_highstat_st2                     NaN  \n",
       "                                                   0                           Nakazato7_highstat  \n",
       "                                                   0                       Nakazato7_highstat_st2  "
      ]
     },
     "execution_count": 21,
     "metadata": {},
     "output_type": "execute_result"
    }
   ],
   "source": [
    "m.display_simulation_history"
   ]
  },
  {
   "cell_type": "code",
   "execution_count": 22,
   "id": "eaddedfb",
   "metadata": {},
   "outputs": [
    {
     "name": "stderr",
     "output_type": "stream",
     "text": [
      "WARNING:strax:Option gain_model_nv not taken by any registered plugin\n",
      "WARNING:strax:Option gain_model_mv not taken by any registered plugin\n"
     ]
    },
    {
     "data": {
      "application/vnd.jupyter.widget-view+json": {
       "model_id": "c9331cd9f9724f1c95fad2c441fa4827",
       "version_major": 2,
       "version_minor": 0
      },
      "text/plain": [
       "Loading peak_basics: |          | 0.00 % [00:00<?]"
      ]
     },
     "metadata": {},
     "output_type": "display_data"
    }
   ],
   "source": [
    "peak_basics2 = st2.get_df(\"Nakazato7_highstat_st2\", \"peak_basics\")"
   ]
  },
  {
   "cell_type": "code",
   "execution_count": 23,
   "id": "4fa976d5",
   "metadata": {},
   "outputs": [
    {
     "data": {
      "text/plain": [
       "(array([2, 1, 0], dtype=int8), 27, 1594, 2866)"
      ]
     },
     "execution_count": 23,
     "metadata": {},
     "output_type": "execute_result"
    }
   ],
   "source": [
    "peak_s12 = peak_basics2[peak_basics2['type'] == 1]\n",
    "peak_s22 = peak_basics2[peak_basics2['type'] == 2]\n",
    "peak_basics2['type'].unique(), sum(peak_basics2['type']==0), sum(peak_basics2['type']==1), sum(peak_basics2['type']==2)"
   ]
  },
  {
   "cell_type": "code",
   "execution_count": 24,
   "id": "fa11f4f1",
   "metadata": {},
   "outputs": [
    {
     "data": {
      "image/png": "[encoded data removed]",
      "text/plain": [
       "<Figure size 1224x360 with 3 Axes>"
      ]
     },
     "metadata": {},
     "output_type": "display_data"
    }
   ],
   "source": [
    "fig, (ax0, ax1, ax2) = plt.subplots(ncols=3, figsize=(17,5), sharex=True, sharey=True)\n",
    "ax0.grid(False); ax1.grid(False); ax2.grid(False)\n",
    "ax0.hist2d(peak_basics2[\"area\"], peak_basics2[\"range_50p_area\"], \n",
    "           bins=(np.logspace(0,5,100),np.logspace(0,5,100)),\n",
    "           norm=LogNorm());\n",
    "ax0.set_xscale(\"log\"); ax0.set_yscale(\"log\")\n",
    "ax0.set_xlabel(\"Area [PE]\"); ax0.set_ylabel(\"width\");\n",
    "\n",
    "\n",
    "ax1.hist2d(peak_s12[\"area\"], peak_s12[\"range_50p_area\"], \n",
    "           bins=(np.logspace(0,5,100),np.logspace(0,5,100)),\n",
    "           norm=LogNorm());\n",
    "ax1.set_xscale(\"log\"); ax1.set_yscale(\"log\")\n",
    "ax1.set_xlabel(\"S1 Area [PE]\"); ax1.set_ylabel(\"S1 width\");\n",
    "\n",
    "ax2.hist2d(peak_s22[\"area\"], peak_s22[\"range_50p_area\"], \n",
    "           bins=(np.logspace(0,5,100),np.logspace(0,5,100)),\n",
    "           norm=LogNorm());\n",
    "ax2.set_xscale(\"log\"); ax2.set_yscale(\"log\")\n",
    "ax2.set_xlabel(\"S2 Area [PE]\"); ax2.set_ylabel(\"S2 width\");"
   ]
  },
  {
   "cell_type": "code",
   "execution_count": 29,
   "id": "d05c97b8",
   "metadata": {},
   "outputs": [
    {
     "data": {
      "image/png": "[encoded data removed]",
      "text/plain": [
       "<Figure size 432x288 with 1 Axes>"
      ]
     },
     "metadata": {},
     "output_type": "display_data"
    }
   ],
   "source": [
    "len(peak_s22), len(peak_s2)\n",
    "bins = np.linspace(0, 1000, 200)\n",
    "a = np.histogram(peak_s2['area'], bins=bins)[0]\n",
    "b = np.histogram(peak_s22['area'], bins=bins)[0]\n",
    "plt.semilogx(bins[1:], a-b)\n",
    "plt.xlabel(\"S2 area [P.E.]\");\n",
    "plt.ylabel(\"diff due s1min coinc\");"
   ]
  },
  {
   "cell_type": "markdown",
   "id": "5fc61b0a",
   "metadata": {},
   "source": [
    "### Test the plugin"
   ]
  },
  {
   "cell_type": "code",
   "execution_count": 26,
   "id": "c35c4f7d",
   "metadata": {},
   "outputs": [
    {
     "data": {
      "text/plain": [
       "sn_rate_plugin.SNPugins"
      ]
     },
     "execution_count": 26,
     "metadata": {},
     "output_type": "execute_result"
    }
   ],
   "source": [
    "from sn_rate_plugin import SNPugins\n",
    "st.register(SNPugins)"
   ]
  },
  {
   "cell_type": "code",
   "execution_count": 27,
   "id": "803dcb3b",
   "metadata": {},
   "outputs": [
    {
     "name": "stderr",
     "output_type": "stream",
     "text": [
      "WARNING:strax:Option gain_model_nv not taken by any registered plugin\n",
      "WARNING:strax:Option gain_model_mv not taken by any registered plugin\n"
     ]
    },
    {
     "data": {
      "application/vnd.jupyter.widget-view+json": {
       "model_id": "a39001d3a3d9418e93c99b70371a7e24",
       "version_major": 2,
       "version_minor": 0
      },
      "text/plain": [
       "Loading sn_rate: |          | 0.00 % [00:00<?]"
      ]
     },
     "metadata": {},
     "output_type": "display_data"
    },
    {
     "name": "stdout",
     "output_type": "stream",
     "text": [
      "4427\n"
     ]
    },
    {
     "data": {
      "image/png": "[encoded data removed]",
      "text/plain": [
       "<Figure size 864x576 with 1 Axes>"
      ]
     },
     "metadata": {},
     "output_type": "display_data"
    }
   ],
   "source": [
    "st.set_config({\"sn_time_bin\":10})\n",
    "df_rate = st.get_df(\"Nakazato7_highstat\", 'sn_rate')\n",
    "plt.figure(figsize=(12,8))\n",
    "plt.errorbar(x=(df_rate['time']-df_rate['time'][0])/1e9, \n",
    "             y=df_rate['sn_rate'],\n",
    "             yerr=df_rate['sn_rate_err'], \n",
    "             color='r', marker='.',linestyle='',alpha=0.3)\n",
    "plt.axhline(np.mean(df_rate['sn_rate']), color='k',linestyle=':', \n",
    "            zorder=10, label='Mean = %.3f Hz'%np.mean(df_rate['sn_rate']))\n",
    "\n",
    "plt.legend()\n",
    "plt.xlabel('Time since start of run [s]')\n",
    "plt.ylabel('Rate [Hz]')\n",
    "plt.show()"
   ]
  },
  {
   "cell_type": "code",
   "execution_count": null,
   "id": "0b7f990a",
   "metadata": {},
   "outputs": [],
   "source": []
  },
  {
   "cell_type": "code",
   "execution_count": null,
   "id": "24aebf88",
   "metadata": {},
   "outputs": [],
   "source": []
  },
  {
   "cell_type": "code",
   "execution_count": 37,
   "id": "74857307",
   "metadata": {},
   "outputs": [
    {
     "data": {
      "image/png": "[encoded data removed]",
      "text/plain": [
       "<Figure size 504x504 with 1 Axes>"
      ]
     },
     "metadata": {},
     "output_type": "display_data"
    }
   ],
   "source": [
    "bins = np.linspace(0, 1000, 2000)\n",
    "a = np.histogram(peak_s2['area'], bins=bins)[0]\n",
    "b = np.histogram(peak_s22['area'], bins=bins)[0]\n",
    "\n",
    "c = np.histogram(peak_s2['range_50p_area'], bins=bins)[0]\n",
    "d = np.histogram(peak_s22['range_50p_area'], bins=bins)[0]\n",
    "\n",
    "\n",
    "fig, ax0 = plt.subplots(figsize=(7,7))\n",
    "ax0.grid(False); \n",
    "ax0.hist2d(a-b, c-d, \n",
    "           bins=(np.logspace(-2,2,50),np.logspace(-2,2,50)), norm=LogNorm());\n",
    "ax0.set_xscale(\"log\"); ax0.set_yscale(\"log\")"
   ]
  },
  {
   "cell_type": "code",
   "execution_count": null,
   "id": "75cb6f1a",
   "metadata": {},
   "outputs": [],
   "source": []
  }
 ],
 "metadata": {
  "kernelspec": {
   "display_name": "Python [conda env:XENONnT_development] *",
   "language": "python",
   "name": "conda-env-XENONnT_development-py"
  },
  "language_info": {
   "codemirror_mode": {
    "name": "ipython",
    "version": 3
   },
   "file_extension": ".py",
   "mimetype": "text/x-python",
   "name": "python",
   "nbconvert_exporter": "python",
   "pygments_lexer": "ipython3",
   "version": "3.8.13"
  }
 },
 "nbformat": 4,
 "nbformat_minor": 5
}
