{
 "cells": [
  {
   "cell_type": "markdown",
   "id": "f8e243c3",
   "metadata": {
    "pycharm": {
     "name": "#%% md\n"
    }
   },
   "source": [
    "# SNAX package tutorial - simulations"
   ]
  },
  {
   "cell_type": "code",
   "execution_count": 1,
   "id": "74ea98fb",
   "metadata": {
    "pycharm": {
     "name": "#%%\n"
    }
   },
   "outputs": [],
   "source": [
    "from snewpy.neutrino import Flavor\n",
    "import os\n",
    "from tqdm.notebook import tqdm\n",
    "import numpy as np\n",
    "from multimessenger.supernova import Supernova_Models as sn\n",
    "from multimessenger.supernova.Plotter import Plotter\n",
    "import plotly.express as px\n",
    "import astropy.units as u\n",
    "import matplotlib.pyplot as plt\n",
    "from matplotlib.colors import LogNorm"
   ]
  },
  {
   "cell_type": "code",
   "execution_count": 2,
   "id": "066ecadc",
   "metadata": {
    "scrolled": true,
    "pycharm": {
     "name": "#%%\n"
    }
   },
   "outputs": [
    {
     "name": "stderr",
     "output_type": "stream",
     "text": [
      "*** Detector definition message ***\n",
      "You are currently using the default XENON10 template detector.\n",
      "\n"
     ]
    },
    {
     "data": {
      "text/html": [
       "<div>\n",
       "<style scoped>\n",
       "    .dataframe tbody tr th:only-of-type {\n",
       "        vertical-align: middle;\n",
       "    }\n",
       "\n",
       "    .dataframe tbody tr th {\n",
       "        vertical-align: top;\n",
       "    }\n",
       "\n",
       "    .dataframe thead th {\n",
       "        text-align: right;\n",
       "    }\n",
       "</style>\n",
       "<table border=\"1\" class=\"dataframe\">\n",
       "  <thead>\n",
       "    <tr style=\"text-align: right;\">\n",
       "      <th></th>\n",
       "      <th>module</th>\n",
       "      <th>version</th>\n",
       "      <th>path</th>\n",
       "      <th>git</th>\n",
       "    </tr>\n",
       "  </thead>\n",
       "  <tbody>\n",
       "    <tr>\n",
       "      <th>0</th>\n",
       "      <td>python</td>\n",
       "      <td>3.8.13</td>\n",
       "      <td>/opt/XENONnT/anaconda/envs/XENONnT_development...</td>\n",
       "      <td>None</td>\n",
       "    </tr>\n",
       "    <tr>\n",
       "      <th>1</th>\n",
       "      <td>strax</td>\n",
       "      <td>1.2.3</td>\n",
       "      <td>/opt/XENONnT/anaconda/envs/XENONnT_development...</td>\n",
       "      <td>None</td>\n",
       "    </tr>\n",
       "    <tr>\n",
       "      <th>2</th>\n",
       "      <td>straxen</td>\n",
       "      <td>1.8.3</td>\n",
       "      <td>/opt/XENONnT/anaconda/envs/XENONnT_development...</td>\n",
       "      <td>None</td>\n",
       "    </tr>\n",
       "    <tr>\n",
       "      <th>3</th>\n",
       "      <td>cutax</td>\n",
       "      <td>1.13.0</td>\n",
       "      <td>/dali/lgrandi/xenonnt/software/cutax/latest/cutax</td>\n",
       "      <td>None</td>\n",
       "    </tr>\n",
       "    <tr>\n",
       "      <th>4</th>\n",
       "      <td>wfsim</td>\n",
       "      <td>1.0.1</td>\n",
       "      <td>/home/melih/software/WFSim/wfsim</td>\n",
       "      <td>branch:master | d72c1b3</td>\n",
       "    </tr>\n",
       "  </tbody>\n",
       "</table>\n",
       "</div>"
      ],
      "text/plain": [
       "    module version                                               path  \\\n",
       "0   python  3.8.13  /opt/XENONnT/anaconda/envs/XENONnT_development...   \n",
       "1    strax   1.2.3  /opt/XENONnT/anaconda/envs/XENONnT_development...   \n",
       "2  straxen   1.8.3  /opt/XENONnT/anaconda/envs/XENONnT_development...   \n",
       "3    cutax  1.13.0  /dali/lgrandi/xenonnt/software/cutax/latest/cutax   \n",
       "4    wfsim   1.0.1                   /home/melih/software/WFSim/wfsim   \n",
       "\n",
       "                       git  \n",
       "0                     None  \n",
       "1                     None  \n",
       "2                     None  \n",
       "3                     None  \n",
       "4  branch:master | d72c1b3  "
      ]
     },
     "execution_count": 2,
     "metadata": {},
     "output_type": "execute_result"
    }
   ],
   "source": [
    "import straxen\n",
    "straxen.print_versions(('strax', 'straxen', 'cutax', 'wfsim'))"
   ]
  },
  {
   "cell_type": "markdown",
   "id": "64664662",
   "metadata": {
    "pycharm": {
     "name": "#%% md\n"
    }
   },
   "source": [
    "The `SNAX` is a wrapper around `snewpy` and it allows to compute CEvNS rates for all the snewpy models."
   ]
  },
  {
   "cell_type": "markdown",
   "id": "3f63e928",
   "metadata": {
    "pycharm": {
     "name": "#%% md\n"
    }
   },
   "source": [
    "Each model contains variuous simulations with e.g. different EoS, or different progenitor properties. <br>\n",
    "When only `model_name` is passed to `sn.Models()` it displays the existing files and asks you to select one. Otherwise, `filename` or `index` can be passed. <br>\n",
    "Once the model is executed, and after every heavy computation the data is saved, and the next time it is directly fetched from the stored data. <br>\n",
    "The output folder can be specified with the `storage` argument."
   ]
  },
  {
   "cell_type": "code",
   "execution_count": 3,
   "id": "01f5cba1",
   "metadata": {
    "pycharm": {
     "name": "#%%\n"
    }
   },
   "outputs": [
    {
     "name": "stdout",
     "output_type": "stream",
     "text": [
      "\u001B[34m\u001B[1m> You chose ~wisely~ ->\t   [7]\tnakazato-shen-z0.02-t_rev100ms-s20.0.fits\u001B[0m\n",
      "\u001B[34m> Retrieving object self.storage/Nakazato_2013-nakazato-shen-z0_02-t_rev100ms-s20_0_fits.pickle\u001B[0m\n"
     ]
    }
   ],
   "source": [
    "m = sn.Models(\"Nakazato_2013\", index=7)"
   ]
  },
  {
   "cell_type": "code",
   "execution_count": 4,
   "id": "221d1ecb",
   "metadata": {
    "pycharm": {
     "name": "#%%\n"
    }
   },
   "outputs": [
    {
     "data": {
      "text/markdown": [
       "**Nakazato_2013 Model**: nakazato-shen-z0.02-t_rev100ms-s20.0.fits\n",
       "\n",
       "|Parameter|Value|\n",
       "|:--------|:----:|\n",
       "|Progenitor mass | $20$ $\\mathrm{M_{\\odot}}$|\n",
       "|EOS | SHEN |\n",
       "|Metallicity | 0.02 |\n",
       "|Revival time | $100$ $\\mathrm{ms}$|\n",
       "|composite | Xenon|\n",
       "|duration | 20.05 s|\n",
       "|distance | 10.0 kpc|\n",
       "|volume | 5.9 t|\n",
       "|executed | True|\n",
       "|SN rate | 52 ct|"
      ],
      "text/plain": [
       "Nakazato_2013 Model: nakazato-shen-z0.02-t_rev100ms-s20.0.fits\n",
       "Progenitor mass  : 20.0 solMass\n",
       "EOS              : SHEN\n",
       "Metallicity      : 0.02\n",
       "Revival time     : 100.0 ms"
      ]
     },
     "execution_count": 4,
     "metadata": {},
     "output_type": "execute_result"
    }
   ],
   "source": [
    "m"
   ]
  },
  {
   "cell_type": "code",
   "execution_count": 5,
   "id": "a3b9fb35",
   "metadata": {
    "pycharm": {
     "name": "#%%\n"
    }
   },
   "outputs": [
    {
     "data": {
      "text/html": [
       "<div>\n",
       "<style scoped>\n",
       "    .dataframe tbody tr th:only-of-type {\n",
       "        vertical-align: middle;\n",
       "    }\n",
       "\n",
       "    .dataframe tbody tr th {\n",
       "        vertical-align: top;\n",
       "    }\n",
       "\n",
       "    .dataframe thead th {\n",
       "        text-align: right;\n",
       "    }\n",
       "</style>\n",
       "<table border=\"1\" class=\"dataframe\">\n",
       "  <thead>\n",
       "    <tr style=\"text-align: right;\">\n",
       "      <th></th>\n",
       "      <th>date</th>\n",
       "      <th>version</th>\n",
       "      <th>user</th>\n",
       "      <th>history</th>\n",
       "    </tr>\n",
       "  </thead>\n",
       "  <tbody>\n",
       "    <tr>\n",
       "      <th>0</th>\n",
       "      <td>2022/08/23 - 13:56 UTC</td>\n",
       "      <td>1.2.0</td>\n",
       "      <td>melih</td>\n",
       "      <td>Data Saved!</td>\n",
       "    </tr>\n",
       "    <tr>\n",
       "      <th>1</th>\n",
       "      <td>2022/08/23 - 13:57 UTC</td>\n",
       "      <td>1.2.0</td>\n",
       "      <td>melih</td>\n",
       "      <td>Fluxes computed!</td>\n",
       "    </tr>\n",
       "    <tr>\n",
       "      <th>2</th>\n",
       "      <td>2022/08/23 - 13:57 UTC</td>\n",
       "      <td>1.2.0</td>\n",
       "      <td>melih</td>\n",
       "      <td>Data Saved!</td>\n",
       "    </tr>\n",
       "    <tr>\n",
       "      <th>3</th>\n",
       "      <td>2022/08/23 - 13:57 UTC</td>\n",
       "      <td>1.2.0</td>\n",
       "      <td>melih</td>\n",
       "      <td>simulation Nakazato7_highstat is requested!</td>\n",
       "    </tr>\n",
       "    <tr>\n",
       "      <th>4</th>\n",
       "      <td>2022/08/23 - 13:57 UTC</td>\n",
       "      <td>1.2.0</td>\n",
       "      <td>melih</td>\n",
       "      <td>Data Saved!</td>\n",
       "    </tr>\n",
       "    <tr>\n",
       "      <th>5</th>\n",
       "      <td>2022/08/23 - 14:09 UTC</td>\n",
       "      <td>1.2.0</td>\n",
       "      <td>melih</td>\n",
       "      <td>simulation Nakazato7_highstat_st2 is requested!</td>\n",
       "    </tr>\n",
       "    <tr>\n",
       "      <th>6</th>\n",
       "      <td>2022/08/23 - 14:34 UTC</td>\n",
       "      <td>1.2.0</td>\n",
       "      <td>melih</td>\n",
       "      <td>simulation Nakazato7_highstat is requested!</td>\n",
       "    </tr>\n",
       "    <tr>\n",
       "      <th>7</th>\n",
       "      <td>2022/08/23 - 14:34 UTC</td>\n",
       "      <td>1.2.0</td>\n",
       "      <td>melih</td>\n",
       "      <td>Data Saved!</td>\n",
       "    </tr>\n",
       "    <tr>\n",
       "      <th>8</th>\n",
       "      <td>2022/08/23 - 14:34 UTC</td>\n",
       "      <td>1.2.0</td>\n",
       "      <td>melih</td>\n",
       "      <td>simulation Nakazato7_highstat_st2 is requested!</td>\n",
       "    </tr>\n",
       "  </tbody>\n",
       "</table>\n",
       "</div>"
      ],
      "text/plain": [
       "                     date version   user  \\\n",
       "0  2022/08/23 - 13:56 UTC   1.2.0  melih   \n",
       "1  2022/08/23 - 13:57 UTC   1.2.0  melih   \n",
       "2  2022/08/23 - 13:57 UTC   1.2.0  melih   \n",
       "3  2022/08/23 - 13:57 UTC   1.2.0  melih   \n",
       "4  2022/08/23 - 13:57 UTC   1.2.0  melih   \n",
       "5  2022/08/23 - 14:09 UTC   1.2.0  melih   \n",
       "6  2022/08/23 - 14:34 UTC   1.2.0  melih   \n",
       "7  2022/08/23 - 14:34 UTC   1.2.0  melih   \n",
       "8  2022/08/23 - 14:34 UTC   1.2.0  melih   \n",
       "\n",
       "                                           history  \n",
       "0                                      Data Saved!  \n",
       "1                                 Fluxes computed!  \n",
       "2                                      Data Saved!  \n",
       "3      simulation Nakazato7_highstat is requested!  \n",
       "4                                      Data Saved!  \n",
       "5  simulation Nakazato7_highstat_st2 is requested!  \n",
       "6      simulation Nakazato7_highstat is requested!  \n",
       "7                                      Data Saved!  \n",
       "8  simulation Nakazato7_highstat_st2 is requested!  "
      ]
     },
     "execution_count": 5,
     "metadata": {},
     "output_type": "execute_result"
    }
   ],
   "source": [
    "m.display_history"
   ]
  },
  {
   "cell_type": "code",
   "execution_count": 6,
   "id": "9f5b8d50",
   "metadata": {
    "pycharm": {
     "name": "#%%\n"
    }
   },
   "outputs": [
    {
     "data": {
      "application/vnd.jupyter.widget-view+json": {
       "model_id": "9a2aaccb36c2419fadf60893ef5da70e",
       "version_major": 2,
       "version_minor": 0
      },
      "text/plain": [
       "Computing for all isotopes:   0%|          | 0/9 [00:00<?, ?it/s]"
      ]
     },
     "metadata": {},
     "output_type": "display_data"
    },
    {
     "data": {
      "application/vnd.jupyter.widget-view+json": {
       "model_id": "2e791a896b2447dba0888a63016e0afb",
       "version_major": 2,
       "version_minor": 0
      },
      "text/plain": [
       "  0%|          | 0/9 [00:00<?, ?it/s]"
      ]
     },
     "metadata": {},
     "output_type": "display_data"
    },
    {
     "data": {
      "application/vnd.jupyter.widget-view+json": {
       "model_id": "594eecfb98974d9683174aaf1cf3aede",
       "version_major": 2,
       "version_minor": 0
      },
      "text/plain": [
       "  0%|          | 0/9 [00:00<?, ?it/s]"
      ]
     },
     "metadata": {},
     "output_type": "display_data"
    },
    {
     "name": "stderr",
     "output_type": "stream",
     "text": [
      "WARNING: AstropyDeprecationWarning: The truth value of a Quantity is ambiguous. In the future this will raise a ValueError. [astropy.units.quantity]\n",
      "WARNING:astropy:AstropyDeprecationWarning: The truth value of a Quantity is ambiguous. In the future this will raise a ValueError.\n"
     ]
    },
    {
     "name": "stdout",
     "output_type": "stream",
     "text": [
      "\u001B[32m> Rates are computed at the source for 1 atom see rateper_Er/t attr (use scale_rates() for distance & volume)\u001B[0m\n"
     ]
    }
   ],
   "source": [
    "m.compute_rates()"
   ]
  },
  {
   "cell_type": "markdown",
   "id": "fa994801",
   "metadata": {
    "pycharm": {
     "name": "#%% md\n"
    }
   },
   "source": [
    "These parts are better done in dali/midway. <br>\n"
   ]
  },
  {
   "cell_type": "code",
   "execution_count": 7,
   "id": "f8941f1f",
   "metadata": {
    "pycharm": {
     "name": "#%%\n"
    }
   },
   "outputs": [
    {
     "name": "stderr",
     "output_type": "stream",
     "text": [
      "*** Detector definition message ***\n",
      "You are currently using the default XENON10 template detector.\n",
      "\n"
     ]
    }
   ],
   "source": [
    "import nestpy\n",
    "import pandas as pd\n",
    "import straxen\n",
    "downloader = straxen.MongoDownloader()\n",
    "field_file=\"fieldmap_2D_B2d75n_C2d75n_G0d3p_A4d9p_T0d9n_PMTs1d3n_FSR0d65p_QPTFE_0d5n_0d4p.json.gz\"\n",
    "field_map = straxen.InterpolatingMap(\n",
    "                    straxen.get_resource(downloader.download_single(field_file),\n",
    "                                         fmt=\"json.gz\"),\n",
    "                    method=\"RegularGridInterpolator\")\n",
    "\n",
    "nc = nestpy.NESTcalc(nestpy.DetectorExample_XENON10())\n",
    "## not sure if nestpy RNG issue was solved, so randomize NEST internal state\n",
    "for i in range(np.random.randint(100)):\n",
    "    nc.GetQuanta(nc.GetYields(energy=np.random.uniform(10,100)))"
   ]
  },
  {
   "cell_type": "markdown",
   "id": "1cb8c70a",
   "metadata": {
    "pycharm": {
     "name": "#%% md\n"
    }
   },
   "source": [
    "Caution, the times need to be passed in nanoseconds!"
   ]
  },
  {
   "cell_type": "markdown",
   "id": "6e29e626",
   "metadata": {
    "pycharm": {
     "name": "#%% md\n"
    }
   },
   "source": [
    "## Simulate ~high statistics t-shifted sample"
   ]
  },
  {
   "cell_type": "code",
   "execution_count": 8,
   "id": "8b79e3df",
   "metadata": {
    "pycharm": {
     "name": "#%%\n"
    }
   },
   "outputs": [],
   "source": [
    "N_events = 3000\n",
    "sampled_Er = m.sample_data(N_events)\n",
    "sampled_t = m.sample_data(N_events, dtype='time')"
   ]
  },
  {
   "cell_type": "code",
   "execution_count": 10,
   "id": "797c6983",
   "metadata": {
    "pycharm": {
     "name": "#%%\n"
    }
   },
   "outputs": [
    {
     "name": "stderr",
     "output_type": "stream",
     "text": [
      "WARNING: AstropyDeprecationWarning: The truth value of a Quantity is ambiguous. In the future this will raise a ValueError. [astropy.units.quantity]\n",
      "WARNING:astropy:AstropyDeprecationWarning: The truth value of a Quantity is ambiguous. In the future this will raise a ValueError.\n"
     ]
    },
    {
     "name": "stdout",
     "output_type": "stream",
     "text": [
      "Total duration 1142.38 seconds\n"
     ]
    }
   ],
   "source": [
    "instr = m.generate_instructions(energy_deposition=sampled_Er, \n",
    "                                timemode=\"shifted\", \n",
    "                                n_tot=N_events, nc=nc, fmap=field_map)\n",
    "df = pd.DataFrame(instr)\n",
    "print(f\"Total duration {np.ptp(df['time'])*1e-9:.2f} seconds\")\n",
    "# df"
   ]
  },
  {
   "cell_type": "code",
   "execution_count": 11,
   "id": "80d2c3f0",
   "metadata": {
    "scrolled": true,
    "pycharm": {
     "name": "#%%\n"
    }
   },
   "outputs": [
    {
     "name": "stderr",
     "output_type": "stream",
     "text": [
      "WARNING:strax:Option gain_model_nv not taken by any registered plugin\n",
      "WARNING:strax:Option gain_model_mv not taken by any registered plugin\n",
      "WARNING:strax:Option gain_model_nv not taken by any registered plugin\n",
      "WARNING:strax:Option gain_model_mv not taken by any registered plugin\n",
      "WARNING:strax:Option gain_model_nv not taken by any registered plugin\n",
      "WARNING:strax:Option gain_model_mv not taken by any registered plugin\n",
      "WARNING:strax:Option gain_model_nv not taken by any registered plugin\n",
      "WARNING:strax:Option gain_model_mv not taken by any registered plugin\n",
      "WARNING:strax:Option gain_model_nv not taken by any registered plugin\n",
      "WARNING:strax:Option gain_model_mv not taken by any registered plugin\n",
      "WARNING:strax:Option gain_model_nv not taken by any registered plugin\n",
      "WARNING:strax:Option gain_model_mv not taken by any registered plugin\n"
     ]
    },
    {
     "name": "stdout",
     "output_type": "stream",
     "text": [
      "\u001B[34m> Saved at <self.storage>/Nakazato_2013-nakazato-shen-z0_02-t_rev100ms-s20_0_fits.pickle!\n",
      "\u001B[0m\n"
     ]
    },
    {
     "name": "stderr",
     "output_type": "stream",
     "text": [
      "WARNING:strax:Option gain_model_nv not taken by any registered plugin\n",
      "WARNING:strax:Option gain_model_mv not taken by any registered plugin\n"
     ]
    },
    {
     "name": "stdout",
     "output_type": "stream",
     "text": [
      "\u001B[32mNakazato7_highstat already exists!\u001B[0m\n",
      "\u001B[32mNakazato7_highstat is fetched! Returning context!\u001B[0m\n"
     ]
    }
   ],
   "source": [
    "st = m.simulate_one(df, \"Nakazato7_highstat\")"
   ]
  },
  {
   "cell_type": "code",
   "execution_count": 12,
   "id": "6b7c1bdc",
   "metadata": {
    "pycharm": {
     "name": "#%%\n"
    }
   },
   "outputs": [
    {
     "data": {
      "text/html": [
       "<div>\n",
       "<style scoped>\n",
       "    .dataframe tbody tr th:only-of-type {\n",
       "        vertical-align: middle;\n",
       "    }\n",
       "\n",
       "    .dataframe tbody tr th {\n",
       "        vertical-align: top;\n",
       "    }\n",
       "\n",
       "    .dataframe thead th {\n",
       "        text-align: right;\n",
       "    }\n",
       "</style>\n",
       "<table border=\"1\" class=\"dataframe\">\n",
       "  <thead>\n",
       "    <tr style=\"text-align: right;\">\n",
       "      <th></th>\n",
       "      <th></th>\n",
       "      <th>context hash</th>\n",
       "      <th>date</th>\n",
       "      <th>user</th>\n",
       "      <th>model</th>\n",
       "      <th>single SN events</th>\n",
       "      <th>size</th>\n",
       "      <th>runid</th>\n",
       "    </tr>\n",
       "    <tr>\n",
       "      <th>versions</th>\n",
       "      <th>index</th>\n",
       "      <th></th>\n",
       "      <th></th>\n",
       "      <th></th>\n",
       "      <th></th>\n",
       "      <th></th>\n",
       "      <th></th>\n",
       "      <th></th>\n",
       "    </tr>\n",
       "  </thead>\n",
       "  <tbody>\n",
       "    <tr>\n",
       "      <th rowspan=\"5\" valign=\"top\">strax:1.2.3 straxen:1.8.3 cutax:1.13.0 wfsim:1.0.1</th>\n",
       "      <th>0</th>\n",
       "      <td>rvchefp73l</td>\n",
       "      <td>2022/08/23 - 13:57 UTC</td>\n",
       "      <td>melih</td>\n",
       "      <td>Nakazato_2013-nakazato-shen-z0_02-t_rev100ms-s...</td>\n",
       "      <td>52</td>\n",
       "      <td>5256</td>\n",
       "      <td>NaN</td>\n",
       "    </tr>\n",
       "    <tr>\n",
       "      <th>1</th>\n",
       "      <td>ibctvalxfl</td>\n",
       "      <td>2022/08/23 - 14:09 UTC</td>\n",
       "      <td>melih</td>\n",
       "      <td>Nakazato_2013-nakazato-shen-z0_02-t_rev100ms-s...</td>\n",
       "      <td>52</td>\n",
       "      <td>5256</td>\n",
       "      <td>NaN</td>\n",
       "    </tr>\n",
       "    <tr>\n",
       "      <th>2</th>\n",
       "      <td>rvchefp73l</td>\n",
       "      <td>2022/08/23 - 14:34 UTC</td>\n",
       "      <td>melih</td>\n",
       "      <td>Nakazato_2013-nakazato-shen-z0_02-t_rev100ms-s...</td>\n",
       "      <td>52</td>\n",
       "      <td>5257</td>\n",
       "      <td>Nakazato7_highstat</td>\n",
       "    </tr>\n",
       "    <tr>\n",
       "      <th>3</th>\n",
       "      <td>ibctvalxfl</td>\n",
       "      <td>2022/08/23 - 14:34 UTC</td>\n",
       "      <td>melih</td>\n",
       "      <td>Nakazato_2013-nakazato-shen-z0_02-t_rev100ms-s...</td>\n",
       "      <td>52</td>\n",
       "      <td>5257</td>\n",
       "      <td>Nakazato7_highstat_st2</td>\n",
       "    </tr>\n",
       "    <tr>\n",
       "      <th>4</th>\n",
       "      <td>rvchefp73l</td>\n",
       "      <td>2022/08/25 - 09:27 UTC</td>\n",
       "      <td>melih</td>\n",
       "      <td>Nakazato_2013-nakazato-shen-z0_02-t_rev100ms-s...</td>\n",
       "      <td>52</td>\n",
       "      <td>5255</td>\n",
       "      <td>Nakazato7_highstat</td>\n",
       "    </tr>\n",
       "  </tbody>\n",
       "</table>\n",
       "</div>"
      ],
      "text/plain": [
       "                                                         context hash  \\\n",
       "versions                                           index                \n",
       "strax:1.2.3 straxen:1.8.3 cutax:1.13.0 wfsim:1.0.1 0       rvchefp73l   \n",
       "                                                   1       ibctvalxfl   \n",
       "                                                   2       rvchefp73l   \n",
       "                                                   3       ibctvalxfl   \n",
       "                                                   4       rvchefp73l   \n",
       "\n",
       "                                                                            date  \\\n",
       "versions                                           index                           \n",
       "strax:1.2.3 straxen:1.8.3 cutax:1.13.0 wfsim:1.0.1 0      2022/08/23 - 13:57 UTC   \n",
       "                                                   1      2022/08/23 - 14:09 UTC   \n",
       "                                                   2      2022/08/23 - 14:34 UTC   \n",
       "                                                   3      2022/08/23 - 14:34 UTC   \n",
       "                                                   4      2022/08/25 - 09:27 UTC   \n",
       "\n",
       "                                                           user  \\\n",
       "versions                                           index          \n",
       "strax:1.2.3 straxen:1.8.3 cutax:1.13.0 wfsim:1.0.1 0      melih   \n",
       "                                                   1      melih   \n",
       "                                                   2      melih   \n",
       "                                                   3      melih   \n",
       "                                                   4      melih   \n",
       "\n",
       "                                                                                                      model  \\\n",
       "versions                                           index                                                      \n",
       "strax:1.2.3 straxen:1.8.3 cutax:1.13.0 wfsim:1.0.1 0      Nakazato_2013-nakazato-shen-z0_02-t_rev100ms-s...   \n",
       "                                                   1      Nakazato_2013-nakazato-shen-z0_02-t_rev100ms-s...   \n",
       "                                                   2      Nakazato_2013-nakazato-shen-z0_02-t_rev100ms-s...   \n",
       "                                                   3      Nakazato_2013-nakazato-shen-z0_02-t_rev100ms-s...   \n",
       "                                                   4      Nakazato_2013-nakazato-shen-z0_02-t_rev100ms-s...   \n",
       "\n",
       "                                                         single SN events  \\\n",
       "versions                                           index                    \n",
       "strax:1.2.3 straxen:1.8.3 cutax:1.13.0 wfsim:1.0.1 0                   52   \n",
       "                                                   1                   52   \n",
       "                                                   2                   52   \n",
       "                                                   3                   52   \n",
       "                                                   4                   52   \n",
       "\n",
       "                                                          size  \\\n",
       "versions                                           index         \n",
       "strax:1.2.3 straxen:1.8.3 cutax:1.13.0 wfsim:1.0.1 0      5256   \n",
       "                                                   1      5256   \n",
       "                                                   2      5257   \n",
       "                                                   3      5257   \n",
       "                                                   4      5255   \n",
       "\n",
       "                                                                           runid  \n",
       "versions                                           index                          \n",
       "strax:1.2.3 straxen:1.8.3 cutax:1.13.0 wfsim:1.0.1 0                         NaN  \n",
       "                                                   1                         NaN  \n",
       "                                                   2          Nakazato7_highstat  \n",
       "                                                   3      Nakazato7_highstat_st2  \n",
       "                                                   4          Nakazato7_highstat  "
      ]
     },
     "execution_count": 12,
     "metadata": {},
     "output_type": "execute_result"
    }
   ],
   "source": [
    "m.display_simulation_history"
   ]
  },
  {
   "cell_type": "code",
   "execution_count": 14,
   "id": "47703e91",
   "metadata": {
    "pycharm": {
     "name": "#%%\n"
    }
   },
   "outputs": [
    {
     "name": "stderr",
     "output_type": "stream",
     "text": [
      "WARNING:strax:Option gain_model_nv not taken by any registered plugin\n",
      "WARNING:strax:Option gain_model_mv not taken by any registered plugin\n",
      "WARNING:strax:Option gain_model_nv not taken by any registered plugin\n",
      "WARNING:strax:Option gain_model_mv not taken by any registered plugin\n"
     ]
    },
    {
     "data": {
      "application/vnd.jupyter.widget-view+json": {
       "model_id": "72e8fd342a394cf6a43737876df36cb6",
       "version_major": 2,
       "version_minor": 0
      },
      "text/plain": [
       "Loading plugins: |          | 0.00 % [00:00<?]"
      ]
     },
     "metadata": {},
     "output_type": "display_data"
    }
   ],
   "source": [
    "peak_basics = st.get_df(\"Nakazato7_highstat\", [\"peak_basics\", \"peak_positions\"])"
   ]
  },
  {
   "cell_type": "code",
   "execution_count": 16,
   "id": "25808595",
   "metadata": {
    "pycharm": {
     "name": "#%%\n"
    }
   },
   "outputs": [
    {
     "data": {
      "text/plain": [
       "(array([2, 1, 0], dtype=int8), 84, 1459, 2884)"
      ]
     },
     "execution_count": 16,
     "metadata": {},
     "output_type": "execute_result"
    }
   ],
   "source": [
    "peak_s1 = peak_basics[peak_basics['type'] == 1]\n",
    "peak_s2 = peak_basics[peak_basics['type'] == 2]\n",
    "peak_basics['type'].unique(), sum(peak_basics['type']==0), sum(peak_basics['type']==1), sum(peak_basics['type']==2)"
   ]
  },
  {
   "cell_type": "code",
   "execution_count": 17,
   "id": "9235674e",
   "metadata": {
    "pycharm": {
     "name": "#%%\n"
    }
   },
   "outputs": [
    {
     "data": {
      "image/png": "[encoded data removed]",
      "text/plain": [
       "<Figure size 1224x360 with 3 Axes>"
      ]
     },
     "metadata": {},
     "output_type": "display_data"
    }
   ],
   "source": [
    "fig, (ax0, ax1, ax2) = plt.subplots(ncols=3, figsize=(17,5), sharex=True, sharey=True)\n",
    "ax0.grid(False); ax1.grid(False); ax2.grid(False)\n",
    "ax0.hist2d(peak_basics[\"area\"], peak_basics[\"range_50p_area\"], \n",
    "           bins=(np.logspace(0,5,100),np.logspace(0,5,100)),\n",
    "           norm=LogNorm());\n",
    "ax0.set_xscale(\"log\"); ax0.set_yscale(\"log\")\n",
    "ax0.set_xlabel(\"Area [PE]\"); ax0.set_ylabel(\"width\");\n",
    "\n",
    "\n",
    "ax1.hist2d(peak_s1[\"area\"], peak_s1[\"range_50p_area\"], \n",
    "           bins=(np.logspace(0,5,100),np.logspace(0,5,100)),\n",
    "           norm=LogNorm());\n",
    "ax1.set_xscale(\"log\"); ax1.set_yscale(\"log\")\n",
    "ax1.set_xlabel(\"S1 Area [PE]\"); ax1.set_ylabel(\"S1 width\");\n",
    "\n",
    "ax2.hist2d(peak_s2[\"area\"], peak_s2[\"range_50p_area\"], \n",
    "           bins=(np.logspace(0,5,100),np.logspace(0,5,100)),\n",
    "           norm=LogNorm());\n",
    "ax2.set_xscale(\"log\"); ax2.set_yscale(\"log\")\n",
    "ax2.set_xlabel(\"S2 Area [PE]\"); ax2.set_ylabel(\"S2 width\");"
   ]
  },
  {
   "cell_type": "markdown",
   "id": "271b8050",
   "metadata": {
    "pycharm": {
     "name": "#%% md\n"
    }
   },
   "source": [
    "### Test different simulation configurations"
   ]
  },
  {
   "cell_type": "code",
   "execution_count": 18,
   "id": "c331a7fe",
   "metadata": {
    "pycharm": {
     "name": "#%%\n"
    }
   },
   "outputs": [
    {
     "name": "stderr",
     "output_type": "stream",
     "text": [
      "WARNING:strax:Option gain_model_nv not taken by any registered plugin\n",
      "WARNING:strax:Option gain_model_mv not taken by any registered plugin\n",
      "WARNING:strax:Option gain_model_nv not taken by any registered plugin\n",
      "WARNING:strax:Option gain_model_mv not taken by any registered plugin\n",
      "WARNING:strax:Option gain_model_nv not taken by any registered plugin\n",
      "WARNING:strax:Option gain_model_mv not taken by any registered plugin\n",
      "WARNING:strax:Option gain_model_nv not taken by any registered plugin\n",
      "WARNING:strax:Option gain_model_mv not taken by any registered plugin\n",
      "WARNING:strax:Option gain_model_nv not taken by any registered plugin\n",
      "WARNING:strax:Option gain_model_mv not taken by any registered plugin\n",
      "WARNING:strax:Option gain_model_nv not taken by any registered plugin\n",
      "WARNING:strax:Option gain_model_mv not taken by any registered plugin\n"
     ]
    }
   ],
   "source": [
    "import cutax, strax\n",
    "st2 = cutax.contexts.xenonnt_sim_SR0v2_cmt_v8(cmt_run_id=\"026000\", \n",
    "                                              output_folder=os.path.join(m.config['wfsim']['sim_folder'], \"strax_data\"))\n",
    "# set s1 minimum coincidence to 0\n",
    "st2.set_config({\"s1_min_coincidence\":0})"
   ]
  },
  {
   "cell_type": "code",
   "execution_count": 19,
   "id": "cfbc78c1",
   "metadata": {
    "pycharm": {
     "name": "#%%\n"
    }
   },
   "outputs": [
    {
     "name": "stdout",
     "output_type": "stream",
     "text": [
      "\u001B[34m> Saved at <self.storage>/Nakazato_2013-nakazato-shen-z0_02-t_rev100ms-s20_0_fits.pickle!\n",
      "\u001B[0m\n"
     ]
    },
    {
     "name": "stderr",
     "output_type": "stream",
     "text": [
      "WARNING:strax:Option gain_model_nv not taken by any registered plugin\n",
      "WARNING:strax:Option gain_model_mv not taken by any registered plugin\n"
     ]
    },
    {
     "name": "stdout",
     "output_type": "stream",
     "text": [
      "\u001B[32mNakazato7_highstat_st2 already exists!\u001B[0m\n",
      "\u001B[32mNakazato7_highstat_st2 is fetched! Returning context!\u001B[0m\n"
     ]
    }
   ],
   "source": [
    "st2 = m.simulate_one(df, \"Nakazato7_highstat_st2\", context=st2)"
   ]
  },
  {
   "cell_type": "code",
   "execution_count": 21,
   "id": "eaddedfb",
   "metadata": {
    "collapsed": true,
    "pycharm": {
     "name": "#%%\n"
    }
   },
   "outputs": [
    {
     "name": "stderr",
     "output_type": "stream",
     "text": [
      "WARNING:strax:Option gain_model_nv not taken by any registered plugin\n",
      "WARNING:strax:Option gain_model_mv not taken by any registered plugin\n",
      "WARNING:strax:Option gain_model_nv not taken by any registered plugin\n",
      "WARNING:strax:Option gain_model_mv not taken by any registered plugin\n"
     ]
    },
    {
     "data": {
      "application/vnd.jupyter.widget-view+json": {
       "model_id": "f184a0cfe21647c58487fc20fd4f966b",
       "version_major": 2,
       "version_minor": 0
      },
      "text/plain": [
       "Loading plugins: |          | 0.00 % [00:00<?]"
      ]
     },
     "metadata": {},
     "output_type": "display_data"
    },
    {
     "name": "stderr",
     "output_type": "stream",
     "text": [
      "2022-08-25 04:29:06.046870: W tensorflow/stream_executor/platform/default/dso_loader.cc:64] Could not load dynamic library 'libcudart.so.11.0'; dlerror: libcudart.so.11.0: cannot open shared object file: No such file or directory; LD_LIBRARY_PATH: /opt/XENONnT/anaconda/envs/XENONnT_development/lib64:/opt/XENONnT/anaconda/envs/XENONnT_development/lib:/opt/rh/devtoolset-9/root/usr/lib64:/opt/rh/devtoolset-9/root/usr/lib:/opt/rh/devtoolset-9/root/usr/lib64/dyninst:/opt/rh/devtoolset-9/root/usr/lib/dyninst:/opt/rh/devtoolset-9/root/usr/lib64:/opt/rh/devtoolset-9/root/usr/lib\n",
      "2022-08-25 04:29:06.046932: I tensorflow/stream_executor/cuda/cudart_stub.cc:29] Ignore above cudart dlerror if you do not have a GPU set up on your machine.\n",
      "2022-08-25 04:29:16.192658: W tensorflow/stream_executor/platform/default/dso_loader.cc:64] Could not load dynamic library 'libcuda.so.1'; dlerror: libcuda.so.1: cannot open shared object file: No such file or directory; LD_LIBRARY_PATH: /opt/XENONnT/anaconda/envs/XENONnT_development/lib64:/opt/XENONnT/anaconda/envs/XENONnT_development/lib:/opt/rh/devtoolset-9/root/usr/lib64:/opt/rh/devtoolset-9/root/usr/lib:/opt/rh/devtoolset-9/root/usr/lib64/dyninst:/opt/rh/devtoolset-9/root/usr/lib/dyninst:/opt/rh/devtoolset-9/root/usr/lib64:/opt/rh/devtoolset-9/root/usr/lib\n",
      "2022-08-25 04:29:16.192713: W tensorflow/stream_executor/cuda/cuda_driver.cc:269] failed call to cuInit: UNKNOWN ERROR (303)\n",
      "2022-08-25 04:29:16.192736: I tensorflow/stream_executor/cuda/cuda_diagnostics.cc:156] kernel driver does not appear to be running on this host (midway2-0417.rcc.local): /proc/driver/nvidia/version does not exist\n",
      "2022-08-25 04:29:16.193054: I tensorflow/core/platform/cpu_feature_guard.cc:193] This TensorFlow binary is optimized with oneAPI Deep Neural Network Library (oneDNN) to use the following CPU instructions in performance-critical operations:  AVX2 FMA\n",
      "To enable them in other operations, rebuild TensorFlow with the appropriate compiler flags.\n"
     ]
    }
   ],
   "source": [
    "peak_basics2 = st2.get_df(\"Nakazato7_highstat_st2\", [\"peak_basics\",\"peak_positions\"])"
   ]
  },
  {
   "cell_type": "code",
   "execution_count": 22,
   "id": "4fa976d5",
   "metadata": {
    "pycharm": {
     "name": "#%%\n"
    }
   },
   "outputs": [
    {
     "data": {
      "text/plain": [
       "(array([2, 1, 0], dtype=int8), 27, 1594, 2866)"
      ]
     },
     "execution_count": 22,
     "metadata": {},
     "output_type": "execute_result"
    }
   ],
   "source": [
    "peak_s12 = peak_basics2[peak_basics2['type'] == 1]\n",
    "peak_s22 = peak_basics2[peak_basics2['type'] == 2]\n",
    "peak_basics2['type'].unique(), sum(peak_basics2['type']==0), sum(peak_basics2['type']==1), sum(peak_basics2['type']==2)"
   ]
  },
  {
   "cell_type": "code",
   "execution_count": 23,
   "id": "fa11f4f1",
   "metadata": {
    "pycharm": {
     "name": "#%%\n"
    }
   },
   "outputs": [
    {
     "data": {
      "image/png": "[encoded data removed]",
      "text/plain": [
       "<Figure size 1224x360 with 3 Axes>"
      ]
     },
     "metadata": {},
     "output_type": "display_data"
    }
   ],
   "source": [
    "fig, (ax0, ax1, ax2) = plt.subplots(ncols=3, figsize=(17,5), sharex=True, sharey=True)\n",
    "ax0.grid(False); ax1.grid(False); ax2.grid(False)\n",
    "ax0.hist2d(peak_basics2[\"area\"], peak_basics2[\"range_50p_area\"], \n",
    "           bins=(np.logspace(0,5,100),np.logspace(0,5,100)),\n",
    "           norm=LogNorm());\n",
    "ax0.set_xscale(\"log\"); ax0.set_yscale(\"log\")\n",
    "ax0.set_xlabel(\"Area [PE]\"); ax0.set_ylabel(\"width\");\n",
    "\n",
    "\n",
    "ax1.hist2d(peak_s12[\"area\"], peak_s12[\"range_50p_area\"], \n",
    "           bins=(np.logspace(0,5,100),np.logspace(0,5,100)),\n",
    "           norm=LogNorm());\n",
    "ax1.set_xscale(\"log\"); ax1.set_yscale(\"log\")\n",
    "ax1.set_xlabel(\"S1 Area [PE]\"); ax1.set_ylabel(\"S1 width\");\n",
    "\n",
    "ax2.hist2d(peak_s22[\"area\"], peak_s22[\"range_50p_area\"], \n",
    "           bins=(np.logspace(0,5,100),np.logspace(0,5,100)),\n",
    "           norm=LogNorm());\n",
    "ax2.set_xscale(\"log\"); ax2.set_yscale(\"log\")\n",
    "ax2.set_xlabel(\"S2 Area [PE]\"); ax2.set_ylabel(\"S2 width\");"
   ]
  },
  {
   "cell_type": "code",
   "execution_count": 25,
   "id": "59d3e8d0",
   "metadata": {
    "pycharm": {
     "name": "#%%\n"
    }
   },
   "outputs": [
    {
     "data": {
      "image/png": "[encoded data removed]",
      "text/plain": [
       "<Figure size 432x288 with 1 Axes>"
      ]
     },
     "metadata": {},
     "output_type": "display_data"
    }
   ],
   "source": [
    "plt.hist(peak_s12['area'], bins=10, histtype='step', lw=2, label='s1mincoinc=0');\n",
    "plt.hist(peak_s1['area'], bins=10, histtype='step', lw=2, label='s1mincoinc=2');\n",
    "plt.xlabel('s1 area')\n",
    "plt.legend();"
   ]
  },
  {
   "cell_type": "code",
   "execution_count": 24,
   "id": "d05c97b8",
   "metadata": {
    "pycharm": {
     "name": "#%%\n"
    }
   },
   "outputs": [
    {
     "data": {
      "image/png": "[encoded data removed]",
      "text/plain": [
       "<Figure size 432x288 with 1 Axes>"
      ]
     },
     "metadata": {},
     "output_type": "display_data"
    }
   ],
   "source": [
    "len(peak_s22), len(peak_s2)\n",
    "bins = np.linspace(0, 1000, 200)\n",
    "a = np.histogram(peak_s2['area'], bins=bins)[0]\n",
    "b = np.histogram(peak_s22['area'], bins=bins)[0]\n",
    "plt.semilogx(bins[1:], a-b)\n",
    "plt.xlabel(\"S2 area [P.E.]\");\n",
    "plt.ylabel(\"diff due s1min coinc\");"
   ]
  },
  {
   "cell_type": "markdown",
   "id": "5fc61b0a",
   "metadata": {
    "pycharm": {
     "name": "#%% md\n"
    }
   },
   "source": [
    "### Test the plugin"
   ]
  },
  {
   "cell_type": "code",
   "execution_count": 26,
   "id": "c35c4f7d",
   "metadata": {
    "pycharm": {
     "name": "#%%\n"
    }
   },
   "outputs": [
    {
     "data": {
      "text/plain": [
       "sn_rate_plugin.SNPugins"
      ]
     },
     "execution_count": 26,
     "metadata": {},
     "output_type": "execute_result"
    }
   ],
   "source": [
    "from sn_rate_plugin import SNPugins\n",
    "st.register(SNPugins)"
   ]
  },
  {
   "cell_type": "code",
   "execution_count": 27,
   "id": "803dcb3b",
   "metadata": {
    "pycharm": {
     "name": "#%%\n"
    }
   },
   "outputs": [
    {
     "name": "stderr",
     "output_type": "stream",
     "text": [
      "WARNING:strax:Option gain_model_nv not taken by any registered plugin\n",
      "WARNING:strax:Option gain_model_mv not taken by any registered plugin\n"
     ]
    },
    {
     "data": {
      "application/vnd.jupyter.widget-view+json": {
       "model_id": "ab3a855e52ef4529bb6879f3a89f548e",
       "version_major": 2,
       "version_minor": 0
      },
      "text/plain": [
       "Loading sn_rate: |          | 0.00 % [00:00<?]"
      ]
     },
     "metadata": {},
     "output_type": "display_data"
    },
    {
     "data": {
      "image/png": "[encoded data removed]",
      "text/plain": [
       "<Figure size 864x576 with 1 Axes>"
      ]
     },
     "metadata": {},
     "output_type": "display_data"
    }
   ],
   "source": [
    "st.set_config({\"sn_time_bin\":10})\n",
    "df_rate = st.get_df(\"Nakazato7_highstat\", 'sn_rate')\n",
    "plt.figure(figsize=(12,8))\n",
    "plt.errorbar(x=(df_rate['time']-df_rate['time'][0])/1e9, \n",
    "             y=df_rate['sn_rate'],\n",
    "             yerr=df_rate['sn_rate_err'], \n",
    "             color='r', marker='.',linestyle='',alpha=0.3)\n",
    "plt.axhline(np.mean(df_rate['sn_rate']), color='k',linestyle=':', \n",
    "            zorder=10, label='Mean = %.3f Hz'%np.mean(df_rate['sn_rate']))\n",
    "\n",
    "plt.legend()\n",
    "plt.xlabel('Time since start of run [s]')\n",
    "plt.ylabel('Rate [Hz]')\n",
    "plt.show()"
   ]
  },
  {
   "cell_type": "markdown",
   "id": "d47a7b9a",
   "metadata": {
    "pycharm": {
     "name": "#%% md\n"
    }
   },
   "source": [
    "# Looking at the events for 2 contexts"
   ]
  },
  {
   "cell_type": "code",
   "execution_count": 29,
   "id": "24aebf88",
   "metadata": {
    "pycharm": {
     "name": "#%%\n"
    }
   },
   "outputs": [],
   "source": [
    "events = st.get_df(\"Nakazato7_highstat\", \"event_basics\")\n",
    "events2 = st2.get_df(\"Nakazato7_highstat_st2\", \"event_basics\")"
   ]
  },
  {
   "cell_type": "code",
   "execution_count": 30,
   "id": "335ce955",
   "metadata": {
    "pycharm": {
     "name": "#%%\n"
    }
   },
   "outputs": [
    {
     "data": {
      "text/html": [
       "<div>\n",
       "<style scoped>\n",
       "    .dataframe tbody tr th:only-of-type {\n",
       "        vertical-align: middle;\n",
       "    }\n",
       "\n",
       "    .dataframe tbody tr th {\n",
       "        vertical-align: top;\n",
       "    }\n",
       "\n",
       "    .dataframe thead th {\n",
       "        text-align: right;\n",
       "    }\n",
       "</style>\n",
       "<table border=\"1\" class=\"dataframe\">\n",
       "  <thead>\n",
       "    <tr style=\"text-align: right;\">\n",
       "      <th></th>\n",
       "      <th>time</th>\n",
       "      <th>endtime</th>\n",
       "      <th>n_peaks</th>\n",
       "      <th>drift_time</th>\n",
       "      <th>event_number</th>\n",
       "      <th>s1_index</th>\n",
       "      <th>alt_s1_index</th>\n",
       "      <th>s1_time</th>\n",
       "      <th>alt_s1_time</th>\n",
       "      <th>s1_center_time</th>\n",
       "      <th>...</th>\n",
       "      <th>alt_s2_x_cnn</th>\n",
       "      <th>alt_s2_y_cnn</th>\n",
       "      <th>s2_x_gcn</th>\n",
       "      <th>s2_y_gcn</th>\n",
       "      <th>alt_s2_x_gcn</th>\n",
       "      <th>alt_s2_y_gcn</th>\n",
       "      <th>s2_x_mlp</th>\n",
       "      <th>s2_y_mlp</th>\n",
       "      <th>alt_s2_x_mlp</th>\n",
       "      <th>alt_s2_y_mlp</th>\n",
       "    </tr>\n",
       "  </thead>\n",
       "  <tbody>\n",
       "    <tr>\n",
       "      <th>0</th>\n",
       "      <td>32856425</td>\n",
       "      <td>35688670</td>\n",
       "      <td>2</td>\n",
       "      <td>NaN</td>\n",
       "      <td>0</td>\n",
       "      <td>-1</td>\n",
       "      <td>-1</td>\n",
       "      <td>-1</td>\n",
       "      <td>-1</td>\n",
       "      <td>-1</td>\n",
       "      <td>...</td>\n",
       "      <td>12.679173</td>\n",
       "      <td>49.060291</td>\n",
       "      <td>16.635736</td>\n",
       "      <td>20.230837</td>\n",
       "      <td>13.534935</td>\n",
       "      <td>49.140373</td>\n",
       "      <td>16.116785</td>\n",
       "      <td>20.145599</td>\n",
       "      <td>13.038800</td>\n",
       "      <td>48.971001</td>\n",
       "    </tr>\n",
       "    <tr>\n",
       "      <th>1</th>\n",
       "      <td>51974416</td>\n",
       "      <td>54698110</td>\n",
       "      <td>2</td>\n",
       "      <td>1052826.0</td>\n",
       "      <td>1</td>\n",
       "      <td>0</td>\n",
       "      <td>-1</td>\n",
       "      <td>53387350</td>\n",
       "      <td>-1</td>\n",
       "      <td>53387476</td>\n",
       "      <td>...</td>\n",
       "      <td>NaN</td>\n",
       "      <td>NaN</td>\n",
       "      <td>50.695927</td>\n",
       "      <td>26.668797</td>\n",
       "      <td>NaN</td>\n",
       "      <td>NaN</td>\n",
       "      <td>50.984531</td>\n",
       "      <td>26.636404</td>\n",
       "      <td>NaN</td>\n",
       "      <td>NaN</td>\n",
       "    </tr>\n",
       "    <tr>\n",
       "      <th>2</th>\n",
       "      <td>56347656</td>\n",
       "      <td>62456290</td>\n",
       "      <td>6</td>\n",
       "      <td>NaN</td>\n",
       "      <td>2</td>\n",
       "      <td>-1</td>\n",
       "      <td>-1</td>\n",
       "      <td>-1</td>\n",
       "      <td>-1</td>\n",
       "      <td>-1</td>\n",
       "      <td>...</td>\n",
       "      <td>2.242389</td>\n",
       "      <td>-44.334583</td>\n",
       "      <td>-27.342686</td>\n",
       "      <td>-32.246319</td>\n",
       "      <td>2.946328</td>\n",
       "      <td>-43.847252</td>\n",
       "      <td>-27.711443</td>\n",
       "      <td>-32.147331</td>\n",
       "      <td>2.860001</td>\n",
       "      <td>-43.696659</td>\n",
       "    </tr>\n",
       "    <tr>\n",
       "      <th>3</th>\n",
       "      <td>95669576</td>\n",
       "      <td>98390920</td>\n",
       "      <td>1</td>\n",
       "      <td>NaN</td>\n",
       "      <td>3</td>\n",
       "      <td>-1</td>\n",
       "      <td>-1</td>\n",
       "      <td>-1</td>\n",
       "      <td>-1</td>\n",
       "      <td>-1</td>\n",
       "      <td>...</td>\n",
       "      <td>NaN</td>\n",
       "      <td>NaN</td>\n",
       "      <td>-35.890835</td>\n",
       "      <td>4.274988</td>\n",
       "      <td>NaN</td>\n",
       "      <td>NaN</td>\n",
       "      <td>-35.346725</td>\n",
       "      <td>4.004823</td>\n",
       "      <td>NaN</td>\n",
       "      <td>NaN</td>\n",
       "    </tr>\n",
       "    <tr>\n",
       "      <th>4</th>\n",
       "      <td>102350966</td>\n",
       "      <td>105079670</td>\n",
       "      <td>2</td>\n",
       "      <td>1637851.0</td>\n",
       "      <td>4</td>\n",
       "      <td>0</td>\n",
       "      <td>-1</td>\n",
       "      <td>103177900</td>\n",
       "      <td>-1</td>\n",
       "      <td>103177979</td>\n",
       "      <td>...</td>\n",
       "      <td>NaN</td>\n",
       "      <td>NaN</td>\n",
       "      <td>9.790612</td>\n",
       "      <td>1.241588</td>\n",
       "      <td>NaN</td>\n",
       "      <td>NaN</td>\n",
       "      <td>9.576033</td>\n",
       "      <td>1.276839</td>\n",
       "      <td>NaN</td>\n",
       "      <td>NaN</td>\n",
       "    </tr>\n",
       "    <tr>\n",
       "      <th>...</th>\n",
       "      <td>...</td>\n",
       "      <td>...</td>\n",
       "      <td>...</td>\n",
       "      <td>...</td>\n",
       "      <td>...</td>\n",
       "      <td>...</td>\n",
       "      <td>...</td>\n",
       "      <td>...</td>\n",
       "      <td>...</td>\n",
       "      <td>...</td>\n",
       "      <td>...</td>\n",
       "      <td>...</td>\n",
       "      <td>...</td>\n",
       "      <td>...</td>\n",
       "      <td>...</td>\n",
       "      <td>...</td>\n",
       "      <td>...</td>\n",
       "      <td>...</td>\n",
       "      <td>...</td>\n",
       "      <td>...</td>\n",
       "      <td>...</td>\n",
       "    </tr>\n",
       "    <tr>\n",
       "      <th>2520</th>\n",
       "      <td>1135192319316</td>\n",
       "      <td>1135195031260</td>\n",
       "      <td>1</td>\n",
       "      <td>NaN</td>\n",
       "      <td>2520</td>\n",
       "      <td>-1</td>\n",
       "      <td>-1</td>\n",
       "      <td>-1</td>\n",
       "      <td>-1</td>\n",
       "      <td>-1</td>\n",
       "      <td>...</td>\n",
       "      <td>NaN</td>\n",
       "      <td>NaN</td>\n",
       "      <td>28.098192</td>\n",
       "      <td>-21.553663</td>\n",
       "      <td>NaN</td>\n",
       "      <td>NaN</td>\n",
       "      <td>28.461000</td>\n",
       "      <td>-21.219097</td>\n",
       "      <td>NaN</td>\n",
       "      <td>NaN</td>\n",
       "    </tr>\n",
       "    <tr>\n",
       "      <th>2521</th>\n",
       "      <td>1135480047356</td>\n",
       "      <td>1135482780480</td>\n",
       "      <td>2</td>\n",
       "      <td>1413444.0</td>\n",
       "      <td>2521</td>\n",
       "      <td>0</td>\n",
       "      <td>-1</td>\n",
       "      <td>1135481099300</td>\n",
       "      <td>-1</td>\n",
       "      <td>1135481099364</td>\n",
       "      <td>...</td>\n",
       "      <td>NaN</td>\n",
       "      <td>NaN</td>\n",
       "      <td>-28.766884</td>\n",
       "      <td>31.947933</td>\n",
       "      <td>NaN</td>\n",
       "      <td>NaN</td>\n",
       "      <td>-28.741976</td>\n",
       "      <td>31.341721</td>\n",
       "      <td>NaN</td>\n",
       "      <td>NaN</td>\n",
       "    </tr>\n",
       "    <tr>\n",
       "      <th>2522</th>\n",
       "      <td>1139457559956</td>\n",
       "      <td>1139460285840</td>\n",
       "      <td>2</td>\n",
       "      <td>1954478.0</td>\n",
       "      <td>2522</td>\n",
       "      <td>0</td>\n",
       "      <td>-1</td>\n",
       "      <td>1139458070490</td>\n",
       "      <td>-1</td>\n",
       "      <td>1139458070584</td>\n",
       "      <td>...</td>\n",
       "      <td>NaN</td>\n",
       "      <td>NaN</td>\n",
       "      <td>27.954384</td>\n",
       "      <td>4.167039</td>\n",
       "      <td>NaN</td>\n",
       "      <td>NaN</td>\n",
       "      <td>27.913635</td>\n",
       "      <td>4.008578</td>\n",
       "      <td>NaN</td>\n",
       "      <td>NaN</td>\n",
       "    </tr>\n",
       "    <tr>\n",
       "      <th>2523</th>\n",
       "      <td>1139956065406</td>\n",
       "      <td>1139958789610</td>\n",
       "      <td>1</td>\n",
       "      <td>NaN</td>\n",
       "      <td>2523</td>\n",
       "      <td>-1</td>\n",
       "      <td>-1</td>\n",
       "      <td>-1</td>\n",
       "      <td>-1</td>\n",
       "      <td>-1</td>\n",
       "      <td>...</td>\n",
       "      <td>NaN</td>\n",
       "      <td>NaN</td>\n",
       "      <td>4.480878</td>\n",
       "      <td>-28.035082</td>\n",
       "      <td>NaN</td>\n",
       "      <td>NaN</td>\n",
       "      <td>4.083737</td>\n",
       "      <td>-26.961964</td>\n",
       "      <td>NaN</td>\n",
       "      <td>NaN</td>\n",
       "    </tr>\n",
       "    <tr>\n",
       "      <th>2524</th>\n",
       "      <td>1141001018096</td>\n",
       "      <td>1141003489200</td>\n",
       "      <td>1</td>\n",
       "      <td>NaN</td>\n",
       "      <td>2524</td>\n",
       "      <td>-1</td>\n",
       "      <td>-1</td>\n",
       "      <td>-1</td>\n",
       "      <td>-1</td>\n",
       "      <td>-1</td>\n",
       "      <td>...</td>\n",
       "      <td>NaN</td>\n",
       "      <td>NaN</td>\n",
       "      <td>27.245411</td>\n",
       "      <td>1.088906</td>\n",
       "      <td>NaN</td>\n",
       "      <td>NaN</td>\n",
       "      <td>26.449299</td>\n",
       "      <td>1.467821</td>\n",
       "      <td>NaN</td>\n",
       "      <td>NaN</td>\n",
       "    </tr>\n",
       "  </tbody>\n",
       "</table>\n",
       "<p>2525 rows × 91 columns</p>\n",
       "</div>"
      ],
      "text/plain": [
       "               time        endtime  n_peaks  drift_time  event_number  \\\n",
       "0          32856425       35688670        2         NaN             0   \n",
       "1          51974416       54698110        2   1052826.0             1   \n",
       "2          56347656       62456290        6         NaN             2   \n",
       "3          95669576       98390920        1         NaN             3   \n",
       "4         102350966      105079670        2   1637851.0             4   \n",
       "...             ...            ...      ...         ...           ...   \n",
       "2520  1135192319316  1135195031260        1         NaN          2520   \n",
       "2521  1135480047356  1135482780480        2   1413444.0          2521   \n",
       "2522  1139457559956  1139460285840        2   1954478.0          2522   \n",
       "2523  1139956065406  1139958789610        1         NaN          2523   \n",
       "2524  1141001018096  1141003489200        1         NaN          2524   \n",
       "\n",
       "      s1_index  alt_s1_index        s1_time  alt_s1_time  s1_center_time  ...  \\\n",
       "0           -1            -1             -1           -1              -1  ...   \n",
       "1            0            -1       53387350           -1        53387476  ...   \n",
       "2           -1            -1             -1           -1              -1  ...   \n",
       "3           -1            -1             -1           -1              -1  ...   \n",
       "4            0            -1      103177900           -1       103177979  ...   \n",
       "...        ...           ...            ...          ...             ...  ...   \n",
       "2520        -1            -1             -1           -1              -1  ...   \n",
       "2521         0            -1  1135481099300           -1   1135481099364  ...   \n",
       "2522         0            -1  1139458070490           -1   1139458070584  ...   \n",
       "2523        -1            -1             -1           -1              -1  ...   \n",
       "2524        -1            -1             -1           -1              -1  ...   \n",
       "\n",
       "      alt_s2_x_cnn  alt_s2_y_cnn   s2_x_gcn   s2_y_gcn  alt_s2_x_gcn  \\\n",
       "0        12.679173     49.060291  16.635736  20.230837     13.534935   \n",
       "1              NaN           NaN  50.695927  26.668797           NaN   \n",
       "2         2.242389    -44.334583 -27.342686 -32.246319      2.946328   \n",
       "3              NaN           NaN -35.890835   4.274988           NaN   \n",
       "4              NaN           NaN   9.790612   1.241588           NaN   \n",
       "...            ...           ...        ...        ...           ...   \n",
       "2520           NaN           NaN  28.098192 -21.553663           NaN   \n",
       "2521           NaN           NaN -28.766884  31.947933           NaN   \n",
       "2522           NaN           NaN  27.954384   4.167039           NaN   \n",
       "2523           NaN           NaN   4.480878 -28.035082           NaN   \n",
       "2524           NaN           NaN  27.245411   1.088906           NaN   \n",
       "\n",
       "      alt_s2_y_gcn   s2_x_mlp   s2_y_mlp  alt_s2_x_mlp  alt_s2_y_mlp  \n",
       "0        49.140373  16.116785  20.145599     13.038800     48.971001  \n",
       "1              NaN  50.984531  26.636404           NaN           NaN  \n",
       "2       -43.847252 -27.711443 -32.147331      2.860001    -43.696659  \n",
       "3              NaN -35.346725   4.004823           NaN           NaN  \n",
       "4              NaN   9.576033   1.276839           NaN           NaN  \n",
       "...            ...        ...        ...           ...           ...  \n",
       "2520           NaN  28.461000 -21.219097           NaN           NaN  \n",
       "2521           NaN -28.741976  31.341721           NaN           NaN  \n",
       "2522           NaN  27.913635   4.008578           NaN           NaN  \n",
       "2523           NaN   4.083737 -26.961964           NaN           NaN  \n",
       "2524           NaN  26.449299   1.467821           NaN           NaN  \n",
       "\n",
       "[2525 rows x 91 columns]"
      ]
     },
     "execution_count": 30,
     "metadata": {},
     "output_type": "execute_result"
    }
   ],
   "source": [
    "events"
   ]
  },
  {
   "cell_type": "code",
   "execution_count": 48,
   "id": "b9d95ae9",
   "metadata": {
    "pycharm": {
     "name": "#%%\n"
    }
   },
   "outputs": [
    {
     "data": {
      "image/png": "[encoded data removed]",
      "text/plain": [
       "<Figure size 792x360 with 2 Axes>"
      ]
     },
     "metadata": {},
     "output_type": "display_data"
    }
   ],
   "source": [
    "fig, (ax0, ax1) = plt.subplots(ncols=2, figsize=(11,5), sharex=True, sharey=True)\n",
    "ax0.grid(False); ax1.grid(False);\n",
    "\n",
    "ax0.hist2d(events[\"s1_area\"], events[\"s2_area\"], \n",
    "           bins=(np.linspace(-50,300,100),np.logspace(2,4,100)),\n",
    "           norm=LogNorm());\n",
    "ax0.set_yscale(\"log\")\n",
    "ax0.set_xlabel(\"S1 Area [PE]\"); ax0.set_ylabel(\"S2 Area [PE]\");\n",
    "\n",
    "\n",
    "ax1.hist2d(events[\"s1_area\"], events[\"s2_area\"], \n",
    "           bins=(np.linspace(-50,300,100),np.logspace(2,4,100)),\n",
    "           norm=LogNorm());\n",
    "ax1.set_yscale(\"log\")\n",
    "ax1.set_xlabel(\"S1 Area [PE]\"); ax1.set_ylabel(\"S2 Area [PE]\");"
   ]
  },
  {
   "cell_type": "code",
   "execution_count": 49,
   "id": "38c16c5f",
   "metadata": {
    "scrolled": true,
    "pycharm": {
     "name": "#%%\n"
    }
   },
   "outputs": [
    {
     "data": {
      "image/png": "[encoded data removed]",
      "text/plain": [
       "<Figure size 432x288 with 1 Axes>"
      ]
     },
     "metadata": {},
     "output_type": "display_data"
    }
   ],
   "source": [
    "plt.hist(events['s1_area'], bins=10, histtype='step', lw=2, label='s1mincoinc=0');\n",
    "plt.hist(events2['s1_area'], bins=10, histtype='step', lw=2, label='s1mincoinc=2');\n",
    "plt.xlabel('s1 area')\n",
    "plt.legend();"
   ]
  },
  {
   "cell_type": "code",
   "execution_count": 66,
   "id": "3e6b2a52",
   "metadata": {
    "pycharm": {
     "name": "#%%\n"
    }
   },
   "outputs": [
    {
     "data": {
      "image/png": "[encoded data removed]",
      "text/plain": [
       "<Figure size 432x288 with 1 Axes>"
      ]
     },
     "metadata": {},
     "output_type": "display_data"
    }
   ],
   "source": [
    "plt.hist(events['s1_area'], bins=np.linspace(-0.1,2,20), histtype='step', lw=2, label='s1mincoinc=0');\n",
    "plt.hist(events2['s1_area'], bins=np.linspace(-0.1,2,20), histtype='step', lw=2, label='s1mincoinc=2');\n",
    "plt.xlabel('s1 area')\n",
    "plt.legend(loc='upper left');"
   ]
  },
  {
   "cell_type": "code",
   "execution_count": 50,
   "id": "72fb8280",
   "metadata": {
    "pycharm": {
     "name": "#%%\n"
    }
   },
   "outputs": [
    {
     "data": {
      "image/png": "[encoded data removed]",
      "text/plain": [
       "<Figure size 432x288 with 1 Axes>"
      ]
     },
     "metadata": {},
     "output_type": "display_data"
    }
   ],
   "source": [
    "plt.hist(events['s2_area'], bins=10, histtype='step', lw=2, label='s1mincoinc=0');\n",
    "plt.hist(events2['s2_area'], bins=10, histtype='step', lw=2, label='s1mincoinc=2');\n",
    "plt.xlabel('s2 area')\n",
    "plt.legend();"
   ]
  },
  {
   "cell_type": "code",
   "execution_count": null,
   "id": "75cb6f1a",
   "metadata": {
    "pycharm": {
     "name": "#%%\n"
    }
   },
   "outputs": [],
   "source": []
  },
  {
   "cell_type": "code",
   "execution_count": null,
   "id": "2793a250",
   "metadata": {
    "pycharm": {
     "name": "#%%\n"
    }
   },
   "outputs": [],
   "source": []
  }
 ],
 "metadata": {
  "kernelspec": {
   "display_name": "Python [conda env:XENONnT_development] *",
   "language": "python",
   "name": "conda-env-XENONnT_development-py"
  },
  "language_info": {
   "codemirror_mode": {
    "name": "ipython",
    "version": 3
   },
   "file_extension": ".py",
   "mimetype": "text/x-python",
   "name": "python",
   "nbconvert_exporter": "python",
   "pygments_lexer": "ipython3",
   "version": "3.8.13"
  }
 },
 "nbformat": 4,
 "nbformat_minor": 5
}