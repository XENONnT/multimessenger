{
 "cells": [
  {
   "cell_type": "markdown",
   "id": "f8e243c3",
   "metadata": {},
   "source": [
    "# SNAX package tutorial"
   ]
  },
  {
   "cell_type": "code",
   "execution_count": 1,
   "id": "74ea98fb",
   "metadata": {},
   "outputs": [],
   "source": [
    "from snewpy.neutrino import Flavor\n",
    "import os\n",
    "from tqdm.notebook import tqdm\n",
    "import numpy as np\n",
    "from multimessenger.supernova import Supernova_Models as sn\n",
    "from multimessenger.supernova.Plotter import Plotter\n",
    "import plotly.express as px\n",
    "import astropy.units as u\n",
    "import matplotlib.pyplot as plt\n",
    "from matplotlib.colors import LogNorm"
   ]
  },
  {
   "cell_type": "markdown",
   "id": "64664662",
   "metadata": {},
   "source": [
    "The `SNAX` is a wrapper around `snewpy` and it allows to compute CEvNS rates for all the snewpy models."
   ]
  },
  {
   "cell_type": "markdown",
   "id": "3f63e928",
   "metadata": {},
   "source": [
    "Each model contains variuous simulations with e.g. different EoS, or different progenitor properties. <br>\n",
    "When only `model_name` is passed to `sn.Models()` it displays the existing files and asks you to select one. Otherwise, `filename` or `index` can be passed. <br>\n",
    "Once the model is executed, and after every heavy computation the data is saved, and the next time it is directly fetched from the stored data. <br>\n",
    "The output folder can be specified with the `storage` argument."
   ]
  },
  {
   "cell_type": "code",
   "execution_count": 2,
   "id": "8aa87ac7",
   "metadata": {},
   "outputs": [],
   "source": [
    "# A.delete_object()"
   ]
  },
  {
   "cell_type": "code",
   "execution_count": 3,
   "id": "95705393",
   "metadata": {},
   "outputs": [
    {
     "name": "stdout",
     "output_type": "stream",
     "text": [
      "\u001b[34m\u001b[1m> You chose ~wisely~ ->\t   [5]\tlum_spec_15M_r10000_dat.h5\u001b[0m\n",
      "\u001b[34m> Retrieving object self.storage/15.0 solMass.pickle\u001b[0m\n"
     ]
    }
   ],
   "source": [
    "# A = sn.Models(model_name='Fornax_2021',index=5, storage=\"../../../scratch/SN_rewiev/\", config_file=\"../simple_config.conf\") #  \n",
    "A = sn.Models(model_name='Fornax_2021', index=5)"
   ]
  },
  {
   "cell_type": "code",
   "execution_count": 4,
   "id": "99b988c5",
   "metadata": {
    "scrolled": true
   },
   "outputs": [
    {
     "data": {
      "application/vnd.jupyter.widget-view+json": {
       "model_id": "945cc8f91985443eae987a161b3d3e7d",
       "version_major": 2,
       "version_minor": 0
      },
      "text/plain": [
       "Computing for all isotopes:   0%|          | 0/9 [00:00<?, ?it/s]"
      ]
     },
     "metadata": {},
     "output_type": "display_data"
    },
    {
     "data": {
      "application/vnd.jupyter.widget-view+json": {
       "model_id": "aea4fcb4f6c94f71b7910088ba659b84",
       "version_major": 2,
       "version_minor": 0
      },
      "text/plain": [
       "  0%|          | 0/9 [00:00<?, ?it/s]"
      ]
     },
     "metadata": {},
     "output_type": "display_data"
    },
    {
     "data": {
      "application/vnd.jupyter.widget-view+json": {
       "model_id": "be53766c0a524b57a261f5d0c8658741",
       "version_major": 2,
       "version_minor": 0
      },
      "text/plain": [
       "  0%|          | 0/9 [00:00<?, ?it/s]"
      ]
     },
     "metadata": {},
     "output_type": "display_data"
    }
   ],
   "source": [
    "A.compute_rates();"
   ]
  },
  {
   "cell_type": "code",
   "execution_count": 5,
   "id": "57858881",
   "metadata": {},
   "outputs": [],
   "source": [
    "N_events = 1000\n",
    "sampled_Er = A.sample_data(N_events)\n",
    "sampled_t = A.sample_data(N_events, dtype='time')"
   ]
  },
  {
   "cell_type": "markdown",
   "id": "fa994801",
   "metadata": {},
   "source": [
    "These parts are better done in dali/midway. <br>\n"
   ]
  },
  {
   "cell_type": "code",
   "execution_count": 6,
   "id": "f8941f1f",
   "metadata": {},
   "outputs": [
    {
     "name": "stderr",
     "output_type": "stream",
     "text": [
      "*** Detector definition message ***\n",
      "You are currently using the default XENON10 template detector.\n",
      "\n"
     ]
    }
   ],
   "source": [
    "from multimessenger.supernova.Simulate import generator_sn_instruction\n",
    "import nestpy\n",
    "import pandas as pd\n",
    "import straxen\n",
    "downloader = straxen.MongoDownloader()"
   ]
  },
  {
   "cell_type": "code",
   "execution_count": 7,
   "id": "b7df4111",
   "metadata": {},
   "outputs": [],
   "source": [
    "field_file=\"fieldmap_2D_B2d75n_C2d75n_G0d3p_A4d9p_T0d9n_PMTs1d3n_FSR0d65p_QPTFE_0d5n_0d4p.json.gz\"\n",
    "field_map = straxen.InterpolatingMap(\n",
    "                    straxen.get_resource(downloader.download_single(field_file),\n",
    "                                         fmt=\"json.gz\"),\n",
    "                    method=\"RegularGridInterpolator\")"
   ]
  },
  {
   "cell_type": "markdown",
   "id": "1cb8c70a",
   "metadata": {},
   "source": [
    "Caution, the times need to be passed in nanoseconds!"
   ]
  },
  {
   "cell_type": "code",
   "execution_count": 8,
   "id": "797c6983",
   "metadata": {},
   "outputs": [
    {
     "name": "stderr",
     "output_type": "stream",
     "text": [
      "*** Detector definition message ***\n",
      "You are currently using the default XENON10 template detector.\n",
      "\n"
     ]
    }
   ],
   "source": [
    "nc = nestpy.NESTcalc(nestpy.DetectorExample_XENON10())\n",
    "## not sure if nestpy RNG issue was solved, so randomize NEST internal state\n",
    "for i in range(np.random.randint(100)):\n",
    "    nc.GetQuanta(nc.GetYields(energy=np.random.uniform(10,100)))\n",
    "    \n",
    "instr = generator_sn_instruction(energy_deposition=sampled_Er, timemode=sampled_t*1e9, n_tot=N_events, nc=nc, fmap=field_map)\n",
    "df = pd.DataFrame(instr)"
   ]
  },
  {
   "cell_type": "code",
   "execution_count": 9,
   "id": "3c80473d",
   "metadata": {},
   "outputs": [],
   "source": [
    "runid = \"snsim_02\""
   ]
  },
  {
   "cell_type": "code",
   "execution_count": 10,
   "id": "79fbe65c",
   "metadata": {},
   "outputs": [
    {
     "name": "stderr",
     "output_type": "stream",
     "text": [
      "/dali/lgrandi/xenonnt/software/cutax/latest/cutax/contexts.py:85: UserWarning: WARNING! You are using SR0 v1 simulation context! Consider updating to a newer version!\n",
      "  warnings.warn(\"WARNING! You are using SR0 v1 simulation context! Consider updating to a newer version!\")\n",
      "WARNING:strax:Option gain_model_nv not taken by any registered plugin\n",
      "WARNING:strax:Option gain_model_mv not taken by any registered plugin\n",
      "WARNING:strax:Option gain_model_nv not taken by any registered plugin\n",
      "WARNING:strax:Option gain_model_mv not taken by any registered plugin\n",
      "WARNING:strax:Option gain_model_nv not taken by any registered plugin\n",
      "WARNING:strax:Option gain_model_mv not taken by any registered plugin\n",
      "WARNING:strax:Option gain_model_nv not taken by any registered plugin\n",
      "WARNING:strax:Option gain_model_mv not taken by any registered plugin\n",
      "WARNING:strax:Option gain_model_nv not taken by any registered plugin\n",
      "WARNING:strax:Option gain_model_mv not taken by any registered plugin\n",
      "WARNING:strax:Option gain_model_nv not taken by any registered plugin\n",
      "WARNING:strax:Option gain_model_mv not taken by any registered plugin\n"
     ]
    }
   ],
   "source": [
    "import cutax, strax\n",
    "st = cutax.contexts.xenonnt_sim_SR0v1_cmt_v8(cmt_run_id=\"026000\")"
   ]
  },
  {
   "cell_type": "code",
   "execution_count": 11,
   "id": "bb12154b",
   "metadata": {
    "scrolled": true
   },
   "outputs": [],
   "source": [
    "# set s1 minimum coincidence to 0\n",
    "st.set_config({\"s1_min_coincidence\":0})"
   ]
  },
  {
   "cell_type": "code",
   "execution_count": 12,
   "id": "23a33f61",
   "metadata": {},
   "outputs": [
    {
     "name": "stderr",
     "output_type": "stream",
     "text": [
      "WARNING:strax:Option gain_model_nv not taken by any registered plugin\n",
      "WARNING:strax:Option gain_model_mv not taken by any registered plugin\n",
      "WARNING:strax:Option gain_model_nv not taken by any registered plugin\n",
      "WARNING:strax:Option gain_model_mv not taken by any registered plugin\n"
     ]
    },
    {
     "name": "stdout",
     "output_type": "stream",
     "text": [
      "snsim_02 is created! Returning context!\u001b[0m\n"
     ]
    }
   ],
   "source": [
    "# simulate with this context\n",
    "st = A.simulate_one(df, runid, context=st)"
   ]
  },
  {
   "cell_type": "code",
   "execution_count": 13,
   "id": "f26163c1",
   "metadata": {},
   "outputs": [
    {
     "data": {
      "application/vnd.jupyter.widget-view+json": {
       "model_id": "ef4f620852d241e5855fe7150ba3e9e7",
       "version_major": 2,
       "version_minor": 0
      },
      "text/plain": [
       "Loading peak_basics: |          | 0.00 % [00:00<?]"
      ]
     },
     "metadata": {},
     "output_type": "display_data"
    },
    {
     "data": {
      "text/plain": [
       "(array([2, 1, 0], dtype=int8), 9, 708, 975)"
      ]
     },
     "execution_count": 13,
     "metadata": {},
     "output_type": "execute_result"
    }
   ],
   "source": [
    "peak_basics = st.get_df(runid, \"peak_basics\")\n",
    "peak_s1 = peak_basics[peak_basics['type'] == 1]\n",
    "peak_s2 = peak_basics[peak_basics['type'] == 2]\n",
    "peak_basics['type'].unique(), sum(peak_basics['type']==0), sum(peak_basics['type']==1), sum(peak_basics['type']==2)"
   ]
  },
  {
   "cell_type": "code",
   "execution_count": 14,
   "id": "e177745f",
   "metadata": {},
   "outputs": [
    {
     "name": "stderr",
     "output_type": "stream",
     "text": [
      "/tmp/jobs/21865626/ipykernel_145/3736824744.py:2: MatplotlibDeprecationWarning: Auto-removal of grids by pcolor() and pcolormesh() is deprecated since 3.5 and will be removed two minor releases later; please call grid(False) first.\n",
      "  ax0.hist2d(peak_basics[\"area\"], peak_basics[\"range_50p_area\"],\n",
      "/tmp/jobs/21865626/ipykernel_145/3736824744.py:9: MatplotlibDeprecationWarning: Auto-removal of grids by pcolor() and pcolormesh() is deprecated since 3.5 and will be removed two minor releases later; please call grid(False) first.\n",
      "  ax1.hist2d(peak_s1[\"area\"], peak_s1[\"range_50p_area\"],\n",
      "/tmp/jobs/21865626/ipykernel_145/3736824744.py:15: MatplotlibDeprecationWarning: Auto-removal of grids by pcolor() and pcolormesh() is deprecated since 3.5 and will be removed two minor releases later; please call grid(False) first.\n",
      "  ax2.hist2d(peak_s2[\"area\"], peak_s2[\"range_50p_area\"],\n"
     ]
    },
    {
     "data": {
      "image/png": "[encoded data removed]",
      "text/plain": [
       "<Figure size 1224x360 with 3 Axes>"
      ]
     },
     "metadata": {},
     "output_type": "display_data"
    }
   ],
   "source": [
    "fig, (ax0, ax1, ax2) = plt.subplots(ncols=3, figsize=(17,5), sharex=True, sharey=True)\n",
    "ax0.hist2d(peak_basics[\"area\"], peak_basics[\"range_50p_area\"], \n",
    "           bins=(np.logspace(0,5,100),np.logspace(0,5,100)),\n",
    "           norm=LogNorm());\n",
    "ax0.set_xscale(\"log\"); ax0.set_yscale(\"log\")\n",
    "ax0.set_xlabel(\"Area [PE]\"); ax0.set_ylabel(\"width\");\n",
    "\n",
    "\n",
    "ax1.hist2d(peak_s1[\"area\"], peak_s1[\"range_50p_area\"], \n",
    "           bins=(np.logspace(0,5,100),np.logspace(0,5,100)),\n",
    "           norm=LogNorm());\n",
    "ax1.set_xscale(\"log\"); ax1.set_yscale(\"log\")\n",
    "ax1.set_xlabel(\"S1 Area [PE]\"); ax1.set_ylabel(\"S1 width\");\n",
    "\n",
    "ax2.hist2d(peak_s2[\"area\"], peak_s2[\"range_50p_area\"], \n",
    "           bins=(np.logspace(0,5,100),np.logspace(0,5,100)),\n",
    "           norm=LogNorm());\n",
    "ax2.set_xscale(\"log\"); ax2.set_yscale(\"log\")\n",
    "ax2.set_xlabel(\"S2 Area [PE]\"); ax2.set_ylabel(\"S2 width\");"
   ]
  },
  {
   "cell_type": "code",
   "execution_count": 15,
   "id": "7b5f81cb",
   "metadata": {
    "scrolled": true
   },
   "outputs": [
    {
     "data": {
      "image/png": "[encoded data removed]",
      "text/plain": [
       "<Figure size 1296x288 with 3 Axes>"
      ]
     },
     "metadata": {},
     "output_type": "display_data"
    }
   ],
   "source": [
    "fig, (ax0, ax1, ax2) = plt.subplots(ncols=3, figsize=(18,4))\n",
    "ax0.hist(peak_basics['area'], bins=np.linspace(0, 350, 100), histtype='step', lw=3)\n",
    "ax1.hist(peak_s1['area'], bins=np.linspace(0, 50, 100), histtype='step', lw=3)\n",
    "ax2.hist(peak_s2['area'], bins=np.linspace(0,300,100), histtype='step', lw=3);\n",
    "ax0.set_xlabel(\"area\"); ax1.set_xlabel(\"S1 area\"); ax2.set_xlabel(\"S2 area\");"
   ]
  },
  {
   "cell_type": "markdown",
   "id": "5fc61b0a",
   "metadata": {},
   "source": [
    "### Test the plugin"
   ]
  },
  {
   "cell_type": "code",
   "execution_count": 18,
   "id": "603075ce",
   "metadata": {},
   "outputs": [],
   "source": [
    "from numpy.lib.recfunctions import append_fields\n",
    "\n",
    "export, __all__ = strax.exporter()\n",
    "\n",
    "st8 = cutax.contexts.xenonnt_v8()"
   ]
  },
  {
   "cell_type": "code",
   "execution_count": 19,
   "id": "b2fb2cf7",
   "metadata": {},
   "outputs": [],
   "source": [
    "@export\n",
    "@strax.takes_config(\n",
    "    strax.Option('sn_time_bin', default=5, type=int,\n",
    "                 help='Time range which you want to find the rate over [s]'),\n",
    "    strax.Option('min_area_electrons', default=123/32, type=int,\n",
    "                 help='Minumum number of electrons in primary S2 [electrons]'),\n",
    "    strax.Option('max_area_electrons', default=350/32, type=int,\n",
    "                 help='Maximum number of electrons in primary S2 [electrons]'),\n",
    "    strax.Option('min_width_ns', default=300, type=int,\n",
    "                 help='Minumum width of S2 [ns]'),\n",
    "    strax.Option('min_primary_size_pe', default=1000, type=int,\n",
    "                 help='Minumum size of primary S2 [PE]'),\n",
    "    strax.Option('shadow_cut_threshold', default=0.04, type=np.float64,\n",
    "                 help='Shadow cut value for delay time cuts after primary S2'),\n",
    "    strax.Option('dt_cut_ns', default=4.4e6, type=np.float64,\n",
    "                 help='Delay time cut value after primary S2'),\n",
    "    strax.Option('dr_cut_cm', default=8.0, type=int,\n",
    "                 help='Radius around primary S2 to exclude/cut away [cm]'),\n",
    "\n",
    ")\n",
    "class SNPugin(strax.Plugin):\n",
    "    \"\"\"\n",
    "    This is a test plugin\n",
    "    \"\"\"\n",
    "    __version__ = '0.1.22'\n",
    "    \n",
    "    depends_on = ('peak_basics','peak_positions')\n",
    "    provides = ('sn_rate')\n",
    "    dtype = [\n",
    "            ('sn_rate', np.float64,'Rate of peaks for SN [Hz]'),\n",
    "            ('sn_rate_err', np.float64,'Error on rate of peaks for SN [sqrt(Hz)]'),\n",
    "            ('time', np.int64,'Start time of bin since unix epoch [ns]'),\n",
    "            ('endtime', np.int64,'End time of bin since unix epoch [ns]')\n",
    "            ]\n",
    "        \n",
    "    def compute(self, peaks):   \n",
    "        \n",
    "        peaks_dt_dr_cuts = primary_matching(peaks, \n",
    "                                            self.config['min_primary_size_pe'], \n",
    "                                            self.config['shadow_cut_threshold'], \n",
    "                                            self.config['dr_cut_cm'],\n",
    "                                            self.config['dt_cut_ns']\n",
    "                                           )\n",
    "        \n",
    "        \n",
    "        rate, err, t_start, t_end = calculate_rate(peaks,#_dt_dr_cuts, \n",
    "                                                     self.config['sn_time_bin'], \n",
    "                                                     self.config['min_area_electrons'],\n",
    "                                                     self.config['max_area_electrons'], \n",
    "                                                     self.config['min_width_ns']\n",
    "                                                    )\n",
    "        \n",
    "        df = pd.DataFrame()\n",
    "        df['time'] = t_start\n",
    "        df['endtime'] = t_end\n",
    "        df['sn_rate'] = rate\n",
    "        df['sn_rate_err'] = err\n",
    "        \n",
    "        return df\n",
    "\n",
    "\n",
    "def calculate_rate(peaks, time_bin_s, min_area_electrons, max_area_electrons, min_width_ns):\n",
    "    se_gain = 32\n",
    "    min_area_pe = se_gain*min_area_electrons\n",
    "    max_area_pe = se_gain*max_area_electrons\n",
    "    \n",
    "    peaks_cut = peaks[#(peaks['area'] > min_area_pe) \n",
    "                    #& (peaks['area'] < max_area_pe)\n",
    "                    #& (peaks['range_50p_area'] > min_width_ns)\n",
    "                    #& \n",
    "                    (peaks['type']==2)]\n",
    "    \n",
    "    if len(peaks_cut) == 0:\n",
    "        #'Do nothing'\n",
    "        pass\n",
    "        \n",
    "\n",
    "    else:\n",
    "        t_ns = peaks_cut['time'][0]\n",
    "\n",
    "        time_s_to_ns = 1e9\n",
    "        time_bin_ns = time_bin_s*time_s_to_ns\n",
    "\n",
    "        rates = []\n",
    "        rates_err = []\n",
    "        t_start = []\n",
    "        t_end = []\n",
    "\n",
    "        while t_ns+time_bin_ns < peaks['time'][-1]:\n",
    "            df_here = peaks_cut[(peaks_cut['time'] >= t_ns) & (peaks_cut['time'] < t_ns+time_bin_ns)]\n",
    "            s2s = len(df_here)\n",
    "            s2s_err = np.sqrt(s2s)\n",
    "            rate = s2s/time_bin_s\n",
    "            rate_err = s2s_err/time_bin_s\n",
    "\n",
    "            rates.append(rate)\n",
    "            rates_err.append(rate_err)\n",
    "            t_start.append(t_ns)\n",
    "            t_end.append(t_ns+time_bin_ns)\n",
    "\n",
    "            if t_ns + time_bin_ns >= peaks['time'][-1]:\n",
    "                t_ns = t_ns\n",
    "            else:\n",
    "                t_ns += time_bin_ns\n",
    "\n",
    "        ## last bin when we are less than 5s from the end\n",
    "        df_here = peaks_cut[(peaks_cut['time'] >= t_ns) & (peaks_cut['time'] <= peaks['time'][-1])]\n",
    "        dt = (peaks['time'][-1] - t_ns)/1e9\n",
    "\n",
    "\n",
    "        s2s = len(df_here)\n",
    "        s2s_err = np.sqrt(s2s)\n",
    "        rate = s2s/dt\n",
    "        rate_err = s2s_err/dt\n",
    "\n",
    "        rates.append(rate)\n",
    "        rates_err.append(rate_err)\n",
    "        t_start.append(t_ns)\n",
    "        t_end.append(peaks['time'][-1])\n",
    "    \n",
    "    return rates, rates_err, t_start, t_end\n",
    "\n",
    "\n",
    "def primary_matching(df, min_primary_size, shadow_cut_threshold, dr_cut_cm, dt_cut_ns):\n",
    "    max_drift_ns = 2.5e6\n",
    "        \n",
    "    #primary definition\n",
    "    primary = df[(df['area'] > min_primary_size) & (df['type'] == 2)]\n",
    "    primary.sort(order='center_time')\n",
    "\n",
    "    #small S2s\n",
    "    S2s = df[ (df['type'] == 2) & (df['area'] > 10) & (df['area'] < min_primary_size)]\n",
    "    S2s = S2s[S2s['center_time'] >= min(primary['center_time'])]\n",
    "    S2s.sort(order='center_time')\n",
    "\n",
    "    #pairing\n",
    "    prim_i = np.digitize(S2s['center_time'],primary['center_time']) - [1]*len(S2s)\n",
    "    area_primary = primary['area'][prim_i]\n",
    "    dt_primary = S2s['center_time'] - primary['center_time'][prim_i] \n",
    "    x_diff = S2s['x_mlp'] - primary['x_mlp'][prim_i]\n",
    "    y_diff = S2s['y_mlp'] - primary['y_mlp'][prim_i]\n",
    "    \n",
    "    r_diff = np.nan_to_num(np.sqrt(x_diff**2 + y_diff**2))\n",
    "    shadow = area_primary/dt_primary\n",
    "    S2s = append_fields(S2s, 'r_diff', r_diff)\n",
    "    S2s = append_fields(S2s, 'shadow', shadow)\n",
    "    S2s = append_fields(S2s, 'dt_primary', dt_primary)\n",
    "    \n",
    "    #shadow cut\n",
    "    S2s_dtcut = S2s#[S2s['shadow'] > shadow_cut_threshold]\n",
    "    \n",
    "    #delay time cut\n",
    "    S2s_dtcut = S2s[S2s['dt_primary'] > dt_cut_ns]\n",
    "    \n",
    "    #position correlation cut\n",
    "    S2s_drcut = S2s_dtcut[S2s_dtcut['r_diff'] > dr_cut_cm]\n",
    "    return S2s_drcut"
   ]
  },
  {
   "cell_type": "code",
   "execution_count": 24,
   "id": "9d7ff8ff",
   "metadata": {},
   "outputs": [
    {
     "data": {
      "text/plain": [
       "__main__.SNPugin"
      ]
     },
     "execution_count": 24,
     "metadata": {},
     "output_type": "execute_result"
    }
   ],
   "source": [
    "st8.register(SNPugin)\n",
    "\n",
    "st.register(SNPugin)"
   ]
  },
  {
   "cell_type": "code",
   "execution_count": 29,
   "id": "f3253940",
   "metadata": {},
   "outputs": [
    {
     "data": {
      "application/vnd.jupyter.widget-view+json": {
       "model_id": "8683c50ec94647e98d4d4b94f1b8593f",
       "version_major": 2,
       "version_minor": 0
      },
      "text/plain": [
       "Loading sn_rate: |          | 0.00 % [00:00<?]"
      ]
     },
     "metadata": {},
     "output_type": "display_data"
    }
   ],
   "source": [
    "df_test = st.get_df([runid], 'sn_rate')"
   ]
  },
  {
   "cell_type": "code",
   "execution_count": 30,
   "id": "9c9e2511",
   "metadata": {},
   "outputs": [
    {
     "data": {
      "text/html": [
       "<div>\n",
       "<style scoped>\n",
       "    .dataframe tbody tr th:only-of-type {\n",
       "        vertical-align: middle;\n",
       "    }\n",
       "\n",
       "    .dataframe tbody tr th {\n",
       "        vertical-align: top;\n",
       "    }\n",
       "\n",
       "    .dataframe thead th {\n",
       "        text-align: right;\n",
       "    }\n",
       "</style>\n",
       "<table border=\"1\" class=\"dataframe\">\n",
       "  <thead>\n",
       "    <tr style=\"text-align: right;\">\n",
       "      <th></th>\n",
       "      <th>sn_rate</th>\n",
       "      <th>sn_rate_err</th>\n",
       "      <th>time</th>\n",
       "      <th>endtime</th>\n",
       "    </tr>\n",
       "  </thead>\n",
       "  <tbody>\n",
       "    <tr>\n",
       "      <th>0</th>\n",
       "      <td>256.568619</td>\n",
       "      <td>8.216772</td>\n",
       "      <td>25932090</td>\n",
       "      <td>3826085060</td>\n",
       "    </tr>\n",
       "  </tbody>\n",
       "</table>\n",
       "</div>"
      ],
      "text/plain": [
       "      sn_rate  sn_rate_err      time     endtime\n",
       "0  256.568619     8.216772  25932090  3826085060"
      ]
     },
     "execution_count": 30,
     "metadata": {},
     "output_type": "execute_result"
    }
   ],
   "source": [
    "df_test"
   ]
  },
  {
   "cell_type": "code",
   "execution_count": 26,
   "id": "88a64d71",
   "metadata": {},
   "outputs": [
    {
     "data": {
      "image/png": "[encoded data removed]",
      "text/plain": [
       "<Figure size 864x576 with 1 Axes>"
      ]
     },
     "metadata": {},
     "output_type": "display_data"
    }
   ],
   "source": [
    "plt.figure(figsize=(12,8))\n",
    "plt.errorbar(x=(df_test['time']-df_test['time'][0])/1e9, \n",
    "             y=df_test['sn_rate'],\n",
    "             yerr=df_test['sn_rate_err'], \n",
    "             color='r', marker='.',linestyle='',alpha=0.3)\n",
    "plt.axhline(np.mean(df_test['sn_rate']), color='k',linestyle=':', \n",
    "            zorder=10, label='Mean = %.1f Hz'%np.mean(df_test['sn_rate']))\n",
    "\n",
    "plt.legend()\n",
    "plt.xlabel('Time since start of run [s]')\n",
    "plt.ylabel('Rate [Hz]')\n",
    "plt.show()"
   ]
  },
  {
   "cell_type": "code",
   "execution_count": null,
   "id": "13efb092",
   "metadata": {},
   "outputs": [],
   "source": []
  }
 ],
 "metadata": {
  "kernelspec": {
   "display_name": "snax",
   "language": "python",
   "name": "snax"
  },
  "language_info": {
   "codemirror_mode": {
    "name": "ipython",
    "version": 3
   },
   "file_extension": ".py",
   "mimetype": "text/x-python",
   "name": "python",
   "nbconvert_exporter": "python",
   "pygments_lexer": "ipython3",
   "version": "3.9.12"
  }
 },
 "nbformat": 4,
 "nbformat_minor": 5
}
