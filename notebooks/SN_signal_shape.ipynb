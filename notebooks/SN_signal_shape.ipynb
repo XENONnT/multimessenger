{
 "cells": [
  {
   "cell_type": "code",
   "execution_count": null,
   "id": "d5f6528e",
   "metadata": {},
   "outputs": [],
   "source": [
    "import matplotlib.pyplot as plt\n",
    "import numpy as np\n",
    "import pandas as pd\n",
    "from matplotlib.colors import LogNorm\n",
    "import multihist as mh\n",
    "import _pickle as pickle\n",
    "import scipy.interpolate as itp\n",
    "import click\n",
    "\n",
    "import strax, straxen, wfsim, cutax\n",
    "import nestpy\n",
    "import datetime, os\n",
    "from tqdm.notebook import tqdm\n",
    "from datetime import datetime"
   ]
  },
  {
   "cell_type": "code",
   "execution_count": null,
   "id": "652ffe25",
   "metadata": {},
   "outputs": [],
   "source": [
    "straxen.print_versions(('strax','straxen','cutax','wfsim'))"
   ]
  },
  {
   "cell_type": "markdown",
   "id": "a4d9a8bb",
   "metadata": {},
   "source": [
    "### Get high statistics SN data"
   ]
  },
  {
   "cell_type": "code",
   "execution_count": null,
   "id": "ab81b002",
   "metadata": {},
   "outputs": [],
   "source": [
    "st = cutax.contexts.xenonnt_sim_SR0v0_cmt_v5(output_folder='/dali/lgrandi/melih/sn_wfsim/strax_data')\n",
    "st.set_config(dict(fax_config_override=dict(field_distortion_on=False)))\n",
    "\n",
    "rid = 'SN_wfsimdata_100k'\n",
    "print(f'---> Data for \"{rid}\" ')\n",
    "for kind in ['truth', 'raw_records', 'peaks', 'peak_basics']:\n",
    "    click.echo(f'{kind:15s} is {click.style(\" stored \", bold=True, bg=\"green\") if st.is_stored(rid, kind) else click.style(\" not stored \",bold=True,bg=\"red\")}')"
   ]
  },
  {
   "cell_type": "code",
   "execution_count": null,
   "id": "b35babbc",
   "metadata": {},
   "outputs": [],
   "source": [
    "truth = st.get_df(rid,('truth'))\n",
    "peak_basics = st.get_df(rid, 'peak_basics')\n",
    "event_info = st.get_df(rid, 'event_info')"
   ]
  },
  {
   "cell_type": "markdown",
   "id": "61fb34df",
   "metadata": {},
   "source": [
    "### Get also a single SN event"
   ]
  },
  {
   "cell_type": "code",
   "execution_count": null,
   "id": "59f45c3b",
   "metadata": {},
   "outputs": [],
   "source": [
    "st.set_config(dict(nearby_window=5e8))\n",
    "st.set_config(dict(fax_config_override=dict(field_distortion_on=False)))\n",
    "st.set_config(dict(fax_file=f'/dali/lgrandi/melih/sn_wfsim/instructions/single_SN.csv'))\n",
    "rid_single = 'sn_simple'\n",
    "\n",
    "print(f'---> Data for \"{rid_single}\" ')\n",
    "for kind in ['truth', 'raw_records', 'peaks', 'peak_basics']:\n",
    "    click.echo(f'{kind:15s} is {click.style(\" stored \", bold=True, bg=\"green\") if st.is_stored(rid, kind) else click.style(\" not stored \",bold=True,bg=\"red\")}')"
   ]
  },
  {
   "cell_type": "code",
   "execution_count": null,
   "id": "d487786f",
   "metadata": {},
   "outputs": [],
   "source": [
    "truth_single = st.get_df(rid_single,('truth'))\n",
    "peak_basics_single = st.get_df(rid_single, 'peak_basics')\n",
    "event_info_single = st.get_df(rid_single, 'event_info')"
   ]
  },
  {
   "cell_type": "markdown",
   "id": "9cae67e8",
   "metadata": {},
   "source": [
    "### Get a background run"
   ]
  },
  {
   "cell_type": "code",
   "execution_count": null,
   "id": "d6519311",
   "metadata": {},
   "outputs": [],
   "source": [
    "st_runs = cutax.xenonnt_v5(cuts_for='commissioning.commissioning_cuts', _minimum_run_number=17917)"
   ]
  },
  {
   "cell_type": "code",
   "execution_count": null,
   "id": "2088ba9c",
   "metadata": {},
   "outputs": [],
   "source": [
    "# exclude_tags = ('flash', 'ramp_up', 'ramp_down', 'anode_off', 'hot_spot', 'missing_one_pmt', 'messy', 'bad')\n",
    "\n",
    "# # Not tpc_radon\n",
    "# runs_bkg = st_runs.select_runs(run_mode='tpc_bkg', include_tags=('_sr0_*'), \n",
    "#                                exclude_tags=exclude_tags,  available=('event_basics'), \n",
    "#                                ignore_underscore=True)\n",
    "\n",
    "# bkg_run_id = runs_bkg.sample()['name'].values[0]"
   ]
  },
  {
   "cell_type": "code",
   "execution_count": null,
   "id": "0e8f21fe",
   "metadata": {},
   "outputs": [],
   "source": [
    "bkg_run_id = '019537'\n",
    "st_runs.set_config(dict(nearby_window=5e8)) # half a second in each direction\n",
    "peaks_run = st_runs.get_df(bkg_run_id, ('peak_proximity', 'peak_basics'))\n",
    "peak_prox_rate = peaks_run['n_competing'] / st_runs.config['nearby_window']"
   ]
  },
  {
   "cell_type": "markdown",
   "id": "7424c289",
   "metadata": {},
   "source": [
    "**Auxiliary scripts**"
   ]
  },
  {
   "cell_type": "code",
   "execution_count": null,
   "id": "dcaad517",
   "metadata": {},
   "outputs": [],
   "source": [
    "def display_times(arr):\n",
    "    \"\"\" times array in ns\n",
    "    \"\"\"\n",
    "    ti = int(arr.min()/1e9)\n",
    "    tf = int(arr.max()/1e9)\n",
    "    print(ti, datetime.utcfromtimestamp(ti).strftime('%Y-%m-%d %H:%M:%S'))\n",
    "    print(tf, datetime.utcfromtimestamp(tf).strftime('%Y-%m-%d %H:%M:%S'))\n",
    "    timedelta = datetime.utcfromtimestamp(tf)-datetime.utcfromtimestamp(ti)\n",
    "    print(f'{timedelta.seconds} seconds \\n{timedelta.resolution} resolution')\n",
    "    \n",
    "def get_rate(arr, sampling=1e9):\n",
    "    interval_array = np.arange(arr.min(), arr.max() + sampling , sampling) # in seconds\n",
    "    rates = np.zeros(len(interval_array[:-1]))\n",
    "    for i, time in enumerate(interval_array[:-1]):\n",
    "        dists = arr - time\n",
    "        entries = ((dists < sampling) & (dists > 0)).sum()\n",
    "        rates[i] = entries\n",
    "        \n",
    "    times = interval_array[:-1] + sampling/2\n",
    "    return times, np.array(rates)/sampling\n",
    "\n",
    "def inject_in(small_signal, big_signal):\n",
    "    # bring the small signal to zero\n",
    "    small_signal['time'] -= small_signal['time'].min()\n",
    "    # push it inside the big signal\n",
    "    small_signal['time'] += np.random.choice(big_signal['time'])\n",
    "    # check\n",
    "    for time in small_signal['time']:\n",
    "        if np.isclose(time, any(big_signal['time']), rtol=1e-8):\n",
    "            print('Unlucky guess!')\n",
    "            return inject_in(small_signal, big_signal)\n",
    "    \n",
    "    times_bkg = big_signal['time'].values\n",
    "    times_sn =  small_signal['time'].values\n",
    "    if (times_bkg.min() < times_sn.min()) & (times_bkg.max() > times_sn.max()):\n",
    "        return small_signal\n",
    "    else: print('something went wrong!')"
   ]
  },
  {
   "cell_type": "code",
   "execution_count": null,
   "id": "992d70f8",
   "metadata": {},
   "outputs": [],
   "source": [
    "display_times(peaks_run['time'])"
   ]
  },
  {
   "cell_type": "code",
   "execution_count": null,
   "id": "1a8eece1",
   "metadata": {},
   "outputs": [],
   "source": [
    "display_times(peak_basics_single['time'])"
   ]
  },
  {
   "cell_type": "markdown",
   "id": "cc50e68f",
   "metadata": {},
   "source": [
    "We need to inject this inside the runs time interval."
   ]
  },
  {
   "cell_type": "code",
   "execution_count": null,
   "id": "f2dc8f3b",
   "metadata": {},
   "outputs": [],
   "source": [
    "signal = inject_in(peak_basics_single, peaks_run)"
   ]
  },
  {
   "cell_type": "code",
   "execution_count": null,
   "id": "47c5d5c2",
   "metadata": {},
   "outputs": [],
   "source": [
    "display_times(signal['time'])"
   ]
  },
  {
   "cell_type": "markdown",
   "id": "32290f5c",
   "metadata": {},
   "source": [
    "Now it is inside our background run!"
   ]
  },
  {
   "cell_type": "code",
   "execution_count": null,
   "id": "4c751ada",
   "metadata": {},
   "outputs": [],
   "source": [
    "t_run, r_run = get_rate(peaks_run['time'])\n",
    "t_sn, r_sn = get_rate(signal['time'])\n",
    "\n",
    "plt.plot(t_run, r_run, label='BG Rates')\n",
    "plt.plot(t_sn, r_sn*10, label='SN signal x10', lw=3);"
   ]
  },
  {
   "cell_type": "markdown",
   "id": "66f4e8f2",
   "metadata": {},
   "source": [
    "### Cleaning\n",
    "The SN signal only visible when amplified by 100. We should clean the background run to have a more stable signal."
   ]
  },
  {
   "cell_type": "code",
   "execution_count": null,
   "id": "b73578fc",
   "metadata": {
    "scrolled": true
   },
   "outputs": [],
   "source": [
    "# st_runs.data_info('peak_basics')\n",
    "plt.hist(peaks_run['range_90p_area'], 50, range=(0,2e3));"
   ]
  },
  {
   "cell_type": "code",
   "execution_count": null,
   "id": "388608b7",
   "metadata": {},
   "outputs": [],
   "source": [
    "m1 = peaks_run['type'] == 2\n",
    "m2 = peaks_run['area'] < 600\n",
    "m3 = peaks_run['range_90p_area'] < 1000\n",
    "m4 = peaks_run['range_90p_area'] > 300\n",
    "masks = m1 & m2 & m3 & m4\n",
    "peaks_bg_filt = peaks_run[masks]"
   ]
  },
  {
   "cell_type": "code",
   "execution_count": null,
   "id": "18a497cf",
   "metadata": {},
   "outputs": [],
   "source": [
    "t_run, r_run = get_rate(peaks_bg_filt['time'])\n",
    "t_sn, r_sn = get_rate(signal['time'])\n",
    "\n",
    "plt.plot(t_run, r_run, label='BG Rates')\n",
    "plt.plot(t_sn, r_sn, label='SN signal', lw=3);"
   ]
  },
  {
   "cell_type": "markdown",
   "id": "c194144f",
   "metadata": {},
   "source": [
    "Some initial cuts already give nice results. Tune these cuts using higher statistics data."
   ]
  },
  {
   "cell_type": "code",
   "execution_count": null,
   "id": "b6e45c6e",
   "metadata": {},
   "outputs": [],
   "source": [
    "s2_runs = peaks_run[(peaks_run['type']==2)&(peaks_run['area']<2000)]"
   ]
  },
  {
   "cell_type": "code",
   "execution_count": null,
   "id": "de6a9caa",
   "metadata": {},
   "outputs": [],
   "source": [
    "s2_peaks = peak_basics[(peak_basics['type']==2)&(peak_basics['area']<2000)]\n",
    "s1_peaks = peak_basics[peak_basics['type']==1]\n",
    "\n",
    "fig, ax = plt.subplots(ncols=2, nrows=3, figsize=(14,12))\n",
    "ax[0,0].hist2d(s2_runs['area'], s2_runs['range_90p_area'], bins=(200,200), norm=LogNorm(), cmap='Reds');\n",
    "ax[0,0].hist2d(s2_peaks['area'], s2_peaks['range_90p_area'], bins=(200,200), norm=LogNorm(), alpha=0.6);\n",
    "ax[0,0].set_xlabel('S2 Area [P.E.]'); ax[0,0].set_ylabel('S2 width');\n",
    "\n",
    "ax[0,1].hist2d(s2_runs['area'], s2_runs['area_fraction_top'], bins=(200,200), norm=LogNorm(), cmap='Reds');\n",
    "ax[0,1].hist2d(s2_peaks['area'], s2_peaks['area_fraction_top'], bins=(200,200), norm=LogNorm(), alpha=0.6);\n",
    "ax[0,1].set_xlabel('S2 Area [P.E.]'); ax[0,1].set_ylabel('S2 AFT');\n",
    "ax[0,1].axhline(0.68);\n",
    "\n",
    "ax[1,0].hist(s2_runs['area'], bins=50, histtype='step', density=True, label='BG');\n",
    "ax[1,0].hist(s2_peaks['area'], bins=50, histtype='step', density=True, label='SN');\n",
    "ax[1,0].set_xlabel('S2 area')\n",
    "ax[1,0].set_yscale('log')\n",
    "\n",
    "ax[1,1].hist(s2_runs['area_fraction_top'], bins=50, histtype='step', density=True, label='BG');\n",
    "ax[1,1].hist(s2_peaks['area_fraction_top'], bins=50, histtype='step', density=True, label='SN');\n",
    "ax[1,1].set_xlabel('AFT')\n",
    "ax[1,1].set_yscale('log')\n",
    "\n",
    "\n",
    "ax[2,0].hist(s2_runs['range_50p_area'], bins=50, histtype='step', density=True, label='BG', range=(0,15_000));\n",
    "ax[2,0].hist(s2_peaks['range_50p_area'], bins=50, histtype='step', density=True, label='SN', range=(0,15_000));\n",
    "ax[2,0].set_xlabel('range_50p_area')\n",
    "ax[2,0].set_yscale('log')\n",
    "\n",
    "ax[2,1].hist2d(s2_runs['range_90p_area'], s2_runs['area_fraction_top'], bins=(200,200), norm=LogNorm(), cmap='Reds');\n",
    "ax[2,1].hist2d(s2_peaks['range_90p_area'], s2_peaks['area_fraction_top'], bins=(200,200), norm=LogNorm(), alpha=0.6);\n",
    "ax[2,1].set_xlabel('range_90p_area')\n",
    "ax[2,1].set_xlabel('90p width')\n",
    "ax[2,1].set_ylabel('AFT')\n",
    "\n",
    "for a in ax.ravel():\n",
    "    a.legend();"
   ]
  },
  {
   "cell_type": "code",
   "execution_count": null,
   "id": "fd69442b",
   "metadata": {},
   "outputs": [],
   "source": [
    "# st_runs.data_info('peak_basics')"
   ]
  },
  {
   "cell_type": "code",
   "execution_count": null,
   "id": "70b465a0",
   "metadata": {},
   "outputs": [],
   "source": [
    "def tune_param(signal1, signal2, param='area_fraction_top'):\n",
    "    \"\"\" Return the best cut value\n",
    "    \"\"\"\n",
    "    surv_rat = lambda sig, cut: (len(sig)-len(sig[sig<cut]))/len(sig)\n",
    "    best = 0\n",
    "    cut_val = 0\n",
    "    for cut in np.arange(0,1,0.05):\n",
    "        surv_ratio_bg = surv_rat(signal1,cut)\n",
    "        surv_ratio_sn = surv_rat(signal2,cut)\n",
    "        proxy = surv_ratio_sn - surv_ratio_bg\n",
    "        if proxy > best:\n",
    "            best = proxy\n",
    "            cut_val = cut\n",
    "    return cut_val"
   ]
  },
  {
   "cell_type": "code",
   "execution_count": null,
   "id": "7e6af300",
   "metadata": {},
   "outputs": [],
   "source": [
    "signal1 = s2_runs['area_fraction_top']\n",
    "signal2 = s2_peaks['area_fraction_top']\n",
    "\n",
    "# signal1 = s2_runs['range_90p_area']\n",
    "# signal2 = s2_peaks['range_90p_area']\n",
    "\n",
    "cut = tune_param(signal1, signal2)\n",
    "cut"
   ]
  },
  {
   "cell_type": "code",
   "execution_count": null,
   "id": "c3bea6fa",
   "metadata": {
    "scrolled": true
   },
   "outputs": [],
   "source": [
    "plt.hist(signal1[signal1 < cut], bins=50, histtype='step', density=True, label='BG', range=(0, cut));\n",
    "plt.hist(signal2[signal2 < cut], bins=50, histtype='step', density=True, label='SN', range=(0, cut));\n",
    "plt.xlabel('AFT');\n",
    "plt.legend()\n",
    "plt.gca().set_yscale('log')"
   ]
  },
  {
   "cell_type": "markdown",
   "id": "26bea3ba",
   "metadata": {},
   "source": [
    "Let's try these cuts."
   ]
  },
  {
   "cell_type": "code",
   "execution_count": null,
   "id": "1ac52a58",
   "metadata": {},
   "outputs": [],
   "source": [
    "m1 = peaks_run['type'] == 2\n",
    "m2 = peaks_run['area'] < 600\n",
    "m3 = peaks_run['range_50p_area'] < 15_000\n",
    "m4 = peaks_run['range_50p_area'] > 0\n",
    "m5 = peaks_run['area_fraction_top'] < 0.5\n",
    "m6 = (peaks_run['time'] > signal['time'].mean()*.95) & (peaks_run['time'] < signal['time'].mean()*1.05)\n",
    "masks = m1 & m2 & m3 & m4 & m5 & m6\n",
    "peaks_bg_filt = peaks_run[masks]\n",
    "peaks_bg_filt.shape"
   ]
  },
  {
   "cell_type": "code",
   "execution_count": null,
   "id": "bb8cdb70",
   "metadata": {},
   "outputs": [],
   "source": [
    "signal_filt = signal[signal['type']==2]"
   ]
  },
  {
   "cell_type": "code",
   "execution_count": null,
   "id": "131fa195",
   "metadata": {},
   "outputs": [],
   "source": [
    "t_run, r_run = get_rate(peaks_bg_filt['time'], 8e7)\n",
    "t_sn, r_sn = get_rate(signal_filt['time'], 8e7)\n",
    "\n",
    "plt.plot(t_run, r_run, label='BG Rates')\n",
    "plt.plot(t_sn, r_sn, label='SN signal', lw=3);"
   ]
  },
  {
   "cell_type": "markdown",
   "id": "fa15f709",
   "metadata": {},
   "source": [
    "Lower level data? Pulses? We should be able to trigger as we read the data. <br>\n",
    "\n",
    "I think my current rate scan takes discrete steps, but maybe I should move finer? I mean, take 0.5sec steps, compute the rate in the next 5 seconds. That should be more efficient."
   ]
  },
  {
   "cell_type": "code",
   "execution_count": null,
   "id": "d5c0bb29",
   "metadata": {},
   "outputs": [],
   "source": [
    "test_bg_data.keys()"
   ]
  },
  {
   "cell_type": "code",
   "execution_count": null,
   "id": "060a4273",
   "metadata": {},
   "outputs": [],
   "source": [
    "time_of_peak = t_run[np.where(r_run == r_run.max())[0][0]]\n",
    "test_bg_data = peaks_bg_filt.copy()\n",
    "test_bg_data = test_bg_data[(test_bg_data['time'] < time_of_peak*1.05)&(test_bg_data['time'] > time_of_peak*.95)]\n",
    "plt.hist(test_bg_data['area'], bins=50);"
   ]
  },
  {
   "cell_type": "code",
   "execution_count": null,
   "id": "037b9c0a",
   "metadata": {},
   "outputs": [],
   "source": [
    "plt.hist(peaks_bg_filt['n_competing_left'], 50, range=(0,600));"
   ]
  },
  {
   "cell_type": "code",
   "execution_count": null,
   "id": "8bdb30f6",
   "metadata": {},
   "outputs": [],
   "source": [
    "plt.hist(peaks_bg_filt['t_to_nearest_peak'][peaks_bg_filt['t_to_nearest_peak']>0], 50, range=(0,4000));"
   ]
  },
  {
   "cell_type": "code",
   "execution_count": null,
   "id": "e771170c",
   "metadata": {},
   "outputs": [],
   "source": [
    "st_runs.data_info('peaks')"
   ]
  },
  {
   "cell_type": "code",
   "execution_count": null,
   "id": "4fbd2bbd",
   "metadata": {},
   "outputs": [],
   "source": [
    "st_runs.data_info('raw_records')"
   ]
  },
  {
   "cell_type": "code",
   "execution_count": null,
   "id": "76a67568",
   "metadata": {
    "scrolled": true
   },
   "outputs": [],
   "source": [
    "a, b = s2_runs['range_90p_area'], s2_runs['area_fraction_top']\n",
    "c, d = s2_peaks['range_90p_area'], s2_peaks['area_fraction_top']\n",
    "# a = a[(a>0) & (b>0)]\n",
    "# b = b[(a>0) & (b>0)]\n",
    "plt.hist2d(a,b, bins=(200,200), norm=LogNorm()); # , range=((0, 0.01e6),(0,1.3))\n",
    "plt.hist2d(c,d, bins=(200,200), norm=LogNorm(), cmap='Reds'); # , range=((0, 0.01e6),(0,1.3))\n",
    "plt.xlabel('90p width')\n",
    "plt.ylabel('aft')"
   ]
  },
  {
   "cell_type": "code",
   "execution_count": null,
   "id": "113280c3",
   "metadata": {},
   "outputs": [],
   "source": [
    "plt.hist(peaks_run['range_90p_area'], 50, range=(0,2e3));"
   ]
  },
  {
   "cell_type": "code",
   "execution_count": null,
   "id": "bdfa2b18",
   "metadata": {},
   "outputs": [],
   "source": [
    "plt.hist(peaks_run['range_90p_area'][peaks_run['type']==1], 50, range=(0,2e3), histtype='step', color='red');\n",
    "plt.hist(peaks_run['range_90p_area'][peaks_run['type']==2], 50, range=(0,2e3), histtype='step', color='blue');\n",
    "plt.hist(peaks_run['range_90p_area'], 50, range=(0,2e3), histtype='step', color='k');"
   ]
  },
  {
   "cell_type": "code",
   "execution_count": null,
   "id": "9e5100ad",
   "metadata": {
    "scrolled": true
   },
   "outputs": [],
   "source": [
    "bins = 200\n",
    "plt.hist2d(np.log10(s2_runs['area'][(s2_runs['area']>0)&(s2_runs['range_50p_area']>0)]), \n",
    "           np.log10(s2_runs['range_50p_area'][(s2_runs['range_50p_area']>0)&(s2_runs['area']>0)]), \n",
    "           bins=(bins,bins), norm=LogNorm(), cmap='Reds');\n",
    "plt.hist2d(np.log10(s2_peaks['area']), np.log10(s2_peaks['range_50p_area']), bins=(bins,bins), norm=LogNorm(), alpha=0.7);\n",
    "plt.xscale('log') ; plt.yscale('log')\n",
    "plt.xlabel('log(S2 area)'); plt.ylabel('log(S2 width)');"
   ]
  },
  {
   "cell_type": "code",
   "execution_count": null,
   "id": "fcce19b3",
   "metadata": {},
   "outputs": [],
   "source": []
  }
 ],
 "metadata": {
  "kernelspec": {
   "display_name": "Python 3",
   "language": "python",
   "name": "python3"
  },
  "language_info": {
   "codemirror_mode": {
    "name": "ipython",
    "version": 3
   },
   "file_extension": ".py",
   "mimetype": "text/x-python",
   "name": "python",
   "nbconvert_exporter": "python",
   "pygments_lexer": "ipython3",
   "version": "3.8.5"
  }
 },
 "nbformat": 4,
 "nbformat_minor": 5
}
